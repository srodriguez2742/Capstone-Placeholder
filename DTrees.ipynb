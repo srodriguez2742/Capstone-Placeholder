{
 "cells": [
  {
   "cell_type": "code",
   "execution_count": 39,
   "metadata": {
    "ExecuteTime": {
     "end_time": "2021-04-14T10:11:32.656714Z",
     "start_time": "2021-04-14T10:11:32.638717Z"
    }
   },
   "outputs": [],
   "source": [
    "import pandas as pd\n",
    "import numpy as np\n",
    "import pandas as pd\n",
    "import os\n",
    "\n",
    "import matplotlib.pyplot as plt\n",
    "import seaborn as sns\n",
    "\n",
    "from sklearn.preprocessing import MinMaxScaler\n",
    "from sklearn.linear_model import LogisticRegression\n",
    "from sklearn.model_selection import train_test_split\n",
    "from sklearn.metrics import plot_confusion_matrix\n",
    "from sklearn.metrics import confusion_matrix, classification_report\n",
    "from sklearn.metrics import roc_curve, auc\n",
    "from sklearn.metrics import precision_score, recall_score, accuracy_score, f1_score\n",
    "from sklearn.preprocessing import StandardScaler\n",
    "from sklearn.neighbors import KNeighborsClassifier\n",
    "from sklearn.tree import DecisionTreeClassifier\n",
    "from sklearn.tree import plot_tree\n",
    "from sklearn.utils import resample\n",
    "from imblearn.over_sampling import SMOTE\n",
    "\n",
    "from sklearn.ensemble import BaggingClassifier, RandomForestClassifier\n",
    "from sklearn.model_selection import GridSearchCV, cross_val_score\n",
    "from sklearn.ensemble import AdaBoostClassifier, GradientBoostingClassifier\n",
    "from xgboost import XGBClassifier\n",
    "\n",
    "from sklearn import tree\n",
    "import xgboost as xgb\n",
    "from numpy import loadtxt\n",
    "from xgboost import XGBClassifier\n",
    "from xgboost import plot_tree\n",
    "\n",
    "import gc\n",
    "from tqdm import tqdm\n",
    "\n",
    "from sklearn.preprocessing import StandardScaler, OneHotEncoder\n",
    "from sklearn.impute import SimpleImputer\n",
    "from sklearn.metrics import mean_squared_error, recall_score\n",
    "\n",
    "from sklearn.model_selection import cross_val_predict\n",
    "from keras import models\n",
    "from keras import layers\n",
    "from keras import regularizers\n",
    "from keras.wrappers.scikit_learn import KerasRegressor\n",
    "from keras.models import load_model\n",
    "from scipy import stats\n",
    "import statsmodels.api as sm\n",
    "from sklearn import tree\n",
    "from sklearn.model_selection import cross_val_score\n",
    "from sklearn.model_selection import RepeatedStratifiedKFold\n",
    "from xgboost import XGBRFClassifier\n",
    "from sklearn.metrics import roc_auc_score"
   ]
  },
  {
   "cell_type": "code",
   "execution_count": 10,
   "metadata": {
    "ExecuteTime": {
     "end_time": "2021-04-14T09:55:19.191578Z",
     "start_time": "2021-04-14T09:55:19.158581Z"
    }
   },
   "outputs": [
    {
     "data": {
      "text/plain": [
       "Index(['Description'], dtype='object')"
      ]
     },
     "execution_count": 10,
     "metadata": {},
     "output_type": "execute_result"
    }
   ],
   "source": [
    "column_defs = pd.read_excel('data\\LCDataDictionary.xlsx',index_col='LoanStatNew')\n",
    "column_defs.columns"
   ]
  },
  {
   "cell_type": "code",
   "execution_count": 11,
   "metadata": {
    "ExecuteTime": {
     "end_time": "2021-04-14T09:55:19.317494Z",
     "start_time": "2021-04-14T09:55:19.302495Z"
    }
   },
   "outputs": [],
   "source": [
    "def column_info(col_name):\n",
    "    return column_defs.loc[col_name]['Description']"
   ]
  },
  {
   "cell_type": "code",
   "execution_count": 12,
   "metadata": {
    "ExecuteTime": {
     "end_time": "2021-04-14T09:55:19.459914Z",
     "start_time": "2021-04-14T09:55:19.445877Z"
    }
   },
   "outputs": [],
   "source": [
    "def na_check(data):\n",
    "    check = np.round(data.isna().sum().sort_values(ascending=False),2)\n",
    "    return check"
   ]
  },
  {
   "cell_type": "code",
   "execution_count": 13,
   "metadata": {
    "ExecuteTime": {
     "end_time": "2021-04-14T09:55:19.602909Z",
     "start_time": "2021-04-14T09:55:19.581901Z"
    }
   },
   "outputs": [],
   "source": [
    "def reduce_mem_usage(df, int_cast=True, obj_to_category=False, subset=None):\n",
    "    \"\"\"\n",
    "    Iterate through all the columns of a dataframe and modify the data type to reduce memory usage.\n",
    "    :param df: dataframe to reduce (pd.DataFrame)\n",
    "    :param int_cast: indicate if columns should be tried to be casted to int (bool)\n",
    "    :param obj_to_category: convert non-datetime related objects to category dtype (bool)\n",
    "    :param subset: subset of columns to analyse (list)\n",
    "    :return: dataset with the column dtypes adjusted (pd.DataFrame)\n",
    "    \"\"\"\n",
    "    start_mem = df.memory_usage().sum() / 1024 ** 2;\n",
    "    gc.collect()\n",
    "    print('Memory usage of dataframe is {:.2f} MB'.format(start_mem))\n",
    "\n",
    "    cols = subset if subset is not None else df.columns.tolist()\n",
    "\n",
    "    for col in tqdm(cols):\n",
    "        col_type = df[col].dtype\n",
    "\n",
    "        if col_type != object and col_type.name != 'category' and 'datetime' not in col_type.name:\n",
    "            c_min = df[col].min()\n",
    "            c_max = df[col].max()\n",
    "\n",
    "            # test if column can be converted to an integer\n",
    "            treat_as_int = str(col_type)[:3] == 'int'\n",
    "            if int_cast and not treat_as_int:\n",
    "                treat_as_int = check_if_integer(df[col])\n",
    "\n",
    "            if treat_as_int:\n",
    "                if c_min > np.iinfo(np.int8).min and c_max < np.iinfo(np.int8).max:\n",
    "                    df[col] = df[col].astype(np.int8)\n",
    "                elif c_min > np.iinfo(np.uint8).min and c_max < np.iinfo(np.uint8).max:\n",
    "                    df[col] = df[col].astype(np.uint8)\n",
    "                elif c_min > np.iinfo(np.int16).min and c_max < np.iinfo(np.int16).max:\n",
    "                    df[col] = df[col].astype(np.int16)\n",
    "                elif c_min > np.iinfo(np.uint16).min and c_max < np.iinfo(np.uint16).max:\n",
    "                    df[col] = df[col].astype(np.uint16)\n",
    "                elif c_min > np.iinfo(np.int32).min and c_max < np.iinfo(np.int32).max:\n",
    "                    df[col] = df[col].astype(np.int32)\n",
    "                elif c_min > np.iinfo(np.uint32).min and c_max < np.iinfo(np.uint32).max:\n",
    "                    df[col] = df[col].astype(np.uint32)\n",
    "                elif c_min > np.iinfo(np.int64).min and c_max < np.iinfo(np.int64).max:\n",
    "                    df[col] = df[col].astype(np.int64)\n",
    "                elif c_min > np.iinfo(np.uint64).min and c_max < np.iinfo(np.uint64).max:\n",
    "                    df[col] = df[col].astype(np.uint64)\n",
    "            else:\n",
    "                if c_min > np.finfo(np.float32).min and c_max < np.finfo(np.float32).max:\n",
    "                    df[col] = df[col].astype(np.float32)\n",
    "                else:\n",
    "                    df[col] = df[col].astype(np.float64)\n",
    "        elif 'datetime' not in col_type.name and obj_to_category:\n",
    "            df[col] = df[col].astype('category')\n",
    "    gc.collect()\n",
    "    end_mem = df.memory_usage().sum() / 1024 ** 2\n",
    "    print('Memory usage after optimization is: {:.3f} MB'.format(end_mem))\n",
    "    print('Decreased by {:.1f}%'.format(100 * (start_mem - end_mem) / start_mem))\n",
    "\n",
    "    return df"
   ]
  },
  {
   "cell_type": "code",
   "execution_count": 14,
   "metadata": {
    "ExecuteTime": {
     "end_time": "2021-04-14T09:55:19.742346Z",
     "start_time": "2021-04-14T09:55:19.726316Z"
    }
   },
   "outputs": [],
   "source": [
    "# get a list of models to evaluate\n",
    "def get_models():\n",
    "    models = dict()\n",
    "# define the number of trees to consider\n",
    "    n_trees = [10, 50, 100, 250]\n",
    "    for v in n_trees:\n",
    "        models[str(v)] = XGBRFClassifier(n_estimators=v, subsample=0.9, colsample_bynode=0.2)\n",
    "    return models\n",
    " \n",
    "# evaluate a give model using cross-validation\n",
    "def evaluate_xg_model(model, X, y):\n",
    "    # define the model evaluation procedure\n",
    "    cv = RepeatedStratifiedKFold(n_splits=5, n_repeats=2, random_state=1)\n",
    "    # evaluate the model\n",
    "    scores = cross_val_score(model, X, y, scoring='recall', cv=cv, n_jobs=-1)\n",
    "    return scores\n"
   ]
  },
  {
   "cell_type": "code",
   "execution_count": 15,
   "metadata": {
    "ExecuteTime": {
     "end_time": "2021-04-14T09:55:19.878630Z",
     "start_time": "2021-04-14T09:55:19.869632Z"
    }
   },
   "outputs": [],
   "source": [
    "def modelfit(model, x, y, features, xval, yval, useTrainCV=True, cv_folds=3, early_stopping_rounds=20):\n",
    "    \n",
    "    if useTrainCV:\n",
    "        xgb_param = model.get_xgb_params()\n",
    "        xgtrain = xgb.DMatrix(x[features], label=y.loan_status.values)\n",
    "        cvresult = xgb.cv(xgb_param, xgtrain, num_boost_round=1, nfold=cv_folds,\n",
    "            metrics='auc', early_stopping_rounds=early_stopping_rounds,verbose_eval=True)\n",
    "        model.set_params(n_estimators=cvresult.shape[0])\n",
    "    \n",
    "    #Fit the algorithm on the data\n",
    "    model.fit(x[features], y.loan_status,eval_set=[(x[features],y.loan_status.values),(xval[features],yval.loan_status.values)],eval_metric='auc')\n",
    "        \n",
    "    #Predict training set:\n",
    "    dtrain_predictions = model.predict(x[features])\n",
    "    dtrain_predprob = model.predict_proba(x[features])[:,1]\n",
    "    \n",
    "     #Predict training set:\n",
    "    dval_predictions = model.predict(xval[features])\n",
    "    dval_predprob = model.predict_proba(xval[features])[:,1]\n",
    "    \n",
    "    #Print model report:\n",
    "    print (\"\\nModel Report\")\n",
    "    print (\"Accuracy : %.4g\" % accuracy_score(y['loan_status'].values, dtrain_predictions))\n",
    "    print (\"AUC Score (Train): %f\" % roc_auc_score(y['loan_status'], dtrain_predprob))\n",
    "    print (\"Recall Score (Train): %f\" % recall_score(y['loan_status'], dtrain_predictions))\n",
    "    \n",
    "    print (\"Accuracy : %.4g\" % accuracy_score(y['loan_status'].values, dval_predictions))\n",
    "    print (\"AUC Score (Val): %f\" % roc_auc_score(y['loan_status'], dval_predprob))\n",
    "    print (\"Recall Score (Val): %f\" % recall_score(y['loan_status'], dval_predictions))\n",
    "                    \n",
    "    feat_imp = pd.Series(model.get_booster().get_fscore()).sort_values(ascending=False)\n",
    "    feat_imp.plot(kind='bar', title='Feature Importances')\n",
    "    plt.ylabel('Feature Importance Score')"
   ]
  },
  {
   "cell_type": "code",
   "execution_count": 16,
   "metadata": {
    "ExecuteTime": {
     "end_time": "2021-04-14T09:55:20.298379Z",
     "start_time": "2021-04-14T09:55:20.279413Z"
    }
   },
   "outputs": [],
   "source": [
    "def model_results(x_test,y_test,features,model):\n",
    "    y_hat = model.predict(x_test[features])\n",
    "    cf = confusion_matrix(y_test,y_hat)\n",
    "    plot_confusion_matrix(model,x_test[features],y_test,cmap=plt.cm.Blues,\n",
    "                     display_labels=[\"Fully Paid\", \"Charged Off\"],\n",
    "                      values_format=\".5g\")\n",
    "    plt.title(\"{} Confusion Matrix\".format(model))\n",
    "\n",
    "    print(confusion_matrix(y_test, y_hat))\n",
    "    print(classification_report(y_test, y_hat))"
   ]
  },
  {
   "cell_type": "code",
   "execution_count": 19,
   "metadata": {
    "ExecuteTime": {
     "end_time": "2021-04-14T09:55:41.128574Z",
     "start_time": "2021-04-14T09:55:28.359103Z"
    }
   },
   "outputs": [
    {
     "name": "stderr",
     "output_type": "stream",
     "text": [
      "\r",
      "  0%|          | 0/50 [00:00<?, ?it/s]"
     ]
    },
    {
     "name": "stdout",
     "output_type": "stream",
     "text": [
      "Memory usage of dataframe is 662.59 MB\n"
     ]
    },
    {
     "name": "stderr",
     "output_type": "stream",
     "text": [
      "100%|██████████| 50/50 [00:05<00:00,  9.79it/s]\n"
     ]
    },
    {
     "name": "stdout",
     "output_type": "stream",
     "text": [
      "Memory usage after optimization is: 374.363 MB\n",
      "Decreased by 43.5%\n"
     ]
    },
    {
     "data": {
      "text/html": [
       "<div>\n",
       "<style scoped>\n",
       "    .dataframe tbody tr th:only-of-type {\n",
       "        vertical-align: middle;\n",
       "    }\n",
       "\n",
       "    .dataframe tbody tr th {\n",
       "        vertical-align: top;\n",
       "    }\n",
       "\n",
       "    .dataframe thead th {\n",
       "        text-align: right;\n",
       "    }\n",
       "</style>\n",
       "<table border=\"1\" class=\"dataframe\">\n",
       "  <thead>\n",
       "    <tr style=\"text-align: right;\">\n",
       "      <th></th>\n",
       "      <th>loan_amnt</th>\n",
       "      <th>term</th>\n",
       "      <th>int_rate</th>\n",
       "      <th>installment</th>\n",
       "      <th>grade</th>\n",
       "      <th>sub_grade</th>\n",
       "      <th>emp_length</th>\n",
       "      <th>home_ownership</th>\n",
       "      <th>annual_inc</th>\n",
       "      <th>verification_status</th>\n",
       "      <th>...</th>\n",
       "      <th>num_tl_30dpd</th>\n",
       "      <th>num_tl_90g_dpd_24m</th>\n",
       "      <th>num_tl_op_past_12m</th>\n",
       "      <th>pct_tl_nvr_dlq</th>\n",
       "      <th>pub_rec_bankruptcies</th>\n",
       "      <th>total_bal_ex_mort</th>\n",
       "      <th>total_bc_limit</th>\n",
       "      <th>total_il_high_credit_limit</th>\n",
       "      <th>average_fico</th>\n",
       "      <th>region</th>\n",
       "    </tr>\n",
       "  </thead>\n",
       "  <tbody>\n",
       "    <tr>\n",
       "      <th>0</th>\n",
       "      <td>12000.0</td>\n",
       "      <td>36</td>\n",
       "      <td>10.99</td>\n",
       "      <td>392.799988</td>\n",
       "      <td>B</td>\n",
       "      <td>B2</td>\n",
       "      <td>4</td>\n",
       "      <td>RENT</td>\n",
       "      <td>60000.0</td>\n",
       "      <td>Not Verified</td>\n",
       "      <td>...</td>\n",
       "      <td>0.0</td>\n",
       "      <td>0.0</td>\n",
       "      <td>4.0</td>\n",
       "      <td>100.000000</td>\n",
       "      <td>0.0</td>\n",
       "      <td>7137.0</td>\n",
       "      <td>18100.0</td>\n",
       "      <td>0.0</td>\n",
       "      <td>722.0</td>\n",
       "      <td>South</td>\n",
       "    </tr>\n",
       "    <tr>\n",
       "      <th>1</th>\n",
       "      <td>4800.0</td>\n",
       "      <td>36</td>\n",
       "      <td>10.99</td>\n",
       "      <td>157.100006</td>\n",
       "      <td>B</td>\n",
       "      <td>B2</td>\n",
       "      <td>2</td>\n",
       "      <td>MORTGAGE</td>\n",
       "      <td>39600.0</td>\n",
       "      <td>Source Verified</td>\n",
       "      <td>...</td>\n",
       "      <td>0.0</td>\n",
       "      <td>0.0</td>\n",
       "      <td>0.0</td>\n",
       "      <td>100.000000</td>\n",
       "      <td>0.0</td>\n",
       "      <td>4136.0</td>\n",
       "      <td>25700.0</td>\n",
       "      <td>0.0</td>\n",
       "      <td>757.0</td>\n",
       "      <td>South</td>\n",
       "    </tr>\n",
       "    <tr>\n",
       "      <th>2</th>\n",
       "      <td>27060.0</td>\n",
       "      <td>36</td>\n",
       "      <td>10.99</td>\n",
       "      <td>885.500000</td>\n",
       "      <td>B</td>\n",
       "      <td>B2</td>\n",
       "      <td>10</td>\n",
       "      <td>OWN</td>\n",
       "      <td>55000.0</td>\n",
       "      <td>Verified</td>\n",
       "      <td>...</td>\n",
       "      <td>0.0</td>\n",
       "      <td>0.0</td>\n",
       "      <td>1.0</td>\n",
       "      <td>100.000000</td>\n",
       "      <td>0.0</td>\n",
       "      <td>70186.0</td>\n",
       "      <td>35700.0</td>\n",
       "      <td>33054.0</td>\n",
       "      <td>732.0</td>\n",
       "      <td>Midwest</td>\n",
       "    </tr>\n",
       "    <tr>\n",
       "      <th>3</th>\n",
       "      <td>12000.0</td>\n",
       "      <td>36</td>\n",
       "      <td>7.62</td>\n",
       "      <td>374.000000</td>\n",
       "      <td>A</td>\n",
       "      <td>A3</td>\n",
       "      <td>3</td>\n",
       "      <td>MORTGAGE</td>\n",
       "      <td>96500.0</td>\n",
       "      <td>Not Verified</td>\n",
       "      <td>...</td>\n",
       "      <td>0.0</td>\n",
       "      <td>0.0</td>\n",
       "      <td>3.0</td>\n",
       "      <td>100.000000</td>\n",
       "      <td>0.0</td>\n",
       "      <td>46738.0</td>\n",
       "      <td>14800.0</td>\n",
       "      <td>53404.0</td>\n",
       "      <td>707.0</td>\n",
       "      <td>South</td>\n",
       "    </tr>\n",
       "    <tr>\n",
       "      <th>4</th>\n",
       "      <td>14000.0</td>\n",
       "      <td>36</td>\n",
       "      <td>12.85</td>\n",
       "      <td>470.799988</td>\n",
       "      <td>B</td>\n",
       "      <td>B4</td>\n",
       "      <td>4</td>\n",
       "      <td>RENT</td>\n",
       "      <td>88000.0</td>\n",
       "      <td>Not Verified</td>\n",
       "      <td>...</td>\n",
       "      <td>0.0</td>\n",
       "      <td>0.0</td>\n",
       "      <td>0.0</td>\n",
       "      <td>78.599998</td>\n",
       "      <td>1.0</td>\n",
       "      <td>17672.0</td>\n",
       "      <td>3900.0</td>\n",
       "      <td>27340.0</td>\n",
       "      <td>672.0</td>\n",
       "      <td>South</td>\n",
       "    </tr>\n",
       "    <tr>\n",
       "      <th>...</th>\n",
       "      <td>...</td>\n",
       "      <td>...</td>\n",
       "      <td>...</td>\n",
       "      <td>...</td>\n",
       "      <td>...</td>\n",
       "      <td>...</td>\n",
       "      <td>...</td>\n",
       "      <td>...</td>\n",
       "      <td>...</td>\n",
       "      <td>...</td>\n",
       "      <td>...</td>\n",
       "      <td>...</td>\n",
       "      <td>...</td>\n",
       "      <td>...</td>\n",
       "      <td>...</td>\n",
       "      <td>...</td>\n",
       "      <td>...</td>\n",
       "      <td>...</td>\n",
       "      <td>...</td>\n",
       "      <td>...</td>\n",
       "      <td>...</td>\n",
       "    </tr>\n",
       "    <tr>\n",
       "      <th>1736932</th>\n",
       "      <td>24000.0</td>\n",
       "      <td>60</td>\n",
       "      <td>23.99</td>\n",
       "      <td>690.500000</td>\n",
       "      <td>E</td>\n",
       "      <td>E2</td>\n",
       "      <td>1</td>\n",
       "      <td>RENT</td>\n",
       "      <td>107000.0</td>\n",
       "      <td>Source Verified</td>\n",
       "      <td>...</td>\n",
       "      <td>0.0</td>\n",
       "      <td>1.0</td>\n",
       "      <td>2.0</td>\n",
       "      <td>87.500000</td>\n",
       "      <td>1.0</td>\n",
       "      <td>60812.0</td>\n",
       "      <td>28200.0</td>\n",
       "      <td>64422.0</td>\n",
       "      <td>672.0</td>\n",
       "      <td>West</td>\n",
       "    </tr>\n",
       "    <tr>\n",
       "      <th>1736933</th>\n",
       "      <td>10000.0</td>\n",
       "      <td>36</td>\n",
       "      <td>7.99</td>\n",
       "      <td>313.200012</td>\n",
       "      <td>A</td>\n",
       "      <td>A5</td>\n",
       "      <td>10</td>\n",
       "      <td>MORTGAGE</td>\n",
       "      <td>65000.0</td>\n",
       "      <td>Source Verified</td>\n",
       "      <td>...</td>\n",
       "      <td>0.0</td>\n",
       "      <td>0.0</td>\n",
       "      <td>2.0</td>\n",
       "      <td>92.599998</td>\n",
       "      <td>0.0</td>\n",
       "      <td>55863.0</td>\n",
       "      <td>34800.0</td>\n",
       "      <td>70203.0</td>\n",
       "      <td>727.0</td>\n",
       "      <td>Northeast</td>\n",
       "    </tr>\n",
       "    <tr>\n",
       "      <th>1736934</th>\n",
       "      <td>10050.0</td>\n",
       "      <td>36</td>\n",
       "      <td>16.99</td>\n",
       "      <td>358.200012</td>\n",
       "      <td>D</td>\n",
       "      <td>D1</td>\n",
       "      <td>8</td>\n",
       "      <td>RENT</td>\n",
       "      <td>37000.0</td>\n",
       "      <td>Not Verified</td>\n",
       "      <td>...</td>\n",
       "      <td>0.0</td>\n",
       "      <td>0.0</td>\n",
       "      <td>5.0</td>\n",
       "      <td>95.199997</td>\n",
       "      <td>0.0</td>\n",
       "      <td>14300.0</td>\n",
       "      <td>9000.0</td>\n",
       "      <td>0.0</td>\n",
       "      <td>707.0</td>\n",
       "      <td>South</td>\n",
       "    </tr>\n",
       "    <tr>\n",
       "      <th>1736935</th>\n",
       "      <td>6000.0</td>\n",
       "      <td>36</td>\n",
       "      <td>11.44</td>\n",
       "      <td>197.800003</td>\n",
       "      <td>B</td>\n",
       "      <td>B4</td>\n",
       "      <td>5</td>\n",
       "      <td>RENT</td>\n",
       "      <td>41000.0</td>\n",
       "      <td>Source Verified</td>\n",
       "      <td>...</td>\n",
       "      <td>0.0</td>\n",
       "      <td>0.0</td>\n",
       "      <td>1.0</td>\n",
       "      <td>94.400002</td>\n",
       "      <td>0.0</td>\n",
       "      <td>26201.0</td>\n",
       "      <td>8100.0</td>\n",
       "      <td>34076.0</td>\n",
       "      <td>672.0</td>\n",
       "      <td>Northeast</td>\n",
       "    </tr>\n",
       "    <tr>\n",
       "      <th>1736936</th>\n",
       "      <td>30000.0</td>\n",
       "      <td>60</td>\n",
       "      <td>25.49</td>\n",
       "      <td>889.000000</td>\n",
       "      <td>E</td>\n",
       "      <td>E4</td>\n",
       "      <td>4</td>\n",
       "      <td>MORTGAGE</td>\n",
       "      <td>105700.0</td>\n",
       "      <td>Verified</td>\n",
       "      <td>...</td>\n",
       "      <td>0.0</td>\n",
       "      <td>0.0</td>\n",
       "      <td>1.0</td>\n",
       "      <td>91.300003</td>\n",
       "      <td>0.0</td>\n",
       "      <td>75819.0</td>\n",
       "      <td>16000.0</td>\n",
       "      <td>89732.0</td>\n",
       "      <td>697.0</td>\n",
       "      <td>South</td>\n",
       "    </tr>\n",
       "  </tbody>\n",
       "</table>\n",
       "<p>1736937 rows × 50 columns</p>\n",
       "</div>"
      ],
      "text/plain": [
       "         loan_amnt  term  int_rate  installment grade sub_grade  emp_length  \\\n",
       "0          12000.0    36     10.99   392.799988     B        B2           4   \n",
       "1           4800.0    36     10.99   157.100006     B        B2           2   \n",
       "2          27060.0    36     10.99   885.500000     B        B2          10   \n",
       "3          12000.0    36      7.62   374.000000     A        A3           3   \n",
       "4          14000.0    36     12.85   470.799988     B        B4           4   \n",
       "...            ...   ...       ...          ...   ...       ...         ...   \n",
       "1736932    24000.0    60     23.99   690.500000     E        E2           1   \n",
       "1736933    10000.0    36      7.99   313.200012     A        A5          10   \n",
       "1736934    10050.0    36     16.99   358.200012     D        D1           8   \n",
       "1736935     6000.0    36     11.44   197.800003     B        B4           5   \n",
       "1736936    30000.0    60     25.49   889.000000     E        E4           4   \n",
       "\n",
       "        home_ownership  annual_inc verification_status  ... num_tl_30dpd  \\\n",
       "0                 RENT     60000.0        Not Verified  ...          0.0   \n",
       "1             MORTGAGE     39600.0     Source Verified  ...          0.0   \n",
       "2                  OWN     55000.0            Verified  ...          0.0   \n",
       "3             MORTGAGE     96500.0        Not Verified  ...          0.0   \n",
       "4                 RENT     88000.0        Not Verified  ...          0.0   \n",
       "...                ...         ...                 ...  ...          ...   \n",
       "1736932           RENT    107000.0     Source Verified  ...          0.0   \n",
       "1736933       MORTGAGE     65000.0     Source Verified  ...          0.0   \n",
       "1736934           RENT     37000.0        Not Verified  ...          0.0   \n",
       "1736935           RENT     41000.0     Source Verified  ...          0.0   \n",
       "1736936       MORTGAGE    105700.0            Verified  ...          0.0   \n",
       "\n",
       "        num_tl_90g_dpd_24m  num_tl_op_past_12m  pct_tl_nvr_dlq  \\\n",
       "0                      0.0                 4.0      100.000000   \n",
       "1                      0.0                 0.0      100.000000   \n",
       "2                      0.0                 1.0      100.000000   \n",
       "3                      0.0                 3.0      100.000000   \n",
       "4                      0.0                 0.0       78.599998   \n",
       "...                    ...                 ...             ...   \n",
       "1736932                1.0                 2.0       87.500000   \n",
       "1736933                0.0                 2.0       92.599998   \n",
       "1736934                0.0                 5.0       95.199997   \n",
       "1736935                0.0                 1.0       94.400002   \n",
       "1736936                0.0                 1.0       91.300003   \n",
       "\n",
       "         pub_rec_bankruptcies  total_bal_ex_mort  total_bc_limit  \\\n",
       "0                         0.0             7137.0         18100.0   \n",
       "1                         0.0             4136.0         25700.0   \n",
       "2                         0.0            70186.0         35700.0   \n",
       "3                         0.0            46738.0         14800.0   \n",
       "4                         1.0            17672.0          3900.0   \n",
       "...                       ...                ...             ...   \n",
       "1736932                   1.0            60812.0         28200.0   \n",
       "1736933                   0.0            55863.0         34800.0   \n",
       "1736934                   0.0            14300.0          9000.0   \n",
       "1736935                   0.0            26201.0          8100.0   \n",
       "1736936                   0.0            75819.0         16000.0   \n",
       "\n",
       "         total_il_high_credit_limit  average_fico     region  \n",
       "0                               0.0         722.0      South  \n",
       "1                               0.0         757.0      South  \n",
       "2                           33054.0         732.0    Midwest  \n",
       "3                           53404.0         707.0      South  \n",
       "4                           27340.0         672.0      South  \n",
       "...                             ...           ...        ...  \n",
       "1736932                     64422.0         672.0       West  \n",
       "1736933                     70203.0         727.0  Northeast  \n",
       "1736934                         0.0         707.0      South  \n",
       "1736935                     34076.0         672.0  Northeast  \n",
       "1736936                     89732.0         697.0      South  \n",
       "\n",
       "[1736937 rows x 50 columns]"
      ]
     },
     "execution_count": 19,
     "metadata": {},
     "output_type": "execute_result"
    }
   ],
   "source": [
    "df = pd.read_csv('data/full_clean_pre_z')\n",
    "df.drop('Unnamed: 0',axis=1,inplace=True)\n",
    "reduce_mem_usage(df,int_cast=False)"
   ]
  },
  {
   "cell_type": "code",
   "execution_count": 21,
   "metadata": {
    "ExecuteTime": {
     "end_time": "2021-04-14T10:00:54.373455Z",
     "start_time": "2021-04-14T10:00:54.362453Z"
    }
   },
   "outputs": [],
   "source": [
    "#list of categorical variables to get ohe\n",
    "categorical = ['sub_grade',\n",
    " 'grade',\n",
    " 'home_ownership',\n",
    " 'verification_status',\n",
    " 'purpose',\n",
    " 'application_type',\n",
    " 'region']\n",
    "\n",
    "\n",
    "cat_drop = ['sub_grade',\n",
    " 'grade',\n",
    " 'home_ownership',\n",
    " 'verification_status',\n",
    " 'purpose',\n",
    " 'application_type',\n",
    " 'region','loan_status']"
   ]
  },
  {
   "cell_type": "code",
   "execution_count": 22,
   "metadata": {
    "ExecuteTime": {
     "end_time": "2021-04-14T10:01:17.809697Z",
     "start_time": "2021-04-14T10:01:17.262042Z"
    }
   },
   "outputs": [],
   "source": [
    "cont_columns = df.drop(columns=cat_drop).columns"
   ]
  },
  {
   "cell_type": "code",
   "execution_count": 23,
   "metadata": {
    "ExecuteTime": {
     "end_time": "2021-04-14T10:01:25.764978Z",
     "start_time": "2021-04-14T10:01:23.447323Z"
    }
   },
   "outputs": [],
   "source": [
    "# removing outliers greater than 4 std deviations to standardize\n",
    "df_cont_z = df[(np.abs(stats.zscore(df[cont_columns]))<4).all(axis=1)]\n",
    "z_score_df = df.loc[df_cont_z.index]"
   ]
  },
  {
   "cell_type": "code",
   "execution_count": 24,
   "metadata": {
    "ExecuteTime": {
     "end_time": "2021-04-14T10:01:31.455010Z",
     "start_time": "2021-04-14T10:01:30.124481Z"
    }
   },
   "outputs": [],
   "source": [
    "onehot = pd.get_dummies(z_score_df[categorical],drop_first=True)"
   ]
  },
  {
   "cell_type": "code",
   "execution_count": 25,
   "metadata": {
    "ExecuteTime": {
     "end_time": "2021-04-14T10:01:32.717261Z",
     "start_time": "2021-04-14T10:01:32.563980Z"
    }
   },
   "outputs": [],
   "source": [
    "cont = z_score_df.drop(columns=cat_drop)\n"
   ]
  },
  {
   "cell_type": "code",
   "execution_count": 26,
   "metadata": {
    "ExecuteTime": {
     "end_time": "2021-04-14T10:01:35.916333Z",
     "start_time": "2021-04-14T10:01:35.222020Z"
    }
   },
   "outputs": [],
   "source": [
    "x= pd.concat([cont,onehot],axis=1)\n",
    "y= z_score_df['loan_status'].map(lambda x: 1 if x== \"Charged Off\" else 0)"
   ]
  },
  {
   "cell_type": "code",
   "execution_count": 27,
   "metadata": {
    "ExecuteTime": {
     "end_time": "2021-04-14T10:01:38.822495Z",
     "start_time": "2021-04-14T10:01:37.273757Z"
    }
   },
   "outputs": [],
   "source": [
    "#splitting our x and y into training and testing samples\n",
    "x_train, x_test, y_train, y_test = train_test_split(x, y, test_size=0.3,random_state=42)"
   ]
  },
  {
   "cell_type": "code",
   "execution_count": 28,
   "metadata": {
    "ExecuteTime": {
     "end_time": "2021-04-14T10:01:54.932222Z",
     "start_time": "2021-04-14T10:01:40.352384Z"
    }
   },
   "outputs": [],
   "source": [
    "#importing our priorly smoted x train and y train samples\n",
    "x_smote = pd.read_csv('data/x_smote_z')\n",
    "y_smote = pd.read_csv('data/y_smote_z')"
   ]
  },
  {
   "cell_type": "code",
   "execution_count": 29,
   "metadata": {
    "ExecuteTime": {
     "end_time": "2021-04-14T10:01:57.886789Z",
     "start_time": "2021-04-14T10:01:57.061807Z"
    }
   },
   "outputs": [],
   "source": [
    "# as we dropped columns after testing to our original df need to drop from smote so they aren't included in smote modeling\n",
    "# at end will need to re run smote \n",
    "x_smote.drop(columns=['Unnamed: 0','total_rec_int','total_rec_prncp','total_pymnt',\n",
    "                 'tot_coll_amt','num_il_tl','delinq_amnt','tax_liens','last_pymnt_amnt'],axis=1,inplace=True)"
   ]
  },
  {
   "cell_type": "code",
   "execution_count": 30,
   "metadata": {
    "ExecuteTime": {
     "end_time": "2021-04-14T10:02:26.499915Z",
     "start_time": "2021-04-14T10:02:00.020925Z"
    },
    "scrolled": true
   },
   "outputs": [
    {
     "name": "stderr",
     "output_type": "stream",
     "text": [
      "\r",
      "  0%|          | 0/106 [00:00<?, ?it/s]"
     ]
    },
    {
     "name": "stdout",
     "output_type": "stream",
     "text": [
      "Memory usage of dataframe is 1314.89 MB\n"
     ]
    },
    {
     "name": "stderr",
     "output_type": "stream",
     "text": [
      "100%|██████████| 106/106 [00:25<00:00,  4.16it/s]\n"
     ]
    },
    {
     "name": "stdout",
     "output_type": "stream",
     "text": [
      "Memory usage after optimization is: 350.430 MB\n",
      "Decreased by 73.3%\n"
     ]
    },
    {
     "data": {
      "text/html": [
       "<div>\n",
       "<style scoped>\n",
       "    .dataframe tbody tr th:only-of-type {\n",
       "        vertical-align: middle;\n",
       "    }\n",
       "\n",
       "    .dataframe tbody tr th {\n",
       "        vertical-align: top;\n",
       "    }\n",
       "\n",
       "    .dataframe thead th {\n",
       "        text-align: right;\n",
       "    }\n",
       "</style>\n",
       "<table border=\"1\" class=\"dataframe\">\n",
       "  <thead>\n",
       "    <tr style=\"text-align: right;\">\n",
       "      <th></th>\n",
       "      <th>loan_amnt</th>\n",
       "      <th>term</th>\n",
       "      <th>int_rate</th>\n",
       "      <th>installment</th>\n",
       "      <th>emp_length</th>\n",
       "      <th>annual_inc</th>\n",
       "      <th>dti</th>\n",
       "      <th>delinq_2yrs</th>\n",
       "      <th>inq_last_6mths</th>\n",
       "      <th>pub_rec</th>\n",
       "      <th>...</th>\n",
       "      <th>purpose_moving</th>\n",
       "      <th>purpose_other</th>\n",
       "      <th>purpose_renewable_energy</th>\n",
       "      <th>purpose_small_business</th>\n",
       "      <th>purpose_vacation</th>\n",
       "      <th>purpose_wedding</th>\n",
       "      <th>application_type_Joint App</th>\n",
       "      <th>region_Northeast</th>\n",
       "      <th>region_South</th>\n",
       "      <th>region_West</th>\n",
       "    </tr>\n",
       "  </thead>\n",
       "  <tbody>\n",
       "    <tr>\n",
       "      <th>0</th>\n",
       "      <td>7750.000000</td>\n",
       "      <td>36</td>\n",
       "      <td>10.990000</td>\n",
       "      <td>253.800003</td>\n",
       "      <td>3</td>\n",
       "      <td>29000.000000</td>\n",
       "      <td>25.200001</td>\n",
       "      <td>0.000000</td>\n",
       "      <td>0.000000</td>\n",
       "      <td>1.000000</td>\n",
       "      <td>...</td>\n",
       "      <td>0</td>\n",
       "      <td>0</td>\n",
       "      <td>0</td>\n",
       "      <td>0</td>\n",
       "      <td>0</td>\n",
       "      <td>0</td>\n",
       "      <td>0</td>\n",
       "      <td>0</td>\n",
       "      <td>0</td>\n",
       "      <td>0</td>\n",
       "    </tr>\n",
       "    <tr>\n",
       "      <th>1</th>\n",
       "      <td>10000.000000</td>\n",
       "      <td>36</td>\n",
       "      <td>22.910000</td>\n",
       "      <td>386.799988</td>\n",
       "      <td>1</td>\n",
       "      <td>72000.000000</td>\n",
       "      <td>8.200000</td>\n",
       "      <td>1.000000</td>\n",
       "      <td>0.000000</td>\n",
       "      <td>0.000000</td>\n",
       "      <td>...</td>\n",
       "      <td>0</td>\n",
       "      <td>0</td>\n",
       "      <td>0</td>\n",
       "      <td>0</td>\n",
       "      <td>0</td>\n",
       "      <td>0</td>\n",
       "      <td>0</td>\n",
       "      <td>0</td>\n",
       "      <td>1</td>\n",
       "      <td>0</td>\n",
       "    </tr>\n",
       "    <tr>\n",
       "      <th>2</th>\n",
       "      <td>10000.000000</td>\n",
       "      <td>36</td>\n",
       "      <td>12.990000</td>\n",
       "      <td>337.000000</td>\n",
       "      <td>6</td>\n",
       "      <td>40000.000000</td>\n",
       "      <td>22.500000</td>\n",
       "      <td>0.000000</td>\n",
       "      <td>2.000000</td>\n",
       "      <td>0.000000</td>\n",
       "      <td>...</td>\n",
       "      <td>0</td>\n",
       "      <td>1</td>\n",
       "      <td>0</td>\n",
       "      <td>0</td>\n",
       "      <td>0</td>\n",
       "      <td>0</td>\n",
       "      <td>0</td>\n",
       "      <td>0</td>\n",
       "      <td>0</td>\n",
       "      <td>0</td>\n",
       "    </tr>\n",
       "    <tr>\n",
       "      <th>3</th>\n",
       "      <td>5500.000000</td>\n",
       "      <td>36</td>\n",
       "      <td>16.549999</td>\n",
       "      <td>194.899994</td>\n",
       "      <td>4</td>\n",
       "      <td>54224.000000</td>\n",
       "      <td>20.440001</td>\n",
       "      <td>0.000000</td>\n",
       "      <td>2.000000</td>\n",
       "      <td>0.000000</td>\n",
       "      <td>...</td>\n",
       "      <td>0</td>\n",
       "      <td>0</td>\n",
       "      <td>0</td>\n",
       "      <td>0</td>\n",
       "      <td>0</td>\n",
       "      <td>0</td>\n",
       "      <td>0</td>\n",
       "      <td>0</td>\n",
       "      <td>1</td>\n",
       "      <td>0</td>\n",
       "    </tr>\n",
       "    <tr>\n",
       "      <th>4</th>\n",
       "      <td>25000.000000</td>\n",
       "      <td>36</td>\n",
       "      <td>14.520000</td>\n",
       "      <td>861.000000</td>\n",
       "      <td>5</td>\n",
       "      <td>75000.000000</td>\n",
       "      <td>24.980000</td>\n",
       "      <td>0.000000</td>\n",
       "      <td>2.000000</td>\n",
       "      <td>1.000000</td>\n",
       "      <td>...</td>\n",
       "      <td>0</td>\n",
       "      <td>1</td>\n",
       "      <td>0</td>\n",
       "      <td>0</td>\n",
       "      <td>0</td>\n",
       "      <td>0</td>\n",
       "      <td>0</td>\n",
       "      <td>1</td>\n",
       "      <td>0</td>\n",
       "      <td>0</td>\n",
       "    </tr>\n",
       "    <tr>\n",
       "      <th>...</th>\n",
       "      <td>...</td>\n",
       "      <td>...</td>\n",
       "      <td>...</td>\n",
       "      <td>...</td>\n",
       "      <td>...</td>\n",
       "      <td>...</td>\n",
       "      <td>...</td>\n",
       "      <td>...</td>\n",
       "      <td>...</td>\n",
       "      <td>...</td>\n",
       "      <td>...</td>\n",
       "      <td>...</td>\n",
       "      <td>...</td>\n",
       "      <td>...</td>\n",
       "      <td>...</td>\n",
       "      <td>...</td>\n",
       "      <td>...</td>\n",
       "      <td>...</td>\n",
       "      <td>...</td>\n",
       "      <td>...</td>\n",
       "      <td>...</td>\n",
       "    </tr>\n",
       "    <tr>\n",
       "      <th>1625891</th>\n",
       "      <td>24366.757812</td>\n",
       "      <td>51</td>\n",
       "      <td>17.206345</td>\n",
       "      <td>707.872986</td>\n",
       "      <td>4</td>\n",
       "      <td>117479.695312</td>\n",
       "      <td>21.083889</td>\n",
       "      <td>0.633242</td>\n",
       "      <td>1.100275</td>\n",
       "      <td>0.000000</td>\n",
       "      <td>...</td>\n",
       "      <td>0</td>\n",
       "      <td>0</td>\n",
       "      <td>0</td>\n",
       "      <td>0</td>\n",
       "      <td>0</td>\n",
       "      <td>0</td>\n",
       "      <td>0</td>\n",
       "      <td>0</td>\n",
       "      <td>1</td>\n",
       "      <td>0</td>\n",
       "    </tr>\n",
       "    <tr>\n",
       "      <th>1625892</th>\n",
       "      <td>19482.703125</td>\n",
       "      <td>50</td>\n",
       "      <td>15.419235</td>\n",
       "      <td>542.377869</td>\n",
       "      <td>5</td>\n",
       "      <td>51204.097656</td>\n",
       "      <td>22.845705</td>\n",
       "      <td>0.000000</td>\n",
       "      <td>0.602049</td>\n",
       "      <td>0.602049</td>\n",
       "      <td>...</td>\n",
       "      <td>0</td>\n",
       "      <td>0</td>\n",
       "      <td>0</td>\n",
       "      <td>0</td>\n",
       "      <td>0</td>\n",
       "      <td>0</td>\n",
       "      <td>0</td>\n",
       "      <td>0</td>\n",
       "      <td>0</td>\n",
       "      <td>0</td>\n",
       "    </tr>\n",
       "    <tr>\n",
       "      <th>1625893</th>\n",
       "      <td>13179.145508</td>\n",
       "      <td>36</td>\n",
       "      <td>14.562667</td>\n",
       "      <td>461.734833</td>\n",
       "      <td>6</td>\n",
       "      <td>55000.000000</td>\n",
       "      <td>18.415403</td>\n",
       "      <td>0.000000</td>\n",
       "      <td>0.000000</td>\n",
       "      <td>0.000000</td>\n",
       "      <td>...</td>\n",
       "      <td>0</td>\n",
       "      <td>0</td>\n",
       "      <td>0</td>\n",
       "      <td>0</td>\n",
       "      <td>0</td>\n",
       "      <td>0</td>\n",
       "      <td>0</td>\n",
       "      <td>0</td>\n",
       "      <td>0</td>\n",
       "      <td>0</td>\n",
       "    </tr>\n",
       "    <tr>\n",
       "      <th>1625894</th>\n",
       "      <td>17840.857422</td>\n",
       "      <td>45</td>\n",
       "      <td>21.473141</td>\n",
       "      <td>597.083801</td>\n",
       "      <td>8</td>\n",
       "      <td>54589.417969</td>\n",
       "      <td>23.626722</td>\n",
       "      <td>0.000000</td>\n",
       "      <td>0.000000</td>\n",
       "      <td>0.000000</td>\n",
       "      <td>...</td>\n",
       "      <td>0</td>\n",
       "      <td>0</td>\n",
       "      <td>0</td>\n",
       "      <td>0</td>\n",
       "      <td>0</td>\n",
       "      <td>0</td>\n",
       "      <td>0</td>\n",
       "      <td>0</td>\n",
       "      <td>0</td>\n",
       "      <td>0</td>\n",
       "    </tr>\n",
       "    <tr>\n",
       "      <th>1625895</th>\n",
       "      <td>20000.000000</td>\n",
       "      <td>60</td>\n",
       "      <td>22.391314</td>\n",
       "      <td>557.422424</td>\n",
       "      <td>9</td>\n",
       "      <td>62470.488281</td>\n",
       "      <td>8.578129</td>\n",
       "      <td>0.494098</td>\n",
       "      <td>0.494098</td>\n",
       "      <td>0.000000</td>\n",
       "      <td>...</td>\n",
       "      <td>0</td>\n",
       "      <td>0</td>\n",
       "      <td>0</td>\n",
       "      <td>0</td>\n",
       "      <td>0</td>\n",
       "      <td>0</td>\n",
       "      <td>0</td>\n",
       "      <td>0</td>\n",
       "      <td>0</td>\n",
       "      <td>0</td>\n",
       "    </tr>\n",
       "  </tbody>\n",
       "</table>\n",
       "<p>1625896 rows × 106 columns</p>\n",
       "</div>"
      ],
      "text/plain": [
       "            loan_amnt  term   int_rate  installment  emp_length  \\\n",
       "0         7750.000000    36  10.990000   253.800003           3   \n",
       "1        10000.000000    36  22.910000   386.799988           1   \n",
       "2        10000.000000    36  12.990000   337.000000           6   \n",
       "3         5500.000000    36  16.549999   194.899994           4   \n",
       "4        25000.000000    36  14.520000   861.000000           5   \n",
       "...               ...   ...        ...          ...         ...   \n",
       "1625891  24366.757812    51  17.206345   707.872986           4   \n",
       "1625892  19482.703125    50  15.419235   542.377869           5   \n",
       "1625893  13179.145508    36  14.562667   461.734833           6   \n",
       "1625894  17840.857422    45  21.473141   597.083801           8   \n",
       "1625895  20000.000000    60  22.391314   557.422424           9   \n",
       "\n",
       "            annual_inc        dti  delinq_2yrs  inq_last_6mths   pub_rec  ...  \\\n",
       "0         29000.000000  25.200001     0.000000        0.000000  1.000000  ...   \n",
       "1         72000.000000   8.200000     1.000000        0.000000  0.000000  ...   \n",
       "2         40000.000000  22.500000     0.000000        2.000000  0.000000  ...   \n",
       "3         54224.000000  20.440001     0.000000        2.000000  0.000000  ...   \n",
       "4         75000.000000  24.980000     0.000000        2.000000  1.000000  ...   \n",
       "...                ...        ...          ...             ...       ...  ...   \n",
       "1625891  117479.695312  21.083889     0.633242        1.100275  0.000000  ...   \n",
       "1625892   51204.097656  22.845705     0.000000        0.602049  0.602049  ...   \n",
       "1625893   55000.000000  18.415403     0.000000        0.000000  0.000000  ...   \n",
       "1625894   54589.417969  23.626722     0.000000        0.000000  0.000000  ...   \n",
       "1625895   62470.488281   8.578129     0.494098        0.494098  0.000000  ...   \n",
       "\n",
       "         purpose_moving  purpose_other  purpose_renewable_energy  \\\n",
       "0                     0              0                         0   \n",
       "1                     0              0                         0   \n",
       "2                     0              1                         0   \n",
       "3                     0              0                         0   \n",
       "4                     0              1                         0   \n",
       "...                 ...            ...                       ...   \n",
       "1625891               0              0                         0   \n",
       "1625892               0              0                         0   \n",
       "1625893               0              0                         0   \n",
       "1625894               0              0                         0   \n",
       "1625895               0              0                         0   \n",
       "\n",
       "         purpose_small_business  purpose_vacation  purpose_wedding  \\\n",
       "0                             0                 0                0   \n",
       "1                             0                 0                0   \n",
       "2                             0                 0                0   \n",
       "3                             0                 0                0   \n",
       "4                             0                 0                0   \n",
       "...                         ...               ...              ...   \n",
       "1625891                       0                 0                0   \n",
       "1625892                       0                 0                0   \n",
       "1625893                       0                 0                0   \n",
       "1625894                       0                 0                0   \n",
       "1625895                       0                 0                0   \n",
       "\n",
       "         application_type_Joint App  region_Northeast  region_South  \\\n",
       "0                                 0                 0             0   \n",
       "1                                 0                 0             1   \n",
       "2                                 0                 0             0   \n",
       "3                                 0                 0             1   \n",
       "4                                 0                 1             0   \n",
       "...                             ...               ...           ...   \n",
       "1625891                           0                 0             1   \n",
       "1625892                           0                 0             0   \n",
       "1625893                           0                 0             0   \n",
       "1625894                           0                 0             0   \n",
       "1625895                           0                 0             0   \n",
       "\n",
       "         region_West  \n",
       "0                  0  \n",
       "1                  0  \n",
       "2                  0  \n",
       "3                  0  \n",
       "4                  0  \n",
       "...              ...  \n",
       "1625891            0  \n",
       "1625892            0  \n",
       "1625893            0  \n",
       "1625894            0  \n",
       "1625895            0  \n",
       "\n",
       "[1625896 rows x 106 columns]"
      ]
     },
     "execution_count": 30,
     "metadata": {},
     "output_type": "execute_result"
    }
   ],
   "source": [
    "reduce_mem_usage(x_smote,int_cast=False)"
   ]
  },
  {
   "cell_type": "code",
   "execution_count": 31,
   "metadata": {
    "ExecuteTime": {
     "end_time": "2021-04-14T10:02:28.957504Z",
     "start_time": "2021-04-14T10:02:28.436409Z"
    },
    "scrolled": true
   },
   "outputs": [
    {
     "name": "stderr",
     "output_type": "stream",
     "text": [
      "100%|██████████| 1/1 [00:00<00:00, 66.63it/s]"
     ]
    },
    {
     "name": "stdout",
     "output_type": "stream",
     "text": [
      "Memory usage of dataframe is 12.40 MB\n"
     ]
    },
    {
     "name": "stderr",
     "output_type": "stream",
     "text": [
      "\n"
     ]
    },
    {
     "name": "stdout",
     "output_type": "stream",
     "text": [
      "Memory usage after optimization is: 1.551 MB\n",
      "Decreased by 87.5%\n"
     ]
    },
    {
     "data": {
      "text/html": [
       "<div>\n",
       "<style scoped>\n",
       "    .dataframe tbody tr th:only-of-type {\n",
       "        vertical-align: middle;\n",
       "    }\n",
       "\n",
       "    .dataframe tbody tr th {\n",
       "        vertical-align: top;\n",
       "    }\n",
       "\n",
       "    .dataframe thead th {\n",
       "        text-align: right;\n",
       "    }\n",
       "</style>\n",
       "<table border=\"1\" class=\"dataframe\">\n",
       "  <thead>\n",
       "    <tr style=\"text-align: right;\">\n",
       "      <th></th>\n",
       "      <th>loan_status</th>\n",
       "    </tr>\n",
       "  </thead>\n",
       "  <tbody>\n",
       "    <tr>\n",
       "      <th>0</th>\n",
       "      <td>0</td>\n",
       "    </tr>\n",
       "    <tr>\n",
       "      <th>1</th>\n",
       "      <td>1</td>\n",
       "    </tr>\n",
       "    <tr>\n",
       "      <th>2</th>\n",
       "      <td>0</td>\n",
       "    </tr>\n",
       "    <tr>\n",
       "      <th>3</th>\n",
       "      <td>1</td>\n",
       "    </tr>\n",
       "    <tr>\n",
       "      <th>4</th>\n",
       "      <td>1</td>\n",
       "    </tr>\n",
       "    <tr>\n",
       "      <th>...</th>\n",
       "      <td>...</td>\n",
       "    </tr>\n",
       "    <tr>\n",
       "      <th>1625891</th>\n",
       "      <td>1</td>\n",
       "    </tr>\n",
       "    <tr>\n",
       "      <th>1625892</th>\n",
       "      <td>1</td>\n",
       "    </tr>\n",
       "    <tr>\n",
       "      <th>1625893</th>\n",
       "      <td>1</td>\n",
       "    </tr>\n",
       "    <tr>\n",
       "      <th>1625894</th>\n",
       "      <td>1</td>\n",
       "    </tr>\n",
       "    <tr>\n",
       "      <th>1625895</th>\n",
       "      <td>1</td>\n",
       "    </tr>\n",
       "  </tbody>\n",
       "</table>\n",
       "<p>1625896 rows × 1 columns</p>\n",
       "</div>"
      ],
      "text/plain": [
       "         loan_status\n",
       "0                  0\n",
       "1                  1\n",
       "2                  0\n",
       "3                  1\n",
       "4                  1\n",
       "...              ...\n",
       "1625891            1\n",
       "1625892            1\n",
       "1625893            1\n",
       "1625894            1\n",
       "1625895            1\n",
       "\n",
       "[1625896 rows x 1 columns]"
      ]
     },
     "execution_count": 31,
     "metadata": {},
     "output_type": "execute_result"
    }
   ],
   "source": [
    "y_smote.drop('Unnamed: 0',axis=1,inplace=True)\n",
    "reduce_mem_usage(y_smote,int_cast=False)"
   ]
  },
  {
   "cell_type": "code",
   "execution_count": 32,
   "metadata": {
    "ExecuteTime": {
     "end_time": "2021-04-14T10:03:13.954558Z",
     "start_time": "2021-04-14T10:03:13.949556Z"
    }
   },
   "outputs": [],
   "source": [
    "scaler = MinMaxScaler()"
   ]
  },
  {
   "cell_type": "code",
   "execution_count": 33,
   "metadata": {
    "ExecuteTime": {
     "end_time": "2021-04-14T10:03:18.985686Z",
     "start_time": "2021-04-14T10:03:16.820061Z"
    }
   },
   "outputs": [],
   "source": [
    "#scaling our smote training samples\n",
    "x_smote_cont =  pd.DataFrame(scaler.fit_transform(x_smote[cont_columns]),columns=cont_columns)\n",
    "x_smote_scaled = pd.concat([x_smote_cont,x_smote[onehot.columns]],axis=1)\n",
    "\n",
    "#scaling for our x test sample\n",
    "x_test= x_test.reset_index().drop('index',axis=1)\n",
    "x_test_cont_scaled = pd.DataFrame(scaler.transform(x_test[cont_columns]),columns=cont_columns)\n",
    "x_test_scaled = pd.concat([x_test_cont_scaled,x_test[onehot.columns]],axis=1)"
   ]
  },
  {
   "cell_type": "code",
   "execution_count": 34,
   "metadata": {
    "ExecuteTime": {
     "end_time": "2021-04-14T10:03:22.488465Z",
     "start_time": "2021-04-14T10:03:20.853862Z"
    }
   },
   "outputs": [],
   "source": [
    "#further splitting our training into validation sets we will use in crossvalidation\n",
    "x_train_final, x_val, y_train_final, y_val = train_test_split(x_smote_scaled, y_smote, test_size=.3,random_state=42)"
   ]
  },
  {
   "cell_type": "code",
   "execution_count": 35,
   "metadata": {
    "ExecuteTime": {
     "end_time": "2021-04-14T10:03:26.021740Z",
     "start_time": "2021-04-14T10:03:24.710482Z"
    }
   },
   "outputs": [],
   "source": [
    "x_train = x_train.reset_index().drop('index',axis=1)\n",
    "x_cont =  pd.DataFrame(scaler.fit_transform(x_train[cont_columns]),columns=cont_columns)\n",
    "x_train_scaled = pd.concat([x_cont,x_train[onehot.columns]],axis=1)\n",
    "\n"
   ]
  },
  {
   "cell_type": "code",
   "execution_count": 36,
   "metadata": {
    "ExecuteTime": {
     "end_time": "2021-04-14T10:03:28.262145Z",
     "start_time": "2021-04-14T10:03:28.200145Z"
    }
   },
   "outputs": [],
   "source": [
    "y_train = y_train.reset_index().drop('index',axis=1)"
   ]
  },
  {
   "cell_type": "code",
   "execution_count": 43,
   "metadata": {
    "ExecuteTime": {
     "end_time": "2021-04-14T10:14:00.084275Z",
     "start_time": "2021-04-14T10:14:00.069279Z"
    }
   },
   "outputs": [],
   "source": [
    "## Relevant feature groups\n",
    "#for testing unsmoted without recoveries\n",
    "og_no =['loan_amnt','term','int_rate','installment','emp_length','annual_inc','dti','delinq_2yrs','inq_last_6mths',\n",
    " 'revol_bal','average_fico','total_acc','total_rec_late_fee','tot_cur_bal','bc_util','mo_sin_rcnt_tl',\n",
    " 'mort_acc','mths_since_recent_bc','mths_since_recent_inq',\n",
    " 'num_accts_ever_120_pd','num_bc_sats','num_bc_tl','num_op_rev_tl','num_tl_90g_dpd_24m',\n",
    "'num_tl_op_past_12m','pct_tl_nvr_dlq','pub_rec_bankruptcies','total_bal_ex_mort','total_bc_limit','total_il_high_credit_limit',\n",
    "'grade_B','grade_C','grade_D','grade_E','grade_F','grade_G','home_ownership_MORTGAGE','home_ownership_OWN','home_ownership_RENT',\n",
    "'verification_status_Source Verified','verification_status_Verified','purpose_credit_card','purpose_debt_consolidation',\n",
    "'purpose_home_improvement','purpose_house','purpose_major_purchase','purpose_other','purpose_renewable_energy',\n",
    "'purpose_small_business','purpose_vacation','purpose_wedding','application_type_Joint App', 'region_South','region_West']\n",
    "\n",
    "#for testing unsmoted with recoveries\n",
    "og_yes = ['recoveries',\n",
    "'loan_amnt','term','int_rate','installment','emp_length','annual_inc','dti','delinq_2yrs',\n",
    " 'revol_bal','average_fico','total_acc','total_rec_late_fee','tot_cur_bal','bc_util',\n",
    " 'mort_acc','mths_since_recent_bc','mths_since_recent_inq',\n",
    "'num_bc_sats','num_bc_tl','num_op_rev_tl','num_tl_90g_dpd_24m',\n",
    "'num_tl_op_past_12m','pct_tl_nvr_dlq','pub_rec_bankruptcies','total_bal_ex_mort','total_bc_limit','total_il_high_credit_limit',\n",
    "'grade_B','grade_C','grade_D','grade_E','grade_F','grade_G','home_ownership_MORTGAGE','home_ownership_OWN','home_ownership_RENT',\n",
    "'verification_status_Source Verified','verification_status_Verified','purpose_credit_card','purpose_debt_consolidation',\n",
    "'purpose_home_improvement','purpose_house','purpose_major_purchase','purpose_other',\n",
    "'purpose_vacation','purpose_wedding','application_type_Joint App', 'region_South','region_West']\n",
    "\n",
    "#for testing smoted samples with recoveries\n",
    "recover = ['recoveries',\n",
    "'loan_amnt','term','int_rate','installment','emp_length','annual_inc','dti','delinq_2yrs','inq_last_6mths',\n",
    "'pub_rec', 'revol_bal','total_acc','total_rec_late_fee','tot_cur_bal','bc_util','mo_sin_rcnt_tl',\n",
    " 'mths_since_recent_bc', 'num_accts_ever_120_pd',\n",
    " 'num_bc_sats', 'num_bc_tl',\n",
    " 'num_op_rev_tl', 'num_tl_90g_dpd_24m',\n",
    " 'num_tl_op_past_12m', 'pct_tl_nvr_dlq',\n",
    " 'total_bal_ex_mort', 'total_bc_limit',\n",
    " 'total_il_high_credit_limit','average_fico',\n",
    " 'sub_grade_A2',\n",
    " 'sub_grade_A3','sub_grade_A4','sub_grade_A5','sub_grade_B1','sub_grade_B2','sub_grade_B3','sub_grade_B4','sub_grade_B5',\n",
    " 'sub_grade_C1','sub_grade_C2','sub_grade_C3','sub_grade_C4','sub_grade_C5','sub_grade_D1','sub_grade_D2',\n",
    " 'sub_grade_D3','sub_grade_D4','sub_grade_D5','sub_grade_E1'\n",
    ",'sub_grade_E2','sub_grade_E3','sub_grade_E4','sub_grade_E5','sub_grade_F1','sub_grade_F2','sub_grade_F3','sub_grade_F4',\n",
    " 'sub_grade_F5','sub_grade_G1','sub_grade_G2','sub_grade_G3','sub_grade_G4','sub_grade_G5',\n",
    " 'home_ownership_MORTGAGE','home_ownership_OWN','home_ownership_RENT',\n",
    "'verification_status_Source Verified','verification_status_Verified',\n",
    " 'purpose_credit_card','purpose_debt_consolidation','purpose_home_improvement','purpose_house','purpose_major_purchase',\n",
    "'purpose_other','purpose_renewable_energy','purpose_small_business','purpose_vacation', 'purpose_wedding','purpose_medical',\n",
    "'purpose_moving',\n",
    "'application_type_Joint App',\n",
    " 'region_South','region_West','region_Northeast']\n",
    "\n",
    "no_recover = ['loan_amnt','term','int_rate','installment','emp_length','annual_inc','dti','delinq_2yrs','inq_last_6mths',\n",
    "'pub_rec', 'revol_bal','total_acc','total_rec_late_fee','tot_cur_bal','bc_util','mo_sin_rcnt_tl',\n",
    " 'mths_since_recent_bc', 'num_accts_ever_120_pd',\n",
    " 'num_bc_sats', 'num_bc_tl',\n",
    " 'num_op_rev_tl', 'num_tl_90g_dpd_24m',\n",
    " 'num_tl_op_past_12m', 'pct_tl_nvr_dlq',\n",
    " 'total_bal_ex_mort', 'total_bc_limit',\n",
    " 'total_il_high_credit_limit','average_fico',\n",
    " 'sub_grade_A2',\n",
    " 'sub_grade_A3','sub_grade_A4','sub_grade_A5','sub_grade_B1','sub_grade_B2','sub_grade_B3','sub_grade_B4','sub_grade_B5',\n",
    " 'sub_grade_C1','sub_grade_C2','sub_grade_C3','sub_grade_C4','sub_grade_C5','sub_grade_D1','sub_grade_D2',\n",
    " 'sub_grade_D3','sub_grade_D4','sub_grade_D5','sub_grade_E1'\n",
    ",'sub_grade_E2','sub_grade_E3','sub_grade_E4','sub_grade_E5','sub_grade_F1','sub_grade_F2','sub_grade_F3','sub_grade_F4',\n",
    " 'sub_grade_F5','sub_grade_G1','sub_grade_G2','sub_grade_G3','sub_grade_G4','sub_grade_G5',\n",
    " 'home_ownership_MORTGAGE','home_ownership_OWN','home_ownership_RENT',\n",
    "'verification_status_Source Verified','verification_status_Verified',\n",
    " 'purpose_credit_card','purpose_debt_consolidation','purpose_home_improvement','purpose_house','purpose_major_purchase',\n",
    "'purpose_other','purpose_renewable_energy','purpose_small_business','purpose_vacation', 'purpose_wedding','purpose_medical',\n",
    "'purpose_moving',\n",
    "'application_type_Joint App',\n",
    " 'region_South','region_West','region_Northeast']"
   ]
  },
  {
   "cell_type": "markdown",
   "metadata": {},
   "source": [
    "## Decision Tree Model Tuning with XGBoost"
   ]
  },
  {
   "cell_type": "code",
   "execution_count": 40,
   "metadata": {
    "ExecuteTime": {
     "end_time": "2021-04-14T10:12:50.178003Z",
     "start_time": "2021-04-14T10:12:50.163985Z"
    }
   },
   "outputs": [],
   "source": [
    "#Baseline DTree\n",
    "dtree = DecisionTreeClassifier(class_weight='balanced')"
   ]
  },
  {
   "cell_type": "code",
   "execution_count": 45,
   "metadata": {
    "ExecuteTime": {
     "end_time": "2021-04-14T10:20:19.248357Z",
     "start_time": "2021-04-14T10:19:31.095115Z"
    }
   },
   "outputs": [
    {
     "data": {
      "text/plain": [
       "DecisionTreeClassifier(class_weight='balanced')"
      ]
     },
     "execution_count": 45,
     "metadata": {},
     "output_type": "execute_result"
    }
   ],
   "source": [
    "dtree.fit(x_train_scaled[og_no],y_train)"
   ]
  },
  {
   "cell_type": "code",
   "execution_count": 46,
   "metadata": {
    "ExecuteTime": {
     "end_time": "2021-04-14T10:20:23.570764Z",
     "start_time": "2021-04-14T10:20:21.442846Z"
    }
   },
   "outputs": [
    {
     "name": "stdout",
     "output_type": "stream",
     "text": [
      "[[298857  57689]\n",
      " [ 57607  22410]]\n",
      "              precision    recall  f1-score   support\n",
      "\n",
      "           0       0.84      0.84      0.84    356546\n",
      "           1       0.28      0.28      0.28     80017\n",
      "\n",
      "    accuracy                           0.74    436563\n",
      "   macro avg       0.56      0.56      0.56    436563\n",
      "weighted avg       0.74      0.74      0.74    436563\n",
      "\n"
     ]
    },
    {
     "data": {
      "image/png": "[encoded data removed]",
      "text/plain": [
       "<Figure size 432x288 with 2 Axes>"
      ]
     },
     "metadata": {
      "needs_background": "light"
     },
     "output_type": "display_data"
    }
   ],
   "source": [
    "model_results(x_test_scaled,y_test,og_no,dtree)"
   ]
  },
  {
   "cell_type": "code",
   "execution_count": null,
   "metadata": {},
   "outputs": [],
   "source": []
  },
  {
   "cell_type": "code",
   "execution_count": null,
   "metadata": {},
   "outputs": [],
   "source": []
  },
  {
   "cell_type": "code",
   "execution_count": null,
   "metadata": {},
   "outputs": [],
   "source": []
  },
  {
   "cell_type": "code",
   "execution_count": null,
   "metadata": {},
   "outputs": [],
   "source": [
    "xgb2 = XGBRFClassifier(\n",
    " learning_rate =.5,\n",
    " n_estimators=250,\n",
    " max_depth=5,\n",
    " min_child_weight=6,\n",
    " gamma=0,\n",
    " subsample=0.8,\n",
    " colsample_bytree=0.8,\n",
    " objective= 'binary:logistic', verbosity=1)\n",
    "\n",
    "modelfit(xgb2, x_train_final, y_train_final,resamp,x_val,y_val)"
   ]
  },
  {
   "cell_type": "code",
   "execution_count": null,
   "metadata": {},
   "outputs": [],
   "source": []
  },
  {
   "cell_type": "code",
   "execution_count": null,
   "metadata": {},
   "outputs": [],
   "source": [
    "tree_params = {\n",
    "  'colsample_bynode': 0.75,\n",
    "  'learning_rate': 1,\n",
    "  'max_depth': 2,\n",
    "  'num_parallel_tree': 100,\n",
    "  'objective': 'binary:logistic',\n",
    "  'subsample': 0.75,\n",
    "  'tree_method': 'auto'\n",
    "}"
   ]
  },
  {
   "cell_type": "code",
   "execution_count": null,
   "metadata": {},
   "outputs": [],
   "source": [
    "grid = GridSearchCV()"
   ]
  },
  {
   "cell_type": "code",
   "execution_count": null,
   "metadata": {},
   "outputs": [],
   "source": []
  },
  {
   "cell_type": "code",
   "execution_count": null,
   "metadata": {},
   "outputs": [],
   "source": []
  },
  {
   "cell_type": "code",
   "execution_count": null,
   "metadata": {},
   "outputs": [],
   "source": []
  },
  {
   "cell_type": "code",
   "execution_count": null,
   "metadata": {},
   "outputs": [],
   "source": [
    "xgb2 = XGBRFClassifier(\n",
    " learning_rate =.5,\n",
    " n_estimators=250,\n",
    " max_depth=5,\n",
    " min_child_weight=6,\n",
    " gamma=0,\n",
    " subsample=0.8,\n",
    " colsample_bytree=0.8,\n",
    " objective= 'binary:logistic', verbosity=1)\n",
    "\n",
    "modelfit(xgb2, x_train_final_z, y_train_final_z,resamp,x_val_z,y_val_z)"
   ]
  }
 ],
 "metadata": {
  "kernelspec": {
   "display_name": "Python 3",
   "language": "python",
   "name": "python3"
  },
  "language_info": {
   "codemirror_mode": {
    "name": "ipython",
    "version": 3
   },
   "file_extension": ".py",
   "mimetype": "text/x-python",
   "name": "python",
   "nbconvert_exporter": "python",
   "pygments_lexer": "ipython3",
   "version": "3.8.5"
  },
  "latex_envs": {
   "LaTeX_envs_menu_present": true,
   "autoclose": false,
   "autocomplete": true,
   "bibliofile": "biblio.bib",
   "cite_by": "apalike",
   "current_citInitial": 1,
   "eqLabelWithNumbers": true,
   "eqNumInitial": 1,
   "hotkeys": {
    "equation": "Ctrl-E",
    "itemize": "Ctrl-I"
   },
   "labels_anchors": false,
   "latex_user_defs": false,
   "report_style_numbering": false,
   "user_envs_cfg": false
  },
  "toc": {
   "base_numbering": 1,
   "nav_menu": {},
   "number_sections": true,
   "sideBar": true,
   "skip_h1_title": false,
   "title_cell": "Table of Contents",
   "title_sidebar": "Contents",
   "toc_cell": false,
   "toc_position": {},
   "toc_section_display": true,
   "toc_window_display": false
  },
  "varInspector": {
   "cols": {
    "lenName": 16,
    "lenType": 16,
    "lenVar": 40
   },
   "kernels_config": {
    "python": {
     "delete_cmd_postfix": "",
     "delete_cmd_prefix": "del ",
     "library": "var_list.py",
     "varRefreshCmd": "print(var_dic_list())"
    },
    "r": {
     "delete_cmd_postfix": ") ",
     "delete_cmd_prefix": "rm(",
     "library": "var_list.r",
     "varRefreshCmd": "cat(var_dic_list()) "
    }
   },
   "types_to_exclude": [
    "module",
    "function",
    "builtin_function_or_method",
    "instance",
    "_Feature"
   ],
   "window_display": false
  }
 },
 "nbformat": 4,
 "nbformat_minor": 4
}
