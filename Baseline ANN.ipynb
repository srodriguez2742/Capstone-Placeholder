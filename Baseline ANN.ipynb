{
 "cells": [
  {
   "cell_type": "code",
   "execution_count": 1,
   "metadata": {
    "ExecuteTime": {
     "end_time": "2021-04-12T14:47:12.534699Z",
     "start_time": "2021-04-12T14:47:06.340925Z"
    }
   },
   "outputs": [],
   "source": [
    "import pandas as pd\n",
    "import numpy as np\n",
    "import pandas as pd\n",
    "import os\n",
    "\n",
    "import matplotlib.pyplot as plt\n",
    "import seaborn as sns\n",
    "\n",
    "from sklearn.preprocessing import MinMaxScaler\n",
    "from sklearn.linear_model import LogisticRegression\n",
    "from sklearn.model_selection import train_test_split\n",
    "from sklearn.metrics import plot_confusion_matrix\n",
    "from sklearn.metrics import confusion_matrix, classification_report\n",
    "from sklearn.metrics import roc_curve, auc\n",
    "from sklearn.metrics import precision_score, recall_score, accuracy_score, f1_score\n",
    "from sklearn.preprocessing import StandardScaler\n",
    "from sklearn.neighbors import KNeighborsClassifier\n",
    "from sklearn.tree import DecisionTreeClassifier\n",
    "from sklearn.tree import plot_tree\n",
    "from sklearn.utils import resample\n",
    "from imblearn.over_sampling import SMOTE\n",
    "\n",
    "from sklearn.ensemble import BaggingClassifier, RandomForestClassifier\n",
    "from sklearn.model_selection import GridSearchCV, cross_val_score\n",
    "from sklearn.ensemble import AdaBoostClassifier, GradientBoostingClassifier\n",
    "from xgboost import XGBClassifier\n",
    "\n",
    "from sklearn import tree\n",
    "import xgboost as xgb\n",
    "from numpy import loadtxt\n",
    "from xgboost import XGBClassifier\n",
    "from xgboost import plot_tree\n",
    "\n",
    "import gc\n",
    "from tqdm import tqdm\n",
    "\n",
    "from sklearn.preprocessing import StandardScaler, OneHotEncoder\n",
    "from sklearn.impute import SimpleImputer\n",
    "from sklearn.metrics import mean_squared_error\n",
    "from sklearn.model_selection import cross_val_predict\n",
    "from keras import models\n",
    "from keras import layers\n",
    "from keras import regularizers\n",
    "from keras.wrappers.scikit_learn import KerasRegressor\n",
    "from keras.models import load_model\n",
    "from scipy import stats"
   ]
  },
  {
   "cell_type": "code",
   "execution_count": 2,
   "metadata": {
    "ExecuteTime": {
     "end_time": "2021-04-12T14:47:14.835136Z",
     "start_time": "2021-04-12T14:47:14.823167Z"
    }
   },
   "outputs": [],
   "source": [
    "def find_best_k_recall(X_train, y_train, X_test, y_test, min_k=1, max_k=25):\n",
    "    best_k = 0\n",
    "    best_score = 0.0\n",
    "    for k in range(min_k, max_k+1, 2):\n",
    "        knn = KNeighborsClassifier(n_neighbors=k)\n",
    "        knn.fit(X_train, y_train)\n",
    "        preds = knn.predict(X_test)\n",
    "        recall = recall_score(y_test, preds)\n",
    "        if recall > best_score:\n",
    "            best_k = k\n",
    "            best_score = recall\n",
    "    \n",
    "    print(\"Best Value for k: {}\".format(best_k))\n",
    "    print(\"Recall-Score: {}\".format(best_score))"
   ]
  },
  {
   "cell_type": "code",
   "execution_count": 3,
   "metadata": {
    "ExecuteTime": {
     "end_time": "2021-04-12T14:47:15.180874Z",
     "start_time": "2021-04-12T14:47:15.122850Z"
    }
   },
   "outputs": [
    {
     "data": {
      "text/plain": [
       "Index(['Description'], dtype='object')"
      ]
     },
     "execution_count": 3,
     "metadata": {},
     "output_type": "execute_result"
    }
   ],
   "source": [
    "column_defs = pd.read_excel('data\\LCDataDictionary.xlsx',index_col='LoanStatNew')\n",
    "column_defs.columns"
   ]
  },
  {
   "cell_type": "code",
   "execution_count": 4,
   "metadata": {
    "ExecuteTime": {
     "end_time": "2021-04-12T14:47:15.685871Z",
     "start_time": "2021-04-12T14:47:15.680871Z"
    }
   },
   "outputs": [],
   "source": [
    "def column_info(col_name):\n",
    "    return column_defs.loc[col_name]['Description']"
   ]
  },
  {
   "cell_type": "code",
   "execution_count": 5,
   "metadata": {
    "ExecuteTime": {
     "end_time": "2021-04-12T14:47:16.159515Z",
     "start_time": "2021-04-12T14:47:16.152517Z"
    }
   },
   "outputs": [],
   "source": [
    "def na_check(data):\n",
    "    check = np.round(data.isna().sum().sort_values(ascending=False),2)\n",
    "    return check"
   ]
  },
  {
   "cell_type": "code",
   "execution_count": 6,
   "metadata": {
    "ExecuteTime": {
     "end_time": "2021-04-12T14:47:16.995253Z",
     "start_time": "2021-04-12T14:47:16.971253Z"
    }
   },
   "outputs": [],
   "source": [
    "def reduce_mem_usage(df, int_cast=True, obj_to_category=False, subset=None):\n",
    "    \"\"\"\n",
    "    Iterate through all the columns of a dataframe and modify the data type to reduce memory usage.\n",
    "    :param df: dataframe to reduce (pd.DataFrame)\n",
    "    :param int_cast: indicate if columns should be tried to be casted to int (bool)\n",
    "    :param obj_to_category: convert non-datetime related objects to category dtype (bool)\n",
    "    :param subset: subset of columns to analyse (list)\n",
    "    :return: dataset with the column dtypes adjusted (pd.DataFrame)\n",
    "    \"\"\"\n",
    "    start_mem = df.memory_usage().sum() / 1024 ** 2;\n",
    "    gc.collect()\n",
    "    print('Memory usage of dataframe is {:.2f} MB'.format(start_mem))\n",
    "\n",
    "    cols = subset if subset is not None else df.columns.tolist()\n",
    "\n",
    "    for col in tqdm(cols):\n",
    "        col_type = df[col].dtype\n",
    "\n",
    "        if col_type != object and col_type.name != 'category' and 'datetime' not in col_type.name:\n",
    "            c_min = df[col].min()\n",
    "            c_max = df[col].max()\n",
    "\n",
    "            # test if column can be converted to an integer\n",
    "            treat_as_int = str(col_type)[:3] == 'int'\n",
    "            if int_cast and not treat_as_int:\n",
    "                treat_as_int = check_if_integer(df[col])\n",
    "\n",
    "            if treat_as_int:\n",
    "                if c_min > np.iinfo(np.int8).min and c_max < np.iinfo(np.int8).max:\n",
    "                    df[col] = df[col].astype(np.int8)\n",
    "                elif c_min > np.iinfo(np.uint8).min and c_max < np.iinfo(np.uint8).max:\n",
    "                    df[col] = df[col].astype(np.uint8)\n",
    "                elif c_min > np.iinfo(np.int16).min and c_max < np.iinfo(np.int16).max:\n",
    "                    df[col] = df[col].astype(np.int16)\n",
    "                elif c_min > np.iinfo(np.uint16).min and c_max < np.iinfo(np.uint16).max:\n",
    "                    df[col] = df[col].astype(np.uint16)\n",
    "                elif c_min > np.iinfo(np.int32).min and c_max < np.iinfo(np.int32).max:\n",
    "                    df[col] = df[col].astype(np.int32)\n",
    "                elif c_min > np.iinfo(np.uint32).min and c_max < np.iinfo(np.uint32).max:\n",
    "                    df[col] = df[col].astype(np.uint32)\n",
    "                elif c_min > np.iinfo(np.int64).min and c_max < np.iinfo(np.int64).max:\n",
    "                    df[col] = df[col].astype(np.int64)\n",
    "                elif c_min > np.iinfo(np.uint64).min and c_max < np.iinfo(np.uint64).max:\n",
    "                    df[col] = df[col].astype(np.uint64)\n",
    "            else:\n",
    "                if c_min > np.finfo(np.float32).min and c_max < np.finfo(np.float32).max:\n",
    "                    df[col] = df[col].astype(np.float32)\n",
    "                else:\n",
    "                    df[col] = df[col].astype(np.float64)\n",
    "        elif 'datetime' not in col_type.name and obj_to_category:\n",
    "            df[col] = df[col].astype('category')\n",
    "    gc.collect()\n",
    "    end_mem = df.memory_usage().sum() / 1024 ** 2\n",
    "    print('Memory usage after optimization is: {:.3f} MB'.format(end_mem))\n",
    "    print('Decreased by {:.1f}%'.format(100 * (start_mem - end_mem) / start_mem))\n",
    "\n",
    "    return df"
   ]
  },
  {
   "cell_type": "code",
   "execution_count": 7,
   "metadata": {
    "ExecuteTime": {
     "end_time": "2021-04-12T14:47:22.650111Z",
     "start_time": "2021-04-12T14:47:18.383111Z"
    }
   },
   "outputs": [
    {
     "data": {
      "text/html": [
       "<div>\n",
       "<style scoped>\n",
       "    .dataframe tbody tr th:only-of-type {\n",
       "        vertical-align: middle;\n",
       "    }\n",
       "\n",
       "    .dataframe tbody tr th {\n",
       "        vertical-align: top;\n",
       "    }\n",
       "\n",
       "    .dataframe thead th {\n",
       "        text-align: right;\n",
       "    }\n",
       "</style>\n",
       "<table border=\"1\" class=\"dataframe\">\n",
       "  <thead>\n",
       "    <tr style=\"text-align: right;\">\n",
       "      <th></th>\n",
       "      <th>Unnamed: 0</th>\n",
       "      <th>loan_amnt</th>\n",
       "      <th>term</th>\n",
       "      <th>int_rate</th>\n",
       "      <th>installment</th>\n",
       "      <th>grade</th>\n",
       "      <th>sub_grade</th>\n",
       "      <th>emp_length</th>\n",
       "      <th>home_ownership</th>\n",
       "      <th>annual_inc</th>\n",
       "      <th>...</th>\n",
       "      <th>mths_since_recent_inq</th>\n",
       "      <th>num_bc_tl</th>\n",
       "      <th>num_il_tl</th>\n",
       "      <th>num_op_rev_tl</th>\n",
       "      <th>pub_rec_bankruptcies</th>\n",
       "      <th>tax_liens</th>\n",
       "      <th>total_bc_limit</th>\n",
       "      <th>total_il_high_credit_limit</th>\n",
       "      <th>average_fico</th>\n",
       "      <th>region</th>\n",
       "    </tr>\n",
       "  </thead>\n",
       "  <tbody>\n",
       "    <tr>\n",
       "      <th>0</th>\n",
       "      <td>0</td>\n",
       "      <td>12000.0</td>\n",
       "      <td>36 months</td>\n",
       "      <td>10.99</td>\n",
       "      <td>392.8</td>\n",
       "      <td>B</td>\n",
       "      <td>B2</td>\n",
       "      <td>4</td>\n",
       "      <td>RENT</td>\n",
       "      <td>60000.0</td>\n",
       "      <td>...</td>\n",
       "      <td>3.0</td>\n",
       "      <td>10.0</td>\n",
       "      <td>0.0</td>\n",
       "      <td>15.0</td>\n",
       "      <td>0.0</td>\n",
       "      <td>0.0</td>\n",
       "      <td>18100.0</td>\n",
       "      <td>0.0</td>\n",
       "      <td>722.0</td>\n",
       "      <td>South</td>\n",
       "    </tr>\n",
       "    <tr>\n",
       "      <th>1</th>\n",
       "      <td>1</td>\n",
       "      <td>4800.0</td>\n",
       "      <td>36 months</td>\n",
       "      <td>10.99</td>\n",
       "      <td>157.1</td>\n",
       "      <td>B</td>\n",
       "      <td>B2</td>\n",
       "      <td>2</td>\n",
       "      <td>MORTGAGE</td>\n",
       "      <td>39600.0</td>\n",
       "      <td>...</td>\n",
       "      <td>3.0</td>\n",
       "      <td>4.0</td>\n",
       "      <td>1.0</td>\n",
       "      <td>3.0</td>\n",
       "      <td>0.0</td>\n",
       "      <td>0.0</td>\n",
       "      <td>25700.0</td>\n",
       "      <td>0.0</td>\n",
       "      <td>757.0</td>\n",
       "      <td>South</td>\n",
       "    </tr>\n",
       "    <tr>\n",
       "      <th>2</th>\n",
       "      <td>2</td>\n",
       "      <td>27060.0</td>\n",
       "      <td>36 months</td>\n",
       "      <td>10.99</td>\n",
       "      <td>885.5</td>\n",
       "      <td>B</td>\n",
       "      <td>B2</td>\n",
       "      <td>10</td>\n",
       "      <td>OWN</td>\n",
       "      <td>55000.0</td>\n",
       "      <td>...</td>\n",
       "      <td>8.0</td>\n",
       "      <td>8.0</td>\n",
       "      <td>8.0</td>\n",
       "      <td>10.0</td>\n",
       "      <td>0.0</td>\n",
       "      <td>0.0</td>\n",
       "      <td>35700.0</td>\n",
       "      <td>33054.0</td>\n",
       "      <td>732.0</td>\n",
       "      <td>Midwest</td>\n",
       "    </tr>\n",
       "    <tr>\n",
       "      <th>3</th>\n",
       "      <td>3</td>\n",
       "      <td>12000.0</td>\n",
       "      <td>36 months</td>\n",
       "      <td>7.62</td>\n",
       "      <td>374.0</td>\n",
       "      <td>A</td>\n",
       "      <td>A3</td>\n",
       "      <td>3</td>\n",
       "      <td>MORTGAGE</td>\n",
       "      <td>96500.0</td>\n",
       "      <td>...</td>\n",
       "      <td>10.0</td>\n",
       "      <td>10.0</td>\n",
       "      <td>15.0</td>\n",
       "      <td>8.0</td>\n",
       "      <td>0.0</td>\n",
       "      <td>0.0</td>\n",
       "      <td>14800.0</td>\n",
       "      <td>53404.0</td>\n",
       "      <td>707.0</td>\n",
       "      <td>South</td>\n",
       "    </tr>\n",
       "    <tr>\n",
       "      <th>4</th>\n",
       "      <td>4</td>\n",
       "      <td>14000.0</td>\n",
       "      <td>36 months</td>\n",
       "      <td>12.85</td>\n",
       "      <td>470.8</td>\n",
       "      <td>B</td>\n",
       "      <td>B4</td>\n",
       "      <td>4</td>\n",
       "      <td>RENT</td>\n",
       "      <td>88000.0</td>\n",
       "      <td>...</td>\n",
       "      <td>0.0</td>\n",
       "      <td>9.0</td>\n",
       "      <td>3.0</td>\n",
       "      <td>4.0</td>\n",
       "      <td>1.0</td>\n",
       "      <td>0.0</td>\n",
       "      <td>3900.0</td>\n",
       "      <td>27340.0</td>\n",
       "      <td>672.0</td>\n",
       "      <td>South</td>\n",
       "    </tr>\n",
       "  </tbody>\n",
       "</table>\n",
       "<p>5 rows × 34 columns</p>\n",
       "</div>"
      ],
      "text/plain": [
       "   Unnamed: 0  loan_amnt        term  int_rate  installment grade sub_grade  \\\n",
       "0           0    12000.0   36 months     10.99        392.8     B        B2   \n",
       "1           1     4800.0   36 months     10.99        157.1     B        B2   \n",
       "2           2    27060.0   36 months     10.99        885.5     B        B2   \n",
       "3           3    12000.0   36 months      7.62        374.0     A        A3   \n",
       "4           4    14000.0   36 months     12.85        470.8     B        B4   \n",
       "\n",
       "   emp_length home_ownership  annual_inc  ... mths_since_recent_inq num_bc_tl  \\\n",
       "0           4           RENT     60000.0  ...                   3.0      10.0   \n",
       "1           2       MORTGAGE     39600.0  ...                   3.0       4.0   \n",
       "2          10            OWN     55000.0  ...                   8.0       8.0   \n",
       "3           3       MORTGAGE     96500.0  ...                  10.0      10.0   \n",
       "4           4           RENT     88000.0  ...                   0.0       9.0   \n",
       "\n",
       "  num_il_tl num_op_rev_tl  pub_rec_bankruptcies  tax_liens total_bc_limit  \\\n",
       "0       0.0          15.0                   0.0        0.0        18100.0   \n",
       "1       1.0           3.0                   0.0        0.0        25700.0   \n",
       "2       8.0          10.0                   0.0        0.0        35700.0   \n",
       "3      15.0           8.0                   0.0        0.0        14800.0   \n",
       "4       3.0           4.0                   1.0        0.0         3900.0   \n",
       "\n",
       "   total_il_high_credit_limit  average_fico   region  \n",
       "0                         0.0         722.0    South  \n",
       "1                         0.0         757.0    South  \n",
       "2                     33054.0         732.0  Midwest  \n",
       "3                     53404.0         707.0    South  \n",
       "4                     27340.0         672.0    South  \n",
       "\n",
       "[5 rows x 34 columns]"
      ]
     },
     "execution_count": 7,
     "metadata": {},
     "output_type": "execute_result"
    }
   ],
   "source": [
    "df = pd.read_csv('data/full_clean')\n",
    "df.head()"
   ]
  },
  {
   "cell_type": "code",
   "execution_count": 8,
   "metadata": {
    "ExecuteTime": {
     "end_time": "2021-04-12T14:47:26.169418Z",
     "start_time": "2021-04-12T14:47:26.155408Z"
    }
   },
   "outputs": [
    {
     "name": "stdout",
     "output_type": "stream",
     "text": [
      "<class 'pandas.core.frame.DataFrame'>\n",
      "RangeIndex: 1736937 entries, 0 to 1736936\n",
      "Data columns (total 34 columns):\n",
      " #   Column                      Dtype  \n",
      "---  ------                      -----  \n",
      " 0   Unnamed: 0                  int64  \n",
      " 1   loan_amnt                   float64\n",
      " 2   term                        object \n",
      " 3   int_rate                    float64\n",
      " 4   installment                 float64\n",
      " 5   grade                       object \n",
      " 6   sub_grade                   object \n",
      " 7   emp_length                  int64  \n",
      " 8   home_ownership              object \n",
      " 9   annual_inc                  float64\n",
      " 10  verification_status         object \n",
      " 11  issue_d                     object \n",
      " 12  loan_status                 object \n",
      " 13  purpose                     object \n",
      " 14  dti                         float64\n",
      " 15  delinq_2yrs                 float64\n",
      " 16  earliest_cr_line            object \n",
      " 17  inq_last_6mths              float64\n",
      " 18  pub_rec                     float64\n",
      " 19  total_acc                   float64\n",
      " 20  application_type            object \n",
      " 21  acc_open_past_24mths        float64\n",
      " 22  delinq_amnt                 float64\n",
      " 23  mort_acc                    float64\n",
      " 24  mths_since_recent_inq       float64\n",
      " 25  num_bc_tl                   float64\n",
      " 26  num_il_tl                   float64\n",
      " 27  num_op_rev_tl               float64\n",
      " 28  pub_rec_bankruptcies        float64\n",
      " 29  tax_liens                   float64\n",
      " 30  total_bc_limit              float64\n",
      " 31  total_il_high_credit_limit  float64\n",
      " 32  average_fico                float64\n",
      " 33  region                      object \n",
      "dtypes: float64(21), int64(2), object(11)\n",
      "memory usage: 450.6+ MB\n"
     ]
    }
   ],
   "source": [
    "df.info()"
   ]
  },
  {
   "cell_type": "code",
   "execution_count": 9,
   "metadata": {
    "ExecuteTime": {
     "end_time": "2021-04-12T14:47:28.771864Z",
     "start_time": "2021-04-12T14:47:28.758865Z"
    }
   },
   "outputs": [],
   "source": [
    "def sigmoid(x):\n",
    "    x = np.array(x)\n",
    "    if x != 0:\n",
    "        sig = 1/(1 + np.e**(-1*x))\n",
    "        return sig\n",
    "    else: \n",
    "        return x"
   ]
  },
  {
   "cell_type": "code",
   "execution_count": 10,
   "metadata": {
    "ExecuteTime": {
     "end_time": "2021-04-12T14:47:31.407868Z",
     "start_time": "2021-04-12T14:47:31.205865Z"
    }
   },
   "outputs": [],
   "source": [
    "df.drop('Unnamed: 0',axis=1,inplace=True)"
   ]
  },
  {
   "cell_type": "code",
   "execution_count": 11,
   "metadata": {
    "ExecuteTime": {
     "end_time": "2021-04-12T14:47:36.485864Z",
     "start_time": "2021-04-12T14:47:34.045869Z"
    }
   },
   "outputs": [
    {
     "name": "stderr",
     "output_type": "stream",
     "text": [
      "\r",
      "  0%|          | 0/33 [00:00<?, ?it/s]"
     ]
    },
    {
     "name": "stdout",
     "output_type": "stream",
     "text": [
      "Memory usage of dataframe is 437.31 MB\n"
     ]
    },
    {
     "name": "stderr",
     "output_type": "stream",
     "text": [
      "100%|██████████| 33/33 [00:01<00:00, 20.30it/s]\n"
     ]
    },
    {
     "name": "stdout",
     "output_type": "stream",
     "text": [
      "Memory usage after optimization is: 286.570 MB\n",
      "Decreased by 34.5%\n"
     ]
    },
    {
     "data": {
      "text/html": [
       "<div>\n",
       "<style scoped>\n",
       "    .dataframe tbody tr th:only-of-type {\n",
       "        vertical-align: middle;\n",
       "    }\n",
       "\n",
       "    .dataframe tbody tr th {\n",
       "        vertical-align: top;\n",
       "    }\n",
       "\n",
       "    .dataframe thead th {\n",
       "        text-align: right;\n",
       "    }\n",
       "</style>\n",
       "<table border=\"1\" class=\"dataframe\">\n",
       "  <thead>\n",
       "    <tr style=\"text-align: right;\">\n",
       "      <th></th>\n",
       "      <th>loan_amnt</th>\n",
       "      <th>term</th>\n",
       "      <th>int_rate</th>\n",
       "      <th>installment</th>\n",
       "      <th>grade</th>\n",
       "      <th>sub_grade</th>\n",
       "      <th>emp_length</th>\n",
       "      <th>home_ownership</th>\n",
       "      <th>annual_inc</th>\n",
       "      <th>verification_status</th>\n",
       "      <th>...</th>\n",
       "      <th>mths_since_recent_inq</th>\n",
       "      <th>num_bc_tl</th>\n",
       "      <th>num_il_tl</th>\n",
       "      <th>num_op_rev_tl</th>\n",
       "      <th>pub_rec_bankruptcies</th>\n",
       "      <th>tax_liens</th>\n",
       "      <th>total_bc_limit</th>\n",
       "      <th>total_il_high_credit_limit</th>\n",
       "      <th>average_fico</th>\n",
       "      <th>region</th>\n",
       "    </tr>\n",
       "  </thead>\n",
       "  <tbody>\n",
       "    <tr>\n",
       "      <th>0</th>\n",
       "      <td>12000.0</td>\n",
       "      <td>36 months</td>\n",
       "      <td>10.99</td>\n",
       "      <td>392.799988</td>\n",
       "      <td>B</td>\n",
       "      <td>B2</td>\n",
       "      <td>4</td>\n",
       "      <td>RENT</td>\n",
       "      <td>60000.0</td>\n",
       "      <td>Not Verified</td>\n",
       "      <td>...</td>\n",
       "      <td>3.0</td>\n",
       "      <td>10.0</td>\n",
       "      <td>0.0</td>\n",
       "      <td>15.0</td>\n",
       "      <td>0.0</td>\n",
       "      <td>0.0</td>\n",
       "      <td>18100.0</td>\n",
       "      <td>0.0</td>\n",
       "      <td>722.0</td>\n",
       "      <td>South</td>\n",
       "    </tr>\n",
       "    <tr>\n",
       "      <th>1</th>\n",
       "      <td>4800.0</td>\n",
       "      <td>36 months</td>\n",
       "      <td>10.99</td>\n",
       "      <td>157.100006</td>\n",
       "      <td>B</td>\n",
       "      <td>B2</td>\n",
       "      <td>2</td>\n",
       "      <td>MORTGAGE</td>\n",
       "      <td>39600.0</td>\n",
       "      <td>Source Verified</td>\n",
       "      <td>...</td>\n",
       "      <td>3.0</td>\n",
       "      <td>4.0</td>\n",
       "      <td>1.0</td>\n",
       "      <td>3.0</td>\n",
       "      <td>0.0</td>\n",
       "      <td>0.0</td>\n",
       "      <td>25700.0</td>\n",
       "      <td>0.0</td>\n",
       "      <td>757.0</td>\n",
       "      <td>South</td>\n",
       "    </tr>\n",
       "    <tr>\n",
       "      <th>2</th>\n",
       "      <td>27060.0</td>\n",
       "      <td>36 months</td>\n",
       "      <td>10.99</td>\n",
       "      <td>885.500000</td>\n",
       "      <td>B</td>\n",
       "      <td>B2</td>\n",
       "      <td>10</td>\n",
       "      <td>OWN</td>\n",
       "      <td>55000.0</td>\n",
       "      <td>Verified</td>\n",
       "      <td>...</td>\n",
       "      <td>8.0</td>\n",
       "      <td>8.0</td>\n",
       "      <td>8.0</td>\n",
       "      <td>10.0</td>\n",
       "      <td>0.0</td>\n",
       "      <td>0.0</td>\n",
       "      <td>35700.0</td>\n",
       "      <td>33054.0</td>\n",
       "      <td>732.0</td>\n",
       "      <td>Midwest</td>\n",
       "    </tr>\n",
       "    <tr>\n",
       "      <th>3</th>\n",
       "      <td>12000.0</td>\n",
       "      <td>36 months</td>\n",
       "      <td>7.62</td>\n",
       "      <td>374.000000</td>\n",
       "      <td>A</td>\n",
       "      <td>A3</td>\n",
       "      <td>3</td>\n",
       "      <td>MORTGAGE</td>\n",
       "      <td>96500.0</td>\n",
       "      <td>Not Verified</td>\n",
       "      <td>...</td>\n",
       "      <td>10.0</td>\n",
       "      <td>10.0</td>\n",
       "      <td>15.0</td>\n",
       "      <td>8.0</td>\n",
       "      <td>0.0</td>\n",
       "      <td>0.0</td>\n",
       "      <td>14800.0</td>\n",
       "      <td>53404.0</td>\n",
       "      <td>707.0</td>\n",
       "      <td>South</td>\n",
       "    </tr>\n",
       "    <tr>\n",
       "      <th>4</th>\n",
       "      <td>14000.0</td>\n",
       "      <td>36 months</td>\n",
       "      <td>12.85</td>\n",
       "      <td>470.799988</td>\n",
       "      <td>B</td>\n",
       "      <td>B4</td>\n",
       "      <td>4</td>\n",
       "      <td>RENT</td>\n",
       "      <td>88000.0</td>\n",
       "      <td>Not Verified</td>\n",
       "      <td>...</td>\n",
       "      <td>0.0</td>\n",
       "      <td>9.0</td>\n",
       "      <td>3.0</td>\n",
       "      <td>4.0</td>\n",
       "      <td>1.0</td>\n",
       "      <td>0.0</td>\n",
       "      <td>3900.0</td>\n",
       "      <td>27340.0</td>\n",
       "      <td>672.0</td>\n",
       "      <td>South</td>\n",
       "    </tr>\n",
       "    <tr>\n",
       "      <th>...</th>\n",
       "      <td>...</td>\n",
       "      <td>...</td>\n",
       "      <td>...</td>\n",
       "      <td>...</td>\n",
       "      <td>...</td>\n",
       "      <td>...</td>\n",
       "      <td>...</td>\n",
       "      <td>...</td>\n",
       "      <td>...</td>\n",
       "      <td>...</td>\n",
       "      <td>...</td>\n",
       "      <td>...</td>\n",
       "      <td>...</td>\n",
       "      <td>...</td>\n",
       "      <td>...</td>\n",
       "      <td>...</td>\n",
       "      <td>...</td>\n",
       "      <td>...</td>\n",
       "      <td>...</td>\n",
       "      <td>...</td>\n",
       "      <td>...</td>\n",
       "    </tr>\n",
       "    <tr>\n",
       "      <th>1736932</th>\n",
       "      <td>24000.0</td>\n",
       "      <td>60 months</td>\n",
       "      <td>23.99</td>\n",
       "      <td>690.500000</td>\n",
       "      <td>E</td>\n",
       "      <td>E2</td>\n",
       "      <td>1</td>\n",
       "      <td>RENT</td>\n",
       "      <td>107000.0</td>\n",
       "      <td>Source Verified</td>\n",
       "      <td>...</td>\n",
       "      <td>4.0</td>\n",
       "      <td>11.0</td>\n",
       "      <td>5.0</td>\n",
       "      <td>12.0</td>\n",
       "      <td>1.0</td>\n",
       "      <td>1.0</td>\n",
       "      <td>28200.0</td>\n",
       "      <td>64422.0</td>\n",
       "      <td>672.0</td>\n",
       "      <td>West</td>\n",
       "    </tr>\n",
       "    <tr>\n",
       "      <th>1736933</th>\n",
       "      <td>10000.0</td>\n",
       "      <td>36 months</td>\n",
       "      <td>7.99</td>\n",
       "      <td>313.200012</td>\n",
       "      <td>A</td>\n",
       "      <td>A5</td>\n",
       "      <td>10</td>\n",
       "      <td>MORTGAGE</td>\n",
       "      <td>65000.0</td>\n",
       "      <td>Source Verified</td>\n",
       "      <td>...</td>\n",
       "      <td>17.0</td>\n",
       "      <td>12.0</td>\n",
       "      <td>4.0</td>\n",
       "      <td>13.0</td>\n",
       "      <td>0.0</td>\n",
       "      <td>0.0</td>\n",
       "      <td>34800.0</td>\n",
       "      <td>70203.0</td>\n",
       "      <td>727.0</td>\n",
       "      <td>Northeast</td>\n",
       "    </tr>\n",
       "    <tr>\n",
       "      <th>1736934</th>\n",
       "      <td>10050.0</td>\n",
       "      <td>36 months</td>\n",
       "      <td>16.99</td>\n",
       "      <td>358.200012</td>\n",
       "      <td>D</td>\n",
       "      <td>D1</td>\n",
       "      <td>8</td>\n",
       "      <td>RENT</td>\n",
       "      <td>37000.0</td>\n",
       "      <td>Not Verified</td>\n",
       "      <td>...</td>\n",
       "      <td>2.0</td>\n",
       "      <td>4.0</td>\n",
       "      <td>3.0</td>\n",
       "      <td>15.0</td>\n",
       "      <td>0.0</td>\n",
       "      <td>0.0</td>\n",
       "      <td>9000.0</td>\n",
       "      <td>0.0</td>\n",
       "      <td>707.0</td>\n",
       "      <td>South</td>\n",
       "    </tr>\n",
       "    <tr>\n",
       "      <th>1736935</th>\n",
       "      <td>6000.0</td>\n",
       "      <td>36 months</td>\n",
       "      <td>11.44</td>\n",
       "      <td>197.800003</td>\n",
       "      <td>B</td>\n",
       "      <td>B4</td>\n",
       "      <td>5</td>\n",
       "      <td>RENT</td>\n",
       "      <td>41000.0</td>\n",
       "      <td>Source Verified</td>\n",
       "      <td>...</td>\n",
       "      <td>10.0</td>\n",
       "      <td>4.0</td>\n",
       "      <td>9.0</td>\n",
       "      <td>6.0</td>\n",
       "      <td>0.0</td>\n",
       "      <td>0.0</td>\n",
       "      <td>8100.0</td>\n",
       "      <td>34076.0</td>\n",
       "      <td>672.0</td>\n",
       "      <td>Northeast</td>\n",
       "    </tr>\n",
       "    <tr>\n",
       "      <th>1736936</th>\n",
       "      <td>30000.0</td>\n",
       "      <td>60 months</td>\n",
       "      <td>25.49</td>\n",
       "      <td>889.000000</td>\n",
       "      <td>E</td>\n",
       "      <td>E4</td>\n",
       "      <td>4</td>\n",
       "      <td>MORTGAGE</td>\n",
       "      <td>105700.0</td>\n",
       "      <td>Verified</td>\n",
       "      <td>...</td>\n",
       "      <td>10.0</td>\n",
       "      <td>3.0</td>\n",
       "      <td>11.0</td>\n",
       "      <td>6.0</td>\n",
       "      <td>0.0</td>\n",
       "      <td>0.0</td>\n",
       "      <td>16000.0</td>\n",
       "      <td>89732.0</td>\n",
       "      <td>697.0</td>\n",
       "      <td>South</td>\n",
       "    </tr>\n",
       "  </tbody>\n",
       "</table>\n",
       "<p>1736937 rows × 33 columns</p>\n",
       "</div>"
      ],
      "text/plain": [
       "         loan_amnt        term  int_rate  installment grade sub_grade  \\\n",
       "0          12000.0   36 months     10.99   392.799988     B        B2   \n",
       "1           4800.0   36 months     10.99   157.100006     B        B2   \n",
       "2          27060.0   36 months     10.99   885.500000     B        B2   \n",
       "3          12000.0   36 months      7.62   374.000000     A        A3   \n",
       "4          14000.0   36 months     12.85   470.799988     B        B4   \n",
       "...            ...         ...       ...          ...   ...       ...   \n",
       "1736932    24000.0   60 months     23.99   690.500000     E        E2   \n",
       "1736933    10000.0   36 months      7.99   313.200012     A        A5   \n",
       "1736934    10050.0   36 months     16.99   358.200012     D        D1   \n",
       "1736935     6000.0   36 months     11.44   197.800003     B        B4   \n",
       "1736936    30000.0   60 months     25.49   889.000000     E        E4   \n",
       "\n",
       "         emp_length home_ownership  annual_inc verification_status  ...  \\\n",
       "0                 4           RENT     60000.0        Not Verified  ...   \n",
       "1                 2       MORTGAGE     39600.0     Source Verified  ...   \n",
       "2                10            OWN     55000.0            Verified  ...   \n",
       "3                 3       MORTGAGE     96500.0        Not Verified  ...   \n",
       "4                 4           RENT     88000.0        Not Verified  ...   \n",
       "...             ...            ...         ...                 ...  ...   \n",
       "1736932           1           RENT    107000.0     Source Verified  ...   \n",
       "1736933          10       MORTGAGE     65000.0     Source Verified  ...   \n",
       "1736934           8           RENT     37000.0        Not Verified  ...   \n",
       "1736935           5           RENT     41000.0     Source Verified  ...   \n",
       "1736936           4       MORTGAGE    105700.0            Verified  ...   \n",
       "\n",
       "        mths_since_recent_inq num_bc_tl num_il_tl  num_op_rev_tl  \\\n",
       "0                         3.0      10.0       0.0           15.0   \n",
       "1                         3.0       4.0       1.0            3.0   \n",
       "2                         8.0       8.0       8.0           10.0   \n",
       "3                        10.0      10.0      15.0            8.0   \n",
       "4                         0.0       9.0       3.0            4.0   \n",
       "...                       ...       ...       ...            ...   \n",
       "1736932                   4.0      11.0       5.0           12.0   \n",
       "1736933                  17.0      12.0       4.0           13.0   \n",
       "1736934                   2.0       4.0       3.0           15.0   \n",
       "1736935                  10.0       4.0       9.0            6.0   \n",
       "1736936                  10.0       3.0      11.0            6.0   \n",
       "\n",
       "         pub_rec_bankruptcies tax_liens  total_bc_limit  \\\n",
       "0                         0.0       0.0         18100.0   \n",
       "1                         0.0       0.0         25700.0   \n",
       "2                         0.0       0.0         35700.0   \n",
       "3                         0.0       0.0         14800.0   \n",
       "4                         1.0       0.0          3900.0   \n",
       "...                       ...       ...             ...   \n",
       "1736932                   1.0       1.0         28200.0   \n",
       "1736933                   0.0       0.0         34800.0   \n",
       "1736934                   0.0       0.0          9000.0   \n",
       "1736935                   0.0       0.0          8100.0   \n",
       "1736936                   0.0       0.0         16000.0   \n",
       "\n",
       "         total_il_high_credit_limit  average_fico     region  \n",
       "0                               0.0         722.0      South  \n",
       "1                               0.0         757.0      South  \n",
       "2                           33054.0         732.0    Midwest  \n",
       "3                           53404.0         707.0      South  \n",
       "4                           27340.0         672.0      South  \n",
       "...                             ...           ...        ...  \n",
       "1736932                     64422.0         672.0       West  \n",
       "1736933                     70203.0         727.0  Northeast  \n",
       "1736934                         0.0         707.0      South  \n",
       "1736935                     34076.0         672.0  Northeast  \n",
       "1736936                     89732.0         697.0      South  \n",
       "\n",
       "[1736937 rows x 33 columns]"
      ]
     },
     "execution_count": 11,
     "metadata": {},
     "output_type": "execute_result"
    }
   ],
   "source": [
    "reduce_mem_usage(df,int_cast=False)"
   ]
  },
  {
   "cell_type": "code",
   "execution_count": null,
   "metadata": {},
   "outputs": [],
   "source": [
    "df.drop(columns=['sub_grade','issue_d','earliest_cr_line','last_pymnt_date'])"
   ]
  },
  {
   "cell_type": "code",
   "execution_count": 12,
   "metadata": {
    "ExecuteTime": {
     "end_time": "2021-04-12T14:47:39.384864Z",
     "start_time": "2021-04-12T14:47:39.369864Z"
    }
   },
   "outputs": [],
   "source": [
    "categorical =['term',\n",
    " 'sub_grade','grade',\n",
    " 'home_ownership',\n",
    " 'verification_status',\n",
    " 'purpose','application_type','region']\n",
    "\n",
    "drop = ['issue_d','earliest_cr_line']\n",
    "cat_drop = ['term',\n",
    " 'sub_grade','grade'\n",
    " 'home_ownership',\n",
    " 'verification_status',\n",
    " 'purpose',\n",
    " 'region','application_type','issue_d','earliest_cr_line']\n",
    "cat_drop1 = ['term',\n",
    " 'sub_grade','grade',\n",
    " 'home_ownership',\n",
    " 'verification_status',\n",
    " 'purpose',\n",
    " 'region','application_type','issue_d','earliest_cr_line','loan_status']"
   ]
  },
  {
   "cell_type": "code",
   "execution_count": 13,
   "metadata": {
    "ExecuteTime": {
     "end_time": "2021-04-12T14:47:43.503900Z",
     "start_time": "2021-04-12T14:47:42.157863Z"
    }
   },
   "outputs": [],
   "source": [
    "onehot = pd.get_dummies(df[categorical],drop_first=True)"
   ]
  },
  {
   "cell_type": "code",
   "execution_count": 14,
   "metadata": {
    "ExecuteTime": {
     "end_time": "2021-04-12T14:47:46.354873Z",
     "start_time": "2021-04-12T14:47:46.293864Z"
    }
   },
   "outputs": [],
   "source": [
    "cont = df.drop(columns=cat_drop1)\n",
    "cont_columns = cont.columns\n",
    "\n"
   ]
  },
  {
   "cell_type": "code",
   "execution_count": 15,
   "metadata": {
    "ExecuteTime": {
     "end_time": "2021-04-12T08:23:45.037430Z",
     "start_time": "2021-04-12T08:23:44.946394Z"
    }
   },
   "outputs": [
    {
     "name": "stdout",
     "output_type": "stream",
     "text": [
      "<class 'pandas.core.frame.DataFrame'>\n",
      "RangeIndex: 1736937 entries, 0 to 1736936\n",
      "Data columns (total 22 columns):\n",
      " #   Column                      Dtype  \n",
      "---  ------                      -----  \n",
      " 0   loan_amnt                   float32\n",
      " 1   int_rate                    float32\n",
      " 2   installment                 float32\n",
      " 3   emp_length                  int8   \n",
      " 4   annual_inc                  float32\n",
      " 5   dti                         float32\n",
      " 6   delinq_2yrs                 float32\n",
      " 7   inq_last_6mths              float32\n",
      " 8   pub_rec                     float32\n",
      " 9   total_acc                   float32\n",
      " 10  acc_open_past_24mths        float32\n",
      " 11  delinq_amnt                 float32\n",
      " 12  mort_acc                    float32\n",
      " 13  mths_since_recent_inq       float32\n",
      " 14  num_bc_tl                   float32\n",
      " 15  num_il_tl                   float32\n",
      " 16  num_op_rev_tl               float32\n",
      " 17  pub_rec_bankruptcies        float32\n",
      " 18  tax_liens                   float32\n",
      " 19  total_bc_limit              float32\n",
      " 20  total_il_high_credit_limit  float32\n",
      " 21  average_fico                float32\n",
      "dtypes: float32(21), int8(1)\n",
      "memory usage: 140.8 MB\n"
     ]
    }
   ],
   "source": [
    "df[cont_columns].info()"
   ]
  },
  {
   "cell_type": "code",
   "execution_count": null,
   "metadata": {},
   "outputs": [],
   "source": []
  },
  {
   "cell_type": "code",
   "execution_count": 16,
   "metadata": {
    "ExecuteTime": {
     "end_time": "2021-04-12T08:23:48.174414Z",
     "start_time": "2021-04-12T08:23:47.813431Z"
    }
   },
   "outputs": [],
   "source": [
    "z_scores = stats.zscore(df[cont_columns])"
   ]
  },
  {
   "cell_type": "code",
   "execution_count": 17,
   "metadata": {
    "ExecuteTime": {
     "end_time": "2021-04-12T08:23:51.255386Z",
     "start_time": "2021-04-12T08:23:51.177430Z"
    }
   },
   "outputs": [],
   "source": [
    "abs_z_scores = np.abs(z_scores)\n",
    "filtered_entries = (abs_z_scores < 3).all(axis=1)"
   ]
  },
  {
   "cell_type": "code",
   "execution_count": null,
   "metadata": {},
   "outputs": [],
   "source": [
    "df[(np.abs(stats.zscore(df)) < 3).all(axis=1)]"
   ]
  },
  {
   "cell_type": "code",
   "execution_count": 15,
   "metadata": {
    "ExecuteTime": {
     "end_time": "2021-04-12T14:47:56.904276Z",
     "start_time": "2021-04-12T14:47:56.253114Z"
    }
   },
   "outputs": [],
   "source": [
    "df_cont_z = df[(np.abs(stats.zscore(df[cont_columns]))<3).all(axis=1)]"
   ]
  },
  {
   "cell_type": "code",
   "execution_count": 16,
   "metadata": {
    "ExecuteTime": {
     "end_time": "2021-04-12T14:48:02.727108Z",
     "start_time": "2021-04-12T14:48:02.488112Z"
    }
   },
   "outputs": [],
   "source": [
    "z_score_df = df.loc[df_cont_z.index]"
   ]
  },
  {
   "cell_type": "code",
   "execution_count": 242,
   "metadata": {
    "ExecuteTime": {
     "end_time": "2021-04-12T05:01:17.783066Z",
     "start_time": "2021-04-12T05:01:17.770318Z"
    }
   },
   "outputs": [
    {
     "data": {
      "text/plain": [
       "0.16504628550143155"
      ]
     },
     "execution_count": 242,
     "metadata": {},
     "output_type": "execute_result"
    }
   ],
   "source": [
    "(1736937 - 1450262)/1736937"
   ]
  },
  {
   "cell_type": "code",
   "execution_count": 240,
   "metadata": {
    "ExecuteTime": {
     "end_time": "2021-04-12T05:00:39.986888Z",
     "start_time": "2021-04-12T05:00:39.974858Z"
    }
   },
   "outputs": [
    {
     "data": {
      "text/plain": [
       "1450262"
      ]
     },
     "execution_count": 240,
     "metadata": {},
     "output_type": "execute_result"
    }
   ],
   "source": [
    "len(z_score_df)"
   ]
  },
  {
   "cell_type": "code",
   "execution_count": 235,
   "metadata": {
    "ExecuteTime": {
     "end_time": "2021-04-12T04:58:35.948542Z",
     "start_time": "2021-04-12T04:58:35.934572Z"
    }
   },
   "outputs": [
    {
     "data": {
      "text/plain": [
       "Int64Index([      0,       1,       2,       3,       4,       5,       6,\n",
       "                  7,       9,      10,\n",
       "            ...\n",
       "            1736923, 1736924, 1736925, 1736926, 1736930, 1736931, 1736933,\n",
       "            1736934, 1736935, 1736936],\n",
       "           dtype='int64', length=1450262)"
      ]
     },
     "execution_count": 235,
     "metadata": {},
     "output_type": "execute_result"
    }
   ],
   "source": [
    "df_cont_z.index"
   ]
  },
  {
   "cell_type": "code",
   "execution_count": 18,
   "metadata": {
    "ExecuteTime": {
     "end_time": "2021-04-12T14:48:19.361990Z",
     "start_time": "2021-04-12T14:48:18.301109Z"
    }
   },
   "outputs": [],
   "source": [
    "onehot_z = pd.get_dummies(z_score_df[categorical],drop_first=True)"
   ]
  },
  {
   "cell_type": "code",
   "execution_count": 19,
   "metadata": {
    "ExecuteTime": {
     "end_time": "2021-04-12T14:48:27.100815Z",
     "start_time": "2021-04-12T14:48:27.024821Z"
    }
   },
   "outputs": [],
   "source": [
    "cont_z = z_score_df.drop(columns=cat_drop1)\n"
   ]
  },
  {
   "cell_type": "code",
   "execution_count": 21,
   "metadata": {
    "ExecuteTime": {
     "end_time": "2021-04-12T14:48:41.970170Z",
     "start_time": "2021-04-12T14:48:41.461140Z"
    }
   },
   "outputs": [],
   "source": [
    "xz= pd.concat([cont_z,onehot_z],axis=1)\n",
    "yz= z_score_df['loan_status'].map(lambda x: 1 if x== \"Charged Off\" else 0)"
   ]
  },
  {
   "cell_type": "code",
   "execution_count": 23,
   "metadata": {
    "ExecuteTime": {
     "end_time": "2021-04-12T14:49:01.158851Z",
     "start_time": "2021-04-12T14:49:01.144820Z"
    }
   },
   "outputs": [
    {
     "data": {
      "text/plain": [
       "0    0.808111\n",
       "1    0.191889\n",
       "Name: loan_status, dtype: float64"
      ]
     },
     "execution_count": 23,
     "metadata": {},
     "output_type": "execute_result"
    }
   ],
   "source": [
    "yz.value_counts(normalize=True)"
   ]
  },
  {
   "cell_type": "code",
   "execution_count": 263,
   "metadata": {
    "ExecuteTime": {
     "end_time": "2021-04-12T07:04:55.011947Z",
     "start_time": "2021-04-12T07:04:54.981945Z"
    }
   },
   "outputs": [
    {
     "data": {
      "text/plain": [
       "1    820914\n",
       "0    820914\n",
       "Name: loan_status, dtype: int64"
      ]
     },
     "execution_count": 263,
     "metadata": {},
     "output_type": "execute_result"
    }
   ],
   "source": [
    "y_smote_z.value_counts()"
   ]
  },
  {
   "cell_type": "code",
   "execution_count": 254,
   "metadata": {
    "ExecuteTime": {
     "end_time": "2021-04-12T06:32:23.663265Z",
     "start_time": "2021-04-12T05:11:08.122704Z"
    }
   },
   "outputs": [],
   "source": [
    "smote= SMOTENC(categorical_features=cat_index)\n",
    "x_smote_z,y_smote_z = smote.fit_sample(x_train_z,y_train_z)"
   ]
  },
  {
   "cell_type": "code",
   "execution_count": 255,
   "metadata": {
    "ExecuteTime": {
     "end_time": "2021-04-12T06:57:01.466859Z",
     "start_time": "2021-04-12T06:56:20.271856Z"
    }
   },
   "outputs": [],
   "source": [
    "x_smote_z.to_csv('data/x_smote_z')\n",
    "y_smote_z.to_csv('data/y_smote_z')"
   ]
  },
  {
   "cell_type": "code",
   "execution_count": 24,
   "metadata": {
    "ExecuteTime": {
     "end_time": "2021-04-12T14:49:18.833706Z",
     "start_time": "2021-04-12T14:49:12.412747Z"
    }
   },
   "outputs": [],
   "source": [
    "x_smote_z = pd.read_csv('data/x_smote_z')\n",
    "y_smote_z = pd.read_csv('data/y_smote_z')"
   ]
  },
  {
   "cell_type": "code",
   "execution_count": null,
   "metadata": {},
   "outputs": [],
   "source": []
  },
  {
   "cell_type": "code",
   "execution_count": 35,
   "metadata": {
    "ExecuteTime": {
     "end_time": "2021-04-12T14:53:44.161138Z",
     "start_time": "2021-04-12T14:53:31.525142Z"
    }
   },
   "outputs": [
    {
     "name": "stderr",
     "output_type": "stream",
     "text": [
      "\r",
      "  0%|          | 0/88 [00:00<?, ?it/s]"
     ]
    },
    {
     "name": "stdout",
     "output_type": "stream",
     "text": [
      "Memory usage of dataframe is 1102.30 MB\n"
     ]
    },
    {
     "name": "stderr",
     "output_type": "stream",
     "text": [
      "100%|██████████| 88/88 [00:12<00:00,  7.27it/s]\n"
     ]
    },
    {
     "name": "stdout",
     "output_type": "stream",
     "text": [
      "Memory usage after optimization is: 241.129 MB\n",
      "Decreased by 78.1%\n"
     ]
    },
    {
     "data": {
      "text/html": [
       "<div>\n",
       "<style scoped>\n",
       "    .dataframe tbody tr th:only-of-type {\n",
       "        vertical-align: middle;\n",
       "    }\n",
       "\n",
       "    .dataframe tbody tr th {\n",
       "        vertical-align: top;\n",
       "    }\n",
       "\n",
       "    .dataframe thead th {\n",
       "        text-align: right;\n",
       "    }\n",
       "</style>\n",
       "<table border=\"1\" class=\"dataframe\">\n",
       "  <thead>\n",
       "    <tr style=\"text-align: right;\">\n",
       "      <th></th>\n",
       "      <th>Unnamed: 0</th>\n",
       "      <th>loan_amnt</th>\n",
       "      <th>int_rate</th>\n",
       "      <th>installment</th>\n",
       "      <th>emp_length</th>\n",
       "      <th>annual_inc</th>\n",
       "      <th>dti</th>\n",
       "      <th>delinq_2yrs</th>\n",
       "      <th>inq_last_6mths</th>\n",
       "      <th>pub_rec</th>\n",
       "      <th>...</th>\n",
       "      <th>purpose_moving</th>\n",
       "      <th>purpose_other</th>\n",
       "      <th>purpose_renewable_energy</th>\n",
       "      <th>purpose_small_business</th>\n",
       "      <th>purpose_vacation</th>\n",
       "      <th>purpose_wedding</th>\n",
       "      <th>application_type_Joint App</th>\n",
       "      <th>region_Northeast</th>\n",
       "      <th>region_South</th>\n",
       "      <th>region_West</th>\n",
       "    </tr>\n",
       "  </thead>\n",
       "  <tbody>\n",
       "    <tr>\n",
       "      <th>0</th>\n",
       "      <td>0</td>\n",
       "      <td>6400.000000</td>\n",
       "      <td>6.030000</td>\n",
       "      <td>194.800003</td>\n",
       "      <td>3</td>\n",
       "      <td>71680.000000</td>\n",
       "      <td>19.549999</td>\n",
       "      <td>0.0</td>\n",
       "      <td>0.000000</td>\n",
       "      <td>0.000000</td>\n",
       "      <td>...</td>\n",
       "      <td>0</td>\n",
       "      <td>0</td>\n",
       "      <td>0</td>\n",
       "      <td>0</td>\n",
       "      <td>0</td>\n",
       "      <td>0</td>\n",
       "      <td>0</td>\n",
       "      <td>1</td>\n",
       "      <td>0</td>\n",
       "      <td>0</td>\n",
       "    </tr>\n",
       "    <tr>\n",
       "      <th>1</th>\n",
       "      <td>1</td>\n",
       "      <td>16000.000000</td>\n",
       "      <td>11.490000</td>\n",
       "      <td>527.500000</td>\n",
       "      <td>5</td>\n",
       "      <td>85000.000000</td>\n",
       "      <td>39.400002</td>\n",
       "      <td>0.0</td>\n",
       "      <td>1.000000</td>\n",
       "      <td>0.000000</td>\n",
       "      <td>...</td>\n",
       "      <td>0</td>\n",
       "      <td>0</td>\n",
       "      <td>0</td>\n",
       "      <td>0</td>\n",
       "      <td>0</td>\n",
       "      <td>0</td>\n",
       "      <td>1</td>\n",
       "      <td>0</td>\n",
       "      <td>1</td>\n",
       "      <td>0</td>\n",
       "    </tr>\n",
       "    <tr>\n",
       "      <th>2</th>\n",
       "      <td>2</td>\n",
       "      <td>8500.000000</td>\n",
       "      <td>15.610000</td>\n",
       "      <td>297.200012</td>\n",
       "      <td>1</td>\n",
       "      <td>93000.000000</td>\n",
       "      <td>3.380000</td>\n",
       "      <td>0.0</td>\n",
       "      <td>1.000000</td>\n",
       "      <td>0.000000</td>\n",
       "      <td>...</td>\n",
       "      <td>0</td>\n",
       "      <td>0</td>\n",
       "      <td>0</td>\n",
       "      <td>0</td>\n",
       "      <td>0</td>\n",
       "      <td>0</td>\n",
       "      <td>0</td>\n",
       "      <td>0</td>\n",
       "      <td>0</td>\n",
       "      <td>1</td>\n",
       "    </tr>\n",
       "    <tr>\n",
       "      <th>3</th>\n",
       "      <td>3</td>\n",
       "      <td>5000.000000</td>\n",
       "      <td>15.020000</td>\n",
       "      <td>173.399994</td>\n",
       "      <td>10</td>\n",
       "      <td>39000.000000</td>\n",
       "      <td>26.219999</td>\n",
       "      <td>0.0</td>\n",
       "      <td>0.000000</td>\n",
       "      <td>0.000000</td>\n",
       "      <td>...</td>\n",
       "      <td>0</td>\n",
       "      <td>0</td>\n",
       "      <td>0</td>\n",
       "      <td>0</td>\n",
       "      <td>0</td>\n",
       "      <td>0</td>\n",
       "      <td>0</td>\n",
       "      <td>0</td>\n",
       "      <td>1</td>\n",
       "      <td>0</td>\n",
       "    </tr>\n",
       "    <tr>\n",
       "      <th>4</th>\n",
       "      <td>4</td>\n",
       "      <td>9000.000000</td>\n",
       "      <td>6.990000</td>\n",
       "      <td>277.799988</td>\n",
       "      <td>10</td>\n",
       "      <td>46000.000000</td>\n",
       "      <td>12.420000</td>\n",
       "      <td>0.0</td>\n",
       "      <td>0.000000</td>\n",
       "      <td>0.000000</td>\n",
       "      <td>...</td>\n",
       "      <td>0</td>\n",
       "      <td>0</td>\n",
       "      <td>0</td>\n",
       "      <td>0</td>\n",
       "      <td>0</td>\n",
       "      <td>0</td>\n",
       "      <td>0</td>\n",
       "      <td>0</td>\n",
       "      <td>0</td>\n",
       "      <td>1</td>\n",
       "    </tr>\n",
       "    <tr>\n",
       "      <th>...</th>\n",
       "      <td>...</td>\n",
       "      <td>...</td>\n",
       "      <td>...</td>\n",
       "      <td>...</td>\n",
       "      <td>...</td>\n",
       "      <td>...</td>\n",
       "      <td>...</td>\n",
       "      <td>...</td>\n",
       "      <td>...</td>\n",
       "      <td>...</td>\n",
       "      <td>...</td>\n",
       "      <td>...</td>\n",
       "      <td>...</td>\n",
       "      <td>...</td>\n",
       "      <td>...</td>\n",
       "      <td>...</td>\n",
       "      <td>...</td>\n",
       "      <td>...</td>\n",
       "      <td>...</td>\n",
       "      <td>...</td>\n",
       "      <td>...</td>\n",
       "    </tr>\n",
       "    <tr>\n",
       "      <th>1641823</th>\n",
       "      <td>1641823</td>\n",
       "      <td>25083.533203</td>\n",
       "      <td>12.241467</td>\n",
       "      <td>836.761780</td>\n",
       "      <td>1</td>\n",
       "      <td>99807.968750</td>\n",
       "      <td>18.345182</td>\n",
       "      <td>0.0</td>\n",
       "      <td>0.192029</td>\n",
       "      <td>0.903985</td>\n",
       "      <td>...</td>\n",
       "      <td>0</td>\n",
       "      <td>0</td>\n",
       "      <td>0</td>\n",
       "      <td>0</td>\n",
       "      <td>0</td>\n",
       "      <td>0</td>\n",
       "      <td>0</td>\n",
       "      <td>0</td>\n",
       "      <td>0</td>\n",
       "      <td>0</td>\n",
       "    </tr>\n",
       "    <tr>\n",
       "      <th>1641824</th>\n",
       "      <td>1641824</td>\n",
       "      <td>18885.734375</td>\n",
       "      <td>21.542681</td>\n",
       "      <td>541.660889</td>\n",
       "      <td>5</td>\n",
       "      <td>42881.417969</td>\n",
       "      <td>13.569408</td>\n",
       "      <td>0.0</td>\n",
       "      <td>1.762834</td>\n",
       "      <td>0.118583</td>\n",
       "      <td>...</td>\n",
       "      <td>0</td>\n",
       "      <td>0</td>\n",
       "      <td>0</td>\n",
       "      <td>0</td>\n",
       "      <td>0</td>\n",
       "      <td>0</td>\n",
       "      <td>0</td>\n",
       "      <td>0</td>\n",
       "      <td>0</td>\n",
       "      <td>0</td>\n",
       "    </tr>\n",
       "    <tr>\n",
       "      <th>1641825</th>\n",
       "      <td>1641825</td>\n",
       "      <td>7614.354980</td>\n",
       "      <td>9.777097</td>\n",
       "      <td>245.245361</td>\n",
       "      <td>7</td>\n",
       "      <td>50618.816406</td>\n",
       "      <td>11.264113</td>\n",
       "      <td>0.0</td>\n",
       "      <td>1.000000</td>\n",
       "      <td>0.618817</td>\n",
       "      <td>...</td>\n",
       "      <td>0</td>\n",
       "      <td>0</td>\n",
       "      <td>0</td>\n",
       "      <td>0</td>\n",
       "      <td>0</td>\n",
       "      <td>0</td>\n",
       "      <td>0</td>\n",
       "      <td>0</td>\n",
       "      <td>0</td>\n",
       "      <td>0</td>\n",
       "    </tr>\n",
       "    <tr>\n",
       "      <th>1641826</th>\n",
       "      <td>1641826</td>\n",
       "      <td>14587.939453</td>\n",
       "      <td>18.977655</td>\n",
       "      <td>378.189972</td>\n",
       "      <td>1</td>\n",
       "      <td>40000.000000</td>\n",
       "      <td>22.618299</td>\n",
       "      <td>0.0</td>\n",
       "      <td>0.000000</td>\n",
       "      <td>0.000000</td>\n",
       "      <td>...</td>\n",
       "      <td>0</td>\n",
       "      <td>0</td>\n",
       "      <td>0</td>\n",
       "      <td>0</td>\n",
       "      <td>0</td>\n",
       "      <td>0</td>\n",
       "      <td>0</td>\n",
       "      <td>0</td>\n",
       "      <td>0</td>\n",
       "      <td>0</td>\n",
       "    </tr>\n",
       "    <tr>\n",
       "      <th>1641827</th>\n",
       "      <td>1641827</td>\n",
       "      <td>22657.429688</td>\n",
       "      <td>17.015413</td>\n",
       "      <td>742.199219</td>\n",
       "      <td>10</td>\n",
       "      <td>109254.125000</td>\n",
       "      <td>19.600517</td>\n",
       "      <td>0.0</td>\n",
       "      <td>1.491745</td>\n",
       "      <td>0.000000</td>\n",
       "      <td>...</td>\n",
       "      <td>0</td>\n",
       "      <td>0</td>\n",
       "      <td>0</td>\n",
       "      <td>0</td>\n",
       "      <td>0</td>\n",
       "      <td>0</td>\n",
       "      <td>0</td>\n",
       "      <td>0</td>\n",
       "      <td>0</td>\n",
       "      <td>1</td>\n",
       "    </tr>\n",
       "  </tbody>\n",
       "</table>\n",
       "<p>1641828 rows × 88 columns</p>\n",
       "</div>"
      ],
      "text/plain": [
       "         Unnamed: 0     loan_amnt   int_rate  installment  emp_length  \\\n",
       "0                 0   6400.000000   6.030000   194.800003           3   \n",
       "1                 1  16000.000000  11.490000   527.500000           5   \n",
       "2                 2   8500.000000  15.610000   297.200012           1   \n",
       "3                 3   5000.000000  15.020000   173.399994          10   \n",
       "4                 4   9000.000000   6.990000   277.799988          10   \n",
       "...             ...           ...        ...          ...         ...   \n",
       "1641823     1641823  25083.533203  12.241467   836.761780           1   \n",
       "1641824     1641824  18885.734375  21.542681   541.660889           5   \n",
       "1641825     1641825   7614.354980   9.777097   245.245361           7   \n",
       "1641826     1641826  14587.939453  18.977655   378.189972           1   \n",
       "1641827     1641827  22657.429688  17.015413   742.199219          10   \n",
       "\n",
       "            annual_inc        dti  delinq_2yrs  inq_last_6mths   pub_rec  ...  \\\n",
       "0         71680.000000  19.549999          0.0        0.000000  0.000000  ...   \n",
       "1         85000.000000  39.400002          0.0        1.000000  0.000000  ...   \n",
       "2         93000.000000   3.380000          0.0        1.000000  0.000000  ...   \n",
       "3         39000.000000  26.219999          0.0        0.000000  0.000000  ...   \n",
       "4         46000.000000  12.420000          0.0        0.000000  0.000000  ...   \n",
       "...                ...        ...          ...             ...       ...  ...   \n",
       "1641823   99807.968750  18.345182          0.0        0.192029  0.903985  ...   \n",
       "1641824   42881.417969  13.569408          0.0        1.762834  0.118583  ...   \n",
       "1641825   50618.816406  11.264113          0.0        1.000000  0.618817  ...   \n",
       "1641826   40000.000000  22.618299          0.0        0.000000  0.000000  ...   \n",
       "1641827  109254.125000  19.600517          0.0        1.491745  0.000000  ...   \n",
       "\n",
       "         purpose_moving  purpose_other  purpose_renewable_energy  \\\n",
       "0                     0              0                         0   \n",
       "1                     0              0                         0   \n",
       "2                     0              0                         0   \n",
       "3                     0              0                         0   \n",
       "4                     0              0                         0   \n",
       "...                 ...            ...                       ...   \n",
       "1641823               0              0                         0   \n",
       "1641824               0              0                         0   \n",
       "1641825               0              0                         0   \n",
       "1641826               0              0                         0   \n",
       "1641827               0              0                         0   \n",
       "\n",
       "         purpose_small_business  purpose_vacation  purpose_wedding  \\\n",
       "0                             0                 0                0   \n",
       "1                             0                 0                0   \n",
       "2                             0                 0                0   \n",
       "3                             0                 0                0   \n",
       "4                             0                 0                0   \n",
       "...                         ...               ...              ...   \n",
       "1641823                       0                 0                0   \n",
       "1641824                       0                 0                0   \n",
       "1641825                       0                 0                0   \n",
       "1641826                       0                 0                0   \n",
       "1641827                       0                 0                0   \n",
       "\n",
       "         application_type_Joint App  region_Northeast  region_South  \\\n",
       "0                                 0                 1             0   \n",
       "1                                 1                 0             1   \n",
       "2                                 0                 0             0   \n",
       "3                                 0                 0             1   \n",
       "4                                 0                 0             0   \n",
       "...                             ...               ...           ...   \n",
       "1641823                           0                 0             0   \n",
       "1641824                           0                 0             0   \n",
       "1641825                           0                 0             0   \n",
       "1641826                           0                 0             0   \n",
       "1641827                           0                 0             0   \n",
       "\n",
       "         region_West  \n",
       "0                  0  \n",
       "1                  0  \n",
       "2                  1  \n",
       "3                  0  \n",
       "4                  1  \n",
       "...              ...  \n",
       "1641823            0  \n",
       "1641824            0  \n",
       "1641825            0  \n",
       "1641826            0  \n",
       "1641827            1  \n",
       "\n",
       "[1641828 rows x 88 columns]"
      ]
     },
     "execution_count": 35,
     "metadata": {},
     "output_type": "execute_result"
    }
   ],
   "source": [
    "reduce_mem_usage(x_smote_z,int_cast=False)"
   ]
  },
  {
   "cell_type": "code",
   "execution_count": 39,
   "metadata": {
    "ExecuteTime": {
     "end_time": "2021-04-12T14:55:29.326963Z",
     "start_time": "2021-04-12T14:55:28.900965Z"
    }
   },
   "outputs": [],
   "source": [
    "x_smote_z.drop('Unnamed: 0',axis=1,inplace=True)"
   ]
  },
  {
   "cell_type": "code",
   "execution_count": null,
   "metadata": {},
   "outputs": [],
   "source": []
  },
  {
   "cell_type": "code",
   "execution_count": 40,
   "metadata": {
    "ExecuteTime": {
     "end_time": "2021-04-12T14:56:04.025059Z",
     "start_time": "2021-04-12T14:56:03.660069Z"
    },
    "scrolled": true
   },
   "outputs": [
    {
     "name": "stdout",
     "output_type": "stream",
     "text": [
      "<class 'pandas.core.frame.DataFrame'>\n",
      "RangeIndex: 1641828 entries, 0 to 1641827\n",
      "Data columns (total 87 columns):\n",
      " #   Column                               Non-Null Count    Dtype  \n",
      "---  ------                               --------------    -----  \n",
      " 0   loan_amnt                            1641828 non-null  float32\n",
      " 1   int_rate                             1641828 non-null  float32\n",
      " 2   installment                          1641828 non-null  float32\n",
      " 3   emp_length                           1641828 non-null  int8   \n",
      " 4   annual_inc                           1641828 non-null  float32\n",
      " 5   dti                                  1641828 non-null  float32\n",
      " 6   delinq_2yrs                          1641828 non-null  float32\n",
      " 7   inq_last_6mths                       1641828 non-null  float32\n",
      " 8   pub_rec                              1641828 non-null  float32\n",
      " 9   total_acc                            1641828 non-null  float32\n",
      " 10  acc_open_past_24mths                 1641828 non-null  float32\n",
      " 11  delinq_amnt                          1641828 non-null  float32\n",
      " 12  mort_acc                             1641828 non-null  float32\n",
      " 13  mths_since_recent_inq                1641828 non-null  float32\n",
      " 14  num_bc_tl                            1641828 non-null  float32\n",
      " 15  num_il_tl                            1641828 non-null  float32\n",
      " 16  num_op_rev_tl                        1641828 non-null  float32\n",
      " 17  pub_rec_bankruptcies                 1641828 non-null  float32\n",
      " 18  tax_liens                            1641828 non-null  float32\n",
      " 19  total_bc_limit                       1641828 non-null  float32\n",
      " 20  total_il_high_credit_limit           1641828 non-null  float32\n",
      " 21  average_fico                         1641828 non-null  float32\n",
      " 22  term_ 60 months                      1641828 non-null  int8   \n",
      " 23  sub_grade_A2                         1641828 non-null  int8   \n",
      " 24  sub_grade_A3                         1641828 non-null  int8   \n",
      " 25  sub_grade_A4                         1641828 non-null  int8   \n",
      " 26  sub_grade_A5                         1641828 non-null  int8   \n",
      " 27  sub_grade_B1                         1641828 non-null  int8   \n",
      " 28  sub_grade_B2                         1641828 non-null  int8   \n",
      " 29  sub_grade_B3                         1641828 non-null  int8   \n",
      " 30  sub_grade_B4                         1641828 non-null  int8   \n",
      " 31  sub_grade_B5                         1641828 non-null  int8   \n",
      " 32  sub_grade_C1                         1641828 non-null  int8   \n",
      " 33  sub_grade_C2                         1641828 non-null  int8   \n",
      " 34  sub_grade_C3                         1641828 non-null  int8   \n",
      " 35  sub_grade_C4                         1641828 non-null  int8   \n",
      " 36  sub_grade_C5                         1641828 non-null  int8   \n",
      " 37  sub_grade_D1                         1641828 non-null  int8   \n",
      " 38  sub_grade_D2                         1641828 non-null  int8   \n",
      " 39  sub_grade_D3                         1641828 non-null  int8   \n",
      " 40  sub_grade_D4                         1641828 non-null  int8   \n",
      " 41  sub_grade_D5                         1641828 non-null  int8   \n",
      " 42  sub_grade_E1                         1641828 non-null  int8   \n",
      " 43  sub_grade_E2                         1641828 non-null  int8   \n",
      " 44  sub_grade_E3                         1641828 non-null  int8   \n",
      " 45  sub_grade_E4                         1641828 non-null  int8   \n",
      " 46  sub_grade_E5                         1641828 non-null  int8   \n",
      " 47  sub_grade_F1                         1641828 non-null  int8   \n",
      " 48  sub_grade_F2                         1641828 non-null  int8   \n",
      " 49  sub_grade_F3                         1641828 non-null  int8   \n",
      " 50  sub_grade_F4                         1641828 non-null  int8   \n",
      " 51  sub_grade_F5                         1641828 non-null  int8   \n",
      " 52  sub_grade_G1                         1641828 non-null  int8   \n",
      " 53  sub_grade_G2                         1641828 non-null  int8   \n",
      " 54  sub_grade_G3                         1641828 non-null  int8   \n",
      " 55  sub_grade_G4                         1641828 non-null  int8   \n",
      " 56  sub_grade_G5                         1641828 non-null  int8   \n",
      " 57  grade_B                              1641828 non-null  int8   \n",
      " 58  grade_C                              1641828 non-null  int8   \n",
      " 59  grade_D                              1641828 non-null  int8   \n",
      " 60  grade_E                              1641828 non-null  int8   \n",
      " 61  grade_F                              1641828 non-null  int8   \n",
      " 62  grade_G                              1641828 non-null  int8   \n",
      " 63  home_ownership_MORTGAGE              1641828 non-null  int8   \n",
      " 64  home_ownership_NONE                  1641828 non-null  int8   \n",
      " 65  home_ownership_OTHER                 1641828 non-null  int8   \n",
      " 66  home_ownership_OWN                   1641828 non-null  int8   \n",
      " 67  home_ownership_RENT                  1641828 non-null  int8   \n",
      " 68  verification_status_Source Verified  1641828 non-null  int8   \n",
      " 69  verification_status_Verified         1641828 non-null  int8   \n",
      " 70  purpose_credit_card                  1641828 non-null  int8   \n",
      " 71  purpose_debt_consolidation           1641828 non-null  int8   \n",
      " 72  purpose_educational                  1641828 non-null  int8   \n",
      " 73  purpose_home_improvement             1641828 non-null  int8   \n",
      " 74  purpose_house                        1641828 non-null  int8   \n",
      " 75  purpose_major_purchase               1641828 non-null  int8   \n",
      " 76  purpose_medical                      1641828 non-null  int8   \n",
      " 77  purpose_moving                       1641828 non-null  int8   \n",
      " 78  purpose_other                        1641828 non-null  int8   \n",
      " 79  purpose_renewable_energy             1641828 non-null  int8   \n",
      " 80  purpose_small_business               1641828 non-null  int8   \n",
      " 81  purpose_vacation                     1641828 non-null  int8   \n",
      " 82  purpose_wedding                      1641828 non-null  int8   \n",
      " 83  application_type_Joint App           1641828 non-null  int8   \n",
      " 84  region_Northeast                     1641828 non-null  int8   \n",
      " 85  region_South                         1641828 non-null  int8   \n",
      " 86  region_West                          1641828 non-null  int8   \n",
      "dtypes: float32(21), int8(66)\n",
      "memory usage: 234.9 MB\n"
     ]
    }
   ],
   "source": [
    "x_smote_z.info()"
   ]
  },
  {
   "cell_type": "code",
   "execution_count": 36,
   "metadata": {
    "ExecuteTime": {
     "end_time": "2021-04-12T14:54:06.794719Z",
     "start_time": "2021-04-12T14:54:06.517763Z"
    }
   },
   "outputs": [
    {
     "name": "stderr",
     "output_type": "stream",
     "text": [
      "100%|██████████| 2/2 [00:00<00:00, 86.95it/s]"
     ]
    },
    {
     "name": "stdout",
     "output_type": "stream",
     "text": [
      "Memory usage of dataframe is 25.05 MB\n",
      "Memory usage after optimization is: 7.829 MB\n",
      "Decreased by 68.7%\n"
     ]
    },
    {
     "name": "stderr",
     "output_type": "stream",
     "text": [
      "\n"
     ]
    },
    {
     "data": {
      "text/html": [
       "<div>\n",
       "<style scoped>\n",
       "    .dataframe tbody tr th:only-of-type {\n",
       "        vertical-align: middle;\n",
       "    }\n",
       "\n",
       "    .dataframe tbody tr th {\n",
       "        vertical-align: top;\n",
       "    }\n",
       "\n",
       "    .dataframe thead th {\n",
       "        text-align: right;\n",
       "    }\n",
       "</style>\n",
       "<table border=\"1\" class=\"dataframe\">\n",
       "  <thead>\n",
       "    <tr style=\"text-align: right;\">\n",
       "      <th></th>\n",
       "      <th>Unnamed: 0</th>\n",
       "      <th>loan_status</th>\n",
       "    </tr>\n",
       "  </thead>\n",
       "  <tbody>\n",
       "    <tr>\n",
       "      <th>0</th>\n",
       "      <td>0</td>\n",
       "      <td>0</td>\n",
       "    </tr>\n",
       "    <tr>\n",
       "      <th>1</th>\n",
       "      <td>1</td>\n",
       "      <td>0</td>\n",
       "    </tr>\n",
       "    <tr>\n",
       "      <th>2</th>\n",
       "      <td>2</td>\n",
       "      <td>0</td>\n",
       "    </tr>\n",
       "    <tr>\n",
       "      <th>3</th>\n",
       "      <td>3</td>\n",
       "      <td>0</td>\n",
       "    </tr>\n",
       "    <tr>\n",
       "      <th>4</th>\n",
       "      <td>4</td>\n",
       "      <td>0</td>\n",
       "    </tr>\n",
       "    <tr>\n",
       "      <th>...</th>\n",
       "      <td>...</td>\n",
       "      <td>...</td>\n",
       "    </tr>\n",
       "    <tr>\n",
       "      <th>1641823</th>\n",
       "      <td>1641823</td>\n",
       "      <td>1</td>\n",
       "    </tr>\n",
       "    <tr>\n",
       "      <th>1641824</th>\n",
       "      <td>1641824</td>\n",
       "      <td>1</td>\n",
       "    </tr>\n",
       "    <tr>\n",
       "      <th>1641825</th>\n",
       "      <td>1641825</td>\n",
       "      <td>1</td>\n",
       "    </tr>\n",
       "    <tr>\n",
       "      <th>1641826</th>\n",
       "      <td>1641826</td>\n",
       "      <td>1</td>\n",
       "    </tr>\n",
       "    <tr>\n",
       "      <th>1641827</th>\n",
       "      <td>1641827</td>\n",
       "      <td>1</td>\n",
       "    </tr>\n",
       "  </tbody>\n",
       "</table>\n",
       "<p>1641828 rows × 2 columns</p>\n",
       "</div>"
      ],
      "text/plain": [
       "         Unnamed: 0  loan_status\n",
       "0                 0            0\n",
       "1                 1            0\n",
       "2                 2            0\n",
       "3                 3            0\n",
       "4                 4            0\n",
       "...             ...          ...\n",
       "1641823     1641823            1\n",
       "1641824     1641824            1\n",
       "1641825     1641825            1\n",
       "1641826     1641826            1\n",
       "1641827     1641827            1\n",
       "\n",
       "[1641828 rows x 2 columns]"
      ]
     },
     "execution_count": 36,
     "metadata": {},
     "output_type": "execute_result"
    }
   ],
   "source": [
    "reduce_mem_usage(y_smote_z,int_cast=False)"
   ]
  },
  {
   "cell_type": "code",
   "execution_count": 38,
   "metadata": {
    "ExecuteTime": {
     "end_time": "2021-04-12T14:54:50.874864Z",
     "start_time": "2021-04-12T14:54:50.849867Z"
    }
   },
   "outputs": [],
   "source": [
    "y_smote_z.drop('Unnamed: 0',axis=1,inplace=True)"
   ]
  },
  {
   "cell_type": "code",
   "execution_count": 25,
   "metadata": {
    "ExecuteTime": {
     "end_time": "2021-04-12T14:49:29.778707Z",
     "start_time": "2021-04-12T14:49:29.763705Z"
    }
   },
   "outputs": [],
   "source": [
    "scaler = MinMaxScaler()"
   ]
  },
  {
   "cell_type": "code",
   "execution_count": 41,
   "metadata": {
    "ExecuteTime": {
     "end_time": "2021-04-12T14:56:37.572871Z",
     "start_time": "2021-04-12T14:56:37.236915Z"
    }
   },
   "outputs": [],
   "source": [
    "\n",
    "x_smote_cont_z =  pd.DataFrame(scaler.fit_transform(x_smote_z[cont_columns]),columns=cont_columns)"
   ]
  },
  {
   "cell_type": "code",
   "execution_count": 42,
   "metadata": {
    "ExecuteTime": {
     "end_time": "2021-04-12T14:56:52.098002Z",
     "start_time": "2021-04-12T14:56:51.894923Z"
    }
   },
   "outputs": [],
   "source": [
    "x_smote_scaled_z = pd.concat([x_smote_cont_z,x_smote_z[onehot.columns]],axis=1)"
   ]
  },
  {
   "cell_type": "code",
   "execution_count": 43,
   "metadata": {
    "ExecuteTime": {
     "end_time": "2021-04-12T14:57:05.838319Z",
     "start_time": "2021-04-12T14:57:05.251281Z"
    }
   },
   "outputs": [],
   "source": [
    "x_train_z, x_test_z, y_train_z, y_test_z = train_test_split(xz, yz, test_size=0.3)"
   ]
  },
  {
   "cell_type": "code",
   "execution_count": 44,
   "metadata": {
    "ExecuteTime": {
     "end_time": "2021-04-12T14:57:19.685311Z",
     "start_time": "2021-04-12T14:57:18.912283Z"
    }
   },
   "outputs": [],
   "source": [
    "#making validation x and y values\n",
    "x_train_final_z, x_val_z, y_train_final_z, y_val_z = train_test_split(x_smote_scaled_z, y_smote_z, test_size=.3)"
   ]
  },
  {
   "cell_type": "code",
   "execution_count": 45,
   "metadata": {
    "ExecuteTime": {
     "end_time": "2021-04-12T14:57:32.202322Z",
     "start_time": "2021-04-12T14:57:32.125314Z"
    }
   },
   "outputs": [],
   "source": [
    "x_test_z= x_test_z.reset_index().drop('index',axis=1)"
   ]
  },
  {
   "cell_type": "code",
   "execution_count": 46,
   "metadata": {
    "ExecuteTime": {
     "end_time": "2021-04-12T14:57:44.610317Z",
     "start_time": "2021-04-12T14:57:44.486282Z"
    }
   },
   "outputs": [],
   "source": [
    "x_test_cont_scaled_z = pd.DataFrame(scaler.transform(x_test_z[cont_columns]),columns=cont_columns)\n",
    "x_test_scaled_z = pd.concat([x_test_cont_scaled_z,x_test_z[onehot.columns]],axis=1)\n"
   ]
  },
  {
   "cell_type": "code",
   "execution_count": 34,
   "metadata": {
    "ExecuteTime": {
     "end_time": "2021-04-12T14:52:38.246382Z",
     "start_time": "2021-04-12T14:52:37.852380Z"
    },
    "scrolled": true
   },
   "outputs": [
    {
     "name": "stdout",
     "output_type": "stream",
     "text": [
      "<class 'pandas.core.frame.DataFrame'>\n",
      "RangeIndex: 1641828 entries, 0 to 1641827\n",
      "Data columns (total 87 columns):\n",
      " #   Column                               Non-Null Count    Dtype  \n",
      "---  ------                               --------------    -----  \n",
      " 0   loan_amnt                            1641828 non-null  float64\n",
      " 1   int_rate                             1641828 non-null  float64\n",
      " 2   installment                          1641828 non-null  float64\n",
      " 3   emp_length                           1641828 non-null  float64\n",
      " 4   annual_inc                           1641828 non-null  float64\n",
      " 5   dti                                  1641828 non-null  float64\n",
      " 6   delinq_2yrs                          1641828 non-null  float64\n",
      " 7   inq_last_6mths                       1641828 non-null  float64\n",
      " 8   pub_rec                              1641828 non-null  float64\n",
      " 9   total_acc                            1641828 non-null  float64\n",
      " 10  acc_open_past_24mths                 1641828 non-null  float64\n",
      " 11  delinq_amnt                          1641828 non-null  float64\n",
      " 12  mort_acc                             1641828 non-null  float64\n",
      " 13  mths_since_recent_inq                1641828 non-null  float64\n",
      " 14  num_bc_tl                            1641828 non-null  float64\n",
      " 15  num_il_tl                            1641828 non-null  float64\n",
      " 16  num_op_rev_tl                        1641828 non-null  float64\n",
      " 17  pub_rec_bankruptcies                 1641828 non-null  float64\n",
      " 18  tax_liens                            1641828 non-null  float64\n",
      " 19  total_bc_limit                       1641828 non-null  float64\n",
      " 20  total_il_high_credit_limit           1641828 non-null  float64\n",
      " 21  average_fico                         1641828 non-null  float64\n",
      " 22  term_ 60 months                      1641828 non-null  int64  \n",
      " 23  sub_grade_A2                         1641828 non-null  int64  \n",
      " 24  sub_grade_A3                         1641828 non-null  int64  \n",
      " 25  sub_grade_A4                         1641828 non-null  int64  \n",
      " 26  sub_grade_A5                         1641828 non-null  int64  \n",
      " 27  sub_grade_B1                         1641828 non-null  int64  \n",
      " 28  sub_grade_B2                         1641828 non-null  int64  \n",
      " 29  sub_grade_B3                         1641828 non-null  int64  \n",
      " 30  sub_grade_B4                         1641828 non-null  int64  \n",
      " 31  sub_grade_B5                         1641828 non-null  int64  \n",
      " 32  sub_grade_C1                         1641828 non-null  int64  \n",
      " 33  sub_grade_C2                         1641828 non-null  int64  \n",
      " 34  sub_grade_C3                         1641828 non-null  int64  \n",
      " 35  sub_grade_C4                         1641828 non-null  int64  \n",
      " 36  sub_grade_C5                         1641828 non-null  int64  \n",
      " 37  sub_grade_D1                         1641828 non-null  int64  \n",
      " 38  sub_grade_D2                         1641828 non-null  int64  \n",
      " 39  sub_grade_D3                         1641828 non-null  int64  \n",
      " 40  sub_grade_D4                         1641828 non-null  int64  \n",
      " 41  sub_grade_D5                         1641828 non-null  int64  \n",
      " 42  sub_grade_E1                         1641828 non-null  int64  \n",
      " 43  sub_grade_E2                         1641828 non-null  int64  \n",
      " 44  sub_grade_E3                         1641828 non-null  int64  \n",
      " 45  sub_grade_E4                         1641828 non-null  int64  \n",
      " 46  sub_grade_E5                         1641828 non-null  int64  \n",
      " 47  sub_grade_F1                         1641828 non-null  int64  \n",
      " 48  sub_grade_F2                         1641828 non-null  int64  \n",
      " 49  sub_grade_F3                         1641828 non-null  int64  \n",
      " 50  sub_grade_F4                         1641828 non-null  int64  \n",
      " 51  sub_grade_F5                         1641828 non-null  int64  \n",
      " 52  sub_grade_G1                         1641828 non-null  int64  \n",
      " 53  sub_grade_G2                         1641828 non-null  int64  \n",
      " 54  sub_grade_G3                         1641828 non-null  int64  \n",
      " 55  sub_grade_G4                         1641828 non-null  int64  \n",
      " 56  sub_grade_G5                         1641828 non-null  int64  \n",
      " 57  grade_B                              1641828 non-null  int64  \n",
      " 58  grade_C                              1641828 non-null  int64  \n",
      " 59  grade_D                              1641828 non-null  int64  \n",
      " 60  grade_E                              1641828 non-null  int64  \n",
      " 61  grade_F                              1641828 non-null  int64  \n",
      " 62  grade_G                              1641828 non-null  int64  \n",
      " 63  home_ownership_MORTGAGE              1641828 non-null  int64  \n",
      " 64  home_ownership_NONE                  1641828 non-null  int64  \n",
      " 65  home_ownership_OTHER                 1641828 non-null  int64  \n",
      " 66  home_ownership_OWN                   1641828 non-null  int64  \n",
      " 67  home_ownership_RENT                  1641828 non-null  int64  \n",
      " 68  verification_status_Source Verified  1641828 non-null  int64  \n",
      " 69  verification_status_Verified         1641828 non-null  int64  \n",
      " 70  purpose_credit_card                  1641828 non-null  int64  \n",
      " 71  purpose_debt_consolidation           1641828 non-null  int64  \n",
      " 72  purpose_educational                  1641828 non-null  int64  \n",
      " 73  purpose_home_improvement             1641828 non-null  int64  \n",
      " 74  purpose_house                        1641828 non-null  int64  \n",
      " 75  purpose_major_purchase               1641828 non-null  int64  \n",
      " 76  purpose_medical                      1641828 non-null  int64  \n",
      " 77  purpose_moving                       1641828 non-null  int64  \n",
      " 78  purpose_other                        1641828 non-null  int64  \n",
      " 79  purpose_renewable_energy             1641828 non-null  int64  \n",
      " 80  purpose_small_business               1641828 non-null  int64  \n",
      " 81  purpose_vacation                     1641828 non-null  int64  \n",
      " 82  purpose_wedding                      1641828 non-null  int64  \n",
      " 83  application_type_Joint App           1641828 non-null  int64  \n",
      " 84  region_Northeast                     1641828 non-null  int64  \n",
      " 85  region_South                         1641828 non-null  int64  \n",
      " 86  region_West                          1641828 non-null  int64  \n",
      "dtypes: float64(22), int64(65)\n",
      "memory usage: 1.1 GB\n"
     ]
    }
   ],
   "source": [
    "x_smote_scaled_z.info()"
   ]
  },
  {
   "cell_type": "code",
   "execution_count": null,
   "metadata": {},
   "outputs": [],
   "source": [
    "\n"
   ]
  },
  {
   "cell_type": "code",
   "execution_count": null,
   "metadata": {},
   "outputs": [],
   "source": []
  },
  {
   "cell_type": "code",
   "execution_count": null,
   "metadata": {},
   "outputs": [],
   "source": [
    "\n",
    "x_smote_scaled = pd.concat([x_smote_cont_scaled,x_smote[onehot.columns]],axis=1)"
   ]
  },
  {
   "cell_type": "code",
   "execution_count": null,
   "metadata": {},
   "outputs": [],
   "source": []
  },
  {
   "cell_type": "code",
   "execution_count": 275,
   "metadata": {
    "ExecuteTime": {
     "end_time": "2021-04-12T07:09:48.145302Z",
     "start_time": "2021-04-12T07:09:47.416140Z"
    }
   },
   "outputs": [],
   "source": []
  },
  {
   "cell_type": "code",
   "execution_count": null,
   "metadata": {},
   "outputs": [],
   "source": []
  },
  {
   "cell_type": "code",
   "execution_count": 19,
   "metadata": {
    "ExecuteTime": {
     "end_time": "2021-04-09T07:49:07.919613Z",
     "start_time": "2021-04-09T07:49:07.318482Z"
    }
   },
   "outputs": [],
   "source": [
    "x = pd.concat([cont,onehot],axis=1)\n",
    "y= df['loan_status'].map(lambda x: 1 if x ==\"Charged Off\" else 0)"
   ]
  },
  {
   "cell_type": "code",
   "execution_count": 20,
   "metadata": {
    "ExecuteTime": {
     "end_time": "2021-04-09T07:49:10.973438Z",
     "start_time": "2021-04-09T07:49:10.959436Z"
    },
    "scrolled": true
   },
   "outputs": [
    {
     "name": "stdout",
     "output_type": "stream",
     "text": [
      "<class 'pandas.core.frame.DataFrame'>\n",
      "RangeIndex: 1736937 entries, 0 to 1736936\n",
      "Data columns (total 87 columns):\n",
      " #   Column                               Dtype  \n",
      "---  ------                               -----  \n",
      " 0   loan_amnt                            float32\n",
      " 1   int_rate                             float32\n",
      " 2   installment                          float32\n",
      " 3   emp_length                           int8   \n",
      " 4   annual_inc                           float32\n",
      " 5   dti                                  float32\n",
      " 6   delinq_2yrs                          float32\n",
      " 7   inq_last_6mths                       float32\n",
      " 8   pub_rec                              float32\n",
      " 9   total_acc                            float32\n",
      " 10  acc_open_past_24mths                 float32\n",
      " 11  delinq_amnt                          float32\n",
      " 12  mort_acc                             float32\n",
      " 13  mths_since_recent_inq                float32\n",
      " 14  num_bc_tl                            float32\n",
      " 15  num_il_tl                            float32\n",
      " 16  num_op_rev_tl                        float32\n",
      " 17  pub_rec_bankruptcies                 float32\n",
      " 18  tax_liens                            float32\n",
      " 19  total_bc_limit                       float32\n",
      " 20  total_il_high_credit_limit           float32\n",
      " 21  average_fico                         float32\n",
      " 22  term_ 60 months                      uint8  \n",
      " 23  sub_grade_A2                         uint8  \n",
      " 24  sub_grade_A3                         uint8  \n",
      " 25  sub_grade_A4                         uint8  \n",
      " 26  sub_grade_A5                         uint8  \n",
      " 27  sub_grade_B1                         uint8  \n",
      " 28  sub_grade_B2                         uint8  \n",
      " 29  sub_grade_B3                         uint8  \n",
      " 30  sub_grade_B4                         uint8  \n",
      " 31  sub_grade_B5                         uint8  \n",
      " 32  sub_grade_C1                         uint8  \n",
      " 33  sub_grade_C2                         uint8  \n",
      " 34  sub_grade_C3                         uint8  \n",
      " 35  sub_grade_C4                         uint8  \n",
      " 36  sub_grade_C5                         uint8  \n",
      " 37  sub_grade_D1                         uint8  \n",
      " 38  sub_grade_D2                         uint8  \n",
      " 39  sub_grade_D3                         uint8  \n",
      " 40  sub_grade_D4                         uint8  \n",
      " 41  sub_grade_D5                         uint8  \n",
      " 42  sub_grade_E1                         uint8  \n",
      " 43  sub_grade_E2                         uint8  \n",
      " 44  sub_grade_E3                         uint8  \n",
      " 45  sub_grade_E4                         uint8  \n",
      " 46  sub_grade_E5                         uint8  \n",
      " 47  sub_grade_F1                         uint8  \n",
      " 48  sub_grade_F2                         uint8  \n",
      " 49  sub_grade_F3                         uint8  \n",
      " 50  sub_grade_F4                         uint8  \n",
      " 51  sub_grade_F5                         uint8  \n",
      " 52  sub_grade_G1                         uint8  \n",
      " 53  sub_grade_G2                         uint8  \n",
      " 54  sub_grade_G3                         uint8  \n",
      " 55  sub_grade_G4                         uint8  \n",
      " 56  sub_grade_G5                         uint8  \n",
      " 57  grade_B                              uint8  \n",
      " 58  grade_C                              uint8  \n",
      " 59  grade_D                              uint8  \n",
      " 60  grade_E                              uint8  \n",
      " 61  grade_F                              uint8  \n",
      " 62  grade_G                              uint8  \n",
      " 63  home_ownership_MORTGAGE              uint8  \n",
      " 64  home_ownership_NONE                  uint8  \n",
      " 65  home_ownership_OTHER                 uint8  \n",
      " 66  home_ownership_OWN                   uint8  \n",
      " 67  home_ownership_RENT                  uint8  \n",
      " 68  verification_status_Source Verified  uint8  \n",
      " 69  verification_status_Verified         uint8  \n",
      " 70  purpose_credit_card                  uint8  \n",
      " 71  purpose_debt_consolidation           uint8  \n",
      " 72  purpose_educational                  uint8  \n",
      " 73  purpose_home_improvement             uint8  \n",
      " 74  purpose_house                        uint8  \n",
      " 75  purpose_major_purchase               uint8  \n",
      " 76  purpose_medical                      uint8  \n",
      " 77  purpose_moving                       uint8  \n",
      " 78  purpose_other                        uint8  \n",
      " 79  purpose_renewable_energy             uint8  \n",
      " 80  purpose_small_business               uint8  \n",
      " 81  purpose_vacation                     uint8  \n",
      " 82  purpose_wedding                      uint8  \n",
      " 83  application_type_Joint App           uint8  \n",
      " 84  region_Northeast                     uint8  \n",
      " 85  region_South                         uint8  \n",
      " 86  region_West                          uint8  \n",
      "dtypes: float32(21), int8(1), uint8(65)\n",
      "memory usage: 248.5 MB\n"
     ]
    }
   ],
   "source": [
    "x.info(verbose=True)"
   ]
  },
  {
   "cell_type": "code",
   "execution_count": null,
   "metadata": {},
   "outputs": [],
   "source": []
  },
  {
   "cell_type": "code",
   "execution_count": 21,
   "metadata": {
    "ExecuteTime": {
     "end_time": "2021-04-09T07:50:12.088118Z",
     "start_time": "2021-04-09T07:50:12.070118Z"
    }
   },
   "outputs": [],
   "source": [
    "cat_index = np.linspace(22,86,num=(86-22)).astype(np.int)"
   ]
  },
  {
   "cell_type": "code",
   "execution_count": 23,
   "metadata": {
    "ExecuteTime": {
     "end_time": "2021-04-09T07:50:20.961157Z",
     "start_time": "2021-04-09T07:50:20.953156Z"
    }
   },
   "outputs": [
    {
     "data": {
      "text/plain": [
       "array([22, 23, 24, 25, 26, 27, 28, 29, 30, 31, 32, 33, 34, 35, 36, 37, 38,\n",
       "       39, 40, 41, 42, 43, 44, 45, 46, 47, 48, 49, 50, 51, 52, 53, 54, 55,\n",
       "       56, 57, 58, 59, 60, 61, 62, 63, 64, 65, 66, 67, 68, 69, 70, 71, 72,\n",
       "       73, 74, 75, 76, 77, 78, 79, 80, 81, 82, 83, 84, 86])"
      ]
     },
     "execution_count": 23,
     "metadata": {},
     "output_type": "execute_result"
    }
   ],
   "source": [
    "cat_index"
   ]
  },
  {
   "cell_type": "code",
   "execution_count": 22,
   "metadata": {
    "ExecuteTime": {
     "end_time": "2021-04-09T07:50:15.098464Z",
     "start_time": "2021-04-09T07:50:15.083345Z"
    }
   },
   "outputs": [
    {
     "data": {
      "text/plain": [
       "numpy.ndarray"
      ]
     },
     "execution_count": 22,
     "metadata": {},
     "output_type": "execute_result"
    }
   ],
   "source": [
    "type(cat_index.astype(np.int))"
   ]
  },
  {
   "cell_type": "code",
   "execution_count": 24,
   "metadata": {
    "ExecuteTime": {
     "end_time": "2021-04-09T07:50:30.639336Z",
     "start_time": "2021-04-09T07:50:29.809316Z"
    }
   },
   "outputs": [],
   "source": [
    "x_train, x_test, y_train, y_test = train_test_split(x, y, test_size=0.3)"
   ]
  },
  {
   "cell_type": "code",
   "execution_count": 25,
   "metadata": {
    "ExecuteTime": {
     "end_time": "2021-04-09T07:50:34.081558Z",
     "start_time": "2021-04-09T07:50:34.070564Z"
    }
   },
   "outputs": [],
   "source": [
    "from imblearn.over_sampling import SMOTENC"
   ]
  },
  {
   "cell_type": "code",
   "execution_count": 26,
   "metadata": {
    "ExecuteTime": {
     "end_time": "2021-04-09T07:50:37.578580Z",
     "start_time": "2021-04-09T07:50:37.564551Z"
    }
   },
   "outputs": [
    {
     "data": {
      "text/plain": [
       "(64,)"
      ]
     },
     "execution_count": 26,
     "metadata": {},
     "output_type": "execute_result"
    }
   ],
   "source": [
    "cat_index.shape"
   ]
  },
  {
   "cell_type": "code",
   "execution_count": 27,
   "metadata": {
    "ExecuteTime": {
     "end_time": "2021-04-09T07:50:51.579725Z",
     "start_time": "2021-04-09T07:50:51.572725Z"
    }
   },
   "outputs": [],
   "source": [
    "smote= SMOTENC(categorical_features=cat_index)"
   ]
  },
  {
   "cell_type": "code",
   "execution_count": 28,
   "metadata": {
    "ExecuteTime": {
     "end_time": "2021-04-09T09:47:55.926233Z",
     "start_time": "2021-04-09T07:50:57.993154Z"
    }
   },
   "outputs": [],
   "source": [
    "x_smote,y_smote = smote.fit_sample(x_train,y_train)"
   ]
  },
  {
   "cell_type": "code",
   "execution_count": 29,
   "metadata": {
    "ExecuteTime": {
     "end_time": "2021-04-09T17:12:08.727076Z",
     "start_time": "2021-04-09T17:11:17.854077Z"
    }
   },
   "outputs": [],
   "source": [
    "x_smote.to_csv('data/x_smote')\n",
    "y_smote.to_csv('data/y_smote')"
   ]
  },
  {
   "cell_type": "code",
   "execution_count": null,
   "metadata": {},
   "outputs": [],
   "source": []
  },
  {
   "cell_type": "code",
   "execution_count": 30,
   "metadata": {
    "ExecuteTime": {
     "end_time": "2021-04-09T17:12:30.863795Z",
     "start_time": "2021-04-09T17:12:30.857795Z"
    }
   },
   "outputs": [],
   "source": [
    "scaler = MinMaxScaler()\n",
    "#cont_scaled = pd.DataFrame(scaler.fit_transform(cont),columns=cont_columns)"
   ]
  },
  {
   "cell_type": "code",
   "execution_count": 215,
   "metadata": {
    "ExecuteTime": {
     "end_time": "2021-04-12T01:47:03.904580Z",
     "start_time": "2021-04-12T01:44:47.567834Z"
    }
   },
   "outputs": [],
   "source": [
    "x_smote_cont_sig = x_smote[cont_columns].applymap(sigmoid)\n",
    "x_smote_sig = pd.concat([x_smote_cont_sig,x_smote[onehot.columns]],axis=1)"
   ]
  },
  {
   "cell_type": "code",
   "execution_count": 216,
   "metadata": {
    "ExecuteTime": {
     "end_time": "2021-04-12T01:51:24.173021Z",
     "start_time": "2021-04-12T01:48:07.924006Z"
    }
   },
   "outputs": [],
   "source": [
    "#scaling cont feats for smote/ train data\n",
    "\n"
   ]
  },
  {
   "cell_type": "code",
   "execution_count": null,
   "metadata": {},
   "outputs": [],
   "source": [
    "x_smote_cont_scaled = pd.DataFrame(scaler.fit_transform(x_smote[cont_columns]),columns=cont_columns)\n",
    "x_smote_scaled = pd.concat([x_smote_cont_scaled,x_smote[onehot.columns]],axis=1)"
   ]
  },
  {
   "cell_type": "code",
   "execution_count": 32,
   "metadata": {
    "ExecuteTime": {
     "end_time": "2021-04-09T17:12:41.195848Z",
     "start_time": "2021-04-09T17:12:40.803840Z"
    }
   },
   "outputs": [
    {
     "data": {
      "text/plain": [
       "region_West     0\n",
       "sub_grade_B5    0\n",
       "sub_grade_A2    0\n",
       "sub_grade_A3    0\n",
       "sub_grade_A4    0\n",
       "               ..\n",
       "grade_D         0\n",
       "grade_E         0\n",
       "grade_F         0\n",
       "grade_G         0\n",
       "loan_amnt       0\n",
       "Length: 87, dtype: int64"
      ]
     },
     "execution_count": 32,
     "metadata": {},
     "output_type": "execute_result"
    }
   ],
   "source": [
    "na_check(x_smote_scaled)"
   ]
  },
  {
   "cell_type": "code",
   "execution_count": 33,
   "metadata": {
    "ExecuteTime": {
     "end_time": "2021-04-09T17:12:48.893808Z",
     "start_time": "2021-04-09T17:12:48.689809Z"
    }
   },
   "outputs": [],
   "source": [
    "x_test = x_test.reset_index().drop('index',axis=1)"
   ]
  },
  {
   "cell_type": "code",
   "execution_count": null,
   "metadata": {},
   "outputs": [],
   "source": []
  },
  {
   "cell_type": "code",
   "execution_count": 217,
   "metadata": {
    "ExecuteTime": {
     "end_time": "2021-04-12T01:56:18.993221Z",
     "start_time": "2021-04-12T01:55:42.972668Z"
    }
   },
   "outputs": [],
   "source": [
    "x_test_cont_sig = x_test[cont_columns].applymap(sigmoid)"
   ]
  },
  {
   "cell_type": "code",
   "execution_count": 218,
   "metadata": {
    "ExecuteTime": {
     "end_time": "2021-04-12T01:56:53.575241Z",
     "start_time": "2021-04-12T01:56:53.482237Z"
    }
   },
   "outputs": [],
   "source": [
    "x_test_sig = pd.concat([x_test_cont_sig,x_test[onehot.columns]],axis=1)"
   ]
  },
  {
   "cell_type": "code",
   "execution_count": 274,
   "metadata": {
    "ExecuteTime": {
     "end_time": "2021-04-12T07:09:16.354972Z",
     "start_time": "2021-04-12T07:09:16.151904Z"
    }
   },
   "outputs": [],
   "source": [
    "#scaling cont feats for test data\n",
    "x_test_cont_scaled = pd.DataFrame(scaler.transform(x_test[cont_columns]),columns=cont_columns)\n",
    "\n",
    "#x_test_scaled = pd.concat([x_test_cont_scaled,x_test[onehot.columns]],axis=1)"
   ]
  },
  {
   "cell_type": "code",
   "execution_count": 35,
   "metadata": {
    "ExecuteTime": {
     "end_time": "2021-04-09T17:12:59.365810Z",
     "start_time": "2021-04-09T17:12:59.287809Z"
    }
   },
   "outputs": [],
   "source": [
    "x_test_scaled = pd.concat([x_test_cont_scaled,x_test[onehot.columns]],axis=1)"
   ]
  },
  {
   "cell_type": "code",
   "execution_count": 36,
   "metadata": {
    "ExecuteTime": {
     "end_time": "2021-04-09T17:13:04.553808Z",
     "start_time": "2021-04-09T17:13:04.538809Z"
    }
   },
   "outputs": [
    {
     "data": {
      "text/plain": [
       "(521082, 87)"
      ]
     },
     "execution_count": 36,
     "metadata": {},
     "output_type": "execute_result"
    }
   ],
   "source": [
    "x_test_scaled.shape"
   ]
  },
  {
   "cell_type": "code",
   "execution_count": 37,
   "metadata": {
    "ExecuteTime": {
     "end_time": "2021-04-09T17:13:09.681809Z",
     "start_time": "2021-04-09T17:13:09.667810Z"
    }
   },
   "outputs": [
    {
     "data": {
      "text/plain": [
       "(1959140, 87)"
      ]
     },
     "execution_count": 37,
     "metadata": {},
     "output_type": "execute_result"
    }
   ],
   "source": [
    "x_smote_scaled.shape"
   ]
  },
  {
   "cell_type": "code",
   "execution_count": 38,
   "metadata": {
    "ExecuteTime": {
     "end_time": "2021-04-09T17:13:14.731810Z",
     "start_time": "2021-04-09T17:13:14.716851Z"
    }
   },
   "outputs": [
    {
     "data": {
      "text/plain": [
       "87"
      ]
     },
     "execution_count": 38,
     "metadata": {},
     "output_type": "execute_result"
    }
   ],
   "source": [
    "n_feats = x_smote_scaled.shape[1]\n",
    "n_feats"
   ]
  },
  {
   "cell_type": "code",
   "execution_count": 39,
   "metadata": {
    "ExecuteTime": {
     "end_time": "2021-04-09T17:13:20.732847Z",
     "start_time": "2021-04-09T17:13:19.779849Z"
    }
   },
   "outputs": [],
   "source": [
    "#making validation x and y values\n",
    "x_train_final, x_val, y_train_final, y_val = train_test_split(x_smote_scaled, y_smote, test_size=.3)"
   ]
  },
  {
   "cell_type": "code",
   "execution_count": 219,
   "metadata": {
    "ExecuteTime": {
     "end_time": "2021-04-12T01:58:28.385930Z",
     "start_time": "2021-04-12T01:58:19.021309Z"
    }
   },
   "outputs": [],
   "source": [
    "#making validation x and y values\n",
    "x_train_final_sig, x_val_sig, y_train_final_1, y_val_1 = train_test_split(x_smote_sig, y_smote, test_size=.3)"
   ]
  },
  {
   "cell_type": "code",
   "execution_count": 32,
   "metadata": {
    "ExecuteTime": {
     "end_time": "2021-04-12T14:51:55.089552Z",
     "start_time": "2021-04-12T14:51:55.076550Z"
    }
   },
   "outputs": [],
   "source": [
    "sub_grade_columns = ['sub_grade_A2', 'sub_grade_A3', 'sub_grade_A4',\n",
    "       'sub_grade_A5', 'sub_grade_B1', 'sub_grade_B2', 'sub_grade_B3',\n",
    "       'sub_grade_B4', 'sub_grade_B5', 'sub_grade_C1', 'sub_grade_C2',\n",
    "       'sub_grade_C3', 'sub_grade_C4', 'sub_grade_C5', 'sub_grade_D1',\n",
    "       'sub_grade_D2', 'sub_grade_D3', 'sub_grade_D4', 'sub_grade_D5',\n",
    "       'sub_grade_E1', 'sub_grade_E2', 'sub_grade_E3', 'sub_grade_E4',\n",
    "       'sub_grade_E5', 'sub_grade_F1', 'sub_grade_F2', 'sub_grade_F3',\n",
    "       'sub_grade_F4', 'sub_grade_F5', 'sub_grade_G1', 'sub_grade_G2',\n",
    "       'sub_grade_G3', 'sub_grade_G4', 'sub_grade_G5']"
   ]
  },
  {
   "cell_type": "code",
   "execution_count": 33,
   "metadata": {
    "ExecuteTime": {
     "end_time": "2021-04-12T14:52:11.151687Z",
     "start_time": "2021-04-12T14:52:11.137518Z"
    }
   },
   "outputs": [],
   "source": [
    "grade_columns = ['grade_B', 'grade_C',\n",
    "       'grade_D', 'grade_E', 'grade_F', 'grade_G']\n",
    "\n",
    "all_grades = ['grade_B', 'grade_C',\n",
    "       'grade_D', 'grade_E', 'grade_F', 'grade_G','sub_grade_A2', 'sub_grade_A3', 'sub_grade_A4',\n",
    "       'sub_grade_A5', 'sub_grade_B1', 'sub_grade_B2', 'sub_grade_B3',\n",
    "       'sub_grade_B4', 'sub_grade_B5', 'sub_grade_C1', 'sub_grade_C2',\n",
    "       'sub_grade_C3', 'sub_grade_C4', 'sub_grade_C5', 'sub_grade_D1',\n",
    "       'sub_grade_D2', 'sub_grade_D3', 'sub_grade_D4', 'sub_grade_D5',\n",
    "       'sub_grade_E1', 'sub_grade_E2', 'sub_grade_E3', 'sub_grade_E4',\n",
    "       'sub_grade_E5', 'sub_grade_F1', 'sub_grade_F2', 'sub_grade_F3',\n",
    "       'sub_grade_F4', 'sub_grade_F5', 'sub_grade_G1', 'sub_grade_G2',\n",
    "       'sub_grade_G3', 'sub_grade_G4', 'sub_grade_G5']\n",
    "\n",
    "pval_drops = ['home_ownership_NONE','home_ownership_OTHER','purpose_educational','delinq_amnt','tax_liens','sub_grade_B1', 'sub_grade_B2', 'sub_grade_B3',\n",
    "       'sub_grade_B4', 'sub_grade_B5', 'sub_grade_C1', 'sub_grade_C2',\n",
    "       'sub_grade_C3', 'sub_grade_C4', 'sub_grade_C5', 'sub_grade_D1',\n",
    "       'sub_grade_D2', 'sub_grade_D3', 'sub_grade_D4', 'sub_grade_D5',\n",
    "       'sub_grade_E1', 'sub_grade_E2', 'sub_grade_E3', 'sub_grade_E4',\n",
    "       'sub_grade_E5', 'sub_grade_F1', 'sub_grade_F2', 'sub_grade_F3',\n",
    "       'sub_grade_F4', 'sub_grade_F5', 'sub_grade_G1', 'sub_grade_G2',\n",
    "       'sub_grade_G3', 'sub_grade_G4', 'sub_grade_G5','annual_inc']"
   ]
  },
  {
   "cell_type": "code",
   "execution_count": 114,
   "metadata": {
    "ExecuteTime": {
     "end_time": "2021-04-09T21:24:04.161242Z",
     "start_time": "2021-04-09T21:24:04.142243Z"
    }
   },
   "outputs": [
    {
     "data": {
      "text/plain": [
       "Index(['term_ 60 months', 'sub_grade_A2', 'sub_grade_A3', 'sub_grade_A4',\n",
       "       'sub_grade_A5', 'sub_grade_B1', 'sub_grade_B2', 'sub_grade_B3',\n",
       "       'sub_grade_B4', 'sub_grade_B5', 'sub_grade_C1', 'sub_grade_C2',\n",
       "       'sub_grade_C3', 'sub_grade_C4', 'sub_grade_C5', 'sub_grade_D1',\n",
       "       'sub_grade_D2', 'sub_grade_D3', 'sub_grade_D4', 'sub_grade_D5',\n",
       "       'sub_grade_E1', 'sub_grade_E2', 'sub_grade_E3', 'sub_grade_E4',\n",
       "       'sub_grade_E5', 'sub_grade_F1', 'sub_grade_F2', 'sub_grade_F3',\n",
       "       'sub_grade_F4', 'sub_grade_F5', 'sub_grade_G1', 'sub_grade_G2',\n",
       "       'sub_grade_G3', 'sub_grade_G4', 'sub_grade_G5', 'grade_B', 'grade_C',\n",
       "       'grade_D', 'grade_E', 'grade_F', 'grade_G', 'home_ownership_MORTGAGE',\n",
       "       'home_ownership_NONE', 'home_ownership_OTHER', 'home_ownership_OWN',\n",
       "       'home_ownership_RENT', 'verification_status_Source Verified',\n",
       "       'verification_status_Verified', 'purpose_credit_card',\n",
       "       'purpose_debt_consolidation', 'purpose_educational',\n",
       "       'purpose_home_improvement', 'purpose_house', 'purpose_major_purchase',\n",
       "       'purpose_medical', 'purpose_moving', 'purpose_other',\n",
       "       'purpose_renewable_energy', 'purpose_small_business',\n",
       "       'purpose_vacation', 'purpose_wedding', 'application_type_Joint App',\n",
       "       'region_Northeast', 'region_South', 'region_West'],\n",
       "      dtype='object')"
      ]
     },
     "execution_count": 114,
     "metadata": {},
     "output_type": "execute_result"
    }
   ],
   "source": [
    "onehot.columns"
   ]
  },
  {
   "cell_type": "code",
   "execution_count": 117,
   "metadata": {
    "ExecuteTime": {
     "end_time": "2021-04-09T21:28:09.235545Z",
     "start_time": "2021-04-09T21:28:09.015541Z"
    }
   },
   "outputs": [
    {
     "data": {
      "text/html": [
       "<div>\n",
       "<style scoped>\n",
       "    .dataframe tbody tr th:only-of-type {\n",
       "        vertical-align: middle;\n",
       "    }\n",
       "\n",
       "    .dataframe tbody tr th {\n",
       "        vertical-align: top;\n",
       "    }\n",
       "\n",
       "    .dataframe thead th {\n",
       "        text-align: right;\n",
       "    }\n",
       "</style>\n",
       "<table border=\"1\" class=\"dataframe\">\n",
       "  <thead>\n",
       "    <tr style=\"text-align: right;\">\n",
       "      <th></th>\n",
       "      <th>loan_amnt</th>\n",
       "      <th>int_rate</th>\n",
       "      <th>installment</th>\n",
       "      <th>emp_length</th>\n",
       "      <th>annual_inc</th>\n",
       "      <th>dti</th>\n",
       "      <th>delinq_2yrs</th>\n",
       "      <th>inq_last_6mths</th>\n",
       "      <th>pub_rec</th>\n",
       "      <th>total_acc</th>\n",
       "      <th>...</th>\n",
       "      <th>purpose_moving</th>\n",
       "      <th>purpose_other</th>\n",
       "      <th>purpose_renewable_energy</th>\n",
       "      <th>purpose_small_business</th>\n",
       "      <th>purpose_vacation</th>\n",
       "      <th>purpose_wedding</th>\n",
       "      <th>application_type_Joint App</th>\n",
       "      <th>region_Northeast</th>\n",
       "      <th>region_South</th>\n",
       "      <th>region_West</th>\n",
       "    </tr>\n",
       "  </thead>\n",
       "  <tbody>\n",
       "    <tr>\n",
       "      <th>0</th>\n",
       "      <td>0.572821</td>\n",
       "      <td>0.042056</td>\n",
       "      <td>0.413727</td>\n",
       "      <td>1.000000</td>\n",
       "      <td>0.000773</td>\n",
       "      <td>0.02080</td>\n",
       "      <td>0.000000</td>\n",
       "      <td>0.000000</td>\n",
       "      <td>0.0</td>\n",
       "      <td>0.149425</td>\n",
       "      <td>...</td>\n",
       "      <td>0</td>\n",
       "      <td>0</td>\n",
       "      <td>0</td>\n",
       "      <td>0</td>\n",
       "      <td>0</td>\n",
       "      <td>0</td>\n",
       "      <td>0</td>\n",
       "      <td>0</td>\n",
       "      <td>1</td>\n",
       "      <td>0</td>\n",
       "    </tr>\n",
       "    <tr>\n",
       "      <th>1</th>\n",
       "      <td>0.258974</td>\n",
       "      <td>0.485203</td>\n",
       "      <td>0.230352</td>\n",
       "      <td>1.000000</td>\n",
       "      <td>0.000818</td>\n",
       "      <td>0.02952</td>\n",
       "      <td>0.000000</td>\n",
       "      <td>0.142857</td>\n",
       "      <td>0.0</td>\n",
       "      <td>0.258621</td>\n",
       "      <td>...</td>\n",
       "      <td>0</td>\n",
       "      <td>0</td>\n",
       "      <td>0</td>\n",
       "      <td>0</td>\n",
       "      <td>0</td>\n",
       "      <td>0</td>\n",
       "      <td>0</td>\n",
       "      <td>1</td>\n",
       "      <td>0</td>\n",
       "      <td>0</td>\n",
       "    </tr>\n",
       "    <tr>\n",
       "      <th>2</th>\n",
       "      <td>0.743590</td>\n",
       "      <td>0.275701</td>\n",
       "      <td>0.581358</td>\n",
       "      <td>0.333333</td>\n",
       "      <td>0.000845</td>\n",
       "      <td>0.01120</td>\n",
       "      <td>0.025641</td>\n",
       "      <td>0.000000</td>\n",
       "      <td>0.0</td>\n",
       "      <td>0.103448</td>\n",
       "      <td>...</td>\n",
       "      <td>0</td>\n",
       "      <td>0</td>\n",
       "      <td>0</td>\n",
       "      <td>0</td>\n",
       "      <td>0</td>\n",
       "      <td>0</td>\n",
       "      <td>0</td>\n",
       "      <td>0</td>\n",
       "      <td>1</td>\n",
       "      <td>0</td>\n",
       "    </tr>\n",
       "    <tr>\n",
       "      <th>3</th>\n",
       "      <td>0.743590</td>\n",
       "      <td>0.321262</td>\n",
       "      <td>0.400025</td>\n",
       "      <td>1.000000</td>\n",
       "      <td>0.000818</td>\n",
       "      <td>0.03053</td>\n",
       "      <td>0.000000</td>\n",
       "      <td>0.142857</td>\n",
       "      <td>0.0</td>\n",
       "      <td>0.189655</td>\n",
       "      <td>...</td>\n",
       "      <td>0</td>\n",
       "      <td>0</td>\n",
       "      <td>0</td>\n",
       "      <td>0</td>\n",
       "      <td>0</td>\n",
       "      <td>0</td>\n",
       "      <td>1</td>\n",
       "      <td>0</td>\n",
       "      <td>0</td>\n",
       "      <td>0</td>\n",
       "    </tr>\n",
       "    <tr>\n",
       "      <th>4</th>\n",
       "      <td>0.282051</td>\n",
       "      <td>0.312305</td>\n",
       "      <td>0.233967</td>\n",
       "      <td>1.000000</td>\n",
       "      <td>0.000636</td>\n",
       "      <td>0.02078</td>\n",
       "      <td>0.025641</td>\n",
       "      <td>0.000000</td>\n",
       "      <td>0.0</td>\n",
       "      <td>0.206897</td>\n",
       "      <td>...</td>\n",
       "      <td>0</td>\n",
       "      <td>0</td>\n",
       "      <td>0</td>\n",
       "      <td>0</td>\n",
       "      <td>0</td>\n",
       "      <td>0</td>\n",
       "      <td>0</td>\n",
       "      <td>0</td>\n",
       "      <td>1</td>\n",
       "      <td>0</td>\n",
       "    </tr>\n",
       "  </tbody>\n",
       "</table>\n",
       "<p>5 rows × 53 columns</p>\n",
       "</div>"
      ],
      "text/plain": [
       "   loan_amnt  int_rate  installment  emp_length  annual_inc      dti  \\\n",
       "0   0.572821  0.042056     0.413727    1.000000    0.000773  0.02080   \n",
       "1   0.258974  0.485203     0.230352    1.000000    0.000818  0.02952   \n",
       "2   0.743590  0.275701     0.581358    0.333333    0.000845  0.01120   \n",
       "3   0.743590  0.321262     0.400025    1.000000    0.000818  0.03053   \n",
       "4   0.282051  0.312305     0.233967    1.000000    0.000636  0.02078   \n",
       "\n",
       "   delinq_2yrs  inq_last_6mths  pub_rec  total_acc  ...  purpose_moving  \\\n",
       "0     0.000000        0.000000      0.0   0.149425  ...               0   \n",
       "1     0.000000        0.142857      0.0   0.258621  ...               0   \n",
       "2     0.025641        0.000000      0.0   0.103448  ...               0   \n",
       "3     0.000000        0.142857      0.0   0.189655  ...               0   \n",
       "4     0.025641        0.000000      0.0   0.206897  ...               0   \n",
       "\n",
       "   purpose_other  purpose_renewable_energy  purpose_small_business  \\\n",
       "0              0                         0                       0   \n",
       "1              0                         0                       0   \n",
       "2              0                         0                       0   \n",
       "3              0                         0                       0   \n",
       "4              0                         0                       0   \n",
       "\n",
       "   purpose_vacation  purpose_wedding  application_type_Joint App  \\\n",
       "0                 0                0                           0   \n",
       "1                 0                0                           0   \n",
       "2                 0                0                           0   \n",
       "3                 0                0                           1   \n",
       "4                 0                0                           0   \n",
       "\n",
       "   region_Northeast  region_South  region_West  \n",
       "0                 0             1            0  \n",
       "1                 1             0            0  \n",
       "2                 0             1            0  \n",
       "3                 0             0            0  \n",
       "4                 0             1            0  \n",
       "\n",
       "[5 rows x 53 columns]"
      ]
     },
     "execution_count": 117,
     "metadata": {},
     "output_type": "execute_result"
    }
   ],
   "source": [
    "x_smote_scaled.drop(columns=sub_grade_columns,axis=1).head()"
   ]
  },
  {
   "cell_type": "code",
   "execution_count": 49,
   "metadata": {
    "ExecuteTime": {
     "end_time": "2021-04-12T15:05:08.385452Z",
     "start_time": "2021-04-12T15:05:08.373458Z"
    }
   },
   "outputs": [
    {
     "data": {
      "text/plain": [
       "36"
      ]
     },
     "execution_count": 49,
     "metadata": {},
     "output_type": "execute_result"
    }
   ],
   "source": [
    "len(pval_drops)"
   ]
  },
  {
   "cell_type": "code",
   "execution_count": 40,
   "metadata": {
    "ExecuteTime": {
     "end_time": "2021-04-09T17:13:26.155811Z",
     "start_time": "2021-04-09T17:13:26.140809Z"
    }
   },
   "outputs": [],
   "source": [
    "def visualize_training_results(results):\n",
    "    history = results.history\n",
    "    plt.figure()\n",
    "    plt.plot(history['val_loss'])\n",
    "    plt.plot(history['loss'])\n",
    "    plt.legend(['val_loss', 'loss'])\n",
    "    plt.title('Loss')\n",
    "    plt.xlabel('Epochs')\n",
    "    plt.ylabel('Loss')\n",
    "    plt.show()\n",
    "    \n",
    "    plt.figure()\n",
    "    plt.plot(history['val_acc'])\n",
    "    plt.plot(history['acc'])\n",
    "    plt.legend(['val_acc', 'acc'])\n",
    "    plt.title('Accuracy')\n",
    "    plt.xlabel('Epochs')\n",
    "    plt.ylabel('Accuracy')\n",
    "    plt.show()"
   ]
  },
  {
   "cell_type": "markdown",
   "metadata": {},
   "source": [
    "## Log Reg smote sig"
   ]
  },
  {
   "cell_type": "code",
   "execution_count": 47,
   "metadata": {
    "ExecuteTime": {
     "end_time": "2021-04-12T14:59:11.435828Z",
     "start_time": "2021-04-12T14:58:02.181290Z"
    }
   },
   "outputs": [
    {
     "name": "stderr",
     "output_type": "stream",
     "text": [
      "C:\\Users\\sergi\\anaconda3\\envs\\learn-env\\lib\\site-packages\\sklearn\\utils\\validation.py:72: DataConversionWarning: A column-vector y was passed when a 1d array was expected. Please change the shape of y to (n_samples, ), for example using ravel().\n",
      "  return f(**kwargs)\n",
      "[Parallel(n_jobs=1)]: Using backend SequentialBackend with 1 concurrent workers.\n",
      "[Parallel(n_jobs=1)]: Done   1 out of   1 | elapsed:  1.1min finished\n"
     ]
    },
    {
     "name": "stdout",
     "output_type": "stream",
     "text": [
      "AUC: 0.6457488751196597\n",
      "[[296378  55189]\n",
      " [ 57268  26244]]\n",
      "              precision    recall  f1-score   support\n",
      "\n",
      "           0       0.84      0.84      0.84    351567\n",
      "           1       0.32      0.31      0.32     83512\n",
      "\n",
      "    accuracy                           0.74    435079\n",
      "   macro avg       0.58      0.58      0.58    435079\n",
      "weighted avg       0.74      0.74      0.74    435079\n",
      "\n"
     ]
    },
    {
     "data": {
      "image/png": "[encoded data removed]",
      "text/plain": [
       "<Figure size 432x288 with 2 Axes>"
      ]
     },
     "metadata": {
      "needs_background": "light"
     },
     "output_type": "display_data"
    }
   ],
   "source": [
    "logreg = LogisticRegression(C=1e12,fit_intercept=False,solver='lbfgs',penalty='l2',max_iter=1500,verbose=1)\n",
    "log_model = logreg.fit(x_train_final_z.drop(columns=sub_grade_columns,axis=1), y_train_final_z)\n",
    "y_hat_log = logreg.predict(x_test_scaled_z.drop(columns=sub_grade_columns,axis=1))\n",
    "y_score_log = log_model.decision_function(x_test_scaled_z.drop(columns=sub_grade_columns,axis=1))\n",
    "fpr,tpr,thresholds = roc_curve(y_test_z,y_score_log)\n",
    "\n",
    "print('AUC: {}'.format(auc(fpr, tpr)))\n",
    "cf = confusion_matrix(y_test_z,y_hat_log)\n",
    "\n",
    "plot_confusion_matrix(log_model,x_test_scaled_z.drop(columns=sub_grade_columns,axis=1),y_test_z,cmap=plt.cm.Blues,\n",
    "                     display_labels=[\"Fully Paid\", \"Charged Off\"],\n",
    "                      values_format=\".5g\")\n",
    "plt.title(\"Logistic Regression Confusion Matrix\")\n",
    "\n",
    "print(confusion_matrix(y_test_z, y_hat_log))\n",
    "print(classification_report(y_test_z, y_hat_log))"
   ]
  },
  {
   "cell_type": "code",
   "execution_count": 44,
   "metadata": {
    "ExecuteTime": {
     "end_time": "2021-04-12T14:35:17.989348Z",
     "start_time": "2021-04-12T14:35:17.983348Z"
    }
   },
   "outputs": [],
   "source": [
    "forest = RandomForestClassifier()"
   ]
  },
  {
   "cell_type": "code",
   "execution_count": null,
   "metadata": {
    "ExecuteTime": {
     "end_time": "2021-04-12T14:38:51.638075Z",
     "start_time": "2021-04-12T14:35:39.126Z"
    }
   },
   "outputs": [],
   "source": [
    "forest.fit(x_train_final_z.drop(columns=sub_grade_columns,axis=1),y_train_final_z)\n"
   ]
  },
  {
   "cell_type": "code",
   "execution_count": 45,
   "metadata": {
    "ExecuteTime": {
     "end_time": "2021-04-12T14:41:17.186298Z",
     "start_time": "2021-04-12T14:39:45.105653Z"
    }
   },
   "outputs": [
    {
     "ename": "NotFittedError",
     "evalue": "This RandomForestClassifier instance is not fitted yet. Call 'fit' with appropriate arguments before using this estimator.",
     "output_type": "error",
     "traceback": [
      "\u001b[1;31m---------------------------------------------------------------------------\u001b[0m",
      "\u001b[1;31mNotFittedError\u001b[0m                            Traceback (most recent call last)",
      "\u001b[1;32m<ipython-input-45-ded31b7a5580>\u001b[0m in \u001b[0;36m<module>\u001b[1;34m\u001b[0m\n\u001b[1;32m----> 1\u001b[1;33m \u001b[0my_pred_tree\u001b[0m \u001b[1;33m=\u001b[0m \u001b[0mforest\u001b[0m\u001b[1;33m.\u001b[0m\u001b[0mpredict\u001b[0m\u001b[1;33m(\u001b[0m\u001b[0mx_test_scaled_z\u001b[0m\u001b[1;33m.\u001b[0m\u001b[0mdrop\u001b[0m\u001b[1;33m(\u001b[0m\u001b[0mcolumns\u001b[0m\u001b[1;33m=\u001b[0m\u001b[0msub_grade_columns\u001b[0m\u001b[1;33m,\u001b[0m\u001b[0maxis\u001b[0m\u001b[1;33m=\u001b[0m\u001b[1;36m1\u001b[0m\u001b[1;33m)\u001b[0m\u001b[1;33m)\u001b[0m\u001b[1;33m\u001b[0m\u001b[1;33m\u001b[0m\u001b[0m\n\u001b[0m\u001b[0;32m      2\u001b[0m \u001b[1;33m\u001b[0m\u001b[0m\n\u001b[0;32m      3\u001b[0m \u001b[0mfpr\u001b[0m\u001b[1;33m,\u001b[0m \u001b[0mtpr\u001b[0m\u001b[1;33m,\u001b[0m \u001b[0mthresholds\u001b[0m \u001b[1;33m=\u001b[0m \u001b[0mroc_curve\u001b[0m\u001b[1;33m(\u001b[0m\u001b[0my_test_z\u001b[0m\u001b[1;33m,\u001b[0m \u001b[0my_pred_tree\u001b[0m\u001b[1;33m)\u001b[0m\u001b[1;33m\u001b[0m\u001b[1;33m\u001b[0m\u001b[0m\n\u001b[0;32m      4\u001b[0m \u001b[1;33m\u001b[0m\u001b[0m\n\u001b[0;32m      5\u001b[0m \u001b[0mprint\u001b[0m\u001b[1;33m(\u001b[0m\u001b[1;34m'AUC: {}'\u001b[0m\u001b[1;33m.\u001b[0m\u001b[0mformat\u001b[0m\u001b[1;33m(\u001b[0m\u001b[0mauc\u001b[0m\u001b[1;33m(\u001b[0m\u001b[0mfpr\u001b[0m\u001b[1;33m,\u001b[0m \u001b[0mtpr\u001b[0m\u001b[1;33m)\u001b[0m\u001b[1;33m)\u001b[0m\u001b[1;33m)\u001b[0m\u001b[1;33m\u001b[0m\u001b[1;33m\u001b[0m\u001b[0m\n",
      "\u001b[1;32m~\\anaconda3\\envs\\learn-env\\lib\\site-packages\\sklearn\\ensemble\\_forest.py\u001b[0m in \u001b[0;36mpredict\u001b[1;34m(self, X)\u001b[0m\n\u001b[0;32m    627\u001b[0m             \u001b[0mThe\u001b[0m \u001b[0mpredicted\u001b[0m \u001b[0mclasses\u001b[0m\u001b[1;33m.\u001b[0m\u001b[1;33m\u001b[0m\u001b[1;33m\u001b[0m\u001b[0m\n\u001b[0;32m    628\u001b[0m         \"\"\"\n\u001b[1;32m--> 629\u001b[1;33m         \u001b[0mproba\u001b[0m \u001b[1;33m=\u001b[0m \u001b[0mself\u001b[0m\u001b[1;33m.\u001b[0m\u001b[0mpredict_proba\u001b[0m\u001b[1;33m(\u001b[0m\u001b[0mX\u001b[0m\u001b[1;33m)\u001b[0m\u001b[1;33m\u001b[0m\u001b[1;33m\u001b[0m\u001b[0m\n\u001b[0m\u001b[0;32m    630\u001b[0m \u001b[1;33m\u001b[0m\u001b[0m\n\u001b[0;32m    631\u001b[0m         \u001b[1;32mif\u001b[0m \u001b[0mself\u001b[0m\u001b[1;33m.\u001b[0m\u001b[0mn_outputs_\u001b[0m \u001b[1;33m==\u001b[0m \u001b[1;36m1\u001b[0m\u001b[1;33m:\u001b[0m\u001b[1;33m\u001b[0m\u001b[1;33m\u001b[0m\u001b[0m\n",
      "\u001b[1;32m~\\anaconda3\\envs\\learn-env\\lib\\site-packages\\sklearn\\ensemble\\_forest.py\u001b[0m in \u001b[0;36mpredict_proba\u001b[1;34m(self, X)\u001b[0m\n\u001b[0;32m    669\u001b[0m             \u001b[0mclasses\u001b[0m \u001b[0mcorresponds\u001b[0m \u001b[0mto\u001b[0m \u001b[0mthat\u001b[0m \u001b[1;32min\u001b[0m \u001b[0mthe\u001b[0m \u001b[0mattribute\u001b[0m \u001b[1;33m:\u001b[0m\u001b[0mterm\u001b[0m\u001b[1;33m:\u001b[0m\u001b[0;31m`\u001b[0m\u001b[0mclasses_\u001b[0m\u001b[0;31m`\u001b[0m\u001b[1;33m.\u001b[0m\u001b[1;33m\u001b[0m\u001b[1;33m\u001b[0m\u001b[0m\n\u001b[0;32m    670\u001b[0m         \"\"\"\n\u001b[1;32m--> 671\u001b[1;33m         \u001b[0mcheck_is_fitted\u001b[0m\u001b[1;33m(\u001b[0m\u001b[0mself\u001b[0m\u001b[1;33m)\u001b[0m\u001b[1;33m\u001b[0m\u001b[1;33m\u001b[0m\u001b[0m\n\u001b[0m\u001b[0;32m    672\u001b[0m         \u001b[1;31m# Check data\u001b[0m\u001b[1;33m\u001b[0m\u001b[1;33m\u001b[0m\u001b[1;33m\u001b[0m\u001b[0m\n\u001b[0;32m    673\u001b[0m         \u001b[0mX\u001b[0m \u001b[1;33m=\u001b[0m \u001b[0mself\u001b[0m\u001b[1;33m.\u001b[0m\u001b[0m_validate_X_predict\u001b[0m\u001b[1;33m(\u001b[0m\u001b[0mX\u001b[0m\u001b[1;33m)\u001b[0m\u001b[1;33m\u001b[0m\u001b[1;33m\u001b[0m\u001b[0m\n",
      "\u001b[1;32m~\\anaconda3\\envs\\learn-env\\lib\\site-packages\\sklearn\\utils\\validation.py\u001b[0m in \u001b[0;36minner_f\u001b[1;34m(*args, **kwargs)\u001b[0m\n\u001b[0;32m     70\u001b[0m                           FutureWarning)\n\u001b[0;32m     71\u001b[0m         \u001b[0mkwargs\u001b[0m\u001b[1;33m.\u001b[0m\u001b[0mupdate\u001b[0m\u001b[1;33m(\u001b[0m\u001b[1;33m{\u001b[0m\u001b[0mk\u001b[0m\u001b[1;33m:\u001b[0m \u001b[0marg\u001b[0m \u001b[1;32mfor\u001b[0m \u001b[0mk\u001b[0m\u001b[1;33m,\u001b[0m \u001b[0marg\u001b[0m \u001b[1;32min\u001b[0m \u001b[0mzip\u001b[0m\u001b[1;33m(\u001b[0m\u001b[0msig\u001b[0m\u001b[1;33m.\u001b[0m\u001b[0mparameters\u001b[0m\u001b[1;33m,\u001b[0m \u001b[0margs\u001b[0m\u001b[1;33m)\u001b[0m\u001b[1;33m}\u001b[0m\u001b[1;33m)\u001b[0m\u001b[1;33m\u001b[0m\u001b[1;33m\u001b[0m\u001b[0m\n\u001b[1;32m---> 72\u001b[1;33m         \u001b[1;32mreturn\u001b[0m \u001b[0mf\u001b[0m\u001b[1;33m(\u001b[0m\u001b[1;33m**\u001b[0m\u001b[0mkwargs\u001b[0m\u001b[1;33m)\u001b[0m\u001b[1;33m\u001b[0m\u001b[1;33m\u001b[0m\u001b[0m\n\u001b[0m\u001b[0;32m     73\u001b[0m     \u001b[1;32mreturn\u001b[0m \u001b[0minner_f\u001b[0m\u001b[1;33m\u001b[0m\u001b[1;33m\u001b[0m\u001b[0m\n\u001b[0;32m     74\u001b[0m \u001b[1;33m\u001b[0m\u001b[0m\n",
      "\u001b[1;32m~\\anaconda3\\envs\\learn-env\\lib\\site-packages\\sklearn\\utils\\validation.py\u001b[0m in \u001b[0;36mcheck_is_fitted\u001b[1;34m(estimator, attributes, msg, all_or_any)\u001b[0m\n\u001b[0;32m   1017\u001b[0m \u001b[1;33m\u001b[0m\u001b[0m\n\u001b[0;32m   1018\u001b[0m     \u001b[1;32mif\u001b[0m \u001b[1;32mnot\u001b[0m \u001b[0mattrs\u001b[0m\u001b[1;33m:\u001b[0m\u001b[1;33m\u001b[0m\u001b[1;33m\u001b[0m\u001b[0m\n\u001b[1;32m-> 1019\u001b[1;33m         \u001b[1;32mraise\u001b[0m \u001b[0mNotFittedError\u001b[0m\u001b[1;33m(\u001b[0m\u001b[0mmsg\u001b[0m \u001b[1;33m%\u001b[0m \u001b[1;33m{\u001b[0m\u001b[1;34m'name'\u001b[0m\u001b[1;33m:\u001b[0m \u001b[0mtype\u001b[0m\u001b[1;33m(\u001b[0m\u001b[0mestimator\u001b[0m\u001b[1;33m)\u001b[0m\u001b[1;33m.\u001b[0m\u001b[0m__name__\u001b[0m\u001b[1;33m}\u001b[0m\u001b[1;33m)\u001b[0m\u001b[1;33m\u001b[0m\u001b[1;33m\u001b[0m\u001b[0m\n\u001b[0m\u001b[0;32m   1020\u001b[0m \u001b[1;33m\u001b[0m\u001b[0m\n\u001b[0;32m   1021\u001b[0m \u001b[1;33m\u001b[0m\u001b[0m\n",
      "\u001b[1;31mNotFittedError\u001b[0m: This RandomForestClassifier instance is not fitted yet. Call 'fit' with appropriate arguments before using this estimator."
     ]
    }
   ],
   "source": [
    "\n",
    "y_pred_tree = forest.predict(x_test_scaled_z.drop(columns=sub_grade_columns,axis=1))\n",
    "\n",
    "fpr, tpr, thresholds = roc_curve(y_test_z, y_pred_tree)\n",
    "\n",
    "print('AUC: {}'.format(auc(fpr, tpr)))\n",
    "cf = confusion_matrix(y_test_z,y_pred_tree)\n",
    "\n",
    "plot_confusion_matrix(forest,x_test_scaled_z.drop(columns=sub_grade_columns,axis=1),y_test_z,cmap=plt.cm.Blues,\n",
    "                     display_labels=[\"not bankrupt\", \"bankrupt\"],\n",
    "                      values_format=\".5g\")\n",
    "plt.title(\"Decision Tree Confusion Matrix\")\n",
    "\n",
    "print(confusion_matrix(y_test_z, y_pred_tree))\n",
    "print(classification_report(y_test_z, y_pred_tree))"
   ]
  },
  {
   "cell_type": "code",
   "execution_count": null,
   "metadata": {
    "ExecuteTime": {
     "end_time": "2021-04-12T09:02:09.219256Z",
     "start_time": "2021-04-12T08:56:49.786Z"
    }
   },
   "outputs": [],
   "source": [
    "knn = KNeighborsClassifier()"
   ]
  },
  {
   "cell_type": "code",
   "execution_count": null,
   "metadata": {
    "ExecuteTime": {
     "end_time": "2021-04-12T09:02:09.226256Z",
     "start_time": "2021-04-12T08:56:50.466Z"
    }
   },
   "outputs": [],
   "source": [
    "knn.fit(x_train_final_z.drop(columns=sub_grade_columns,axis=1),y_train_final_z)\n",
    "\n",
    "y_pred_knn = knn.predict(x_test_scaled_z.drop(columns=sub_grade_columns,axis=1))\n",
    "\n",
    "fpr, tpr, thresholds = roc_curve(y_test_z, y_pred_knn)\n",
    "\n",
    "print('AUC: {}'.format(auc(fpr, tpr)))\n",
    "cf = confusion_matrix(y_test_z,y_pred_knn)\n",
    "\n",
    "plot_confusion_matrix(knn,x_test_scaled_z.drop(columns=sub_grade_columns,axis=1),y_test_z,cmap=plt.cm.Blues,\n",
    "                     display_labels=[\"not bankrupt\", \"bankrupt\"],\n",
    "                      values_format=\".5g\")\n",
    "plt.title(\"Decision Tree Confusion Matrix\")\n",
    "\n",
    "print(confusion_matrix(y_test_z, y_pred_knn))\n",
    "print(classification_report(y_test_z, y_pred_knn))"
   ]
  },
  {
   "cell_type": "code",
   "execution_count": null,
   "metadata": {},
   "outputs": [],
   "source": []
  },
  {
   "cell_type": "code",
   "execution_count": null,
   "metadata": {},
   "outputs": [],
   "source": []
  },
  {
   "cell_type": "code",
   "execution_count": 224,
   "metadata": {
    "ExecuteTime": {
     "end_time": "2021-04-12T04:11:17.096641Z",
     "start_time": "2021-04-12T04:00:53.389171Z"
    },
    "scrolled": true
   },
   "outputs": [
    {
     "name": "stderr",
     "output_type": "stream",
     "text": [
      "[Parallel(n_jobs=1)]: Using backend SequentialBackend with 1 concurrent workers.\n",
      "C:\\Users\\sergi\\anaconda3\\envs\\learn-env\\lib\\site-packages\\sklearn\\linear_model\\_logistic.py:762: ConvergenceWarning: lbfgs failed to converge (status=1):\n",
      "STOP: TOTAL NO. of ITERATIONS REACHED LIMIT.\n",
      "\n",
      "Increase the number of iterations (max_iter) or scale the data as shown in:\n",
      "    https://scikit-learn.org/stable/modules/preprocessing.html\n",
      "Please also refer to the documentation for alternative solver options:\n",
      "    https://scikit-learn.org/stable/modules/linear_model.html#logistic-regression\n",
      "  n_iter_i = _check_optimize_result(\n",
      "[Parallel(n_jobs=1)]: Done   1 out of   1 | elapsed: 10.3min finished\n"
     ]
    },
    {
     "name": "stdout",
     "output_type": "stream",
     "text": [
      "AUC: 0.622667158191716\n",
      "[[361878  58394]\n",
      " [ 78008  22802]]\n",
      "              precision    recall  f1-score   support\n",
      "\n",
      "           0       0.82      0.86      0.84    420272\n",
      "           1       0.28      0.23      0.25    100810\n",
      "\n",
      "    accuracy                           0.74    521082\n",
      "   macro avg       0.55      0.54      0.55    521082\n",
      "weighted avg       0.72      0.74      0.73    521082\n",
      "\n"
     ]
    },
    {
     "data": {
      "image/png": "[encoded data removed]",
      "text/plain": [
       "<Figure size 432x288 with 2 Axes>"
      ]
     },
     "metadata": {
      "needs_background": "light"
     },
     "output_type": "display_data"
    }
   ],
   "source": [
    "logreg = LogisticRegression(C=1e7,fit_intercept=False,solver='lbfgs',penalty='l2',max_iter=2500,verbose=1)\n",
    "log_model = logreg.fit(x_train_final_sig.drop(columns=sub_grade_columns,axis=1), y_train_final_1)\n",
    "y_hat_log = logreg.predict(x_test_sig.drop(columns=sub_grade_columns,axis=1))\n",
    "y_score_log = log_model.decision_function(x_test_sig.drop(columns=sub_grade_columns,axis=1))\n",
    "fpr,tpr,thresholds = roc_curve(y_test,y_score_log)\n",
    "\n",
    "print('AUC: {}'.format(auc(fpr, tpr)))\n",
    "cf = confusion_matrix(y_test,y_hat_log)\n",
    "\n",
    "plot_confusion_matrix(log_model,x_test_sig.drop(columns=sub_grade_columns,axis=1),y_test,cmap=plt.cm.Blues,\n",
    "                     display_labels=[\"Fully Paid\", \"Charged Off\"],\n",
    "                      values_format=\".5g\")\n",
    "plt.title(\"Logistic Regression Confusion Matrix\")\n",
    "\n",
    "print(confusion_matrix(y_test, y_hat_log))\n",
    "print(classification_report(y_test, y_hat_log))"
   ]
  },
  {
   "cell_type": "code",
   "execution_count": null,
   "metadata": {},
   "outputs": [],
   "source": []
  },
  {
   "cell_type": "code",
   "execution_count": null,
   "metadata": {},
   "outputs": [],
   "source": []
  },
  {
   "cell_type": "code",
   "execution_count": null,
   "metadata": {},
   "outputs": [],
   "source": []
  },
  {
   "cell_type": "markdown",
   "metadata": {},
   "source": [
    "## Log Reg Smote Scaled Min Max"
   ]
  },
  {
   "cell_type": "code",
   "execution_count": 207,
   "metadata": {
    "ExecuteTime": {
     "end_time": "2021-04-12T01:24:59.220062Z",
     "start_time": "2021-04-12T01:23:29.967031Z"
    }
   },
   "outputs": [
    {
     "name": "stderr",
     "output_type": "stream",
     "text": [
      "[Parallel(n_jobs=1)]: Using backend SequentialBackend with 1 concurrent workers.\n",
      "[Parallel(n_jobs=1)]: Done   1 out of   1 | elapsed:  1.4min finished\n"
     ]
    },
    {
     "name": "stdout",
     "output_type": "stream",
     "text": [
      "AUC: 0.6614425417887148\n",
      "[[358010  62262]\n",
      " [ 69467  31343]]\n",
      "              precision    recall  f1-score   support\n",
      "\n",
      "           0       0.84      0.85      0.84    420272\n",
      "           1       0.33      0.31      0.32    100810\n",
      "\n",
      "    accuracy                           0.75    521082\n",
      "   macro avg       0.59      0.58      0.58    521082\n",
      "weighted avg       0.74      0.75      0.74    521082\n",
      "\n"
     ]
    },
    {
     "data": {
      "image/png": "[encoded data removed]",
      "text/plain": [
       "<Figure size 432x288 with 2 Axes>"
      ]
     },
     "metadata": {
      "needs_background": "light"
     },
     "output_type": "display_data"
    }
   ],
   "source": [
    "logreg = LogisticRegression(C=1e7,fit_intercept=False,solver='lbfgs',penalty='l2',max_iter=1500,verbose=1)\n",
    "log_model = logreg.fit(x_train_final.drop(columns=pval_drops,axis=1), y_train_final)\n",
    "y_hat_log = logreg.predict(x_test_scaled.drop(columns=pval_drops,axis=1))\n",
    "y_score_log = log_model.decision_function(x_test_scaled.drop(columns=pval_drops,axis=1))\n",
    "fpr,tpr,thresholds = roc_curve(y_test,y_score_log)\n",
    "\n",
    "print('AUC: {}'.format(auc(fpr, tpr)))\n",
    "cf = confusion_matrix(y_test,y_hat_log)\n",
    "\n",
    "plot_confusion_matrix(log_model,x_test_scaled.drop(columns=pval_drops,axis=1),y_test,cmap=plt.cm.Blues,\n",
    "                     display_labels=[\"Fully Paid\", \"Charged Off\"],\n",
    "                      values_format=\".5g\")\n",
    "plt.title(\"Logistic Regression Confusion Matrix\")\n",
    "\n",
    "print(confusion_matrix(y_test, y_hat_log))\n",
    "print(classification_report(y_test, y_hat_log)) "
   ]
  },
  {
   "cell_type": "code",
   "execution_count": null,
   "metadata": {
    "ExecuteTime": {
     "end_time": "2021-04-11T23:50:48.503126Z",
     "start_time": "2021-04-11T23:45:07.742Z"
    }
   },
   "outputs": [],
   "source": [
    "bad_p_values = 'home_ownership_NONE','home_ownership_OTHER','purpose_educational','delinq_amnt','tax_liens','annual_inc'"
   ]
  },
  {
   "cell_type": "code",
   "execution_count": 52,
   "metadata": {
    "ExecuteTime": {
     "end_time": "2021-04-12T15:42:56.365836Z",
     "start_time": "2021-04-12T15:42:55.565274Z"
    }
   },
   "outputs": [],
   "source": [
    "import statsmodels.api as sm"
   ]
  },
  {
   "cell_type": "code",
   "execution_count": 55,
   "metadata": {
    "ExecuteTime": {
     "end_time": "2021-04-12T15:55:44.245135Z",
     "start_time": "2021-04-12T15:50:56.311999Z"
    },
    "scrolled": false
   },
   "outputs": [
    {
     "name": "stdout",
     "output_type": "stream",
     "text": [
      "Optimization terminated successfully.\n",
      "         Current function value: 0.446989\n",
      "         Iterations: 314\n",
      "         Function evaluations: 316\n",
      "         Gradient evaluations: 316\n"
     ]
    },
    {
     "name": "stderr",
     "output_type": "stream",
     "text": [
      "C:\\Users\\sergi\\anaconda3\\envs\\learn-env\\lib\\site-packages\\statsmodels\\base\\model.py:547: HessianInversionWarning: Inverting hessian failed, no bse or cov_params available\n",
      "  warnings.warn('Inverting hessian failed, no bse or cov_params '\n"
     ]
    },
    {
     "name": "stdout",
     "output_type": "stream",
     "text": [
      "                           Logit Regression Results                           \n",
      "==============================================================================\n",
      "Dep. Variable:            loan_status   No. Observations:              1149279\n",
      "Model:                          Logit   Df Residuals:                  1149227\n",
      "Method:                           MLE   Df Model:                           51\n",
      "Date:                Mon, 12 Apr 2021   Pseudo R-squ.:                  0.3551\n",
      "Time:                        11:55:43   Log-Likelihood:            -5.1371e+05\n",
      "converged:                       True   LL-Null:                   -7.9662e+05\n",
      "Covariance Type:            nonrobust   LLR p-value:                     0.000\n",
      "=======================================================================================================\n",
      "                                          coef    std err          z      P>|z|      [0.025      0.975]\n",
      "-------------------------------------------------------------------------------------------------------\n",
      "loan_amnt                               1.0215        nan        nan        nan         nan         nan\n",
      "int_rate                                6.6460        nan        nan        nan         nan         nan\n",
      "installment                             0.0552        nan        nan        nan         nan         nan\n",
      "emp_length                             -0.1302        nan        nan        nan         nan         nan\n",
      "annual_inc                              2.0065        nan        nan        nan         nan         nan\n",
      "dti                                     2.7625        nan        nan        nan         nan         nan\n",
      "delinq_2yrs                             0.3724        nan        nan        nan         nan         nan\n",
      "inq_last_6mths                          0.3793        nan        nan        nan         nan         nan\n",
      "pub_rec                                 0.1687        nan        nan        nan         nan         nan\n",
      "total_acc                              -2.3472        nan        nan        nan         nan         nan\n",
      "acc_open_past_24mths                    1.3372        nan        nan        nan         nan         nan\n",
      "delinq_amnt                             0.2819        nan        nan        nan         nan         nan\n",
      "mort_acc                               -0.0717        nan        nan        nan         nan         nan\n",
      "mths_since_recent_inq                   0.3771        nan        nan        nan         nan         nan\n",
      "num_bc_tl                               1.1249        nan        nan        nan         nan         nan\n",
      "num_il_tl                               0.9059        nan        nan        nan         nan         nan\n",
      "num_op_rev_tl                           1.0961        nan        nan        nan         nan         nan\n",
      "pub_rec_bankruptcies                    0.0902        nan        nan        nan         nan         nan\n",
      "tax_liens                               0.0798        nan        nan        nan         nan         nan\n",
      "total_bc_limit                         -1.2841        nan        nan        nan         nan         nan\n",
      "total_il_high_credit_limit             -1.1805        nan        nan        nan         nan         nan\n",
      "average_fico                            0.1138        nan        nan        nan         nan         nan\n",
      "term_ 60 months                         0.6570        nan        nan        nan         nan         nan\n",
      "grade_B                                -1.4130        nan        nan        nan         nan         nan\n",
      "grade_C                                -1.6963        nan        nan        nan         nan         nan\n",
      "grade_D                                -2.7210        nan        nan        nan         nan         nan\n",
      "grade_E                                -3.8618        nan        nan        nan         nan         nan\n",
      "grade_F                                -4.9310        nan        nan        nan         nan         nan\n",
      "grade_G                                -5.6547        nan        nan        nan         nan         nan\n",
      "home_ownership_MORTGAGE                -1.1799        nan        nan        nan         nan         nan\n",
      "home_ownership_NONE                    -0.1388        nan        nan        nan         nan         nan\n",
      "home_ownership_OTHER                   -0.2036        nan        nan        nan         nan         nan\n",
      "home_ownership_OWN                     -1.4990        nan        nan        nan         nan         nan\n",
      "home_ownership_RENT                    -0.5942        nan        nan        nan         nan         nan\n",
      "verification_status_Source Verified    -0.1065        nan        nan        nan         nan         nan\n",
      "verification_status_Verified           -0.3152        nan        nan        nan         nan         nan\n",
      "purpose_credit_card                    -1.9044        nan        nan        nan         nan         nan\n",
      "purpose_debt_consolidation             -1.3058        nan        nan        nan         nan         nan\n",
      "purpose_educational                          0        nan        nan        nan         nan         nan\n",
      "purpose_home_improvement               -2.0627        nan        nan        nan         nan         nan\n",
      "purpose_house                          -2.0903        nan        nan        nan         nan         nan\n",
      "purpose_major_purchase                 -2.1248        nan        nan        nan         nan         nan\n",
      "purpose_medical                        -2.0317        nan        nan        nan         nan         nan\n",
      "purpose_moving                         -1.9217        nan        nan        nan         nan         nan\n",
      "purpose_other                          -1.9858        nan        nan        nan         nan         nan\n",
      "purpose_renewable_energy               -1.9065        nan        nan        nan         nan         nan\n",
      "purpose_small_business                 -1.6833        nan        nan        nan         nan         nan\n",
      "purpose_vacation                       -2.1289        nan        nan        nan         nan         nan\n",
      "purpose_wedding                        -2.7295        nan        nan        nan         nan         nan\n",
      "application_type_Joint App             -0.7395        nan        nan        nan         nan         nan\n",
      "region_Northeast                       -1.2373        nan        nan        nan         nan         nan\n",
      "region_South                           -1.1600        nan        nan        nan         nan         nan\n",
      "region_West                            -1.2980        nan        nan        nan         nan         nan\n",
      "=======================================================================================================\n"
     ]
    }
   ],
   "source": [
    "logit_model=sm.Logit(y_train_final_z,x_train_final_z.drop(columns=sub_grade_columns,axis=1))\n",
    "result=logit_model.fit(method='bfgs',maxiter=1300)\n",
    "print(result.summary())"
   ]
  },
  {
   "cell_type": "code",
   "execution_count": 130,
   "metadata": {
    "ExecuteTime": {
     "end_time": "2021-04-09T22:59:08.603065Z",
     "start_time": "2021-04-09T22:52:18.575759Z"
    }
   },
   "outputs": [
    {
     "name": "stdout",
     "output_type": "stream",
     "text": [
      "AUC: 0.660874126574027\n",
      "[[332552  87720]\n",
      " [ 59199  41611]]\n",
      "              precision    recall  f1-score   support\n",
      "\n",
      "           0       0.85      0.79      0.82    420272\n",
      "           1       0.32      0.41      0.36    100810\n",
      "\n",
      "    accuracy                           0.72    521082\n",
      "   macro avg       0.59      0.60      0.59    521082\n",
      "weighted avg       0.75      0.72      0.73    521082\n",
      "\n"
     ]
    },
    {
     "data": {
      "image/png": "[encoded data removed]",
      "text/plain": [
       "<Figure size 432x288 with 2 Axes>"
      ]
     },
     "metadata": {
      "needs_background": "light"
     },
     "output_type": "display_data"
    }
   ],
   "source": [
    "logreg = LogisticRegression(C=1e12,fit_intercept=False,solver='liblinear',penalty='l2',max_iter=300)\n",
    "log_model = logreg.fit(x_smote_scaled.drop(columns=all_grades,axis=1), y_smote)\n",
    "y_hat_log = logreg.predict(x_test_scaled.drop(columns=all_grades,axis=1))\n",
    "y_score_log = log_model.decision_function(x_test_scaled.drop(columns=all_grades,axis=1))\n",
    "fpr,tpr,thresholds = roc_curve(y_test,y_score_log)\n",
    "\n",
    "print('AUC: {}'.format(auc(fpr, tpr)))\n",
    "cf = confusion_matrix(y_test,y_hat_log)\n",
    "\n",
    "plot_confusion_matrix(log_model,x_test_scaled.drop(columns=all_grades,axis=1),y_test,cmap=plt.cm.Blues,\n",
    "                     display_labels=[\"Fully Paid\", \"Charged Off\"],\n",
    "                      values_format=\".5g\")\n",
    "plt.title(\"Logistic Regression Confusion Matrix\")\n",
    "\n",
    "print(confusion_matrix(y_test, y_hat_log))\n",
    "print(classification_report(y_test, y_hat_log)) "
   ]
  },
  {
   "cell_type": "code",
   "execution_count": null,
   "metadata": {},
   "outputs": [],
   "source": []
  },
  {
   "cell_type": "code",
   "execution_count": null,
   "metadata": {},
   "outputs": [],
   "source": []
  },
  {
   "cell_type": "code",
   "execution_count": null,
   "metadata": {},
   "outputs": [],
   "source": []
  },
  {
   "cell_type": "markdown",
   "metadata": {},
   "source": [
    "## Baseline ANN -  Tanh activation with sigmoid output"
   ]
  },
  {
   "cell_type": "code",
   "execution_count": 54,
   "metadata": {
    "ExecuteTime": {
     "end_time": "2021-04-09T18:29:20.574950Z",
     "start_time": "2021-04-09T18:29:20.562950Z"
    }
   },
   "outputs": [
    {
     "data": {
      "text/plain": [
       "(1371398,)"
      ]
     },
     "execution_count": 54,
     "metadata": {},
     "output_type": "execute_result"
    }
   ],
   "source": [
    "y_train_final.shape"
   ]
  },
  {
   "cell_type": "code",
   "execution_count": 92,
   "metadata": {
    "ExecuteTime": {
     "end_time": "2021-04-09T19:03:00.574028Z",
     "start_time": "2021-04-09T19:03:00.566027Z"
    }
   },
   "outputs": [],
   "source": [
    "\n",
    "# fit model with given number of nodes, returns test set accuracy\n",
    "def evaluate_model(n_layers, trainX, trainy, testX, testy,xval,yval):\n",
    "# configure the model based on the data\n",
    "    n_input, n_classes = trainX.shape[1], 1\n",
    "    # define model\n",
    "    model = models.Sequential()\n",
    "    model.add(layers.Dense(50, input_dim=n_input, activation='tanh'))\n",
    "    for _ in range(1, n_layers):\n",
    "        model.add(layers.Dense(25, activation='tanh'))\n",
    "    model.add(layers.Dense(n_classes, activation='sigmoid'))\n",
    "    \n",
    "    \n",
    "    # compile model\n",
    "    model.compile(loss='binary_crossentropy', optimizer='adam', metrics=['acc'])\n",
    "    # fit model on train set\n",
    "    early_stopping = [EarlyStopping(monitor='val_loss', patience=5), \n",
    "                  ModelCheckpoint(filepath='best_model.h5', monitor='val_loss', save_best_only=True)]\n",
    "    \n",
    "    history = model.fit(trainX, trainy, epochs=100,batch_size=256, verbose=1,callbacks=early_stopping,validation_data=(xval,yval))\n",
    "    # evaluate model on test set\n",
    "    saved= load_model('best_model.h5')\n",
    "    _, test_acc = saved.evaluate(testX, testy, verbose=1)\n",
    "    return history, test_acc"
   ]
  },
  {
   "cell_type": "code",
   "execution_count": 95,
   "metadata": {
    "ExecuteTime": {
     "end_time": "2021-04-09T20:05:47.440269Z",
     "start_time": "2021-04-09T19:48:08.164270Z"
    },
    "scrolled": true
   },
   "outputs": [
    {
     "name": "stdout",
     "output_type": "stream",
     "text": [
      "Epoch 1/100\n",
      "5358/5358 [==============================] - 9s 2ms/step - loss: 0.2998 - acc: 0.8684 - val_loss: 0.3080 - val_acc: 0.8641\n",
      "Epoch 2/100\n",
      "5358/5358 [==============================] - 9s 2ms/step - loss: 0.2923 - acc: 0.8716 - val_loss: 0.2920 - val_acc: 0.8716\n",
      "Epoch 3/100\n",
      "5358/5358 [==============================] - 9s 2ms/step - loss: 0.2904 - acc: 0.8729 - val_loss: 0.2881 - val_acc: 0.8736\n",
      "Epoch 4/100\n",
      "5358/5358 [==============================] - 9s 2ms/step - loss: 0.2889 - acc: 0.8736 - val_loss: 0.2875 - val_acc: 0.8743\n",
      "Epoch 5/100\n",
      "5358/5358 [==============================] - 9s 2ms/step - loss: 0.2880 - acc: 0.8743 - val_loss: 0.2864 - val_acc: 0.8750\n",
      "Epoch 6/100\n",
      "5358/5358 [==============================] - 9s 2ms/step - loss: 0.2874 - acc: 0.8746 - val_loss: 0.2868 - val_acc: 0.8752\n",
      "Epoch 7/100\n",
      "5358/5358 [==============================] - 9s 2ms/step - loss: 0.2868 - acc: 0.8749 - val_loss: 0.2880 - val_acc: 0.8736\n",
      "Epoch 8/100\n",
      "5358/5358 [==============================] - 9s 2ms/step - loss: 0.2865 - acc: 0.8751 - val_loss: 0.2863 - val_acc: 0.8754\n",
      "Epoch 9/100\n",
      "5358/5358 [==============================] - 9s 2ms/step - loss: 0.2862 - acc: 0.8753 - val_loss: 0.2864 - val_acc: 0.8753\n",
      "Epoch 10/100\n",
      "5358/5358 [==============================] - 9s 2ms/step - loss: 0.2858 - acc: 0.8753 - val_loss: 0.2855 - val_acc: 0.8759\n",
      "Epoch 11/100\n",
      "5358/5358 [==============================] - 9s 2ms/step - loss: 0.2856 - acc: 0.8756 - val_loss: 0.2848 - val_acc: 0.8754\n",
      "Epoch 12/100\n",
      "5358/5358 [==============================] - 9s 2ms/step - loss: 0.2854 - acc: 0.8757 - val_loss: 0.2843 - val_acc: 0.8765\n",
      "Epoch 13/100\n",
      "5358/5358 [==============================] - 9s 2ms/step - loss: 0.2853 - acc: 0.8757 - val_loss: 0.2851 - val_acc: 0.8765\n",
      "Epoch 14/100\n",
      "5358/5358 [==============================] - 9s 2ms/step - loss: 0.2850 - acc: 0.8759 - val_loss: 0.2848 - val_acc: 0.8764\n",
      "Epoch 15/100\n",
      "5358/5358 [==============================] - 9s 2ms/step - loss: 0.2850 - acc: 0.8759 - val_loss: 0.2851 - val_acc: 0.8757\n",
      "Epoch 16/100\n",
      "5358/5358 [==============================] - 9s 2ms/step - loss: 0.2847 - acc: 0.8760 - val_loss: 0.2842 - val_acc: 0.8764\n",
      "Epoch 17/100\n",
      "5358/5358 [==============================] - 9s 2ms/step - loss: 0.2846 - acc: 0.8761 - val_loss: 0.2856 - val_acc: 0.8746\n",
      "Epoch 18/100\n",
      "5358/5358 [==============================] - 9s 2ms/step - loss: 0.2845 - acc: 0.8762 - val_loss: 0.2843 - val_acc: 0.8763\n",
      "Epoch 19/100\n",
      "5358/5358 [==============================] - 9s 2ms/step - loss: 0.2844 - acc: 0.8763 - val_loss: 0.2838 - val_acc: 0.8764\n",
      "Epoch 20/100\n",
      "5358/5358 [==============================] - 9s 2ms/step - loss: 0.2842 - acc: 0.8764 - val_loss: 0.2837 - val_acc: 0.8762\n",
      "Epoch 21/100\n",
      "5358/5358 [==============================] - 9s 2ms/step - loss: 0.2841 - acc: 0.8764 - val_loss: 0.2837 - val_acc: 0.8765\n",
      "Epoch 22/100\n",
      "5358/5358 [==============================] - 9s 2ms/step - loss: 0.2840 - acc: 0.8764 - val_loss: 0.2841 - val_acc: 0.8762\n",
      "Epoch 23/100\n",
      "5358/5358 [==============================] - 9s 2ms/step - loss: 0.2840 - acc: 0.8764 - val_loss: 0.2835 - val_acc: 0.8768\n",
      "Epoch 24/100\n",
      "5358/5358 [==============================] - 9s 2ms/step - loss: 0.2838 - acc: 0.8765 - val_loss: 0.2844 - val_acc: 0.8766\n",
      "Epoch 25/100\n",
      "5358/5358 [==============================] - 9s 2ms/step - loss: 0.2837 - acc: 0.8765 - val_loss: 0.2834 - val_acc: 0.8768\n",
      "Epoch 26/100\n",
      "5358/5358 [==============================] - 9s 2ms/step - loss: 0.2836 - acc: 0.8766 - val_loss: 0.2838 - val_acc: 0.8766\n",
      "Epoch 27/100\n",
      "5358/5358 [==============================] - 9s 2ms/step - loss: 0.2835 - acc: 0.8766 - val_loss: 0.2844 - val_acc: 0.8759\n",
      "Epoch 28/100\n",
      "5358/5358 [==============================] - 9s 2ms/step - loss: 0.2834 - acc: 0.8767 - val_loss: 0.2835 - val_acc: 0.8768\n",
      "Epoch 29/100\n",
      "5358/5358 [==============================] - 9s 2ms/step - loss: 0.2835 - acc: 0.8767 - val_loss: 0.2834 - val_acc: 0.8766\n",
      "Epoch 30/100\n",
      "5358/5358 [==============================] - 9s 2ms/step - loss: 0.2833 - acc: 0.8768 - val_loss: 0.2838 - val_acc: 0.8766\n",
      "Epoch 31/100\n",
      "5358/5358 [==============================] - 9s 2ms/step - loss: 0.2833 - acc: 0.8768 - val_loss: 0.2855 - val_acc: 0.8760\n",
      "Epoch 32/100\n",
      "5358/5358 [==============================] - 9s 2ms/step - loss: 0.2832 - acc: 0.8769 - val_loss: 0.2830 - val_acc: 0.8769\n",
      "Epoch 33/100\n",
      "5358/5358 [==============================] - 9s 2ms/step - loss: 0.2832 - acc: 0.8768 - val_loss: 0.2831 - val_acc: 0.8767\n",
      "Epoch 34/100\n",
      "5358/5358 [==============================] - 9s 2ms/step - loss: 0.2830 - acc: 0.8769 - val_loss: 0.2838 - val_acc: 0.8766\n",
      "Epoch 35/100\n",
      "5358/5358 [==============================] - 9s 2ms/step - loss: 0.2830 - acc: 0.8769 - val_loss: 0.2843 - val_acc: 0.8760\n",
      "Epoch 36/100\n",
      "5358/5358 [==============================] - 9s 2ms/step - loss: 0.2828 - acc: 0.8770 - val_loss: 0.2832 - val_acc: 0.8767\n",
      "Epoch 37/100\n",
      "5358/5358 [==============================] - 9s 2ms/step - loss: 0.2828 - acc: 0.8770 - val_loss: 0.2838 - val_acc: 0.8767\n",
      "    1/16284 [..............................] - ETA: 0s - loss: 0.4960 - acc: 0.7500WARNING:tensorflow:Callbacks method `on_test_batch_end` is slow compared to the batch time (batch time: 0.0000s vs `on_test_batch_end` time: 0.0010s). Check your callbacks.\n",
      "16284/16284 [==============================] - 9s 554us/step - loss: 0.4459 - acc: 0.8078\n",
      "layers=8: 0.808\n",
      "Epoch 1/100\n",
      "5358/5358 [==============================] - 9s 2ms/step - loss: 0.2996 - acc: 0.8685 - val_loss: 0.2917 - val_acc: 0.8716\n",
      "Epoch 2/100\n",
      "5358/5358 [==============================] - 9s 2ms/step - loss: 0.2928 - acc: 0.8713 - val_loss: 0.2902 - val_acc: 0.8723\n",
      "Epoch 3/100\n",
      "5358/5358 [==============================] - 9s 2ms/step - loss: 0.2916 - acc: 0.8718 - val_loss: 0.2963 - val_acc: 0.8721\n",
      "Epoch 4/100\n",
      "5358/5358 [==============================] - 9s 2ms/step - loss: 0.2902 - acc: 0.8728 - val_loss: 0.2877 - val_acc: 0.8743\n",
      "Epoch 5/100\n",
      "5358/5358 [==============================] - 9s 2ms/step - loss: 0.2885 - acc: 0.8740 - val_loss: 0.2865 - val_acc: 0.8754\n",
      "Epoch 6/100\n",
      "5358/5358 [==============================] - 11s 2ms/step - loss: 0.2879 - acc: 0.8743 - val_loss: 0.2865 - val_acc: 0.8750\n",
      "Epoch 7/100\n",
      "5358/5358 [==============================] - 12s 2ms/step - loss: 0.2874 - acc: 0.8748 - val_loss: 0.2854 - val_acc: 0.8759\n",
      "Epoch 8/100\n",
      "5358/5358 [==============================] - 11s 2ms/step - loss: 0.2869 - acc: 0.8750 - val_loss: 0.2861 - val_acc: 0.8752\n",
      "Epoch 9/100\n",
      "5358/5358 [==============================] - 14s 3ms/step - loss: 0.2865 - acc: 0.8752 - val_loss: 0.2864 - val_acc: 0.8747\n",
      "Epoch 10/100\n",
      "5358/5358 [==============================] - 13s 2ms/step - loss: 0.2863 - acc: 0.8752 - val_loss: 0.2858 - val_acc: 0.8756\n",
      "Epoch 11/100\n",
      "5358/5358 [==============================] - 12s 2ms/step - loss: 0.2860 - acc: 0.8755 - val_loss: 0.2863 - val_acc: 0.8750\n",
      "Epoch 12/100\n",
      "5358/5358 [==============================] - 13s 2ms/step - loss: 0.2857 - acc: 0.8755 - val_loss: 0.2867 - val_acc: 0.8758\n",
      "16284/16284 [==============================] - 12s 766us/step - loss: 0.4478 - acc: 0.8069\n",
      "layers=10: 0.807\n",
      "Epoch 1/100\n",
      "5358/5358 [==============================] - 14s 3ms/step - loss: 0.3005 - acc: 0.8683 - val_loss: 0.2929 - val_acc: 0.8706\n",
      "Epoch 2/100\n",
      "5358/5358 [==============================] - 14s 3ms/step - loss: 0.2934 - acc: 0.8710 - val_loss: 0.2921 - val_acc: 0.8707\n",
      "Epoch 3/100\n",
      "5358/5358 [==============================] - 12s 2ms/step - loss: 0.2920 - acc: 0.8718 - val_loss: 0.2910 - val_acc: 0.8733\n",
      "Epoch 4/100\n",
      "5358/5358 [==============================] - 13s 2ms/step - loss: 0.2900 - acc: 0.8730 - val_loss: 0.2885 - val_acc: 0.8739\n",
      "Epoch 5/100\n",
      "5358/5358 [==============================] - 13s 2ms/step - loss: 0.2892 - acc: 0.8736 - val_loss: 0.2868 - val_acc: 0.8750\n",
      "Epoch 6/100\n",
      "5358/5358 [==============================] - 13s 2ms/step - loss: 0.2882 - acc: 0.8742 - val_loss: 0.2879 - val_acc: 0.8740\n",
      "Epoch 7/100\n",
      "5358/5358 [==============================] - 13s 2ms/step - loss: 0.2877 - acc: 0.8745 - val_loss: 0.2866 - val_acc: 0.8757\n",
      "Epoch 8/100\n",
      "5358/5358 [==============================] - 13s 2ms/step - loss: 0.2873 - acc: 0.8747 - val_loss: 0.2862 - val_acc: 0.8753\n"
     ]
    },
    {
     "name": "stdout",
     "output_type": "stream",
     "text": [
      "Epoch 9/100\n",
      "5358/5358 [==============================] - 13s 2ms/step - loss: 0.2868 - acc: 0.8749 - val_loss: 0.2865 - val_acc: 0.8757\n",
      "Epoch 10/100\n",
      "5358/5358 [==============================] - 13s 2ms/step - loss: 0.2866 - acc: 0.8751 - val_loss: 0.2870 - val_acc: 0.8750\n",
      "Epoch 11/100\n",
      "5358/5358 [==============================] - 18s 3ms/step - loss: 0.2863 - acc: 0.8752 - val_loss: 0.2862 - val_acc: 0.8756\n",
      "Epoch 12/100\n",
      "5358/5358 [==============================] - 13s 2ms/step - loss: 0.2861 - acc: 0.8753 - val_loss: 0.2856 - val_acc: 0.8756\n",
      "Epoch 13/100\n",
      "5358/5358 [==============================] - 12s 2ms/step - loss: 0.2858 - acc: 0.8755 - val_loss: 0.2857 - val_acc: 0.8759\n",
      "Epoch 14/100\n",
      "5358/5358 [==============================] - 12s 2ms/step - loss: 0.2857 - acc: 0.8755 - val_loss: 0.2860 - val_acc: 0.8740\n",
      "Epoch 15/100\n",
      "5358/5358 [==============================] - 14s 3ms/step - loss: 0.2856 - acc: 0.8755 - val_loss: 0.2853 - val_acc: 0.8765\n",
      "Epoch 16/100\n",
      "5358/5358 [==============================] - 12s 2ms/step - loss: 0.2854 - acc: 0.8757 - val_loss: 0.2848 - val_acc: 0.8759\n",
      "Epoch 17/100\n",
      "5358/5358 [==============================] - 16s 3ms/step - loss: 0.2852 - acc: 0.8759 - val_loss: 0.2853 - val_acc: 0.8763\n",
      "Epoch 18/100\n",
      "5358/5358 [==============================] - 13s 2ms/step - loss: 0.2851 - acc: 0.8757 - val_loss: 0.2840 - val_acc: 0.8763\n",
      "Epoch 19/100\n",
      "5358/5358 [==============================] - 12s 2ms/step - loss: 0.2851 - acc: 0.8758 - val_loss: 0.2841 - val_acc: 0.8761\n",
      "Epoch 20/100\n",
      "5358/5358 [==============================] - 13s 2ms/step - loss: 0.2848 - acc: 0.8759 - val_loss: 0.2844 - val_acc: 0.8764\n",
      "Epoch 21/100\n",
      "5358/5358 [==============================] - 13s 2ms/step - loss: 0.2849 - acc: 0.8759 - val_loss: 0.2862 - val_acc: 0.8756\n",
      "Epoch 22/100\n",
      "5358/5358 [==============================] - 12s 2ms/step - loss: 0.2848 - acc: 0.8760 - val_loss: 0.2845 - val_acc: 0.8763\n",
      "Epoch 23/100\n",
      "5358/5358 [==============================] - 12s 2ms/step - loss: 0.2847 - acc: 0.8760 - val_loss: 0.2870 - val_acc: 0.8744\n",
      "16284/16284 [==============================] - 12s 716us/step - loss: 0.4457 - acc: 0.8079\n",
      "layers=12: 0.808\n",
      "Epoch 1/100\n",
      "5358/5358 [==============================] - 12s 2ms/step - loss: 0.3001 - acc: 0.8690 - val_loss: 0.2919 - val_acc: 0.8720\n",
      "Epoch 2/100\n",
      "5358/5358 [==============================] - 12s 2ms/step - loss: 0.2933 - acc: 0.8714 - val_loss: 0.2899 - val_acc: 0.8725\n",
      "Epoch 3/100\n",
      "5358/5358 [==============================] - 12s 2ms/step - loss: 0.2915 - acc: 0.8724 - val_loss: 0.2895 - val_acc: 0.8727\n",
      "Epoch 4/100\n",
      "5358/5358 [==============================] - 12s 2ms/step - loss: 0.2901 - acc: 0.8732 - val_loss: 0.2889 - val_acc: 0.8737\n",
      "Epoch 5/100\n",
      "5358/5358 [==============================] - 12s 2ms/step - loss: 0.2895 - acc: 0.8735 - val_loss: 0.2878 - val_acc: 0.8738\n",
      "Epoch 6/100\n",
      "5358/5358 [==============================] - 12s 2ms/step - loss: 0.2890 - acc: 0.8739 - val_loss: 0.2874 - val_acc: 0.8747\n",
      "Epoch 7/100\n",
      "5358/5358 [==============================] - 12s 2ms/step - loss: 0.2886 - acc: 0.8741 - val_loss: 0.2878 - val_acc: 0.8746\n",
      "Epoch 8/100\n",
      "5358/5358 [==============================] - 12s 2ms/step - loss: 0.2885 - acc: 0.8742 - val_loss: 0.2886 - val_acc: 0.8748\n",
      "Epoch 9/100\n",
      "5358/5358 [==============================] - 12s 2ms/step - loss: 0.2879 - acc: 0.8743 - val_loss: 0.2866 - val_acc: 0.8750\n",
      "Epoch 10/100\n",
      "5358/5358 [==============================] - 12s 2ms/step - loss: 0.2892 - acc: 0.8736 - val_loss: 0.2916 - val_acc: 0.8722\n",
      "Epoch 11/100\n",
      "5358/5358 [==============================] - 12s 2ms/step - loss: 0.2909 - acc: 0.8721 - val_loss: 0.2900 - val_acc: 0.8733\n",
      "Epoch 12/100\n",
      "5358/5358 [==============================] - 13s 3ms/step - loss: 0.2886 - acc: 0.8736 - val_loss: 0.2862 - val_acc: 0.8752\n",
      "Epoch 13/100\n",
      "5358/5358 [==============================] - 13s 2ms/step - loss: 0.2880 - acc: 0.8743 - val_loss: 0.2885 - val_acc: 0.8748\n",
      "Epoch 14/100\n",
      "5358/5358 [==============================] - 13s 2ms/step - loss: 0.2873 - acc: 0.8745 - val_loss: 0.2857 - val_acc: 0.8760\n",
      "Epoch 15/100\n",
      "5358/5358 [==============================] - 12s 2ms/step - loss: 0.2869 - acc: 0.8750 - val_loss: 0.2867 - val_acc: 0.8755\n",
      "Epoch 16/100\n",
      "5358/5358 [==============================] - 11s 2ms/step - loss: 0.2868 - acc: 0.8750 - val_loss: 0.2858 - val_acc: 0.8756\n",
      "Epoch 17/100\n",
      "5358/5358 [==============================] - 12s 2ms/step - loss: 0.2869 - acc: 0.8747 - val_loss: 0.2859 - val_acc: 0.8751\n",
      "Epoch 18/100\n",
      "5358/5358 [==============================] - 13s 2ms/step - loss: 0.2894 - acc: 0.8744 - val_loss: 0.2868 - val_acc: 0.8734\n",
      "Epoch 19/100\n",
      "5358/5358 [==============================] - 13s 2ms/step - loss: 0.2876 - acc: 0.8743 - val_loss: 0.2870 - val_acc: 0.8757\n",
      "16284/16284 [==============================] - 13s 827us/step - loss: 0.4497 - acc: 0.8069\n",
      "layers=14: 0.807\n"
     ]
    },
    {
     "data": {
      "image/png": "[encoded data removed]",
      "text/plain": [
       "<Figure size 432x288 with 1 Axes>"
      ]
     },
     "metadata": {
      "needs_background": "light"
     },
     "output_type": "display_data"
    }
   ],
   "source": [
    "# evaluate model and plot learning curve of model with given number of layers\n",
    "all_history = list()\n",
    "num_layers = [8,10,12,14]\n",
    "for n_layers in num_layers:\n",
    "    # evaluate model with a given number of layers\n",
    "    history, result = evaluate_model(n_layers, x_train_final,y_train_final, x_test_scaled, y_test,x_val,y_val)\n",
    "    print('layers=%d: %.3f' % (n_layers, result))\n",
    "    # plot learning curve\n",
    "    plt.plot(history.history['loss'], label=str(n_layers))\n",
    "plt.legend()\n",
    "plt.show()"
   ]
  },
  {
   "cell_type": "code",
   "execution_count": 152,
   "metadata": {
    "ExecuteTime": {
     "end_time": "2021-04-11T02:06:36.005777Z",
     "start_time": "2021-04-11T02:06:35.988809Z"
    }
   },
   "outputs": [
    {
     "data": {
      "text/plain": [
       "{'loss': [0.3791448473930359,\n",
       "  0.3574574887752533,\n",
       "  0.3461572527885437,\n",
       "  0.3422376811504364,\n",
       "  0.33967745304107666,\n",
       "  0.3376535177230835,\n",
       "  0.3367915749549866,\n",
       "  0.3355250954627991,\n",
       "  0.3348216712474823,\n",
       "  0.3343983590602875,\n",
       "  0.3333751857280731,\n",
       "  0.3317030668258667,\n",
       "  0.3259195387363434,\n",
       "  0.3233402371406555,\n",
       "  0.32227566838264465,\n",
       "  0.32148557901382446,\n",
       "  0.32030773162841797,\n",
       "  0.3194274306297302,\n",
       "  0.318688303232193,\n",
       "  0.3183433413505554,\n",
       "  0.31776878237724304,\n",
       "  0.31687411665916443,\n",
       "  0.3161795139312744,\n",
       "  0.3154022693634033,\n",
       "  0.3151480555534363,\n",
       "  0.31455209851264954,\n",
       "  0.31431132555007935,\n",
       "  0.31365951895713806,\n",
       "  0.3135871887207031,\n",
       "  0.3132961690425873,\n",
       "  0.3129062354564667,\n",
       "  0.3124050796031952,\n",
       "  0.312195360660553,\n",
       "  0.31200408935546875],\n",
       " 'acc': [0.8204882740974426,\n",
       "  0.8334232568740845,\n",
       "  0.8394900560379028,\n",
       "  0.8415040969848633,\n",
       "  0.843217670917511,\n",
       "  0.8442443609237671,\n",
       "  0.8446155190467834,\n",
       "  0.8454788327217102,\n",
       "  0.8458383083343506,\n",
       "  0.8461066484451294,\n",
       "  0.8467673063278198,\n",
       "  0.8477655649185181,\n",
       "  0.8512517809867859,\n",
       "  0.8527233004570007,\n",
       "  0.853165864944458,\n",
       "  0.8535363078117371,\n",
       "  0.8543230891227722,\n",
       "  0.8547139763832092,\n",
       "  0.8553913831710815,\n",
       "  0.8555495738983154,\n",
       "  0.8560337424278259,\n",
       "  0.8565719127655029,\n",
       "  0.8569313883781433,\n",
       "  0.8572558760643005,\n",
       "  0.8574556708335876,\n",
       "  0.8579726815223694,\n",
       "  0.8579099774360657,\n",
       "  0.8584174513816833,\n",
       "  0.8585297465324402,\n",
       "  0.8585822582244873,\n",
       "  0.8588221669197083,\n",
       "  0.8590445518493652,\n",
       "  0.8592880964279175,\n",
       "  0.859252393245697],\n",
       " 'val_loss': [0.3617967963218689,\n",
       "  0.3501048684120178,\n",
       "  0.34159746766090393,\n",
       "  0.3404087722301483,\n",
       "  0.34030693769454956,\n",
       "  0.3363932967185974,\n",
       "  0.3356834948062897,\n",
       "  0.3390023708343506,\n",
       "  0.33426159620285034,\n",
       "  0.33209681510925293,\n",
       "  0.33116230368614197,\n",
       "  0.3270970284938812,\n",
       "  0.3246159553527832,\n",
       "  0.321277916431427,\n",
       "  0.3211449682712555,\n",
       "  0.32152578234672546,\n",
       "  0.3192126452922821,\n",
       "  0.3191225528717041,\n",
       "  0.31902360916137695,\n",
       "  0.32441839575767517,\n",
       "  0.31750330328941345,\n",
       "  0.31794771552085876,\n",
       "  0.31390729546546936,\n",
       "  0.3167402148246765,\n",
       "  0.31729674339294434,\n",
       "  0.3138621747493744,\n",
       "  0.3128480911254883,\n",
       "  0.31361904740333557,\n",
       "  0.3113892674446106,\n",
       "  0.3198213279247284,\n",
       "  0.3139905631542206,\n",
       "  0.31436294317245483,\n",
       "  0.3120163679122925,\n",
       "  0.3121766149997711],\n",
       " 'val_acc': [0.8309955596923828,\n",
       "  0.8375086188316345,\n",
       "  0.8423134684562683,\n",
       "  0.842231810092926,\n",
       "  0.8422913551330566,\n",
       "  0.8450697660446167,\n",
       "  0.8448792099952698,\n",
       "  0.8431539535522461,\n",
       "  0.8459171056747437,\n",
       "  0.8471046686172485,\n",
       "  0.8481017351150513,\n",
       "  0.8507814407348633,\n",
       "  0.8517274856567383,\n",
       "  0.8534867167472839,\n",
       "  0.8536568880081177,\n",
       "  0.8537164330482483,\n",
       "  0.8550214171409607,\n",
       "  0.8546930551528931,\n",
       "  0.8551235198974609,\n",
       "  0.8506726026535034,\n",
       "  0.8561851978302002,\n",
       "  0.8553497791290283,\n",
       "  0.8587696552276611,\n",
       "  0.8565816283226013,\n",
       "  0.8552085757255554,\n",
       "  0.8582847714424133,\n",
       "  0.8588955402374268,\n",
       "  0.8587203025817871,\n",
       "  0.8596016764640808,\n",
       "  0.8551575541496277,\n",
       "  0.8595165610313416,\n",
       "  0.8579410910606384,\n",
       "  0.8594417572021484,\n",
       "  0.8594247102737427]}"
      ]
     },
     "execution_count": 152,
     "metadata": {},
     "output_type": "execute_result"
    }
   ],
   "source": [
    "history.history"
   ]
  },
  {
   "cell_type": "code",
   "execution_count": 154,
   "metadata": {
    "ExecuteTime": {
     "end_time": "2021-04-11T02:45:50.843742Z",
     "start_time": "2021-04-11T02:07:04.921846Z"
    }
   },
   "outputs": [
    {
     "name": "stdout",
     "output_type": "stream",
     "text": [
      "Epoch 1/100\n",
      "5337/5358 [============================>.] - ETA: 0s - loss: 0.3847 - acc: 0.8174WARNING:tensorflow:Callbacks method `on_test_batch_begin` is slow compared to the batch time (batch time: 0.0000s vs `on_test_batch_begin` time: 0.0010s). Check your callbacks.\n",
      "5358/5358 [==============================] - 11s 2ms/step - loss: 0.3846 - acc: 0.8174 - val_loss: 0.3630 - val_acc: 0.8300\n",
      "Epoch 2/100\n",
      "5358/5358 [==============================] - 12s 2ms/step - loss: 0.3618 - acc: 0.8306 - val_loss: 0.3556 - val_acc: 0.8344\n",
      "Epoch 3/100\n",
      "5358/5358 [==============================] - 10s 2ms/step - loss: 0.3536 - acc: 0.8359 - val_loss: 0.3454 - val_acc: 0.8405\n",
      "Epoch 4/100\n",
      "5358/5358 [==============================] - 10s 2ms/step - loss: 0.3444 - acc: 0.8408 - val_loss: 0.3444 - val_acc: 0.8394\n",
      "Epoch 5/100\n",
      "5358/5358 [==============================] - 10s 2ms/step - loss: 0.3405 - acc: 0.8427 - val_loss: 0.3419 - val_acc: 0.8413\n",
      "Epoch 6/100\n",
      "5358/5358 [==============================] - 10s 2ms/step - loss: 0.3381 - acc: 0.8439 - val_loss: 0.3353 - val_acc: 0.8451\n",
      "Epoch 7/100\n",
      "5358/5358 [==============================] - 10s 2ms/step - loss: 0.3364 - acc: 0.8451 - val_loss: 0.3341 - val_acc: 0.8459\n",
      "Epoch 8/100\n",
      "5358/5358 [==============================] - 10s 2ms/step - loss: 0.3352 - acc: 0.8457 - val_loss: 0.3345 - val_acc: 0.8462\n",
      "Epoch 9/100\n",
      "5358/5358 [==============================] - 10s 2ms/step - loss: 0.3342 - acc: 0.8463 - val_loss: 0.3369 - val_acc: 0.8435\n",
      "Epoch 10/100\n",
      "5358/5358 [==============================] - 10s 2ms/step - loss: 0.3335 - acc: 0.8465 - val_loss: 0.3339 - val_acc: 0.8462\n",
      "Epoch 11/100\n",
      "5358/5358 [==============================] - 10s 2ms/step - loss: 0.3328 - acc: 0.8469 - val_loss: 0.3324 - val_acc: 0.8477\n",
      "Epoch 12/100\n",
      "5358/5358 [==============================] - 10s 2ms/step - loss: 0.3321 - acc: 0.8475 - val_loss: 0.3327 - val_acc: 0.8469\n",
      "Epoch 13/100\n",
      "5358/5358 [==============================] - 10s 2ms/step - loss: 0.3318 - acc: 0.8477 - val_loss: 0.3500 - val_acc: 0.8418\n",
      "Epoch 14/100\n",
      "5358/5358 [==============================] - 10s 2ms/step - loss: 0.3312 - acc: 0.8482 - val_loss: 0.3303 - val_acc: 0.8474\n",
      "Epoch 15/100\n",
      "5358/5358 [==============================] - 10s 2ms/step - loss: 0.3308 - acc: 0.8483 - val_loss: 0.3370 - val_acc: 0.8448\n",
      "Epoch 16/100\n",
      "5358/5358 [==============================] - 10s 2ms/step - loss: 0.3304 - acc: 0.8485 - val_loss: 0.3358 - val_acc: 0.8453\n",
      "Epoch 17/100\n",
      "5358/5358 [==============================] - 10s 2ms/step - loss: 0.3299 - acc: 0.8488 - val_loss: 0.3293 - val_acc: 0.8494\n",
      "Epoch 18/100\n",
      "5358/5358 [==============================] - 10s 2ms/step - loss: 0.3297 - acc: 0.8490 - val_loss: 0.3293 - val_acc: 0.8492\n",
      "Epoch 19/100\n",
      "5358/5358 [==============================] - 10s 2ms/step - loss: 0.3294 - acc: 0.8491 - val_loss: 0.3280 - val_acc: 0.8499\n",
      "Epoch 20/100\n",
      "5358/5358 [==============================] - 10s 2ms/step - loss: 0.3288 - acc: 0.8495 - val_loss: 0.3300 - val_acc: 0.8488\n",
      "Epoch 21/100\n",
      "5358/5358 [==============================] - 10s 2ms/step - loss: 0.3285 - acc: 0.8497 - val_loss: 0.3267 - val_acc: 0.8507\n",
      "Epoch 22/100\n",
      "5358/5358 [==============================] - 10s 2ms/step - loss: 0.3282 - acc: 0.8499 - val_loss: 0.3276 - val_acc: 0.8497\n",
      "Epoch 23/100\n",
      "5358/5358 [==============================] - 10s 2ms/step - loss: 0.3278 - acc: 0.8501 - val_loss: 0.3260 - val_acc: 0.8509\n",
      "Epoch 24/100\n",
      "5358/5358 [==============================] - 10s 2ms/step - loss: 0.3272 - acc: 0.8506 - val_loss: 0.3287 - val_acc: 0.8489\n",
      "Epoch 25/100\n",
      "5358/5358 [==============================] - 10s 2ms/step - loss: 0.3267 - acc: 0.8508 - val_loss: 0.3286 - val_acc: 0.8502\n",
      "Epoch 26/100\n",
      "5358/5358 [==============================] - 10s 2ms/step - loss: 0.3257 - acc: 0.8515 - val_loss: 0.3243 - val_acc: 0.8523\n",
      "Epoch 27/100\n",
      "5358/5358 [==============================] - 10s 2ms/step - loss: 0.3244 - acc: 0.8519 - val_loss: 0.3235 - val_acc: 0.8528\n",
      "Epoch 28/100\n",
      "5358/5358 [==============================] - 9s 2ms/step - loss: 0.3223 - acc: 0.8532 - val_loss: 0.3267 - val_acc: 0.8507\n",
      "Epoch 29/100\n",
      "5358/5358 [==============================] - 10s 2ms/step - loss: 0.3203 - acc: 0.8545 - val_loss: 0.3181 - val_acc: 0.8557\n",
      "Epoch 30/100\n",
      "5358/5358 [==============================] - 10s 2ms/step - loss: 0.3192 - acc: 0.8551 - val_loss: 0.3186 - val_acc: 0.8548\n",
      "Epoch 31/100\n",
      "5358/5358 [==============================] - 10s 2ms/step - loss: 0.3182 - acc: 0.8558 - val_loss: 0.3169 - val_acc: 0.8559\n",
      "Epoch 32/100\n",
      "5358/5358 [==============================] - 10s 2ms/step - loss: 0.3175 - acc: 0.8561 - val_loss: 0.3176 - val_acc: 0.8561\n",
      "Epoch 33/100\n",
      "5358/5358 [==============================] - 10s 2ms/step - loss: 0.3167 - acc: 0.8566 - val_loss: 0.3182 - val_acc: 0.8553\n",
      "Epoch 34/100\n",
      "5358/5358 [==============================] - 10s 2ms/step - loss: 0.3160 - acc: 0.8570 - val_loss: 0.3160 - val_acc: 0.8567\n",
      "Epoch 35/100\n",
      "5358/5358 [==============================] - 10s 2ms/step - loss: 0.3150 - acc: 0.8579 - val_loss: 0.3126 - val_acc: 0.8592\n",
      "Epoch 36/100\n",
      "5358/5358 [==============================] - 10s 2ms/step - loss: 0.3145 - acc: 0.8580 - val_loss: 0.3132 - val_acc: 0.8584\n",
      "Epoch 37/100\n",
      "5358/5358 [==============================] - 10s 2ms/step - loss: 0.3137 - acc: 0.8585 - val_loss: 0.3127 - val_acc: 0.8590\n",
      "Epoch 38/100\n",
      "5358/5358 [==============================] - 10s 2ms/step - loss: 0.3131 - acc: 0.8587 - val_loss: 0.3121 - val_acc: 0.8593\n",
      "Epoch 39/100\n",
      "5358/5358 [==============================] - 10s 2ms/step - loss: 0.3127 - acc: 0.8589 - val_loss: 0.3107 - val_acc: 0.8603\n",
      "Epoch 40/100\n",
      "5358/5358 [==============================] - 10s 2ms/step - loss: 0.3123 - acc: 0.8592 - val_loss: 0.3126 - val_acc: 0.8586\n",
      "Epoch 41/100\n",
      "5358/5358 [==============================] - 10s 2ms/step - loss: 0.3123 - acc: 0.8590 - val_loss: 0.3113 - val_acc: 0.8599\n",
      "Epoch 42/100\n",
      "5358/5358 [==============================] - 10s 2ms/step - loss: 0.3118 - acc: 0.8595 - val_loss: 0.3114 - val_acc: 0.8597\n",
      "Epoch 43/100\n",
      "5358/5358 [==============================] - 10s 2ms/step - loss: 0.3118 - acc: 0.8594 - val_loss: 0.3132 - val_acc: 0.8587\n",
      "Epoch 44/100\n",
      "5358/5358 [==============================] - 10s 2ms/step - loss: 0.3112 - acc: 0.8599 - val_loss: 0.3105 - val_acc: 0.8603\n",
      "Epoch 45/100\n",
      "5358/5358 [==============================] - 10s 2ms/step - loss: 0.3111 - acc: 0.8600 - val_loss: 0.3107 - val_acc: 0.8599\n",
      "Epoch 46/100\n",
      "5358/5358 [==============================] - 10s 2ms/step - loss: 0.3111 - acc: 0.8598 - val_loss: 0.3107 - val_acc: 0.8600\n",
      "Epoch 47/100\n",
      "5358/5358 [==============================] - 10s 2ms/step - loss: 0.3107 - acc: 0.8601 - val_loss: 0.3157 - val_acc: 0.8568\n",
      "Epoch 48/100\n",
      "5358/5358 [==============================] - 10s 2ms/step - loss: 0.3107 - acc: 0.8602 - val_loss: 0.3130 - val_acc: 0.8573\n",
      "Epoch 49/100\n",
      "5358/5358 [==============================] - 10s 2ms/step - loss: 0.3106 - acc: 0.8601 - val_loss: 0.3112 - val_acc: 0.8597\n",
      "16284/16284 [==============================] - 9s 582us/step - loss: 0.4550 - acc: 0.8024\n",
      "layers=5: 0.802\n",
      "Epoch 1/100\n",
      "5358/5358 [==============================] - 9s 2ms/step - loss: 0.3809 - acc: 0.8195 - val_loss: 0.3653 - val_acc: 0.8280\n",
      "Epoch 2/100\n",
      "5358/5358 [==============================] - 9s 2ms/step - loss: 0.3619 - acc: 0.8302 - val_loss: 0.3688 - val_acc: 0.8271\n",
      "Epoch 3/100\n",
      "5358/5358 [==============================] - 9s 2ms/step - loss: 0.3570 - acc: 0.8333 - val_loss: 0.3513 - val_acc: 0.8364\n",
      "Epoch 4/100\n",
      "5358/5358 [==============================] - 9s 2ms/step - loss: 0.3470 - acc: 0.8392 - val_loss: 0.3466 - val_acc: 0.8380\n",
      "Epoch 5/100\n",
      "5358/5358 [==============================] - 9s 2ms/step - loss: 0.3403 - acc: 0.8427 - val_loss: 0.3387 - val_acc: 0.8442\n",
      "Epoch 6/100\n",
      "5358/5358 [==============================] - 9s 2ms/step - loss: 0.3378 - acc: 0.8442 - val_loss: 0.3350 - val_acc: 0.8456\n",
      "Epoch 7/100\n",
      "5358/5358 [==============================] - 9s 2ms/step - loss: 0.3366 - acc: 0.8451 - val_loss: 0.3364 - val_acc: 0.8449\n",
      "Epoch 8/100\n",
      "5358/5358 [==============================] - 9s 2ms/step - loss: 0.3353 - acc: 0.8457 - val_loss: 0.3321 - val_acc: 0.8475\n",
      "Epoch 9/100\n"
     ]
    },
    {
     "name": "stdout",
     "output_type": "stream",
     "text": [
      "5358/5358 [==============================] - 9s 2ms/step - loss: 0.3345 - acc: 0.8460 - val_loss: 0.3361 - val_acc: 0.8453\n",
      "Epoch 10/100\n",
      "5358/5358 [==============================] - 9s 2ms/step - loss: 0.3338 - acc: 0.8464 - val_loss: 0.3348 - val_acc: 0.8454\n",
      "Epoch 11/100\n",
      "5358/5358 [==============================] - 9s 2ms/step - loss: 0.3332 - acc: 0.8467 - val_loss: 0.3303 - val_acc: 0.8482\n",
      "Epoch 12/100\n",
      "5358/5358 [==============================] - 9s 2ms/step - loss: 0.3325 - acc: 0.8473 - val_loss: 0.3308 - val_acc: 0.8471\n",
      "Epoch 13/100\n",
      "5358/5358 [==============================] - 9s 2ms/step - loss: 0.3320 - acc: 0.8476 - val_loss: 0.3323 - val_acc: 0.8476\n",
      "Epoch 14/100\n",
      "5358/5358 [==============================] - 9s 2ms/step - loss: 0.3313 - acc: 0.8480 - val_loss: 0.3301 - val_acc: 0.8485\n",
      "Epoch 15/100\n",
      "5358/5358 [==============================] - 9s 2ms/step - loss: 0.3310 - acc: 0.8481 - val_loss: 0.3310 - val_acc: 0.8482\n",
      "Epoch 16/100\n",
      "5358/5358 [==============================] - 9s 2ms/step - loss: 0.3305 - acc: 0.8486 - val_loss: 0.3338 - val_acc: 0.8470\n",
      "Epoch 17/100\n",
      "5358/5358 [==============================] - 9s 2ms/step - loss: 0.3299 - acc: 0.8490 - val_loss: 0.3289 - val_acc: 0.8497\n",
      "Epoch 18/100\n",
      "5358/5358 [==============================] - 9s 2ms/step - loss: 0.3295 - acc: 0.8490 - val_loss: 0.3297 - val_acc: 0.8488\n",
      "Epoch 19/100\n",
      "5358/5358 [==============================] - 9s 2ms/step - loss: 0.3287 - acc: 0.8497 - val_loss: 0.3277 - val_acc: 0.8501\n",
      "Epoch 20/100\n",
      "5358/5358 [==============================] - 9s 2ms/step - loss: 0.3275 - acc: 0.8504 - val_loss: 0.3294 - val_acc: 0.8499\n",
      "Epoch 21/100\n",
      "5358/5358 [==============================] - 9s 2ms/step - loss: 0.3262 - acc: 0.8513 - val_loss: 0.3231 - val_acc: 0.8524\n",
      "Epoch 22/100\n",
      "5358/5358 [==============================] - 9s 2ms/step - loss: 0.3231 - acc: 0.8531 - val_loss: 0.3207 - val_acc: 0.8544\n",
      "Epoch 23/100\n",
      "5358/5358 [==============================] - 9s 2ms/step - loss: 0.3212 - acc: 0.8540 - val_loss: 0.3249 - val_acc: 0.8511\n",
      "Epoch 24/100\n",
      "5358/5358 [==============================] - 9s 2ms/step - loss: 0.3193 - acc: 0.8552 - val_loss: 0.3178 - val_acc: 0.8561\n",
      "Epoch 25/100\n",
      "5358/5358 [==============================] - 9s 2ms/step - loss: 0.3184 - acc: 0.8557 - val_loss: 0.3170 - val_acc: 0.8563\n",
      "Epoch 26/100\n",
      "5358/5358 [==============================] - 9s 2ms/step - loss: 0.3162 - acc: 0.8568 - val_loss: 0.3156 - val_acc: 0.8575\n",
      "Epoch 27/100\n",
      "5358/5358 [==============================] - 9s 2ms/step - loss: 0.3150 - acc: 0.8576 - val_loss: 0.3132 - val_acc: 0.8586\n",
      "Epoch 28/100\n",
      "5358/5358 [==============================] - 9s 2ms/step - loss: 0.3141 - acc: 0.8582 - val_loss: 0.3142 - val_acc: 0.8577\n",
      "Epoch 29/100\n",
      "5358/5358 [==============================] - 9s 2ms/step - loss: 0.3136 - acc: 0.8584 - val_loss: 0.3121 - val_acc: 0.8594\n",
      "Epoch 30/100\n",
      "5358/5358 [==============================] - 9s 2ms/step - loss: 0.3131 - acc: 0.8587 - val_loss: 0.3121 - val_acc: 0.8596\n",
      "Epoch 31/100\n",
      "5358/5358 [==============================] - 9s 2ms/step - loss: 0.3128 - acc: 0.8589 - val_loss: 0.3105 - val_acc: 0.8604\n",
      "Epoch 32/100\n",
      "5358/5358 [==============================] - 9s 2ms/step - loss: 0.3121 - acc: 0.8593 - val_loss: 0.3134 - val_acc: 0.8590\n",
      "Epoch 33/100\n",
      "5358/5358 [==============================] - 9s 2ms/step - loss: 0.3122 - acc: 0.8590 - val_loss: 0.3104 - val_acc: 0.8601\n",
      "Epoch 34/100\n",
      "5358/5358 [==============================] - 9s 2ms/step - loss: 0.3116 - acc: 0.8595 - val_loss: 0.3100 - val_acc: 0.8607\n",
      "Epoch 35/100\n",
      "5358/5358 [==============================] - 9s 2ms/step - loss: 0.3111 - acc: 0.8596 - val_loss: 0.3095 - val_acc: 0.8610\n",
      "Epoch 36/100\n",
      "5358/5358 [==============================] - 9s 2ms/step - loss: 0.3111 - acc: 0.8598 - val_loss: 0.3107 - val_acc: 0.8602\n",
      "Epoch 37/100\n",
      "5358/5358 [==============================] - 9s 2ms/step - loss: 0.3109 - acc: 0.8600 - val_loss: 0.3099 - val_acc: 0.8607\n",
      "Epoch 38/100\n",
      "5358/5358 [==============================] - 9s 2ms/step - loss: 0.3108 - acc: 0.8600 - val_loss: 0.3113 - val_acc: 0.8602\n",
      "Epoch 39/100\n",
      "5358/5358 [==============================] - 9s 2ms/step - loss: 0.3104 - acc: 0.8603 - val_loss: 0.3131 - val_acc: 0.8584\n",
      "Epoch 40/100\n",
      "5358/5358 [==============================] - 9s 2ms/step - loss: 0.3103 - acc: 0.8602 - val_loss: 0.3117 - val_acc: 0.8591\n",
      "16284/16284 [==============================] - 10s 584us/step - loss: 0.4529 - acc: 0.8025\n",
      "layers=6: 0.803\n",
      "Epoch 1/100\n",
      "5358/5358 [==============================] - 10s 2ms/step - loss: 0.3802 - acc: 0.8200 - val_loss: 0.3641 - val_acc: 0.8290\n",
      "Epoch 2/100\n",
      "5358/5358 [==============================] - 10s 2ms/step - loss: 0.3612 - acc: 0.8309 - val_loss: 0.3514 - val_acc: 0.8364\n",
      "Epoch 3/100\n",
      "5358/5358 [==============================] - 10s 2ms/step - loss: 0.3470 - acc: 0.8387 - val_loss: 0.3409 - val_acc: 0.8429\n",
      "Epoch 4/100\n",
      "5358/5358 [==============================] - 10s 2ms/step - loss: 0.3418 - acc: 0.8418 - val_loss: 0.3409 - val_acc: 0.8427\n",
      "Epoch 5/100\n",
      "5358/5358 [==============================] - 10s 2ms/step - loss: 0.3393 - acc: 0.8434 - val_loss: 0.3350 - val_acc: 0.8448\n",
      "Epoch 6/100\n",
      "5358/5358 [==============================] - 10s 2ms/step - loss: 0.3378 - acc: 0.8442 - val_loss: 0.3441 - val_acc: 0.8373\n",
      "Epoch 7/100\n",
      "5358/5358 [==============================] - 10s 2ms/step - loss: 0.3364 - acc: 0.8448 - val_loss: 0.3355 - val_acc: 0.8448\n",
      "Epoch 8/100\n",
      "5358/5358 [==============================] - 10s 2ms/step - loss: 0.3357 - acc: 0.8453 - val_loss: 0.3362 - val_acc: 0.8455\n",
      "Epoch 9/100\n",
      "5358/5358 [==============================] - 10s 2ms/step - loss: 0.3355 - acc: 0.8454 - val_loss: 0.3378 - val_acc: 0.8444\n",
      "Epoch 10/100\n",
      "5358/5358 [==============================] - 10s 2ms/step - loss: 0.3343 - acc: 0.8462 - val_loss: 0.3358 - val_acc: 0.8469\n",
      "16284/16284 [==============================] - 10s 604us/step - loss: 0.4733 - acc: 0.7907\n",
      "layers=8: 0.791\n",
      "Epoch 1/100\n",
      "5358/5358 [==============================] - 12s 2ms/step - loss: 0.3785 - acc: 0.8210 - val_loss: 0.3686 - val_acc: 0.8247\n",
      "Epoch 2/100\n",
      "5358/5358 [==============================] - 11s 2ms/step - loss: 0.3550 - acc: 0.8348 - val_loss: 0.3490 - val_acc: 0.8392\n",
      "Epoch 3/100\n",
      "5358/5358 [==============================] - 11s 2ms/step - loss: 0.3464 - acc: 0.8394 - val_loss: 0.3463 - val_acc: 0.8386\n",
      "Epoch 4/100\n",
      "5358/5358 [==============================] - 11s 2ms/step - loss: 0.3432 - acc: 0.8410 - val_loss: 0.3416 - val_acc: 0.8410\n",
      "Epoch 5/100\n",
      "5358/5358 [==============================] - 11s 2ms/step - loss: 0.3412 - acc: 0.8424 - val_loss: 0.3387 - val_acc: 0.8444\n",
      "Epoch 6/100\n",
      "5358/5358 [==============================] - 11s 2ms/step - loss: 0.3397 - acc: 0.8433 - val_loss: 0.3385 - val_acc: 0.8440\n",
      "Epoch 7/100\n",
      "5358/5358 [==============================] - 11s 2ms/step - loss: 0.3385 - acc: 0.8439 - val_loss: 0.3352 - val_acc: 0.8457\n",
      "Epoch 8/100\n",
      "5358/5358 [==============================] - 11s 2ms/step - loss: 0.3376 - acc: 0.8444 - val_loss: 0.3407 - val_acc: 0.8420\n",
      "Epoch 9/100\n",
      "5358/5358 [==============================] - 11s 2ms/step - loss: 0.3371 - acc: 0.8447 - val_loss: 0.3348 - val_acc: 0.8464\n",
      "Epoch 10/100\n",
      "5358/5358 [==============================] - 11s 2ms/step - loss: 0.3364 - acc: 0.8451 - val_loss: 0.3327 - val_acc: 0.8475\n",
      "Epoch 11/100\n",
      "5358/5358 [==============================] - 12s 2ms/step - loss: 0.3357 - acc: 0.8456 - val_loss: 0.3354 - val_acc: 0.8456\n",
      "Epoch 12/100\n",
      "5358/5358 [==============================] - 11s 2ms/step - loss: 0.3350 - acc: 0.8460 - val_loss: 0.3334 - val_acc: 0.8463\n",
      "Epoch 13/100\n",
      "5358/5358 [==============================] - 12s 2ms/step - loss: 0.3343 - acc: 0.8462 - val_loss: 0.3325 - val_acc: 0.8476\n",
      "Epoch 14/100\n",
      "5358/5358 [==============================] - 11s 2ms/step - loss: 0.3311 - acc: 0.8483 - val_loss: 0.3289 - val_acc: 0.8508\n",
      "Epoch 15/100\n",
      "5358/5358 [==============================] - 11s 2ms/step - loss: 0.3271 - acc: 0.8506 - val_loss: 0.3257 - val_acc: 0.8507\n",
      "Epoch 16/100\n",
      "5358/5358 [==============================] - 11s 2ms/step - loss: 0.3248 - acc: 0.8518 - val_loss: 0.3227 - val_acc: 0.8531\n",
      "Epoch 17/100\n",
      "5358/5358 [==============================] - 12s 2ms/step - loss: 0.3236 - acc: 0.8526 - val_loss: 0.3216 - val_acc: 0.8540\n"
     ]
    },
    {
     "name": "stdout",
     "output_type": "stream",
     "text": [
      "Epoch 18/100\n",
      "5358/5358 [==============================] - 12s 2ms/step - loss: 0.3223 - acc: 0.8534 - val_loss: 0.3220 - val_acc: 0.8539\n",
      "Epoch 19/100\n",
      "5358/5358 [==============================] - 12s 2ms/step - loss: 0.3215 - acc: 0.8539 - val_loss: 0.3190 - val_acc: 0.8554\n",
      "Epoch 20/100\n",
      "5358/5358 [==============================] - 11s 2ms/step - loss: 0.3208 - acc: 0.8544 - val_loss: 0.3218 - val_acc: 0.8529\n",
      "Epoch 21/100\n",
      "5358/5358 [==============================] - 12s 2ms/step - loss: 0.3205 - acc: 0.8547 - val_loss: 0.3223 - val_acc: 0.8530\n",
      "Epoch 22/100\n",
      "5358/5358 [==============================] - 11s 2ms/step - loss: 0.3200 - acc: 0.8548 - val_loss: 0.3197 - val_acc: 0.8547\n",
      "Epoch 23/100\n",
      "5358/5358 [==============================] - 12s 2ms/step - loss: 0.3196 - acc: 0.8551 - val_loss: 0.3205 - val_acc: 0.8542\n",
      "Epoch 24/100\n",
      "5358/5358 [==============================] - 11s 2ms/step - loss: 0.3190 - acc: 0.8554 - val_loss: 0.3175 - val_acc: 0.8560\n",
      "Epoch 25/100\n",
      "5358/5358 [==============================] - 12s 2ms/step - loss: 0.3185 - acc: 0.8556 - val_loss: 0.3204 - val_acc: 0.8553\n",
      "Epoch 26/100\n",
      "5358/5358 [==============================] - 12s 2ms/step - loss: 0.3183 - acc: 0.8558 - val_loss: 0.3163 - val_acc: 0.8574\n",
      "Epoch 27/100\n",
      "5358/5358 [==============================] - 12s 2ms/step - loss: 0.3178 - acc: 0.8562 - val_loss: 0.3217 - val_acc: 0.8549\n",
      "Epoch 28/100\n",
      "5358/5358 [==============================] - 12s 2ms/step - loss: 0.3176 - acc: 0.8563 - val_loss: 0.3174 - val_acc: 0.8579\n",
      "Epoch 29/100\n",
      "5358/5358 [==============================] - 11s 2ms/step - loss: 0.3165 - acc: 0.8568 - val_loss: 0.3143 - val_acc: 0.8585\n",
      "Epoch 30/100\n",
      "5358/5358 [==============================] - 11s 2ms/step - loss: 0.3161 - acc: 0.8570 - val_loss: 0.3160 - val_acc: 0.8564\n",
      "Epoch 31/100\n",
      "5358/5358 [==============================] - 11s 2ms/step - loss: 0.3159 - acc: 0.8573 - val_loss: 0.3140 - val_acc: 0.8585\n",
      "Epoch 32/100\n",
      "5358/5358 [==============================] - 11s 2ms/step - loss: 0.3155 - acc: 0.8573 - val_loss: 0.3142 - val_acc: 0.8586\n",
      "Epoch 33/100\n",
      "5358/5358 [==============================] - 12s 2ms/step - loss: 0.3151 - acc: 0.8578 - val_loss: 0.3140 - val_acc: 0.8587\n",
      "Epoch 34/100\n",
      "5358/5358 [==============================] - 11s 2ms/step - loss: 0.3148 - acc: 0.8579 - val_loss: 0.3156 - val_acc: 0.8587\n",
      "Epoch 35/100\n",
      "5358/5358 [==============================] - 11s 2ms/step - loss: 0.3145 - acc: 0.8580 - val_loss: 0.3133 - val_acc: 0.8582\n",
      "Epoch 36/100\n",
      "5358/5358 [==============================] - 12s 2ms/step - loss: 0.3140 - acc: 0.8583 - val_loss: 0.3150 - val_acc: 0.8592\n",
      "Epoch 37/100\n",
      "5358/5358 [==============================] - 12s 2ms/step - loss: 0.3142 - acc: 0.8582 - val_loss: 0.3131 - val_acc: 0.8594\n",
      "Epoch 38/100\n",
      "5358/5358 [==============================] - 12s 2ms/step - loss: 0.3139 - acc: 0.8583 - val_loss: 0.3128 - val_acc: 0.8588\n",
      "Epoch 39/100\n",
      "5358/5358 [==============================] - 12s 2ms/step - loss: 0.3137 - acc: 0.8586 - val_loss: 0.3134 - val_acc: 0.8592\n",
      "Epoch 40/100\n",
      "5358/5358 [==============================] - 11s 2ms/step - loss: 0.3132 - acc: 0.8588 - val_loss: 0.3141 - val_acc: 0.8590\n",
      "Epoch 41/100\n",
      "5358/5358 [==============================] - 12s 2ms/step - loss: 0.3128 - acc: 0.8590 - val_loss: 0.3146 - val_acc: 0.8586\n",
      "Epoch 42/100\n",
      "5358/5358 [==============================] - 12s 2ms/step - loss: 0.3127 - acc: 0.8589 - val_loss: 0.3111 - val_acc: 0.8595\n",
      "Epoch 43/100\n",
      "5358/5358 [==============================] - 12s 2ms/step - loss: 0.3127 - acc: 0.8590 - val_loss: 0.3185 - val_acc: 0.8567\n",
      "Epoch 44/100\n",
      "5358/5358 [==============================] - 12s 2ms/step - loss: 0.3125 - acc: 0.8590 - val_loss: 0.3110 - val_acc: 0.8603\n",
      "Epoch 45/100\n",
      "5358/5358 [==============================] - 11s 2ms/step - loss: 0.3126 - acc: 0.8591 - val_loss: 0.3107 - val_acc: 0.8603\n",
      "Epoch 46/100\n",
      "5358/5358 [==============================] - 12s 2ms/step - loss: 0.3124 - acc: 0.8591 - val_loss: 0.3186 - val_acc: 0.8554\n",
      "Epoch 47/100\n",
      "5358/5358 [==============================] - 12s 2ms/step - loss: 0.3121 - acc: 0.8596 - val_loss: 0.3114 - val_acc: 0.8602\n",
      "Epoch 48/100\n",
      "5358/5358 [==============================] - 12s 2ms/step - loss: 0.3127 - acc: 0.8591 - val_loss: 0.3097 - val_acc: 0.8611\n",
      "Epoch 49/100\n",
      "5358/5358 [==============================] - 12s 2ms/step - loss: 0.3115 - acc: 0.8597 - val_loss: 0.3110 - val_acc: 0.8606\n",
      "Epoch 50/100\n",
      "5358/5358 [==============================] - 11s 2ms/step - loss: 0.3116 - acc: 0.8597 - val_loss: 0.3096 - val_acc: 0.8607\n",
      "Epoch 51/100\n",
      "5358/5358 [==============================] - 12s 2ms/step - loss: 0.3112 - acc: 0.8600 - val_loss: 0.3131 - val_acc: 0.8590\n",
      "Epoch 52/100\n",
      "5358/5358 [==============================] - 11s 2ms/step - loss: 0.3114 - acc: 0.8600 - val_loss: 0.3116 - val_acc: 0.8607\n",
      "Epoch 53/100\n",
      "5358/5358 [==============================] - 12s 2ms/step - loss: 0.3112 - acc: 0.8599 - val_loss: 0.3113 - val_acc: 0.8606\n",
      "Epoch 54/100\n",
      "5358/5358 [==============================] - 11s 2ms/step - loss: 0.3114 - acc: 0.8599 - val_loss: 0.3112 - val_acc: 0.8598\n",
      "Epoch 55/100\n",
      "5358/5358 [==============================] - 11s 2ms/step - loss: 0.3117 - acc: 0.8597 - val_loss: 0.3091 - val_acc: 0.8611\n",
      "Epoch 56/100\n",
      "5358/5358 [==============================] - 12s 2ms/step - loss: 0.3112 - acc: 0.8600 - val_loss: 0.3114 - val_acc: 0.8604\n",
      "Epoch 57/100\n",
      "5358/5358 [==============================] - 12s 2ms/step - loss: 0.3110 - acc: 0.8602 - val_loss: 0.3110 - val_acc: 0.8606\n",
      "Epoch 58/100\n",
      "5358/5358 [==============================] - 11s 2ms/step - loss: 0.3113 - acc: 0.8599 - val_loss: 0.3100 - val_acc: 0.8609\n",
      "Epoch 59/100\n",
      "5358/5358 [==============================] - 11s 2ms/step - loss: 0.3107 - acc: 0.8602 - val_loss: 0.3113 - val_acc: 0.8609\n",
      "Epoch 60/100\n",
      "5358/5358 [==============================] - 11s 2ms/step - loss: 0.3109 - acc: 0.8602 - val_loss: 0.3150 - val_acc: 0.8578\n",
      "16284/16284 [==============================] - 10s 643us/step - loss: 0.4546 - acc: 0.8026\n",
      "layers=12: 0.803\n",
      "Epoch 1/100\n",
      "5358/5358 [==============================] - 14s 3ms/step - loss: 0.3792 - acc: 0.8204 - val_loss: 0.3662 - val_acc: 0.8286\n",
      "Epoch 2/100\n",
      "5358/5358 [==============================] - 14s 3ms/step - loss: 0.3653 - acc: 0.8279 - val_loss: 0.3760 - val_acc: 0.8162\n",
      "Epoch 3/100\n",
      "5358/5358 [==============================] - 13s 2ms/step - loss: 0.3607 - acc: 0.8308 - val_loss: 0.3598 - val_acc: 0.8313\n",
      "Epoch 4/100\n",
      "5358/5358 [==============================] - 13s 2ms/step - loss: 0.3530 - acc: 0.8356 - val_loss: 0.3436 - val_acc: 0.8417\n",
      "Epoch 5/100\n",
      "5358/5358 [==============================] - 13s 2ms/step - loss: 0.3440 - acc: 0.8409 - val_loss: 0.3418 - val_acc: 0.8418\n",
      "Epoch 6/100\n",
      "5358/5358 [==============================] - 13s 2ms/step - loss: 0.3411 - acc: 0.8425 - val_loss: 0.3397 - val_acc: 0.8429\n",
      "Epoch 7/100\n",
      "5358/5358 [==============================] - 13s 2ms/step - loss: 0.3389 - acc: 0.8438 - val_loss: 0.3386 - val_acc: 0.8429\n",
      "Epoch 8/100\n",
      "5358/5358 [==============================] - 13s 2ms/step - loss: 0.3378 - acc: 0.8445 - val_loss: 0.3346 - val_acc: 0.8468\n",
      "Epoch 9/100\n",
      "5358/5358 [==============================] - 13s 2ms/step - loss: 0.3366 - acc: 0.8452 - val_loss: 0.3445 - val_acc: 0.8294\n",
      "Epoch 10/100\n",
      "5358/5358 [==============================] - 13s 2ms/step - loss: 0.3356 - acc: 0.8459 - val_loss: 0.3364 - val_acc: 0.8442\n",
      "Epoch 11/100\n",
      "5358/5358 [==============================] - 13s 2ms/step - loss: 0.3343 - acc: 0.8466 - val_loss: 0.3337 - val_acc: 0.8470\n",
      "Epoch 12/100\n",
      "5358/5358 [==============================] - 13s 2ms/step - loss: 0.3330 - acc: 0.8475 - val_loss: 0.3308 - val_acc: 0.8490\n",
      "Epoch 13/100\n",
      "5358/5358 [==============================] - 13s 2ms/step - loss: 0.3312 - acc: 0.8484 - val_loss: 0.3295 - val_acc: 0.8500\n",
      "Epoch 14/100\n",
      "5358/5358 [==============================] - 13s 2ms/step - loss: 0.3286 - acc: 0.8497 - val_loss: 0.3274 - val_acc: 0.8508\n",
      "Epoch 15/100\n",
      "5358/5358 [==============================] - 13s 2ms/step - loss: 0.3263 - acc: 0.8512 - val_loss: 0.3243 - val_acc: 0.8526\n",
      "Epoch 16/100\n",
      "5358/5358 [==============================] - 13s 2ms/step - loss: 0.3245 - acc: 0.8525 - val_loss: 0.3245 - val_acc: 0.8521\n",
      "Epoch 17/100\n"
     ]
    },
    {
     "name": "stdout",
     "output_type": "stream",
     "text": [
      "5358/5358 [==============================] - 12s 2ms/step - loss: 0.3226 - acc: 0.8533 - val_loss: 0.3207 - val_acc: 0.8519\n",
      "Epoch 18/100\n",
      "5358/5358 [==============================] - 12s 2ms/step - loss: 0.3208 - acc: 0.8543 - val_loss: 0.3216 - val_acc: 0.8551\n",
      "Epoch 19/100\n",
      "5358/5358 [==============================] - 12s 2ms/step - loss: 0.3419 - acc: 0.8441 - val_loss: 0.3250 - val_acc: 0.8528\n",
      "Epoch 20/100\n",
      "5358/5358 [==============================] - 12s 2ms/step - loss: 0.3200 - acc: 0.8552 - val_loss: 0.3170 - val_acc: 0.8565\n",
      "Epoch 21/100\n",
      "5358/5358 [==============================] - 12s 2ms/step - loss: 0.3187 - acc: 0.8559 - val_loss: 0.3186 - val_acc: 0.8545\n",
      "Epoch 22/100\n",
      "5358/5358 [==============================] - 12s 2ms/step - loss: 0.3177 - acc: 0.8563 - val_loss: 0.3228 - val_acc: 0.8536\n",
      "Epoch 23/100\n",
      "5358/5358 [==============================] - 12s 2ms/step - loss: 0.3176 - acc: 0.8563 - val_loss: 0.3153 - val_acc: 0.8575\n",
      "Epoch 24/100\n",
      "5358/5358 [==============================] - 12s 2ms/step - loss: 0.3192 - acc: 0.8559 - val_loss: 0.3143 - val_acc: 0.8575\n",
      "Epoch 25/100\n",
      "5358/5358 [==============================] - 12s 2ms/step - loss: 0.3198 - acc: 0.8552 - val_loss: 0.3173 - val_acc: 0.8562\n",
      "Epoch 26/100\n",
      "5358/5358 [==============================] - 12s 2ms/step - loss: 0.3161 - acc: 0.8569 - val_loss: 0.3135 - val_acc: 0.8582\n",
      "Epoch 27/100\n",
      "5358/5358 [==============================] - 12s 2ms/step - loss: 0.3171 - acc: 0.8567 - val_loss: 0.3142 - val_acc: 0.8580\n",
      "Epoch 28/100\n",
      "5358/5358 [==============================] - 12s 2ms/step - loss: 0.3176 - acc: 0.8565 - val_loss: 0.3558 - val_acc: 0.8370\n",
      "Epoch 29/100\n",
      "5358/5358 [==============================] - 13s 2ms/step - loss: 0.3250 - acc: 0.8530 - val_loss: 0.3136 - val_acc: 0.8587\n",
      "Epoch 30/100\n",
      "5358/5358 [==============================] - 13s 2ms/step - loss: 0.3161 - acc: 0.8572 - val_loss: 0.3133 - val_acc: 0.8590\n",
      "Epoch 31/100\n",
      "5358/5358 [==============================] - 13s 2ms/step - loss: 0.3155 - acc: 0.8575 - val_loss: 0.3153 - val_acc: 0.8570\n",
      "Epoch 32/100\n",
      "5358/5358 [==============================] - 13s 2ms/step - loss: 0.3157 - acc: 0.8573 - val_loss: 0.3144 - val_acc: 0.8583\n",
      "Epoch 33/100\n",
      "5358/5358 [==============================] - 13s 2ms/step - loss: 0.3147 - acc: 0.8578 - val_loss: 0.3128 - val_acc: 0.8589\n",
      "Epoch 34/100\n",
      "5358/5358 [==============================] - 13s 2ms/step - loss: 0.3153 - acc: 0.8579 - val_loss: 0.3150 - val_acc: 0.8573\n",
      "Epoch 35/100\n",
      "5358/5358 [==============================] - 13s 2ms/step - loss: 0.3174 - acc: 0.8565 - val_loss: 0.3250 - val_acc: 0.8520\n",
      "Epoch 36/100\n",
      "5358/5358 [==============================] - 13s 2ms/step - loss: 0.3141 - acc: 0.8583 - val_loss: 0.3253 - val_acc: 0.8547\n",
      "Epoch 37/100\n",
      "5358/5358 [==============================] - 13s 2ms/step - loss: 0.3139 - acc: 0.8583 - val_loss: 0.3134 - val_acc: 0.8586\n",
      "Epoch 38/100\n",
      "5358/5358 [==============================] - 13s 2ms/step - loss: 0.3141 - acc: 0.8581 - val_loss: 0.3128 - val_acc: 0.8593\n",
      "Epoch 39/100\n",
      "5358/5358 [==============================] - 13s 2ms/step - loss: 0.3150 - acc: 0.8578 - val_loss: 0.3120 - val_acc: 0.8583\n",
      "Epoch 40/100\n",
      "5358/5358 [==============================] - 13s 2ms/step - loss: 0.3138 - acc: 0.8583 - val_loss: 0.3175 - val_acc: 0.8561\n",
      "Epoch 41/100\n",
      "5358/5358 [==============================] - 13s 2ms/step - loss: 0.3138 - acc: 0.8585 - val_loss: 0.3109 - val_acc: 0.8601\n",
      "Epoch 42/100\n",
      "5358/5358 [==============================] - 13s 2ms/step - loss: 0.3135 - acc: 0.8585 - val_loss: 0.3122 - val_acc: 0.8577\n",
      "Epoch 43/100\n",
      "5358/5358 [==============================] - 13s 2ms/step - loss: 0.3153 - acc: 0.8576 - val_loss: 0.3116 - val_acc: 0.8597\n",
      "Epoch 44/100\n",
      "5358/5358 [==============================] - 13s 2ms/step - loss: 0.3139 - acc: 0.8584 - val_loss: 0.3106 - val_acc: 0.8605\n",
      "Epoch 45/100\n",
      "5358/5358 [==============================] - 13s 2ms/step - loss: 0.3133 - acc: 0.8588 - val_loss: 0.3132 - val_acc: 0.8589\n",
      "Epoch 46/100\n",
      "5358/5358 [==============================] - 13s 2ms/step - loss: 0.3136 - acc: 0.8585 - val_loss: 0.3120 - val_acc: 0.8595\n",
      "Epoch 47/100\n",
      "5358/5358 [==============================] - 13s 2ms/step - loss: 0.3139 - acc: 0.8584 - val_loss: 0.3186 - val_acc: 0.8564\n",
      "Epoch 48/100\n",
      "5358/5358 [==============================] - 13s 2ms/step - loss: 0.3137 - acc: 0.8586 - val_loss: 0.3176 - val_acc: 0.8567\n",
      "Epoch 49/100\n",
      "5358/5358 [==============================] - 13s 2ms/step - loss: 0.3132 - acc: 0.8591 - val_loss: 0.3108 - val_acc: 0.8596\n",
      "16284/16284 [==============================] - 12s 707us/step - loss: 0.4566 - acc: 0.8024\n",
      "layers=14: 0.802\n"
     ]
    },
    {
     "data": {
      "image/png": "[encoded data removed]",
      "text/plain": [
       "<Figure size 432x288 with 1 Axes>"
      ]
     },
     "metadata": {
      "needs_background": "light"
     },
     "output_type": "display_data"
    }
   ],
   "source": [
    "# evaluate model and plot learning curve of model with given number of layers\n",
    "all_history = list()\n",
    "num_layers = [5,6,8,12,14]\n",
    "for n_layers in num_layers:\n",
    "    # evaluate model with a given number of layers\n",
    "    history, result = evaluate_model(n_layers, x_train_final.drop(columns=sub_grade_columns,axis=1),\n",
    "                                     y_train_final, x_test_scaled.drop(columns=sub_grade_columns,axis=1), y_test,\n",
    "                                     x_val.drop(columns=sub_grade_columns,axis=1),y_val)    \n",
    "    print('layers=%d: %.3f' % (n_layers, result))\n",
    "    # plot learning curve\n",
    "    plt.plot(history.history['val_acc'], label=str(n_layers))\n",
    "plt.legend()\n",
    "plt.show()"
   ]
  },
  {
   "cell_type": "code",
   "execution_count": 86,
   "metadata": {
    "ExecuteTime": {
     "end_time": "2021-04-09T18:59:06.674612Z",
     "start_time": "2021-04-09T18:59:06.662613Z"
    }
   },
   "outputs": [],
   "source": [
    "from keras.optimizers import Adam\n",
    "from keras.optimizers import SGD"
   ]
  },
  {
   "cell_type": "code",
   "execution_count": 65,
   "metadata": {
    "ExecuteTime": {
     "end_time": "2021-04-09T18:38:12.553933Z",
     "start_time": "2021-04-09T18:38:12.545933Z"
    }
   },
   "outputs": [],
   "source": [
    "from keras.callbacks import EarlyStopping, ModelCheckpoint"
   ]
  },
  {
   "cell_type": "code",
   "execution_count": 63,
   "metadata": {
    "ExecuteTime": {
     "end_time": "2021-04-09T18:38:03.638961Z",
     "start_time": "2021-04-09T18:38:03.593966Z"
    }
   },
   "outputs": [],
   "source": [
    "\n",
    "baseline_model = models.Sequential()\n",
    "baseline_model.add(layers.Dense(50,activation='tanh',input_shape=(n_feats,)))\n",
    "baseline_model.add(layers.Dense(25,activation='tanh'))\n",
    "baseline_model.add(layers.Dense(25,activation='tanh'))\n",
    "baseline_model.add(layers.Dense(1,activation='sigmoid'))"
   ]
  },
  {
   "cell_type": "code",
   "execution_count": 66,
   "metadata": {
    "ExecuteTime": {
     "end_time": "2021-04-09T18:38:18.548963Z",
     "start_time": "2021-04-09T18:38:18.533965Z"
    }
   },
   "outputs": [],
   "source": [
    "baseline_model.compile(optimizer='sgd',loss='binary_crossentropy',metrics=['acc'])\n",
    "early_stopping = [EarlyStopping(monitor='val_loss', patience=25), \n",
    "                  ModelCheckpoint(filepath='best_model.h5', monitor='val_loss', save_best_only=True)]"
   ]
  },
  {
   "cell_type": "code",
   "execution_count": 47,
   "metadata": {
    "ExecuteTime": {
     "end_time": "2021-04-09T06:57:39.408479Z",
     "start_time": "2021-04-09T06:39:02.962725Z"
    },
    "scrolled": true
   },
   "outputs": [
    {
     "name": "stdout",
     "output_type": "stream",
     "text": [
      "Epoch 1/150\n",
      "5360/5360 [==============================] - 7s 1ms/step - loss: 0.3792 - acc: 0.8374 - val_loss: 0.3034 - val_acc: 0.8763\n",
      "Epoch 2/150\n",
      "5360/5360 [==============================] - 6s 1ms/step - loss: 0.2987 - acc: 0.8754 - val_loss: 0.2940 - val_acc: 0.8779\n",
      "Epoch 3/150\n",
      "5360/5360 [==============================] - 6s 1ms/step - loss: 0.2942 - acc: 0.8765 - val_loss: 0.2911 - val_acc: 0.8777\n",
      "Epoch 4/150\n",
      "5360/5360 [==============================] - 7s 1ms/step - loss: 0.2924 - acc: 0.8766 - val_loss: 0.2898 - val_acc: 0.8777\n",
      "Epoch 5/150\n",
      "5360/5360 [==============================] - 6s 1ms/step - loss: 0.2913 - acc: 0.8768 - val_loss: 0.2894 - val_acc: 0.8782\n",
      "Epoch 6/150\n",
      "5360/5360 [==============================] - 6s 1ms/step - loss: 0.2906 - acc: 0.8768 - val_loss: 0.2886 - val_acc: 0.8783\n",
      "Epoch 7/150\n",
      "5360/5360 [==============================] - 6s 1ms/step - loss: 0.2898 - acc: 0.8769 - val_loss: 0.2876 - val_acc: 0.8780\n",
      "Epoch 8/150\n",
      "5360/5360 [==============================] - 6s 1ms/step - loss: 0.2892 - acc: 0.8771 - val_loss: 0.2870 - val_acc: 0.8783\n",
      "Epoch 9/150\n",
      "5360/5360 [==============================] - 6s 1ms/step - loss: 0.2886 - acc: 0.8772 - val_loss: 0.2866 - val_acc: 0.8778\n",
      "Epoch 10/150\n",
      "5360/5360 [==============================] - 6s 1ms/step - loss: 0.2880 - acc: 0.8774 - val_loss: 0.2862 - val_acc: 0.8782\n",
      "Epoch 11/150\n",
      "5360/5360 [==============================] - 7s 1ms/step - loss: 0.2875 - acc: 0.8773 - val_loss: 0.2858 - val_acc: 0.8788\n",
      "Epoch 12/150\n",
      "5360/5360 [==============================] - 7s 1ms/step - loss: 0.2870 - acc: 0.8776 - val_loss: 0.2853 - val_acc: 0.8784\n",
      "Epoch 13/150\n",
      "5360/5360 [==============================] - 7s 1ms/step - loss: 0.2865 - acc: 0.8776 - val_loss: 0.2848 - val_acc: 0.8788\n",
      "Epoch 14/150\n",
      "5360/5360 [==============================] - 6s 1ms/step - loss: 0.2861 - acc: 0.8777 - val_loss: 0.2844 - val_acc: 0.8790\n",
      "Epoch 15/150\n",
      "5360/5360 [==============================] - 7s 1ms/step - loss: 0.2857 - acc: 0.8778 - val_loss: 0.2839 - val_acc: 0.8789\n",
      "Epoch 16/150\n",
      "5360/5360 [==============================] - 7s 1ms/step - loss: 0.2854 - acc: 0.8778 - val_loss: 0.2849 - val_acc: 0.8780\n",
      "Epoch 17/150\n",
      "5360/5360 [==============================] - 7s 1ms/step - loss: 0.2852 - acc: 0.8779 - val_loss: 0.2840 - val_acc: 0.8786\n",
      "Epoch 18/150\n",
      "5360/5360 [==============================] - 7s 1ms/step - loss: 0.2849 - acc: 0.8778 - val_loss: 0.2832 - val_acc: 0.8790\n",
      "Epoch 19/150\n",
      "5360/5360 [==============================] - 7s 1ms/step - loss: 0.2847 - acc: 0.8779 - val_loss: 0.2829 - val_acc: 0.8790\n",
      "Epoch 20/150\n",
      "5360/5360 [==============================] - 7s 1ms/step - loss: 0.2845 - acc: 0.8779 - val_loss: 0.2829 - val_acc: 0.8789\n",
      "Epoch 21/150\n",
      "5360/5360 [==============================] - 7s 1ms/step - loss: 0.2843 - acc: 0.8780 - val_loss: 0.2827 - val_acc: 0.8790\n",
      "Epoch 22/150\n",
      "5360/5360 [==============================] - 7s 1ms/step - loss: 0.2841 - acc: 0.8782 - val_loss: 0.2825 - val_acc: 0.8790\n",
      "Epoch 23/150\n",
      "5360/5360 [==============================] - 7s 1ms/step - loss: 0.2839 - acc: 0.8781 - val_loss: 0.2829 - val_acc: 0.8786\n",
      "Epoch 24/150\n",
      "5360/5360 [==============================] - 7s 1ms/step - loss: 0.2838 - acc: 0.8781 - val_loss: 0.2826 - val_acc: 0.8789\n",
      "Epoch 25/150\n",
      "5360/5360 [==============================] - 7s 1ms/step - loss: 0.2837 - acc: 0.8782 - val_loss: 0.2820 - val_acc: 0.8791\n",
      "Epoch 26/150\n",
      "5360/5360 [==============================] - 7s 1ms/step - loss: 0.2835 - acc: 0.8782 - val_loss: 0.2821 - val_acc: 0.8791\n",
      "Epoch 27/150\n",
      "5360/5360 [==============================] - 7s 1ms/step - loss: 0.2834 - acc: 0.8782 - val_loss: 0.2824 - val_acc: 0.8790\n",
      "Epoch 28/150\n",
      "5360/5360 [==============================] - 7s 1ms/step - loss: 0.2833 - acc: 0.8782 - val_loss: 0.2818 - val_acc: 0.8791\n",
      "Epoch 29/150\n",
      "5360/5360 [==============================] - 7s 1ms/step - loss: 0.2832 - acc: 0.8783 - val_loss: 0.2830 - val_acc: 0.8786\n",
      "Epoch 30/150\n",
      "5360/5360 [==============================] - 8s 1ms/step - loss: 0.2831 - acc: 0.8783 - val_loss: 0.2816 - val_acc: 0.8791\n",
      "Epoch 31/150\n",
      "5360/5360 [==============================] - 8s 1ms/step - loss: 0.2830 - acc: 0.8783 - val_loss: 0.2817 - val_acc: 0.8791\n",
      "Epoch 32/150\n",
      "5360/5360 [==============================] - 8s 1ms/step - loss: 0.2830 - acc: 0.8784 - val_loss: 0.2813 - val_acc: 0.8794\n",
      "Epoch 33/150\n",
      "5360/5360 [==============================] - 8s 1ms/step - loss: 0.2829 - acc: 0.8784 - val_loss: 0.2813 - val_acc: 0.8793\n",
      "Epoch 34/150\n",
      "5360/5360 [==============================] - 8s 1ms/step - loss: 0.2828 - acc: 0.8784 - val_loss: 0.2813 - val_acc: 0.8793\n",
      "Epoch 35/150\n",
      "5360/5360 [==============================] - 8s 1ms/step - loss: 0.2827 - acc: 0.8785 - val_loss: 0.2811 - val_acc: 0.8794\n",
      "Epoch 36/150\n",
      "5360/5360 [==============================] - 8s 1ms/step - loss: 0.2827 - acc: 0.8786 - val_loss: 0.2812 - val_acc: 0.8794\n",
      "Epoch 37/150\n",
      "5360/5360 [==============================] - 8s 1ms/step - loss: 0.2826 - acc: 0.8785 - val_loss: 0.2813 - val_acc: 0.8793\n",
      "Epoch 38/150\n",
      "5360/5360 [==============================] - 8s 1ms/step - loss: 0.2825 - acc: 0.8786 - val_loss: 0.2811 - val_acc: 0.8793\n",
      "Epoch 39/150\n",
      "5360/5360 [==============================] - 8s 1ms/step - loss: 0.2825 - acc: 0.8786 - val_loss: 0.2810 - val_acc: 0.8794\n",
      "Epoch 40/150\n",
      "5360/5360 [==============================] - 8s 1ms/step - loss: 0.2824 - acc: 0.8787 - val_loss: 0.2808 - val_acc: 0.8796\n",
      "Epoch 41/150\n",
      "5360/5360 [==============================] - 8s 1ms/step - loss: 0.2824 - acc: 0.8787 - val_loss: 0.2810 - val_acc: 0.8794\n",
      "Epoch 42/150\n",
      "5360/5360 [==============================] - 8s 1ms/step - loss: 0.2823 - acc: 0.8787 - val_loss: 0.2808 - val_acc: 0.8795\n",
      "Epoch 43/150\n",
      "5360/5360 [==============================] - 9s 2ms/step - loss: 0.2823 - acc: 0.8787 - val_loss: 0.2807 - val_acc: 0.8796\n",
      "Epoch 44/150\n",
      "5360/5360 [==============================] - 8s 1ms/step - loss: 0.2822 - acc: 0.8787 - val_loss: 0.2811 - val_acc: 0.8794\n",
      "Epoch 45/150\n",
      "5360/5360 [==============================] - 8s 1ms/step - loss: 0.2822 - acc: 0.8787 - val_loss: 0.2806 - val_acc: 0.8795\n",
      "Epoch 46/150\n",
      "5360/5360 [==============================] - 8s 1ms/step - loss: 0.2821 - acc: 0.8787 - val_loss: 0.2806 - val_acc: 0.8795\n",
      "Epoch 47/150\n",
      "5360/5360 [==============================] - 8s 1ms/step - loss: 0.2821 - acc: 0.8787 - val_loss: 0.2807 - val_acc: 0.8797\n",
      "Epoch 48/150\n",
      "5360/5360 [==============================] - 8s 1ms/step - loss: 0.2820 - acc: 0.8788 - val_loss: 0.2804 - val_acc: 0.8796\n",
      "Epoch 49/150\n",
      "5360/5360 [==============================] - 8s 1ms/step - loss: 0.2820 - acc: 0.8787 - val_loss: 0.2804 - val_acc: 0.8796\n",
      "Epoch 50/150\n",
      "5360/5360 [==============================] - 8s 1ms/step - loss: 0.2819 - acc: 0.8787 - val_loss: 0.2809 - val_acc: 0.8791\n",
      "Epoch 51/150\n",
      "5360/5360 [==============================] - 8s 1ms/step - loss: 0.2819 - acc: 0.8788 - val_loss: 0.2804 - val_acc: 0.8796\n",
      "Epoch 52/150\n",
      "5360/5360 [==============================] - 8s 1ms/step - loss: 0.2819 - acc: 0.8788 - val_loss: 0.2803 - val_acc: 0.8796\n",
      "Epoch 53/150\n",
      "5360/5360 [==============================] - 8s 1ms/step - loss: 0.2818 - acc: 0.8788 - val_loss: 0.2804 - val_acc: 0.8797\n",
      "Epoch 54/150\n",
      "5360/5360 [==============================] - 8s 1ms/step - loss: 0.2818 - acc: 0.8787 - val_loss: 0.2805 - val_acc: 0.8796\n",
      "Epoch 55/150\n",
      "5360/5360 [==============================] - 8s 1ms/step - loss: 0.2818 - acc: 0.8789 - val_loss: 0.2803 - val_acc: 0.8797\n",
      "Epoch 56/150\n",
      "5360/5360 [==============================] - 8s 1ms/step - loss: 0.2817 - acc: 0.8789 - val_loss: 0.2802 - val_acc: 0.8797\n",
      "Epoch 57/150\n",
      "5360/5360 [==============================] - 8s 1ms/step - loss: 0.2817 - acc: 0.8789 - val_loss: 0.2802 - val_acc: 0.8796\n",
      "Epoch 58/150\n",
      "5360/5360 [==============================] - 8s 1ms/step - loss: 0.2817 - acc: 0.8788 - val_loss: 0.2802 - val_acc: 0.8796\n",
      "Epoch 59/150\n",
      "5360/5360 [==============================] - 8s 1ms/step - loss: 0.2816 - acc: 0.8788 - val_loss: 0.2802 - val_acc: 0.8796\n",
      "Epoch 60/150\n",
      "5360/5360 [==============================] - 8s 1ms/step - loss: 0.2816 - acc: 0.8789 - val_loss: 0.2802 - val_acc: 0.8796\n",
      "Epoch 61/150\n"
     ]
    },
    {
     "name": "stdout",
     "output_type": "stream",
     "text": [
      "5360/5360 [==============================] - 8s 1ms/step - loss: 0.2815 - acc: 0.8789 - val_loss: 0.2804 - val_acc: 0.8796\n",
      "Epoch 62/150\n",
      "5360/5360 [==============================] - 8s 1ms/step - loss: 0.2815 - acc: 0.8789 - val_loss: 0.2801 - val_acc: 0.8796\n",
      "Epoch 63/150\n",
      "5360/5360 [==============================] - 8s 1ms/step - loss: 0.2815 - acc: 0.8790 - val_loss: 0.2801 - val_acc: 0.8797\n",
      "Epoch 64/150\n",
      "5360/5360 [==============================] - 7s 1ms/step - loss: 0.2814 - acc: 0.8789 - val_loss: 0.2800 - val_acc: 0.8797\n",
      "Epoch 65/150\n",
      "5360/5360 [==============================] - 8s 1ms/step - loss: 0.2814 - acc: 0.8790 - val_loss: 0.2801 - val_acc: 0.8797\n",
      "Epoch 66/150\n",
      "5360/5360 [==============================] - 8s 1ms/step - loss: 0.2814 - acc: 0.8790 - val_loss: 0.2799 - val_acc: 0.8797\n",
      "Epoch 67/150\n",
      "5360/5360 [==============================] - 8s 1ms/step - loss: 0.2813 - acc: 0.8789 - val_loss: 0.2799 - val_acc: 0.8797\n",
      "Epoch 68/150\n",
      "5360/5360 [==============================] - 8s 1ms/step - loss: 0.2813 - acc: 0.8790 - val_loss: 0.2799 - val_acc: 0.8797\n",
      "Epoch 69/150\n",
      "5360/5360 [==============================] - 8s 1ms/step - loss: 0.2813 - acc: 0.8790 - val_loss: 0.2799 - val_acc: 0.8797\n",
      "Epoch 70/150\n",
      "5360/5360 [==============================] - 8s 1ms/step - loss: 0.2812 - acc: 0.8790 - val_loss: 0.2801 - val_acc: 0.8797\n",
      "Epoch 71/150\n",
      "5360/5360 [==============================] - 8s 1ms/step - loss: 0.2812 - acc: 0.8790 - val_loss: 0.2799 - val_acc: 0.8798\n",
      "Epoch 72/150\n",
      "5360/5360 [==============================] - 8s 1ms/step - loss: 0.2812 - acc: 0.8791 - val_loss: 0.2802 - val_acc: 0.8796\n",
      "Epoch 73/150\n",
      "5360/5360 [==============================] - 8s 1ms/step - loss: 0.2811 - acc: 0.8791 - val_loss: 0.2799 - val_acc: 0.8797\n",
      "Epoch 74/150\n",
      "5360/5360 [==============================] - 8s 1ms/step - loss: 0.2811 - acc: 0.8790 - val_loss: 0.2801 - val_acc: 0.8797\n",
      "Epoch 75/150\n",
      "5360/5360 [==============================] - 8s 1ms/step - loss: 0.2811 - acc: 0.8790 - val_loss: 0.2802 - val_acc: 0.8795\n",
      "Epoch 76/150\n",
      "5360/5360 [==============================] - 8s 1ms/step - loss: 0.2811 - acc: 0.8790 - val_loss: 0.2797 - val_acc: 0.8798\n",
      "Epoch 77/150\n",
      "5360/5360 [==============================] - 8s 1ms/step - loss: 0.2810 - acc: 0.8791 - val_loss: 0.2797 - val_acc: 0.8798\n",
      "Epoch 78/150\n",
      "5360/5360 [==============================] - 8s 1ms/step - loss: 0.2810 - acc: 0.8790 - val_loss: 0.2800 - val_acc: 0.8795\n",
      "Epoch 79/150\n",
      "5360/5360 [==============================] - 8s 1ms/step - loss: 0.2810 - acc: 0.8790 - val_loss: 0.2796 - val_acc: 0.8799\n",
      "Epoch 80/150\n",
      "5360/5360 [==============================] - 8s 1ms/step - loss: 0.2810 - acc: 0.8791 - val_loss: 0.2797 - val_acc: 0.8797\n",
      "Epoch 81/150\n",
      "5360/5360 [==============================] - 8s 1ms/step - loss: 0.2809 - acc: 0.8790 - val_loss: 0.2797 - val_acc: 0.8798\n",
      "Epoch 82/150\n",
      "5360/5360 [==============================] - 8s 1ms/step - loss: 0.2809 - acc: 0.8790 - val_loss: 0.2796 - val_acc: 0.8798\n",
      "Epoch 83/150\n",
      "5360/5360 [==============================] - 8s 1ms/step - loss: 0.2809 - acc: 0.8791 - val_loss: 0.2795 - val_acc: 0.8798\n",
      "Epoch 84/150\n",
      "5360/5360 [==============================] - 8s 1ms/step - loss: 0.2809 - acc: 0.8791 - val_loss: 0.2801 - val_acc: 0.8795\n",
      "Epoch 85/150\n",
      "5360/5360 [==============================] - 8s 1ms/step - loss: 0.2808 - acc: 0.8791 - val_loss: 0.2796 - val_acc: 0.8799\n",
      "Epoch 86/150\n",
      "5360/5360 [==============================] - 8s 1ms/step - loss: 0.2808 - acc: 0.8791 - val_loss: 0.2794 - val_acc: 0.8799\n",
      "Epoch 87/150\n",
      "5360/5360 [==============================] - 8s 1ms/step - loss: 0.2808 - acc: 0.8790 - val_loss: 0.2794 - val_acc: 0.8799\n",
      "Epoch 88/150\n",
      "5360/5360 [==============================] - 8s 1ms/step - loss: 0.2807 - acc: 0.8791 - val_loss: 0.2794 - val_acc: 0.8798\n",
      "Epoch 89/150\n",
      "5360/5360 [==============================] - 8s 1ms/step - loss: 0.2807 - acc: 0.8792 - val_loss: 0.2794 - val_acc: 0.8798\n",
      "Epoch 90/150\n",
      "5360/5360 [==============================] - 8s 1ms/step - loss: 0.2807 - acc: 0.8791 - val_loss: 0.2795 - val_acc: 0.8798\n",
      "Epoch 91/150\n",
      "5360/5360 [==============================] - 8s 1ms/step - loss: 0.2807 - acc: 0.8791 - val_loss: 0.2795 - val_acc: 0.8799\n",
      "Epoch 92/150\n",
      "5360/5360 [==============================] - 8s 1ms/step - loss: 0.2806 - acc: 0.8792 - val_loss: 0.2794 - val_acc: 0.8797\n",
      "Epoch 93/150\n",
      "5360/5360 [==============================] - 8s 1ms/step - loss: 0.2806 - acc: 0.8792 - val_loss: 0.2794 - val_acc: 0.8799\n",
      "Epoch 94/150\n",
      "5360/5360 [==============================] - 8s 1ms/step - loss: 0.2806 - acc: 0.8792 - val_loss: 0.2793 - val_acc: 0.8798\n",
      "Epoch 95/150\n",
      "5360/5360 [==============================] - 8s 1ms/step - loss: 0.2806 - acc: 0.8792 - val_loss: 0.2793 - val_acc: 0.8799\n",
      "Epoch 96/150\n",
      "5360/5360 [==============================] - 7s 1ms/step - loss: 0.2805 - acc: 0.8791 - val_loss: 0.2797 - val_acc: 0.8799\n",
      "Epoch 97/150\n",
      "5360/5360 [==============================] - 8s 1ms/step - loss: 0.2805 - acc: 0.8792 - val_loss: 0.2793 - val_acc: 0.8799\n",
      "Epoch 98/150\n",
      "5360/5360 [==============================] - 8s 1ms/step - loss: 0.2805 - acc: 0.8791 - val_loss: 0.2792 - val_acc: 0.8799\n",
      "Epoch 99/150\n",
      "5360/5360 [==============================] - 8s 1ms/step - loss: 0.2805 - acc: 0.8792 - val_loss: 0.2792 - val_acc: 0.8800\n",
      "Epoch 100/150\n",
      "5360/5360 [==============================] - 7s 1ms/step - loss: 0.2805 - acc: 0.8791 - val_loss: 0.2792 - val_acc: 0.8800\n",
      "Epoch 101/150\n",
      "5360/5360 [==============================] - 8s 1ms/step - loss: 0.2804 - acc: 0.8791 - val_loss: 0.2791 - val_acc: 0.8799\n",
      "Epoch 102/150\n",
      "5360/5360 [==============================] - 8s 1ms/step - loss: 0.2804 - acc: 0.8792 - val_loss: 0.2791 - val_acc: 0.8799\n",
      "Epoch 103/150\n",
      "5360/5360 [==============================] - 8s 1ms/step - loss: 0.2804 - acc: 0.8791 - val_loss: 0.2795 - val_acc: 0.8798\n",
      "Epoch 104/150\n",
      "5360/5360 [==============================] - 8s 1ms/step - loss: 0.2804 - acc: 0.8792 - val_loss: 0.2791 - val_acc: 0.8800\n",
      "Epoch 105/150\n",
      "5360/5360 [==============================] - 8s 1ms/step - loss: 0.2803 - acc: 0.8792 - val_loss: 0.2794 - val_acc: 0.8799\n",
      "Epoch 106/150\n",
      "5360/5360 [==============================] - 8s 1ms/step - loss: 0.2803 - acc: 0.8792 - val_loss: 0.2797 - val_acc: 0.8797\n",
      "Epoch 107/150\n",
      "5360/5360 [==============================] - 8s 1ms/step - loss: 0.2803 - acc: 0.8792 - val_loss: 0.2790 - val_acc: 0.8799\n",
      "Epoch 108/150\n",
      "5360/5360 [==============================] - 7s 1ms/step - loss: 0.2803 - acc: 0.8792 - val_loss: 0.2791 - val_acc: 0.8800\n",
      "Epoch 109/150\n",
      "5360/5360 [==============================] - 8s 1ms/step - loss: 0.2803 - acc: 0.8793 - val_loss: 0.2791 - val_acc: 0.8800\n",
      "Epoch 110/150\n",
      "5360/5360 [==============================] - 8s 1ms/step - loss: 0.2802 - acc: 0.8793 - val_loss: 0.2793 - val_acc: 0.8800\n",
      "Epoch 111/150\n",
      "5360/5360 [==============================] - 8s 1ms/step - loss: 0.2802 - acc: 0.8792 - val_loss: 0.2791 - val_acc: 0.8799\n",
      "Epoch 112/150\n",
      "5360/5360 [==============================] - 7s 1ms/step - loss: 0.2802 - acc: 0.8793 - val_loss: 0.2797 - val_acc: 0.8798\n",
      "Epoch 113/150\n",
      "5360/5360 [==============================] - 8s 1ms/step - loss: 0.2802 - acc: 0.8792 - val_loss: 0.2789 - val_acc: 0.8801\n",
      "Epoch 114/150\n",
      "5360/5360 [==============================] - 8s 1ms/step - loss: 0.2802 - acc: 0.8792 - val_loss: 0.2790 - val_acc: 0.8800\n",
      "Epoch 115/150\n",
      "5360/5360 [==============================] - 8s 1ms/step - loss: 0.2801 - acc: 0.8792 - val_loss: 0.2789 - val_acc: 0.8800\n",
      "Epoch 116/150\n",
      "5360/5360 [==============================] - 8s 1ms/step - loss: 0.2801 - acc: 0.8792 - val_loss: 0.2789 - val_acc: 0.8800\n",
      "Epoch 117/150\n",
      "5360/5360 [==============================] - 8s 1ms/step - loss: 0.2801 - acc: 0.8793 - val_loss: 0.2791 - val_acc: 0.8799\n",
      "Epoch 118/150\n",
      "5360/5360 [==============================] - 8s 1ms/step - loss: 0.2801 - acc: 0.8793 - val_loss: 0.2790 - val_acc: 0.8800\n",
      "Epoch 119/150\n",
      "5360/5360 [==============================] - 8s 1ms/step - loss: 0.2800 - acc: 0.8793 - val_loss: 0.2788 - val_acc: 0.8801\n",
      "Epoch 120/150\n",
      "5360/5360 [==============================] - 8s 1ms/step - loss: 0.2801 - acc: 0.8793 - val_loss: 0.2789 - val_acc: 0.8800\n",
      "Epoch 121/150\n"
     ]
    },
    {
     "name": "stdout",
     "output_type": "stream",
     "text": [
      "5360/5360 [==============================] - 7s 1ms/step - loss: 0.2800 - acc: 0.8792 - val_loss: 0.2788 - val_acc: 0.8801\n",
      "Epoch 122/150\n",
      "5360/5360 [==============================] - 8s 1ms/step - loss: 0.2800 - acc: 0.8792 - val_loss: 0.2793 - val_acc: 0.8800\n",
      "Epoch 123/150\n",
      "5360/5360 [==============================] - 7s 1ms/step - loss: 0.2800 - acc: 0.8794 - val_loss: 0.2791 - val_acc: 0.8799\n",
      "Epoch 124/150\n",
      "5360/5360 [==============================] - 7s 1ms/step - loss: 0.2800 - acc: 0.8793 - val_loss: 0.2789 - val_acc: 0.8801\n",
      "Epoch 125/150\n",
      "5360/5360 [==============================] - 8s 1ms/step - loss: 0.2800 - acc: 0.8793 - val_loss: 0.2788 - val_acc: 0.8800\n",
      "Epoch 126/150\n",
      "5360/5360 [==============================] - 8s 1ms/step - loss: 0.2799 - acc: 0.8793 - val_loss: 0.2799 - val_acc: 0.8794\n",
      "Epoch 127/150\n",
      "5360/5360 [==============================] - 8s 1ms/step - loss: 0.2799 - acc: 0.8793 - val_loss: 0.2788 - val_acc: 0.8801\n",
      "Epoch 128/150\n",
      "5360/5360 [==============================] - 7s 1ms/step - loss: 0.2799 - acc: 0.8793 - val_loss: 0.2789 - val_acc: 0.8800\n",
      "Epoch 129/150\n",
      "5360/5360 [==============================] - 8s 1ms/step - loss: 0.2799 - acc: 0.8793 - val_loss: 0.2787 - val_acc: 0.8801\n",
      "Epoch 130/150\n",
      "5360/5360 [==============================] - 8s 1ms/step - loss: 0.2799 - acc: 0.8793 - val_loss: 0.2786 - val_acc: 0.8801\n",
      "Epoch 131/150\n",
      "5360/5360 [==============================] - 8s 1ms/step - loss: 0.2799 - acc: 0.8793 - val_loss: 0.2787 - val_acc: 0.8802\n",
      "Epoch 132/150\n",
      "5360/5360 [==============================] - 8s 1ms/step - loss: 0.2798 - acc: 0.8793 - val_loss: 0.2786 - val_acc: 0.8802\n",
      "Epoch 133/150\n",
      "5360/5360 [==============================] - 8s 1ms/step - loss: 0.2798 - acc: 0.8793 - val_loss: 0.2793 - val_acc: 0.8798\n",
      "Epoch 134/150\n",
      "5360/5360 [==============================] - 7s 1ms/step - loss: 0.2798 - acc: 0.8794 - val_loss: 0.2788 - val_acc: 0.8801\n",
      "Epoch 135/150\n",
      "5360/5360 [==============================] - 8s 1ms/step - loss: 0.2798 - acc: 0.8794 - val_loss: 0.2786 - val_acc: 0.8802\n",
      "Epoch 136/150\n",
      "5360/5360 [==============================] - 8s 1ms/step - loss: 0.2798 - acc: 0.8793 - val_loss: 0.2785 - val_acc: 0.8802\n",
      "Epoch 137/150\n",
      "5360/5360 [==============================] - 8s 1ms/step - loss: 0.2798 - acc: 0.8794 - val_loss: 0.2786 - val_acc: 0.8802\n",
      "Epoch 138/150\n",
      "5360/5360 [==============================] - 8s 1ms/step - loss: 0.2798 - acc: 0.8794 - val_loss: 0.2786 - val_acc: 0.8801\n",
      "Epoch 139/150\n",
      "5360/5360 [==============================] - 8s 1ms/step - loss: 0.2797 - acc: 0.8793 - val_loss: 0.2786 - val_acc: 0.8802\n",
      "Epoch 140/150\n",
      "5360/5360 [==============================] - 8s 1ms/step - loss: 0.2797 - acc: 0.8794 - val_loss: 0.2785 - val_acc: 0.8802\n",
      "Epoch 141/150\n",
      "5360/5360 [==============================] - 8s 1ms/step - loss: 0.2797 - acc: 0.8794 - val_loss: 0.2788 - val_acc: 0.8802\n",
      "Epoch 142/150\n",
      "5360/5360 [==============================] - 8s 1ms/step - loss: 0.2797 - acc: 0.8794 - val_loss: 0.2786 - val_acc: 0.8802\n",
      "Epoch 143/150\n",
      "5360/5360 [==============================] - 8s 1ms/step - loss: 0.2797 - acc: 0.8794 - val_loss: 0.2786 - val_acc: 0.8802\n",
      "Epoch 144/150\n",
      "5360/5360 [==============================] - 8s 1ms/step - loss: 0.2796 - acc: 0.8794 - val_loss: 0.2785 - val_acc: 0.8802\n",
      "Epoch 145/150\n",
      "5360/5360 [==============================] - 8s 1ms/step - loss: 0.2796 - acc: 0.8794 - val_loss: 0.2785 - val_acc: 0.8801\n",
      "Epoch 146/150\n",
      "5360/5360 [==============================] - 8s 1ms/step - loss: 0.2796 - acc: 0.8793 - val_loss: 0.2787 - val_acc: 0.8801\n",
      "Epoch 147/150\n",
      "5360/5360 [==============================] - 8s 1ms/step - loss: 0.2796 - acc: 0.8794 - val_loss: 0.2788 - val_acc: 0.8800\n",
      "Epoch 148/150\n",
      "5360/5360 [==============================] - 8s 1ms/step - loss: 0.2796 - acc: 0.8794 - val_loss: 0.2785 - val_acc: 0.8802\n",
      "Epoch 149/150\n",
      "5360/5360 [==============================] - 8s 1ms/step - loss: 0.2796 - acc: 0.8795 - val_loss: 0.2792 - val_acc: 0.8799\n",
      "Epoch 150/150\n",
      "5360/5360 [==============================] - 8s 1ms/step - loss: 0.2796 - acc: 0.8794 - val_loss: 0.2784 - val_acc: 0.8803\n"
     ]
    }
   ],
   "source": [
    "results_1 = baseline_model.fit(x_train_final,y_train_final,\n",
    "                               epochs=150,batch_size=256,callbacks=early_stopping,validation_data=(x_val,y_val))"
   ]
  },
  {
   "cell_type": "code",
   "execution_count": 48,
   "metadata": {
    "ExecuteTime": {
     "end_time": "2021-04-09T06:57:43.764515Z",
     "start_time": "2021-04-09T06:57:43.708487Z"
    }
   },
   "outputs": [],
   "source": [
    "\n",
    "\n",
    "saved_model = load_model('best_model.h5')"
   ]
  },
  {
   "cell_type": "code",
   "execution_count": 49,
   "metadata": {
    "ExecuteTime": {
     "end_time": "2021-04-09T06:58:23.891091Z",
     "start_time": "2021-04-09T06:57:47.953541Z"
    }
   },
   "outputs": [
    {
     "name": "stdout",
     "output_type": "stream",
     "text": [
      "42877/42877 [==============================] - 21s 498us/step - loss: 0.2793 - acc: 0.8795\n",
      "Training Loss: 0.279 \n",
      "Training Accuracy: 0.88\n",
      "----------\n",
      "    1/16284 [..............................] - ETA: 0s - loss: 2.3022 - acc: 0.7500WARNING:tensorflow:Callbacks method `on_test_batch_end` is slow compared to the batch time (batch time: 0.0000s vs `on_test_batch_end` time: 0.0010s). Check your callbacks.\n",
      "16284/16284 [==============================] - 13s 822us/step - loss: 1.7487 - acc: 0.8056\n",
      "Test Loss: 1.75 \n",
      "Test Accuracy: 0.806\n"
     ]
    }
   ],
   "source": [
    "saved_model = load_model('best_model.h5')\n",
    "results_train = saved_model.evaluate(x_train_final, y_train_final)\n",
    "print(f'Training Loss: {results_train[0]:.3} \\nTraining Accuracy: {results_train[1]:.3}')\n",
    "\n",
    "print('----------')\n",
    "\n",
    "results_test = saved_model.evaluate(x_test, y_test)\n",
    "print(f'Test Loss: {results_test[0]:.3} \\nTest Accuracy: {results_test[1]:.3}')"
   ]
  },
  {
   "cell_type": "code",
   "execution_count": 50,
   "metadata": {
    "ExecuteTime": {
     "end_time": "2021-04-09T06:58:31.127793Z",
     "start_time": "2021-04-09T06:58:30.776524Z"
    }
   },
   "outputs": [
    {
     "data": {
      "image/png": "[encoded data removed]",
      "text/plain": [
       "<Figure size 432x288 with 1 Axes>"
      ]
     },
     "metadata": {
      "needs_background": "light"
     },
     "output_type": "display_data"
    },
    {
     "data": {
      "image/png": "[encoded data removed]",
      "text/plain": [
       "<Figure size 432x288 with 1 Axes>"
      ]
     },
     "metadata": {
      "needs_background": "light"
     },
     "output_type": "display_data"
    }
   ],
   "source": [
    "visualize_training_results(results_1)"
   ]
  },
  {
   "cell_type": "code",
   "execution_count": 51,
   "metadata": {
    "ExecuteTime": {
     "end_time": "2021-04-09T06:58:58.260656Z",
     "start_time": "2021-04-09T06:58:37.721562Z"
    }
   },
   "outputs": [
    {
     "name": "stdout",
     "output_type": "stream",
     "text": [
      "WARNING:tensorflow:From <ipython-input-51-ecc5bdf8e6dd>:1: Sequential.predict_classes (from tensorflow.python.keras.engine.sequential) is deprecated and will be removed after 2021-01-01.\n",
      "Instructions for updating:\n",
      "Please use instead:* `np.argmax(model.predict(x), axis=-1)`,   if your model does multi-class classification   (e.g. if it uses a `softmax` last-layer activation).* `(model.predict(x) > 0.5).astype(\"int32\")`,   if your model does binary classification   (e.g. if it uses a `sigmoid` last-layer activation).\n"
     ]
    }
   ],
   "source": [
    "base_preds_train = baseline_model.predict_classes(x_smote_scaled)"
   ]
  },
  {
   "cell_type": "code",
   "execution_count": 52,
   "metadata": {
    "ExecuteTime": {
     "end_time": "2021-04-09T06:59:02.435812Z",
     "start_time": "2021-04-09T06:59:02.420693Z"
    }
   },
   "outputs": [
    {
     "data": {
      "text/plain": [
       "(1960092, 1)"
      ]
     },
     "execution_count": 52,
     "metadata": {},
     "output_type": "execute_result"
    }
   ],
   "source": [
    "base_preds_train.shape"
   ]
  },
  {
   "cell_type": "code",
   "execution_count": 53,
   "metadata": {
    "ExecuteTime": {
     "end_time": "2021-04-09T06:59:10.495690Z",
     "start_time": "2021-04-09T06:59:06.494695Z"
    }
   },
   "outputs": [
    {
     "name": "stdout",
     "output_type": "stream",
     "text": [
      "[[966999  13047]\n",
      " [222652 757394]]\n",
      "              precision    recall  f1-score   support\n",
      "\n",
      "           0       0.81      0.99      0.89    980046\n",
      "           1       0.98      0.77      0.87    980046\n",
      "\n",
      "    accuracy                           0.88   1960092\n",
      "   macro avg       0.90      0.88      0.88   1960092\n",
      "weighted avg       0.90      0.88      0.88   1960092\n",
      "\n"
     ]
    }
   ],
   "source": [
    "\n",
    "print(confusion_matrix(y_smote, base_preds_train))\n",
    "print(classification_report(y_smote, base_preds_train))"
   ]
  },
  {
   "cell_type": "code",
   "execution_count": 54,
   "metadata": {
    "ExecuteTime": {
     "end_time": "2021-04-09T07:00:19.629830Z",
     "start_time": "2021-04-09T07:00:14.143830Z"
    }
   },
   "outputs": [],
   "source": [
    "test_preds = baseline_model.predict_classes(x_test_scaled)"
   ]
  },
  {
   "cell_type": "code",
   "execution_count": 55,
   "metadata": {
    "ExecuteTime": {
     "end_time": "2021-04-09T07:00:24.668551Z",
     "start_time": "2021-04-09T07:00:23.719539Z"
    }
   },
   "outputs": [
    {
     "name": "stdout",
     "output_type": "stream",
     "text": [
      "[[414076   5720]\n",
      " [ 95095   6191]]\n",
      "              precision    recall  f1-score   support\n",
      "\n",
      "           0       0.81      0.99      0.89    419796\n",
      "           1       0.52      0.06      0.11    101286\n",
      "\n",
      "    accuracy                           0.81    521082\n",
      "   macro avg       0.67      0.52      0.50    521082\n",
      "weighted avg       0.76      0.81      0.74    521082\n",
      "\n"
     ]
    }
   ],
   "source": [
    "\n",
    "print(confusion_matrix(y_test, test_preds))\n",
    "print(classification_report(y_test, test_preds))"
   ]
  },
  {
   "cell_type": "code",
   "execution_count": null,
   "metadata": {
    "ExecuteTime": {
     "end_time": "2021-04-08T15:01:43.744438Z",
     "start_time": "2021-04-08T15:01:37.249Z"
    }
   },
   "outputs": [],
   "source": [
    "base_preds_test = baseline_model.predict_classes()"
   ]
  },
  {
   "cell_type": "markdown",
   "metadata": {},
   "source": [
    "## Dropout"
   ]
  },
  {
   "cell_type": "code",
   "execution_count": 56,
   "metadata": {
    "ExecuteTime": {
     "end_time": "2021-04-09T07:00:58.101762Z",
     "start_time": "2021-04-09T07:00:58.021596Z"
    }
   },
   "outputs": [],
   "source": [
    "dropout = models.Sequential()\n",
    "dropout.add(layers.Dropout(.3,input_shape=(n_feats,)))\n",
    "dropout.add(layers.Dense(50,activation='tanh',))\n",
    "dropout.add(layers.Dropout(.3))\n",
    "dropout.add(layers.Dense(40,activation='tanh'))\n",
    "dropout.add(layers.Dropout(.3))\n",
    "dropout.add(layers.Dense(25,activation='tanh'))\n",
    "dropout.add(layers.Dropout(.2))\n",
    "dropout.add(layers.Dense(1,activation='sigmoid'))"
   ]
  },
  {
   "cell_type": "code",
   "execution_count": 57,
   "metadata": {
    "ExecuteTime": {
     "end_time": "2021-04-09T07:01:02.229624Z",
     "start_time": "2021-04-09T07:01:02.214595Z"
    }
   },
   "outputs": [],
   "source": [
    "dropout.compile(optimizer='sgd',loss='binary_crossentropy',metrics=['acc'])\n",
    "early_stopping = [EarlyStopping(monitor='val_loss', patience=10), \n",
    "                  ModelCheckpoint(filepath='best_model.h5', monitor='val_loss', save_best_only=True)]"
   ]
  },
  {
   "cell_type": "code",
   "execution_count": 58,
   "metadata": {
    "ExecuteTime": {
     "end_time": "2021-04-09T07:08:45.350957Z",
     "start_time": "2021-04-09T07:01:06.274600Z"
    },
    "scrolled": true
   },
   "outputs": [
    {
     "name": "stdout",
     "output_type": "stream",
     "text": [
      "Epoch 1/150\n",
      "5360/5360 [==============================] - 13s 2ms/step - loss: 0.5401 - acc: 0.7431 - val_loss: 0.3777 - val_acc: 0.8651\n",
      "Epoch 2/150\n",
      "5360/5360 [==============================] - 13s 2ms/step - loss: 0.4639 - acc: 0.8044 - val_loss: 0.3545 - val_acc: 0.8704\n",
      "Epoch 3/150\n",
      "5360/5360 [==============================] - 13s 2ms/step - loss: 0.4466 - acc: 0.8136 - val_loss: 0.3472 - val_acc: 0.8696\n",
      "Epoch 4/150\n",
      "5360/5360 [==============================] - 13s 2ms/step - loss: 0.4379 - acc: 0.8179 - val_loss: 0.3438 - val_acc: 0.8689\n",
      "Epoch 5/150\n",
      "5360/5360 [==============================] - 13s 2ms/step - loss: 0.4326 - acc: 0.8204 - val_loss: 0.3390 - val_acc: 0.8685\n",
      "Epoch 6/150\n",
      "5360/5360 [==============================] - 13s 2ms/step - loss: 0.4293 - acc: 0.8214 - val_loss: 0.3394 - val_acc: 0.8666\n",
      "Epoch 7/150\n",
      "5360/5360 [==============================] - 13s 2ms/step - loss: 0.4263 - acc: 0.8226 - val_loss: 0.3401 - val_acc: 0.8661\n",
      "Epoch 8/150\n",
      "5360/5360 [==============================] - 13s 2ms/step - loss: 0.4258 - acc: 0.8225 - val_loss: 0.3383 - val_acc: 0.8657\n",
      "Epoch 9/150\n",
      "5360/5360 [==============================] - 13s 2ms/step - loss: 0.4238 - acc: 0.8234 - val_loss: 0.3387 - val_acc: 0.8648\n",
      "Epoch 10/150\n",
      "5360/5360 [==============================] - 13s 2ms/step - loss: 0.4235 - acc: 0.8232 - val_loss: 0.3361 - val_acc: 0.8658\n",
      "Epoch 11/150\n",
      "5360/5360 [==============================] - 13s 2ms/step - loss: 0.4218 - acc: 0.8240 - val_loss: 0.3352 - val_acc: 0.8654\n",
      "Epoch 12/150\n",
      "5360/5360 [==============================] - 13s 2ms/step - loss: 0.4213 - acc: 0.8241 - val_loss: 0.3377 - val_acc: 0.8645\n",
      "Epoch 13/150\n",
      "5360/5360 [==============================] - 13s 2ms/step - loss: 0.4202 - acc: 0.8246 - val_loss: 0.3334 - val_acc: 0.8660\n",
      "Epoch 14/150\n",
      "5360/5360 [==============================] - 13s 2ms/step - loss: 0.4205 - acc: 0.8244 - val_loss: 0.3342 - val_acc: 0.8658\n",
      "Epoch 15/150\n",
      "5360/5360 [==============================] - 13s 2ms/step - loss: 0.4192 - acc: 0.8253 - val_loss: 0.3360 - val_acc: 0.8641\n",
      "Epoch 16/150\n",
      "5360/5360 [==============================] - 13s 2ms/step - loss: 0.4201 - acc: 0.8244 - val_loss: 0.3345 - val_acc: 0.8646\n",
      "Epoch 17/150\n",
      "5360/5360 [==============================] - 13s 2ms/step - loss: 0.4185 - acc: 0.8255 - val_loss: 0.3355 - val_acc: 0.8644\n",
      "Epoch 18/150\n",
      "5360/5360 [==============================] - 13s 2ms/step - loss: 0.4186 - acc: 0.8253 - val_loss: 0.3351 - val_acc: 0.8645\n",
      "Epoch 19/150\n",
      "5360/5360 [==============================] - 13s 2ms/step - loss: 0.4181 - acc: 0.8253 - val_loss: 0.3338 - val_acc: 0.8648\n",
      "Epoch 20/150\n",
      "5360/5360 [==============================] - 13s 2ms/step - loss: 0.4173 - acc: 0.8259 - val_loss: 0.3354 - val_acc: 0.8637\n",
      "Epoch 21/150\n",
      "5360/5360 [==============================] - 13s 2ms/step - loss: 0.4175 - acc: 0.8254 - val_loss: 0.3336 - val_acc: 0.8642\n",
      "Epoch 22/150\n",
      "5360/5360 [==============================] - 13s 2ms/step - loss: 0.4176 - acc: 0.8254 - val_loss: 0.3310 - val_acc: 0.8657\n",
      "Epoch 23/150\n",
      "5360/5360 [==============================] - 13s 2ms/step - loss: 0.4169 - acc: 0.8259 - val_loss: 0.3342 - val_acc: 0.8641\n",
      "Epoch 24/150\n",
      "5360/5360 [==============================] - 13s 2ms/step - loss: 0.4164 - acc: 0.8263 - val_loss: 0.3340 - val_acc: 0.8639\n",
      "Epoch 25/150\n",
      "5360/5360 [==============================] - 13s 2ms/step - loss: 0.4169 - acc: 0.8258 - val_loss: 0.3344 - val_acc: 0.8643\n",
      "Epoch 26/150\n",
      "5360/5360 [==============================] - 13s 2ms/step - loss: 0.4164 - acc: 0.8258 - val_loss: 0.3307 - val_acc: 0.8659\n",
      "Epoch 27/150\n",
      "5360/5360 [==============================] - 13s 2ms/step - loss: 0.4162 - acc: 0.8260 - val_loss: 0.3364 - val_acc: 0.8631\n",
      "Epoch 28/150\n",
      "5360/5360 [==============================] - 13s 2ms/step - loss: 0.4166 - acc: 0.8262 - val_loss: 0.3341 - val_acc: 0.8641\n",
      "Epoch 29/150\n",
      "5360/5360 [==============================] - 13s 2ms/step - loss: 0.4165 - acc: 0.8260 - val_loss: 0.3364 - val_acc: 0.8629\n",
      "Epoch 30/150\n",
      "5360/5360 [==============================] - 13s 2ms/step - loss: 0.4160 - acc: 0.8262 - val_loss: 0.3345 - val_acc: 0.8633\n",
      "Epoch 31/150\n",
      "5360/5360 [==============================] - 13s 2ms/step - loss: 0.4160 - acc: 0.8262 - val_loss: 0.3322 - val_acc: 0.8644\n",
      "Epoch 32/150\n",
      "5360/5360 [==============================] - 13s 2ms/step - loss: 0.4166 - acc: 0.8260 - val_loss: 0.3343 - val_acc: 0.8630\n",
      "Epoch 33/150\n",
      "5360/5360 [==============================] - 13s 2ms/step - loss: 0.4155 - acc: 0.8261 - val_loss: 0.3326 - val_acc: 0.8642\n",
      "Epoch 34/150\n",
      "5360/5360 [==============================] - 13s 2ms/step - loss: 0.4151 - acc: 0.8267 - val_loss: 0.3329 - val_acc: 0.8641\n",
      "Epoch 35/150\n",
      "5360/5360 [==============================] - 13s 2ms/step - loss: 0.4158 - acc: 0.8261 - val_loss: 0.3352 - val_acc: 0.8631\n",
      "Epoch 36/150\n",
      "5360/5360 [==============================] - 13s 2ms/step - loss: 0.4154 - acc: 0.8263 - val_loss: 0.3310 - val_acc: 0.8652\n"
     ]
    }
   ],
   "source": [
    "results_drop = dropout.fit(x_train_final,y_train_final,\n",
    "                               epochs=150,batch_size=256,callbacks=early_stopping,validation_data=(x_val,y_val))"
   ]
  },
  {
   "cell_type": "markdown",
   "metadata": {},
   "source": [
    "## Testing Layers"
   ]
  },
  {
   "cell_type": "code",
   "execution_count": 101,
   "metadata": {
    "ExecuteTime": {
     "end_time": "2021-04-09T20:17:42.671167Z",
     "start_time": "2021-04-09T20:17:42.654168Z"
    }
   },
   "outputs": [
    {
     "data": {
      "text/plain": [
       "87"
      ]
     },
     "execution_count": 101,
     "metadata": {},
     "output_type": "execute_result"
    }
   ],
   "source": [
    "x_train_final.shape[1]"
   ]
  },
  {
   "cell_type": "code",
   "execution_count": 134,
   "metadata": {
    "ExecuteTime": {
     "end_time": "2021-04-09T23:19:49.046119Z",
     "start_time": "2021-04-09T23:19:48.883118Z"
    }
   },
   "outputs": [
    {
     "data": {
      "text/plain": [
       "(1371398, 53)"
      ]
     },
     "execution_count": 134,
     "metadata": {},
     "output_type": "execute_result"
    }
   ],
   "source": [
    "x_train_final.drop(columns=sub_grade_columns,axis=1).shape"
   ]
  },
  {
   "cell_type": "code",
   "execution_count": 136,
   "metadata": {
    "ExecuteTime": {
     "end_time": "2021-04-09T23:31:22.192059Z",
     "start_time": "2021-04-09T23:21:32.498057Z"
    },
    "scrolled": true
   },
   "outputs": [
    {
     "name": "stdout",
     "output_type": "stream",
     "text": [
      "Epoch 1/100\n",
      "5358/5358 [==============================] - 15s 3ms/step - loss: 0.3802 - acc: 0.8199 - val_loss: 0.3670 - val_acc: 0.8262\n",
      "Epoch 2/100\n",
      "5358/5358 [==============================] - 15s 3ms/step - loss: 0.3657 - acc: 0.8277 - val_loss: 0.4019 - val_acc: 0.8167\n",
      "Epoch 3/100\n",
      "5358/5358 [==============================] - 16s 3ms/step - loss: 0.3615 - acc: 0.8305 - val_loss: 0.3556 - val_acc: 0.8346\n",
      "Epoch 4/100\n",
      "5358/5358 [==============================] - 15s 3ms/step - loss: 0.3536 - acc: 0.8354 - val_loss: 0.3436 - val_acc: 0.8409\n",
      "Epoch 5/100\n",
      "5358/5358 [==============================] - 14s 3ms/step - loss: 0.3438 - acc: 0.8409 - val_loss: 0.3540 - val_acc: 0.8314\n",
      "Epoch 6/100\n",
      "5358/5358 [==============================] - 14s 3ms/step - loss: 0.3406 - acc: 0.8429 - val_loss: 0.3399 - val_acc: 0.8413\n",
      "Epoch 7/100\n",
      "5358/5358 [==============================] - 14s 3ms/step - loss: 0.3396 - acc: 0.8435 - val_loss: 0.3394 - val_acc: 0.8432\n",
      "Epoch 8/100\n",
      "5358/5358 [==============================] - 16s 3ms/step - loss: 0.3383 - acc: 0.8440 - val_loss: 0.3454 - val_acc: 0.8430\n",
      "Epoch 9/100\n",
      "5358/5358 [==============================] - 15s 3ms/step - loss: 0.3380 - acc: 0.8443 - val_loss: 0.3382 - val_acc: 0.8439\n",
      "Epoch 10/100\n",
      "5358/5358 [==============================] - 15s 3ms/step - loss: 0.3373 - acc: 0.8448 - val_loss: 0.3319 - val_acc: 0.8477\n",
      "Epoch 11/100\n",
      "5358/5358 [==============================] - 14s 3ms/step - loss: 0.3365 - acc: 0.8451 - val_loss: 0.3368 - val_acc: 0.8438\n",
      "Epoch 12/100\n",
      "5358/5358 [==============================] - 14s 3ms/step - loss: 0.3356 - acc: 0.8457 - val_loss: 0.3340 - val_acc: 0.8449\n",
      "Epoch 13/100\n",
      "5358/5358 [==============================] - 14s 3ms/step - loss: 0.3348 - acc: 0.8461 - val_loss: 0.3339 - val_acc: 0.8470\n",
      "Epoch 14/100\n",
      "5358/5358 [==============================] - 14s 3ms/step - loss: 0.3343 - acc: 0.8465 - val_loss: 0.3350 - val_acc: 0.8453\n",
      "Epoch 15/100\n",
      "5358/5358 [==============================] - 14s 3ms/step - loss: 0.3340 - acc: 0.8468 - val_loss: 0.3321 - val_acc: 0.8472\n",
      "Epoch 16/100\n",
      "5358/5358 [==============================] - 15s 3ms/step - loss: 0.3337 - acc: 0.8469 - val_loss: 0.3366 - val_acc: 0.8420\n",
      "Epoch 17/100\n",
      "5358/5358 [==============================] - 16s 3ms/step - loss: 0.3319 - acc: 0.8480 - val_loss: 0.3326 - val_acc: 0.8457\n",
      "Epoch 18/100\n",
      "5358/5358 [==============================] - 16s 3ms/step - loss: 0.3292 - acc: 0.8498 - val_loss: 0.3280 - val_acc: 0.8499\n",
      "Epoch 19/100\n",
      "5358/5358 [==============================] - 16s 3ms/step - loss: 0.3277 - acc: 0.8506 - val_loss: 0.3238 - val_acc: 0.8529\n",
      "Epoch 20/100\n",
      "5358/5358 [==============================] - 17s 3ms/step - loss: 0.3277 - acc: 0.8509 - val_loss: 0.3261 - val_acc: 0.8509\n",
      "Epoch 21/100\n",
      "5358/5358 [==============================] - 17s 3ms/step - loss: 0.3269 - acc: 0.8509 - val_loss: 0.3267 - val_acc: 0.8511\n",
      "Epoch 22/100\n",
      "5358/5358 [==============================] - 16s 3ms/step - loss: 0.3253 - acc: 0.8518 - val_loss: 0.3235 - val_acc: 0.8525\n",
      "Epoch 23/100\n",
      "5358/5358 [==============================] - 16s 3ms/step - loss: 0.3410 - acc: 0.8447 - val_loss: 0.3510 - val_acc: 0.8373\n",
      "Epoch 24/100\n",
      "5358/5358 [==============================] - 15s 3ms/step - loss: 0.3265 - acc: 0.8514 - val_loss: 0.3234 - val_acc: 0.8535\n",
      "Epoch 25/100\n",
      "5358/5358 [==============================] - 14s 3ms/step - loss: 0.3275 - acc: 0.8505 - val_loss: 0.3330 - val_acc: 0.8482\n",
      "Epoch 26/100\n",
      "5358/5358 [==============================] - 15s 3ms/step - loss: 0.3291 - acc: 0.8501 - val_loss: 0.3353 - val_acc: 0.8485\n",
      "Epoch 27/100\n",
      "5358/5358 [==============================] - 15s 3ms/step - loss: 0.3299 - acc: 0.8502 - val_loss: 0.3203 - val_acc: 0.8530\n",
      "Epoch 28/100\n",
      "5358/5358 [==============================] - 16s 3ms/step - loss: 0.3219 - acc: 0.8541 - val_loss: 0.3192 - val_acc: 0.8560\n",
      "Epoch 29/100\n",
      "5358/5358 [==============================] - 16s 3ms/step - loss: 0.3236 - acc: 0.8534 - val_loss: 0.3235 - val_acc: 0.8527\n",
      "Epoch 30/100\n",
      "5358/5358 [==============================] - 16s 3ms/step - loss: 0.3210 - acc: 0.8544 - val_loss: 0.3354 - val_acc: 0.8475\n",
      "Epoch 31/100\n",
      "5358/5358 [==============================] - 16s 3ms/step - loss: 0.3285 - acc: 0.8505 - val_loss: 0.3229 - val_acc: 0.8536\n",
      "Epoch 32/100\n",
      "5358/5358 [==============================] - 18s 3ms/step - loss: 0.4724 - acc: 0.7749 - val_loss: 0.4822 - val_acc: 0.7969\n",
      "Epoch 33/100\n",
      "5358/5358 [==============================] - 16s 3ms/step - loss: 0.5191 - acc: 0.7584 - val_loss: 0.5595 - val_acc: 0.7170\n",
      "Epoch 34/100\n",
      "5358/5358 [==============================] - 16s 3ms/step - loss: 0.4522 - acc: 0.7840 - val_loss: 0.4315 - val_acc: 0.7867\n",
      "Epoch 35/100\n",
      "5358/5358 [==============================] - 15s 3ms/step - loss: 0.4122 - acc: 0.8043 - val_loss: 0.4218 - val_acc: 0.7992\n",
      "Epoch 36/100\n",
      "5358/5358 [==============================] - 16s 3ms/step - loss: 0.4158 - acc: 0.8042 - val_loss: 0.3993 - val_acc: 0.8162\n",
      "Epoch 37/100\n",
      "5358/5358 [==============================] - 16s 3ms/step - loss: 0.4433 - acc: 0.7769 - val_loss: 0.4524 - val_acc: 0.7612\n",
      "Epoch 38/100\n",
      "5358/5358 [==============================] - 17s 3ms/step - loss: 0.4840 - acc: 0.7429 - val_loss: 0.6702 - val_acc: 0.5529\n"
     ]
    }
   ],
   "source": [
    "n_lays = 20\n",
    "model = models.Sequential()\n",
    "model.add(layers.Dense(50, input_shape=(53,), activation='tanh'))\n",
    "for _ in range(1, n_lays):\n",
    "    model.add(layers.Dense(25, activation='tanh'))\n",
    "model.add(layers.Dense(1, activation='sigmoid'))\n",
    "\n",
    "model.compile(loss='binary_crossentropy', optimizer='adam', metrics=['acc'])\n",
    "# fit model on train set\n",
    "early_stopping = [EarlyStopping(monitor='val_loss', patience=10), \n",
    "                  ModelCheckpoint(filepath='best_model.h5', monitor='val_loss', save_best_only=True)]\n",
    "history_20 = model.fit(x_train_final.drop(columns=sub_grade_columns,axis=1),\n",
    "                       y_train_final, epochs=100,batch_size=256, verbose=1,callbacks=early_stopping,\n",
    "                       validation_data=(x_val.drop(columns=sub_grade_columns,axis=1),y_val))\n",
    "\n"
   ]
  },
  {
   "cell_type": "code",
   "execution_count": null,
   "metadata": {},
   "outputs": [],
   "source": []
  },
  {
   "cell_type": "code",
   "execution_count": 138,
   "metadata": {
    "ExecuteTime": {
     "end_time": "2021-04-09T23:34:00.050873Z",
     "start_time": "2021-04-09T23:33:02.456922Z"
    }
   },
   "outputs": [
    {
     "name": "stdout",
     "output_type": "stream",
     "text": [
      "42857/42857 [==============================] - 35s 811us/step - loss: 0.3193 - acc: 0.8561\n",
      "Training Loss: 0.319 \n",
      "Training Accuracy: 0.856\n",
      "----------\n",
      "16284/16284 [==============================] - 12s 754us/step - loss: 0.4584 - acc: 0.7986\n",
      "Test Loss: 0.458 \n",
      "Test Accuracy: 0.799\n"
     ]
    }
   ],
   "source": [
    "saved_model = load_model('best_model.h5')\n",
    "results_train = saved_model.evaluate(x_train_final.drop(columns=sub_grade_columns,axis=1), y_train_final)\n",
    "print(f'Training Loss: {results_train[0]:.3} \\nTraining Accuracy: {results_train[1]:.3}')\n",
    "\n",
    "print('----------')\n",
    "\n",
    "results_test = saved_model.evaluate(x_test_scaled.drop(columns=sub_grade_columns,axis=1), y_test)\n",
    "print(f'Test Loss: {results_test[0]:.3} \\nTest Accuracy: {results_test[1]:.3}')"
   ]
  },
  {
   "cell_type": "code",
   "execution_count": 139,
   "metadata": {
    "ExecuteTime": {
     "end_time": "2021-04-09T23:34:16.829662Z",
     "start_time": "2021-04-09T23:34:06.701712Z"
    }
   },
   "outputs": [
    {
     "name": "stdout",
     "output_type": "stream",
     "text": [
      "[[405565  14707]\n",
      " [ 90224  10586]]\n",
      "              precision    recall  f1-score   support\n",
      "\n",
      "           0       0.82      0.97      0.89    420272\n",
      "           1       0.42      0.11      0.17    100810\n",
      "\n",
      "    accuracy                           0.80    521082\n",
      "   macro avg       0.62      0.54      0.53    521082\n",
      "weighted avg       0.74      0.80      0.75    521082\n",
      "\n"
     ]
    }
   ],
   "source": [
    "test_preds = saved_model.predict_classes(x_test_scaled.drop(columns=sub_grade_columns,axis=1))\n",
    "print(confusion_matrix(y_test, test_preds))\n",
    "print(classification_report(y_test, test_preds))"
   ]
  },
  {
   "cell_type": "code",
   "execution_count": 108,
   "metadata": {
    "ExecuteTime": {
     "end_time": "2021-04-09T20:49:41.675151Z",
     "start_time": "2021-04-09T20:40:59.442297Z"
    },
    "scrolled": true
   },
   "outputs": [
    {
     "name": "stdout",
     "output_type": "stream",
     "text": [
      "Epoch 1/100\n",
      "5358/5358 [==============================] - 21s 4ms/step - loss: 0.2991 - acc: 0.8688 - val_loss: 0.2945 - val_acc: 0.8700\n",
      "Epoch 2/100\n",
      "5358/5358 [==============================] - 20s 4ms/step - loss: 0.2939 - acc: 0.8709 - val_loss: 0.2903 - val_acc: 0.8719\n",
      "Epoch 3/100\n",
      "5358/5358 [==============================] - 19s 4ms/step - loss: 0.2921 - acc: 0.8721 - val_loss: 0.2926 - val_acc: 0.8717\n",
      "Epoch 4/100\n",
      "5358/5358 [==============================] - 21s 4ms/step - loss: 0.2912 - acc: 0.8728 - val_loss: 0.2889 - val_acc: 0.8733\n",
      "Epoch 5/100\n",
      "5358/5358 [==============================] - 21s 4ms/step - loss: 0.2924 - acc: 0.8722 - val_loss: 0.2904 - val_acc: 0.8726\n",
      "Epoch 6/100\n",
      "5358/5358 [==============================] - 21s 4ms/step - loss: 0.2912 - acc: 0.8732 - val_loss: 0.2947 - val_acc: 0.8717\n",
      "Epoch 7/100\n",
      "5358/5358 [==============================] - 20s 4ms/step - loss: 0.2919 - acc: 0.8728 - val_loss: 0.2898 - val_acc: 0.8730\n",
      "Epoch 8/100\n",
      "5358/5358 [==============================] - 20s 4ms/step - loss: 0.2912 - acc: 0.8730 - val_loss: 0.2904 - val_acc: 0.8732\n",
      "Epoch 9/100\n",
      "5358/5358 [==============================] - 21s 4ms/step - loss: 0.2904 - acc: 0.8733 - val_loss: 0.2908 - val_acc: 0.8733\n",
      "Epoch 10/100\n",
      "5358/5358 [==============================] - 20s 4ms/step - loss: 0.2925 - acc: 0.8728 - val_loss: 0.2891 - val_acc: 0.8737\n",
      "Epoch 11/100\n",
      "5358/5358 [==============================] - 20s 4ms/step - loss: 0.2908 - acc: 0.8731 - val_loss: 0.2899 - val_acc: 0.8731\n",
      "Epoch 12/100\n",
      "5358/5358 [==============================] - 21s 4ms/step - loss: 0.2923 - acc: 0.8729 - val_loss: 0.2916 - val_acc: 0.8740\n",
      "Epoch 13/100\n",
      "5358/5358 [==============================] - 19s 4ms/step - loss: 0.2907 - acc: 0.8736 - val_loss: 0.2885 - val_acc: 0.8739\n",
      "Epoch 14/100\n",
      "5358/5358 [==============================] - 20s 4ms/step - loss: 0.2903 - acc: 0.8735 - val_loss: 0.2887 - val_acc: 0.8742\n",
      "Epoch 15/100\n",
      "5358/5358 [==============================] - 20s 4ms/step - loss: 0.2904 - acc: 0.8736 - val_loss: 0.2884 - val_acc: 0.8753\n",
      "Epoch 16/100\n",
      "5358/5358 [==============================] - 19s 4ms/step - loss: 0.2899 - acc: 0.8738 - val_loss: 0.2883 - val_acc: 0.8741\n",
      "Epoch 17/100\n",
      "5358/5358 [==============================] - 18s 3ms/step - loss: 0.2899 - acc: 0.8736 - val_loss: 0.2874 - val_acc: 0.8745\n",
      "Epoch 18/100\n",
      "5358/5358 [==============================] - 18s 3ms/step - loss: 0.2892 - acc: 0.8738 - val_loss: 0.2896 - val_acc: 0.8741\n",
      "Epoch 19/100\n",
      "5358/5358 [==============================] - 18s 3ms/step - loss: 0.2891 - acc: 0.8737 - val_loss: 0.2887 - val_acc: 0.8743\n",
      "Epoch 20/100\n",
      "5358/5358 [==============================] - 17s 3ms/step - loss: 0.2897 - acc: 0.8737 - val_loss: 0.2901 - val_acc: 0.8737\n",
      "Epoch 21/100\n",
      "5358/5358 [==============================] - 17s 3ms/step - loss: 0.2891 - acc: 0.8740 - val_loss: 0.2875 - val_acc: 0.8753\n",
      "Epoch 22/100\n",
      "5358/5358 [==============================] - 18s 3ms/step - loss: 0.2897 - acc: 0.8737 - val_loss: 0.2893 - val_acc: 0.8723\n",
      "Epoch 23/100\n",
      "5358/5358 [==============================] - 18s 3ms/step - loss: 0.2902 - acc: 0.8732 - val_loss: 0.2892 - val_acc: 0.8739\n",
      "Epoch 24/100\n",
      "5358/5358 [==============================] - 18s 3ms/step - loss: 0.2918 - acc: 0.8726 - val_loss: 0.2887 - val_acc: 0.8740\n",
      "Epoch 25/100\n",
      "5358/5358 [==============================] - 18s 3ms/step - loss: 0.2900 - acc: 0.8734 - val_loss: 0.2885 - val_acc: 0.8741\n",
      "Epoch 26/100\n",
      "5358/5358 [==============================] - 17s 3ms/step - loss: 0.2894 - acc: 0.8738 - val_loss: 0.2878 - val_acc: 0.8741\n",
      "Epoch 27/100\n",
      "5358/5358 [==============================] - 17s 3ms/step - loss: 0.2893 - acc: 0.8738 - val_loss: 0.2885 - val_acc: 0.8740\n"
     ]
    }
   ],
   "source": [
    "n_lays = 8\n",
    "model = models.Sequential()\n",
    "model.add(layers.Dense(300, input_shape=(n_feats,), activation='tanh'))\n",
    "for _ in range(1, n_lays):\n",
    "    model.add(layers.Dense(100, activation='tanh'))\n",
    "model.add(layers.Dense(1, activation='sigmoid'))\n",
    "\n",
    "model.compile(loss='binary_crossentropy', optimizer='adam', metrics=['acc'])\n",
    "# fit model on train set\n",
    "early_stopping = [EarlyStopping(monitor='val_loss', patience=10), \n",
    "                  ModelCheckpoint(filepath='best_model.h5', monitor='val_loss', save_best_only=True)]\n",
    "history_8 = model.fit(x_train_final,y_train_final, epochs=100,batch_size=256, verbose=1,callbacks=early_stopping,validation_data=(x_val,y_val))\n",
    "\n"
   ]
  },
  {
   "cell_type": "code",
   "execution_count": 109,
   "metadata": {
    "ExecuteTime": {
     "end_time": "2021-04-09T20:56:07.283427Z",
     "start_time": "2021-04-09T20:56:07.270398Z"
    }
   },
   "outputs": [],
   "source": [
    "def test_class_report(saved_model_name,x_test,y_test,x_train,y_train):\n",
    "    model = load_model(saved_model_name)\n",
    "    train = model.evaluate(x_train,y_train)\n",
    "    print(f'Training Loss: {train[0]:.3} \\nTraining Accuracy: {train[1]:.3}')\n",
    "    print('----------')\n",
    "    test = model.evaluate(x_test,y_test)\n",
    "    print(f'Test Loss: {test[0]:.3} \\nTest Accuracy: {test[1]:.3}')\n",
    "    preds = model.predict_classes(x_test)\n",
    "    print(confusion_matrix(y_test, preds))\n",
    "    print(classification_report(y_test, preds))\n",
    "    "
   ]
  },
  {
   "cell_type": "code",
   "execution_count": 110,
   "metadata": {
    "ExecuteTime": {
     "end_time": "2021-04-09T20:57:49.982015Z",
     "start_time": "2021-04-09T20:56:50.333432Z"
    }
   },
   "outputs": [
    {
     "name": "stdout",
     "output_type": "stream",
     "text": [
      "42857/42857 [==============================] - 36s 828us/step - loss: 0.2880 - acc: 0.8746\n",
      "Training Loss: 0.288 \n",
      "Training Accuracy: 0.875\n",
      "----------\n",
      "16284/16284 [==============================] - 14s 842us/step - loss: 0.4501 - acc: 0.8063\n",
      "Test Loss: 0.45 \n",
      "Test Accuracy: 0.806\n",
      "[[412498   7774]\n",
      " [ 93135   7675]]\n",
      "              precision    recall  f1-score   support\n",
      "\n",
      "           0       0.82      0.98      0.89    420272\n",
      "           1       0.50      0.08      0.13    100810\n",
      "\n",
      "    accuracy                           0.81    521082\n",
      "   macro avg       0.66      0.53      0.51    521082\n",
      "weighted avg       0.75      0.81      0.74    521082\n",
      "\n"
     ]
    }
   ],
   "source": [
    "test_class_report('best_model.h5',x_test_scaled,y_test,x_train_final,y_train_final)"
   ]
  },
  {
   "cell_type": "code",
   "execution_count": 140,
   "metadata": {
    "ExecuteTime": {
     "end_time": "2021-04-09T23:39:08.006456Z",
     "start_time": "2021-04-09T23:36:20.881707Z"
    },
    "scrolled": true
   },
   "outputs": [
    {
     "name": "stdout",
     "output_type": "stream",
     "text": [
      "Epoch 1/100\n",
      "5358/5358 [==============================] - 11s 2ms/step - loss: 0.3778 - acc: 0.8218 - val_loss: 0.3604 - val_acc: 0.8293\n",
      "Epoch 2/100\n",
      "5358/5358 [==============================] - 10s 2ms/step - loss: 0.3548 - acc: 0.8355 - val_loss: 0.3510 - val_acc: 0.8402\n",
      "Epoch 3/100\n",
      "5358/5358 [==============================] - 10s 2ms/step - loss: 0.3449 - acc: 0.8410 - val_loss: 0.3413 - val_acc: 0.8427\n",
      "Epoch 4/100\n",
      "5358/5358 [==============================] - 10s 2ms/step - loss: 0.3418 - acc: 0.8428 - val_loss: 0.3395 - val_acc: 0.8437\n",
      "Epoch 5/100\n",
      "5358/5358 [==============================] - 10s 2ms/step - loss: 0.3383 - acc: 0.8446 - val_loss: 0.3428 - val_acc: 0.8442\n",
      "Epoch 6/100\n",
      "5358/5358 [==============================] - 10s 2ms/step - loss: 0.3341 - acc: 0.8468 - val_loss: 0.3325 - val_acc: 0.8480\n",
      "Epoch 7/100\n",
      "5358/5358 [==============================] - 10s 2ms/step - loss: 0.3410 - acc: 0.8434 - val_loss: 0.3954 - val_acc: 0.8090\n",
      "Epoch 8/100\n",
      "5358/5358 [==============================] - 10s 2ms/step - loss: 0.3476 - acc: 0.8401 - val_loss: 0.3420 - val_acc: 0.8453\n",
      "Epoch 9/100\n",
      "5358/5358 [==============================] - 11s 2ms/step - loss: 0.3537 - acc: 0.8373 - val_loss: 0.3409 - val_acc: 0.8440\n",
      "Epoch 10/100\n",
      "5358/5358 [==============================] - 11s 2ms/step - loss: 0.3802 - acc: 0.8246 - val_loss: 0.3692 - val_acc: 0.8262\n",
      "Epoch 11/100\n",
      "5358/5358 [==============================] - 11s 2ms/step - loss: 0.4041 - acc: 0.8172 - val_loss: 0.4129 - val_acc: 0.8201\n",
      "Epoch 12/100\n",
      "5358/5358 [==============================] - 11s 2ms/step - loss: 0.3938 - acc: 0.8203 - val_loss: 0.3616 - val_acc: 0.8369\n",
      "Epoch 13/100\n",
      "5358/5358 [==============================] - 11s 2ms/step - loss: 0.3803 - acc: 0.8295 - val_loss: 0.3734 - val_acc: 0.8331\n",
      "Epoch 14/100\n",
      "5358/5358 [==============================] - 10s 2ms/step - loss: 0.4216 - acc: 0.8121 - val_loss: 0.3679 - val_acc: 0.8297\n",
      "Epoch 15/100\n",
      "5358/5358 [==============================] - 11s 2ms/step - loss: 0.6403 - acc: 0.5582 - val_loss: 0.6932 - val_acc: 0.5002\n",
      "Epoch 16/100\n",
      "5358/5358 [==============================] - 11s 2ms/step - loss: 0.6933 - acc: 0.5001 - val_loss: 0.6941 - val_acc: 0.4998\n"
     ]
    }
   ],
   "source": [
    "n_lays = 8\n",
    "opt = Adam(learning_rate=.025)\n",
    "model = models.Sequential()\n",
    "model.add(layers.Dense(50, input_shape=(53,), activation='relu'))\n",
    "for _ in range(1, n_lays):\n",
    "    model.add(layers.Dense(25, activation='relu'))\n",
    "model.add(layers.Dense(1, activation='sigmoid'))\n",
    "\n",
    "model.compile(loss='binary_crossentropy', optimizer=opt, metrics=['acc'])\n",
    "# fit model on train set\n",
    "early_stopping = [EarlyStopping(monitor='val_loss', patience=10), \n",
    "                  ModelCheckpoint(filepath='best_model.h5', monitor='val_loss', save_best_only=True)]\n",
    "history_20 = model.fit(x_train_final.drop(columns=sub_grade_columns,axis=1),\n",
    "                       y_train_final, epochs=100,batch_size=256, verbose=1,callbacks=early_stopping,\n",
    "                       validation_data=(x_val.drop(columns=sub_grade_columns,axis=1),y_val))\n"
   ]
  },
  {
   "cell_type": "code",
   "execution_count": 141,
   "metadata": {
    "ExecuteTime": {
     "end_time": "2021-04-09T23:40:15.160657Z",
     "start_time": "2021-04-09T23:39:35.318506Z"
    }
   },
   "outputs": [
    {
     "name": "stdout",
     "output_type": "stream",
     "text": [
      "42857/42857 [==============================] - 29s 672us/step - loss: 0.3329 - acc: 0.8479\n",
      "Training Loss: 0.333 \n",
      "Training Accuracy: 0.848\n",
      "----------\n",
      "16284/16284 [==============================] - 10s 615us/step - loss: 0.4739 - acc: 0.7974\n",
      "Test Loss: 0.474 \n",
      "Test Accuracy: 0.797\n"
     ]
    }
   ],
   "source": [
    "saved_model = load_model('best_model.h5')\n",
    "results_train = saved_model.evaluate(x_train_final.drop(columns=sub_grade_columns,axis=1), y_train_final)\n",
    "print(f'Training Loss: {results_train[0]:.3} \\nTraining Accuracy: {results_train[1]:.3}')\n",
    "\n",
    "print('----------')\n",
    "\n",
    "results_test = saved_model.evaluate(x_test_scaled.drop(columns=sub_grade_columns,axis=1), y_test)\n",
    "print(f'Test Loss: {results_test[0]:.3} \\nTest Accuracy: {results_test[1]:.3}')"
   ]
  },
  {
   "cell_type": "code",
   "execution_count": 142,
   "metadata": {
    "ExecuteTime": {
     "end_time": "2021-04-09T23:40:40.632980Z",
     "start_time": "2021-04-09T23:40:33.909380Z"
    }
   },
   "outputs": [
    {
     "name": "stdout",
     "output_type": "stream",
     "text": [
      "[[403981  16291]\n",
      " [ 89271  11539]]\n",
      "              precision    recall  f1-score   support\n",
      "\n",
      "           0       0.82      0.96      0.88    420272\n",
      "           1       0.41      0.11      0.18    100810\n",
      "\n",
      "    accuracy                           0.80    521082\n",
      "   macro avg       0.62      0.54      0.53    521082\n",
      "weighted avg       0.74      0.80      0.75    521082\n",
      "\n"
     ]
    }
   ],
   "source": [
    "test_preds = saved_model.predict_classes(x_test_scaled.drop(columns=sub_grade_columns,axis=1))\n",
    "print(confusion_matrix(y_test, test_preds))\n",
    "print(classification_report(y_test, test_preds))"
   ]
  },
  {
   "cell_type": "markdown",
   "metadata": {},
   "source": [
    "### Testing Layers with Dropout"
   ]
  },
  {
   "cell_type": "code",
   "execution_count": null,
   "metadata": {},
   "outputs": [],
   "source": [
    "history, result = evaluate_model(n_layers, x_train_final.drop(columns=sub_grade_columns,axis=1),\n",
    "                                     y_train_final, x_test_scaled.drop(columns=sub_grade_columns,axis=1), y_test,\n",
    "                                     x_val.drop(columns=sub_grade_columns,axis=1),y_val)"
   ]
  },
  {
   "cell_type": "code",
   "execution_count": 161,
   "metadata": {
    "ExecuteTime": {
     "end_time": "2021-04-11T04:44:45.481855Z",
     "start_time": "2021-04-11T04:25:02.166831Z"
    },
    "scrolled": true
   },
   "outputs": [
    {
     "name": "stdout",
     "output_type": "stream",
     "text": [
      "Epoch 1/150\n",
      "5358/5358 [==============================] - 18s 3ms/step - loss: 0.4104 - acc: 0.8029 - val_loss: 0.3798 - val_acc: 0.8220\n",
      "Epoch 2/150\n",
      "5358/5358 [==============================] - 18s 3ms/step - loss: 0.3828 - acc: 0.8204 - val_loss: 0.3686 - val_acc: 0.8265\n",
      "Epoch 3/150\n",
      "5358/5358 [==============================] - 19s 4ms/step - loss: 0.3771 - acc: 0.8233 - val_loss: 0.3660 - val_acc: 0.8279\n",
      "Epoch 4/150\n",
      "5358/5358 [==============================] - 18s 3ms/step - loss: 0.3747 - acc: 0.8240 - val_loss: 0.3639 - val_acc: 0.8290\n",
      "Epoch 5/150\n",
      "5358/5358 [==============================] - 18s 3ms/step - loss: 0.3738 - acc: 0.8244 - val_loss: 0.3644 - val_acc: 0.8292\n",
      "Epoch 6/150\n",
      "5358/5358 [==============================] - 18s 3ms/step - loss: 0.3724 - acc: 0.8251 - val_loss: 0.3656 - val_acc: 0.8272\n",
      "Epoch 7/150\n",
      "5358/5358 [==============================] - 18s 3ms/step - loss: 0.3720 - acc: 0.8252 - val_loss: 0.3678 - val_acc: 0.8250\n",
      "Epoch 8/150\n",
      "5358/5358 [==============================] - 18s 3ms/step - loss: 0.3716 - acc: 0.8254 - val_loss: 0.3636 - val_acc: 0.8285\n",
      "Epoch 9/150\n",
      "5358/5358 [==============================] - 20s 4ms/step - loss: 0.3716 - acc: 0.8253 - val_loss: 0.3699 - val_acc: 0.8261\n",
      "Epoch 10/150\n",
      "5358/5358 [==============================] - 19s 4ms/step - loss: 0.3714 - acc: 0.8249 - val_loss: 0.3633 - val_acc: 0.8291\n",
      "Epoch 11/150\n",
      "5358/5358 [==============================] - 19s 4ms/step - loss: 0.3714 - acc: 0.8250 - val_loss: 0.3638 - val_acc: 0.8282\n",
      "Epoch 12/150\n",
      "5358/5358 [==============================] - 19s 4ms/step - loss: 0.3712 - acc: 0.8252 - val_loss: 0.3642 - val_acc: 0.8274\n",
      "Epoch 13/150\n",
      "5358/5358 [==============================] - 19s 4ms/step - loss: 0.3708 - acc: 0.8252 - val_loss: 0.3625 - val_acc: 0.8285\n",
      "Epoch 14/150\n",
      "5358/5358 [==============================] - 20s 4ms/step - loss: 0.3711 - acc: 0.8256 - val_loss: 0.3621 - val_acc: 0.8293\n",
      "Epoch 15/150\n",
      "5358/5358 [==============================] - 19s 4ms/step - loss: 0.3709 - acc: 0.8254 - val_loss: 0.3638 - val_acc: 0.8283\n",
      "Epoch 16/150\n",
      "5358/5358 [==============================] - 20s 4ms/step - loss: 0.3711 - acc: 0.8255 - val_loss: 0.3641 - val_acc: 0.8289\n",
      "Epoch 17/150\n",
      "5358/5358 [==============================] - 20s 4ms/step - loss: 0.3705 - acc: 0.8255 - val_loss: 0.3653 - val_acc: 0.8226\n",
      "Epoch 18/150\n",
      "5358/5358 [==============================] - 19s 3ms/step - loss: 0.3709 - acc: 0.8253 - val_loss: 0.3684 - val_acc: 0.8273\n",
      "Epoch 19/150\n",
      "5358/5358 [==============================] - 18s 3ms/step - loss: 0.3703 - acc: 0.8256 - val_loss: 0.3630 - val_acc: 0.8291\n",
      "Epoch 20/150\n",
      "5358/5358 [==============================] - 18s 3ms/step - loss: 0.3703 - acc: 0.8253 - val_loss: 0.3623 - val_acc: 0.8290\n",
      "Epoch 21/150\n",
      "5358/5358 [==============================] - 18s 3ms/step - loss: 0.3707 - acc: 0.8253 - val_loss: 0.3616 - val_acc: 0.8298\n",
      "Epoch 22/150\n",
      "5358/5358 [==============================] - 18s 3ms/step - loss: 0.3704 - acc: 0.8256 - val_loss: 0.3632 - val_acc: 0.8284\n",
      "Epoch 23/150\n",
      "5358/5358 [==============================] - 18s 3ms/step - loss: 0.3700 - acc: 0.8258 - val_loss: 0.3618 - val_acc: 0.8298\n",
      "Epoch 24/150\n",
      "5358/5358 [==============================] - 18s 3ms/step - loss: 0.3703 - acc: 0.8253 - val_loss: 0.3625 - val_acc: 0.8289\n",
      "Epoch 25/150\n",
      "5358/5358 [==============================] - 18s 3ms/step - loss: 0.3705 - acc: 0.8253 - val_loss: 0.3631 - val_acc: 0.8298\n",
      "Epoch 26/150\n",
      "5358/5358 [==============================] - 19s 3ms/step - loss: 0.3708 - acc: 0.8261 - val_loss: 0.3652 - val_acc: 0.8268\n",
      "Epoch 27/150\n",
      "5358/5358 [==============================] - 18s 3ms/step - loss: 0.3706 - acc: 0.8256 - val_loss: 0.3646 - val_acc: 0.8281\n",
      "Epoch 28/150\n",
      "5358/5358 [==============================] - 18s 3ms/step - loss: 0.3694 - acc: 0.8272 - val_loss: 0.3624 - val_acc: 0.8285\n",
      "Epoch 29/150\n",
      "5358/5358 [==============================] - 18s 3ms/step - loss: 0.3679 - acc: 0.8280 - val_loss: 0.3628 - val_acc: 0.8310\n",
      "Epoch 30/150\n",
      "5358/5358 [==============================] - 18s 3ms/step - loss: 0.3683 - acc: 0.8276 - val_loss: 0.3589 - val_acc: 0.8324\n",
      "Epoch 31/150\n",
      "5358/5358 [==============================] - 18s 3ms/step - loss: 0.3663 - acc: 0.8285 - val_loss: 0.3578 - val_acc: 0.8330\n",
      "Epoch 32/150\n",
      "5358/5358 [==============================] - 18s 3ms/step - loss: 0.3667 - acc: 0.8287 - val_loss: 0.3552 - val_acc: 0.8347\n",
      "Epoch 33/150\n",
      "5358/5358 [==============================] - 18s 3ms/step - loss: 0.3664 - acc: 0.8287 - val_loss: 0.3573 - val_acc: 0.8319\n",
      "Epoch 34/150\n",
      "5358/5358 [==============================] - 18s 3ms/step - loss: 0.3656 - acc: 0.8291 - val_loss: 0.3592 - val_acc: 0.8296\n",
      "Epoch 35/150\n",
      "5358/5358 [==============================] - 19s 3ms/step - loss: 0.3645 - acc: 0.8297 - val_loss: 0.3547 - val_acc: 0.8349\n",
      "Epoch 36/150\n",
      "5358/5358 [==============================] - 20s 4ms/step - loss: 0.3658 - acc: 0.8292 - val_loss: 0.3572 - val_acc: 0.8327\n",
      "Epoch 37/150\n",
      "5358/5358 [==============================] - 18s 3ms/step - loss: 0.3660 - acc: 0.8292 - val_loss: 0.3526 - val_acc: 0.8350\n",
      "Epoch 38/150\n",
      "5358/5358 [==============================] - 19s 4ms/step - loss: 0.3654 - acc: 0.8298 - val_loss: 0.3659 - val_acc: 0.8287\n",
      "Epoch 39/150\n",
      "5358/5358 [==============================] - 19s 4ms/step - loss: 0.3656 - acc: 0.8292 - val_loss: 0.3548 - val_acc: 0.8325\n",
      "Epoch 40/150\n",
      "5358/5358 [==============================] - 19s 4ms/step - loss: 0.3658 - acc: 0.8292 - val_loss: 0.3555 - val_acc: 0.8338\n",
      "Epoch 41/150\n",
      "5358/5358 [==============================] - 19s 4ms/step - loss: 0.3651 - acc: 0.8298 - val_loss: 0.3627 - val_acc: 0.8302\n",
      "Epoch 42/150\n",
      "5358/5358 [==============================] - 19s 4ms/step - loss: 0.3681 - acc: 0.8283 - val_loss: 0.3580 - val_acc: 0.8313\n",
      "Epoch 43/150\n",
      "5358/5358 [==============================] - 19s 4ms/step - loss: 0.3652 - acc: 0.8296 - val_loss: 0.3540 - val_acc: 0.8341\n",
      "Epoch 44/150\n",
      "5358/5358 [==============================] - 18s 3ms/step - loss: 0.3647 - acc: 0.8299 - val_loss: 0.3555 - val_acc: 0.8295\n",
      "Epoch 45/150\n",
      "5358/5358 [==============================] - 18s 3ms/step - loss: 0.3642 - acc: 0.8304 - val_loss: 0.3514 - val_acc: 0.8363\n",
      "Epoch 46/150\n",
      "5358/5358 [==============================] - 18s 3ms/step - loss: 0.3638 - acc: 0.8301 - val_loss: 0.3562 - val_acc: 0.8324\n",
      "Epoch 47/150\n",
      "5358/5358 [==============================] - 18s 3ms/step - loss: 0.3637 - acc: 0.8306 - val_loss: 0.3555 - val_acc: 0.8341\n",
      "Epoch 48/150\n",
      "5358/5358 [==============================] - 18s 3ms/step - loss: 0.3634 - acc: 0.8310 - val_loss: 0.3574 - val_acc: 0.8344\n",
      "Epoch 49/150\n",
      "5358/5358 [==============================] - 18s 3ms/step - loss: 0.3639 - acc: 0.8303 - val_loss: 0.3550 - val_acc: 0.8351\n",
      "Epoch 50/150\n",
      "5358/5358 [==============================] - 19s 3ms/step - loss: 0.3654 - acc: 0.8297 - val_loss: 0.3539 - val_acc: 0.8352\n",
      "Epoch 51/150\n",
      "5358/5358 [==============================] - 19s 4ms/step - loss: 0.3636 - acc: 0.8305 - val_loss: 0.3513 - val_acc: 0.8355\n",
      "Epoch 52/150\n",
      "5358/5358 [==============================] - 18s 3ms/step - loss: 0.3632 - acc: 0.8309 - val_loss: 0.3527 - val_acc: 0.8356\n",
      "Epoch 53/150\n",
      "5358/5358 [==============================] - 18s 3ms/step - loss: 0.3632 - acc: 0.8311 - val_loss: 0.3534 - val_acc: 0.8354\n",
      "Epoch 54/150\n",
      "5358/5358 [==============================] - 18s 3ms/step - loss: 0.3630 - acc: 0.8312 - val_loss: 0.3529 - val_acc: 0.8364\n",
      "Epoch 55/150\n",
      "5358/5358 [==============================] - 18s 3ms/step - loss: 0.3626 - acc: 0.8313 - val_loss: 0.3532 - val_acc: 0.8356\n",
      "Epoch 56/150\n",
      "5358/5358 [==============================] - 18s 3ms/step - loss: 0.3640 - acc: 0.8310 - val_loss: 0.3546 - val_acc: 0.8350\n",
      "Epoch 57/150\n",
      "5358/5358 [==============================] - 16s 3ms/step - loss: 0.3643 - acc: 0.8304 - val_loss: 0.3526 - val_acc: 0.8367\n",
      "Epoch 58/150\n",
      "5358/5358 [==============================] - 16s 3ms/step - loss: 0.3634 - acc: 0.8312 - val_loss: 0.3582 - val_acc: 0.8291\n",
      "Epoch 59/150\n",
      "5358/5358 [==============================] - 16s 3ms/step - loss: 0.3636 - acc: 0.8311 - val_loss: 0.3555 - val_acc: 0.8375\n",
      "Epoch 60/150\n",
      "5358/5358 [==============================] - 16s 3ms/step - loss: 0.3636 - acc: 0.8309 - val_loss: 0.3526 - val_acc: 0.8360\n"
     ]
    },
    {
     "name": "stdout",
     "output_type": "stream",
     "text": [
      "Epoch 61/150\n",
      "5358/5358 [==============================] - 16s 3ms/step - loss: 0.3625 - acc: 0.8314 - val_loss: 0.3505 - val_acc: 0.8373\n",
      "Epoch 62/150\n",
      "5358/5358 [==============================] - 16s 3ms/step - loss: 0.3626 - acc: 0.8311 - val_loss: 0.3549 - val_acc: 0.8326\n",
      "Epoch 63/150\n",
      "5358/5358 [==============================] - 16s 3ms/step - loss: 0.3634 - acc: 0.8305 - val_loss: 0.3518 - val_acc: 0.8362\n",
      "Epoch 64/150\n",
      "5358/5358 [==============================] - 16s 3ms/step - loss: 0.3639 - acc: 0.8309 - val_loss: 0.3633 - val_acc: 0.8305\n",
      "Epoch 65/150\n",
      "5351/5358 [============================>.] - ETA: 0s - loss: 0.3641 - acc: 0.8311"
     ]
    },
    {
     "ename": "KeyboardInterrupt",
     "evalue": "",
     "output_type": "error",
     "traceback": [
      "\u001b[1;31m---------------------------------------------------------------------------\u001b[0m",
      "\u001b[1;31mKeyboardInterrupt\u001b[0m                         Traceback (most recent call last)",
      "\u001b[1;32m<ipython-input-161-a5aeb07c5cf8>\u001b[0m in \u001b[0;36m<module>\u001b[1;34m\u001b[0m\n\u001b[0;32m     11\u001b[0m early_stopping = [EarlyStopping(monitor='val_loss', patience=50), \n\u001b[0;32m     12\u001b[0m                   ModelCheckpoint(filepath='best_model.h5', monitor='val_loss', save_best_only=True)]\n\u001b[1;32m---> 13\u001b[1;33m history_9 = model.fit(x_train_final.drop(columns=sub_grade_columns,axis=1),\n\u001b[0m\u001b[0;32m     14\u001b[0m                       y_train_final, epochs=150,batch_size=256, verbose=1,callbacks=early_stopping,validation_data=(x_val.drop(columns=sub_grade_columns,axis=1),y_val))\n",
      "\u001b[1;32m~\\anaconda3\\envs\\learn-env\\lib\\site-packages\\tensorflow\\python\\keras\\engine\\training.py\u001b[0m in \u001b[0;36m_method_wrapper\u001b[1;34m(self, *args, **kwargs)\u001b[0m\n\u001b[0;32m    106\u001b[0m   \u001b[1;32mdef\u001b[0m \u001b[0m_method_wrapper\u001b[0m\u001b[1;33m(\u001b[0m\u001b[0mself\u001b[0m\u001b[1;33m,\u001b[0m \u001b[1;33m*\u001b[0m\u001b[0margs\u001b[0m\u001b[1;33m,\u001b[0m \u001b[1;33m**\u001b[0m\u001b[0mkwargs\u001b[0m\u001b[1;33m)\u001b[0m\u001b[1;33m:\u001b[0m\u001b[1;33m\u001b[0m\u001b[1;33m\u001b[0m\u001b[0m\n\u001b[0;32m    107\u001b[0m     \u001b[1;32mif\u001b[0m \u001b[1;32mnot\u001b[0m \u001b[0mself\u001b[0m\u001b[1;33m.\u001b[0m\u001b[0m_in_multi_worker_mode\u001b[0m\u001b[1;33m(\u001b[0m\u001b[1;33m)\u001b[0m\u001b[1;33m:\u001b[0m  \u001b[1;31m# pylint: disable=protected-access\u001b[0m\u001b[1;33m\u001b[0m\u001b[1;33m\u001b[0m\u001b[0m\n\u001b[1;32m--> 108\u001b[1;33m       \u001b[1;32mreturn\u001b[0m \u001b[0mmethod\u001b[0m\u001b[1;33m(\u001b[0m\u001b[0mself\u001b[0m\u001b[1;33m,\u001b[0m \u001b[1;33m*\u001b[0m\u001b[0margs\u001b[0m\u001b[1;33m,\u001b[0m \u001b[1;33m**\u001b[0m\u001b[0mkwargs\u001b[0m\u001b[1;33m)\u001b[0m\u001b[1;33m\u001b[0m\u001b[1;33m\u001b[0m\u001b[0m\n\u001b[0m\u001b[0;32m    109\u001b[0m \u001b[1;33m\u001b[0m\u001b[0m\n\u001b[0;32m    110\u001b[0m     \u001b[1;31m# Running inside `run_distribute_coordinator` already.\u001b[0m\u001b[1;33m\u001b[0m\u001b[1;33m\u001b[0m\u001b[1;33m\u001b[0m\u001b[0m\n",
      "\u001b[1;32m~\\anaconda3\\envs\\learn-env\\lib\\site-packages\\tensorflow\\python\\keras\\engine\\training.py\u001b[0m in \u001b[0;36mfit\u001b[1;34m(self, x, y, batch_size, epochs, verbose, callbacks, validation_split, validation_data, shuffle, class_weight, sample_weight, initial_epoch, steps_per_epoch, validation_steps, validation_batch_size, validation_freq, max_queue_size, workers, use_multiprocessing)\u001b[0m\n\u001b[0;32m   1121\u001b[0m                 \u001b[0mmodel\u001b[0m\u001b[1;33m=\u001b[0m\u001b[0mself\u001b[0m\u001b[1;33m,\u001b[0m\u001b[1;33m\u001b[0m\u001b[1;33m\u001b[0m\u001b[0m\n\u001b[0;32m   1122\u001b[0m                 steps_per_execution=self._steps_per_execution)\n\u001b[1;32m-> 1123\u001b[1;33m           val_logs = self.evaluate(\n\u001b[0m\u001b[0;32m   1124\u001b[0m               \u001b[0mx\u001b[0m\u001b[1;33m=\u001b[0m\u001b[0mval_x\u001b[0m\u001b[1;33m,\u001b[0m\u001b[1;33m\u001b[0m\u001b[1;33m\u001b[0m\u001b[0m\n\u001b[0;32m   1125\u001b[0m               \u001b[0my\u001b[0m\u001b[1;33m=\u001b[0m\u001b[0mval_y\u001b[0m\u001b[1;33m,\u001b[0m\u001b[1;33m\u001b[0m\u001b[1;33m\u001b[0m\u001b[0m\n",
      "\u001b[1;32m~\\anaconda3\\envs\\learn-env\\lib\\site-packages\\tensorflow\\python\\keras\\engine\\training.py\u001b[0m in \u001b[0;36m_method_wrapper\u001b[1;34m(self, *args, **kwargs)\u001b[0m\n\u001b[0;32m    106\u001b[0m   \u001b[1;32mdef\u001b[0m \u001b[0m_method_wrapper\u001b[0m\u001b[1;33m(\u001b[0m\u001b[0mself\u001b[0m\u001b[1;33m,\u001b[0m \u001b[1;33m*\u001b[0m\u001b[0margs\u001b[0m\u001b[1;33m,\u001b[0m \u001b[1;33m**\u001b[0m\u001b[0mkwargs\u001b[0m\u001b[1;33m)\u001b[0m\u001b[1;33m:\u001b[0m\u001b[1;33m\u001b[0m\u001b[1;33m\u001b[0m\u001b[0m\n\u001b[0;32m    107\u001b[0m     \u001b[1;32mif\u001b[0m \u001b[1;32mnot\u001b[0m \u001b[0mself\u001b[0m\u001b[1;33m.\u001b[0m\u001b[0m_in_multi_worker_mode\u001b[0m\u001b[1;33m(\u001b[0m\u001b[1;33m)\u001b[0m\u001b[1;33m:\u001b[0m  \u001b[1;31m# pylint: disable=protected-access\u001b[0m\u001b[1;33m\u001b[0m\u001b[1;33m\u001b[0m\u001b[0m\n\u001b[1;32m--> 108\u001b[1;33m       \u001b[1;32mreturn\u001b[0m \u001b[0mmethod\u001b[0m\u001b[1;33m(\u001b[0m\u001b[0mself\u001b[0m\u001b[1;33m,\u001b[0m \u001b[1;33m*\u001b[0m\u001b[0margs\u001b[0m\u001b[1;33m,\u001b[0m \u001b[1;33m**\u001b[0m\u001b[0mkwargs\u001b[0m\u001b[1;33m)\u001b[0m\u001b[1;33m\u001b[0m\u001b[1;33m\u001b[0m\u001b[0m\n\u001b[0m\u001b[0;32m    109\u001b[0m \u001b[1;33m\u001b[0m\u001b[0m\n\u001b[0;32m    110\u001b[0m     \u001b[1;31m# Running inside `run_distribute_coordinator` already.\u001b[0m\u001b[1;33m\u001b[0m\u001b[1;33m\u001b[0m\u001b[1;33m\u001b[0m\u001b[0m\n",
      "\u001b[1;32m~\\anaconda3\\envs\\learn-env\\lib\\site-packages\\tensorflow\\python\\keras\\engine\\training.py\u001b[0m in \u001b[0;36mevaluate\u001b[1;34m(self, x, y, batch_size, verbose, sample_weight, steps, callbacks, max_queue_size, workers, use_multiprocessing, return_dict)\u001b[0m\n\u001b[0;32m   1377\u001b[0m             \u001b[1;32mwith\u001b[0m \u001b[0mtrace\u001b[0m\u001b[1;33m.\u001b[0m\u001b[0mTrace\u001b[0m\u001b[1;33m(\u001b[0m\u001b[1;34m'TraceContext'\u001b[0m\u001b[1;33m,\u001b[0m \u001b[0mgraph_type\u001b[0m\u001b[1;33m=\u001b[0m\u001b[1;34m'test'\u001b[0m\u001b[1;33m,\u001b[0m \u001b[0mstep_num\u001b[0m\u001b[1;33m=\u001b[0m\u001b[0mstep\u001b[0m\u001b[1;33m)\u001b[0m\u001b[1;33m:\u001b[0m\u001b[1;33m\u001b[0m\u001b[1;33m\u001b[0m\u001b[0m\n\u001b[0;32m   1378\u001b[0m               \u001b[0mcallbacks\u001b[0m\u001b[1;33m.\u001b[0m\u001b[0mon_test_batch_begin\u001b[0m\u001b[1;33m(\u001b[0m\u001b[0mstep\u001b[0m\u001b[1;33m)\u001b[0m\u001b[1;33m\u001b[0m\u001b[1;33m\u001b[0m\u001b[0m\n\u001b[1;32m-> 1379\u001b[1;33m               \u001b[0mtmp_logs\u001b[0m \u001b[1;33m=\u001b[0m \u001b[0mtest_function\u001b[0m\u001b[1;33m(\u001b[0m\u001b[0miterator\u001b[0m\u001b[1;33m)\u001b[0m\u001b[1;33m\u001b[0m\u001b[1;33m\u001b[0m\u001b[0m\n\u001b[0m\u001b[0;32m   1380\u001b[0m               \u001b[1;32mif\u001b[0m \u001b[0mdata_handler\u001b[0m\u001b[1;33m.\u001b[0m\u001b[0mshould_sync\u001b[0m\u001b[1;33m:\u001b[0m\u001b[1;33m\u001b[0m\u001b[1;33m\u001b[0m\u001b[0m\n\u001b[0;32m   1381\u001b[0m                 \u001b[0mcontext\u001b[0m\u001b[1;33m.\u001b[0m\u001b[0masync_wait\u001b[0m\u001b[1;33m(\u001b[0m\u001b[1;33m)\u001b[0m\u001b[1;33m\u001b[0m\u001b[1;33m\u001b[0m\u001b[0m\n",
      "\u001b[1;32m~\\anaconda3\\envs\\learn-env\\lib\\site-packages\\tensorflow\\python\\eager\\def_function.py\u001b[0m in \u001b[0;36m__call__\u001b[1;34m(self, *args, **kwds)\u001b[0m\n\u001b[0;32m    778\u001b[0m       \u001b[1;32melse\u001b[0m\u001b[1;33m:\u001b[0m\u001b[1;33m\u001b[0m\u001b[1;33m\u001b[0m\u001b[0m\n\u001b[0;32m    779\u001b[0m         \u001b[0mcompiler\u001b[0m \u001b[1;33m=\u001b[0m \u001b[1;34m\"nonXla\"\u001b[0m\u001b[1;33m\u001b[0m\u001b[1;33m\u001b[0m\u001b[0m\n\u001b[1;32m--> 780\u001b[1;33m         \u001b[0mresult\u001b[0m \u001b[1;33m=\u001b[0m \u001b[0mself\u001b[0m\u001b[1;33m.\u001b[0m\u001b[0m_call\u001b[0m\u001b[1;33m(\u001b[0m\u001b[1;33m*\u001b[0m\u001b[0margs\u001b[0m\u001b[1;33m,\u001b[0m \u001b[1;33m**\u001b[0m\u001b[0mkwds\u001b[0m\u001b[1;33m)\u001b[0m\u001b[1;33m\u001b[0m\u001b[1;33m\u001b[0m\u001b[0m\n\u001b[0m\u001b[0;32m    781\u001b[0m \u001b[1;33m\u001b[0m\u001b[0m\n\u001b[0;32m    782\u001b[0m       \u001b[0mnew_tracing_count\u001b[0m \u001b[1;33m=\u001b[0m \u001b[0mself\u001b[0m\u001b[1;33m.\u001b[0m\u001b[0m_get_tracing_count\u001b[0m\u001b[1;33m(\u001b[0m\u001b[1;33m)\u001b[0m\u001b[1;33m\u001b[0m\u001b[1;33m\u001b[0m\u001b[0m\n",
      "\u001b[1;32m~\\anaconda3\\envs\\learn-env\\lib\\site-packages\\tensorflow\\python\\eager\\def_function.py\u001b[0m in \u001b[0;36m_call\u001b[1;34m(self, *args, **kwds)\u001b[0m\n\u001b[0;32m    812\u001b[0m       \u001b[1;31m# In this case we have not created variables on the first call. So we can\u001b[0m\u001b[1;33m\u001b[0m\u001b[1;33m\u001b[0m\u001b[1;33m\u001b[0m\u001b[0m\n\u001b[0;32m    813\u001b[0m       \u001b[1;31m# run the first trace but we should fail if variables are created.\u001b[0m\u001b[1;33m\u001b[0m\u001b[1;33m\u001b[0m\u001b[1;33m\u001b[0m\u001b[0m\n\u001b[1;32m--> 814\u001b[1;33m       \u001b[0mresults\u001b[0m \u001b[1;33m=\u001b[0m \u001b[0mself\u001b[0m\u001b[1;33m.\u001b[0m\u001b[0m_stateful_fn\u001b[0m\u001b[1;33m(\u001b[0m\u001b[1;33m*\u001b[0m\u001b[0margs\u001b[0m\u001b[1;33m,\u001b[0m \u001b[1;33m**\u001b[0m\u001b[0mkwds\u001b[0m\u001b[1;33m)\u001b[0m\u001b[1;33m\u001b[0m\u001b[1;33m\u001b[0m\u001b[0m\n\u001b[0m\u001b[0;32m    815\u001b[0m       \u001b[1;32mif\u001b[0m \u001b[0mself\u001b[0m\u001b[1;33m.\u001b[0m\u001b[0m_created_variables\u001b[0m\u001b[1;33m:\u001b[0m\u001b[1;33m\u001b[0m\u001b[1;33m\u001b[0m\u001b[0m\n\u001b[0;32m    816\u001b[0m         raise ValueError(\"Creating variables on a non-first call to a function\"\n",
      "\u001b[1;32m~\\anaconda3\\envs\\learn-env\\lib\\site-packages\\tensorflow\\python\\eager\\function.py\u001b[0m in \u001b[0;36m__call__\u001b[1;34m(self, *args, **kwargs)\u001b[0m\n\u001b[0;32m   2827\u001b[0m     \u001b[1;32mwith\u001b[0m \u001b[0mself\u001b[0m\u001b[1;33m.\u001b[0m\u001b[0m_lock\u001b[0m\u001b[1;33m:\u001b[0m\u001b[1;33m\u001b[0m\u001b[1;33m\u001b[0m\u001b[0m\n\u001b[0;32m   2828\u001b[0m       \u001b[0mgraph_function\u001b[0m\u001b[1;33m,\u001b[0m \u001b[0margs\u001b[0m\u001b[1;33m,\u001b[0m \u001b[0mkwargs\u001b[0m \u001b[1;33m=\u001b[0m \u001b[0mself\u001b[0m\u001b[1;33m.\u001b[0m\u001b[0m_maybe_define_function\u001b[0m\u001b[1;33m(\u001b[0m\u001b[0margs\u001b[0m\u001b[1;33m,\u001b[0m \u001b[0mkwargs\u001b[0m\u001b[1;33m)\u001b[0m\u001b[1;33m\u001b[0m\u001b[1;33m\u001b[0m\u001b[0m\n\u001b[1;32m-> 2829\u001b[1;33m     \u001b[1;32mreturn\u001b[0m \u001b[0mgraph_function\u001b[0m\u001b[1;33m.\u001b[0m\u001b[0m_filtered_call\u001b[0m\u001b[1;33m(\u001b[0m\u001b[0margs\u001b[0m\u001b[1;33m,\u001b[0m \u001b[0mkwargs\u001b[0m\u001b[1;33m)\u001b[0m  \u001b[1;31m# pylint: disable=protected-access\u001b[0m\u001b[1;33m\u001b[0m\u001b[1;33m\u001b[0m\u001b[0m\n\u001b[0m\u001b[0;32m   2830\u001b[0m \u001b[1;33m\u001b[0m\u001b[0m\n\u001b[0;32m   2831\u001b[0m   \u001b[1;33m@\u001b[0m\u001b[0mproperty\u001b[0m\u001b[1;33m\u001b[0m\u001b[1;33m\u001b[0m\u001b[0m\n",
      "\u001b[1;32m~\\anaconda3\\envs\\learn-env\\lib\\site-packages\\tensorflow\\python\\eager\\function.py\u001b[0m in \u001b[0;36m_filtered_call\u001b[1;34m(self, args, kwargs, cancellation_manager)\u001b[0m\n\u001b[0;32m   1841\u001b[0m       \u001b[0;31m`\u001b[0m\u001b[0margs\u001b[0m\u001b[0;31m`\u001b[0m \u001b[1;32mand\u001b[0m\u001b[0;31m \u001b[0m\u001b[0;31m`\u001b[0m\u001b[0mkwargs\u001b[0m\u001b[0;31m`\u001b[0m\u001b[1;33m.\u001b[0m\u001b[1;33m\u001b[0m\u001b[1;33m\u001b[0m\u001b[0m\n\u001b[0;32m   1842\u001b[0m     \"\"\"\n\u001b[1;32m-> 1843\u001b[1;33m     return self._call_flat(\n\u001b[0m\u001b[0;32m   1844\u001b[0m         [t for t in nest.flatten((args, kwargs), expand_composites=True)\n\u001b[0;32m   1845\u001b[0m          if isinstance(t, (ops.Tensor,\n",
      "\u001b[1;32m~\\anaconda3\\envs\\learn-env\\lib\\site-packages\\tensorflow\\python\\eager\\function.py\u001b[0m in \u001b[0;36m_call_flat\u001b[1;34m(self, args, captured_inputs, cancellation_manager)\u001b[0m\n\u001b[0;32m   1921\u001b[0m         and executing_eagerly):\n\u001b[0;32m   1922\u001b[0m       \u001b[1;31m# No tape is watching; skip to running the function.\u001b[0m\u001b[1;33m\u001b[0m\u001b[1;33m\u001b[0m\u001b[1;33m\u001b[0m\u001b[0m\n\u001b[1;32m-> 1923\u001b[1;33m       return self._build_call_outputs(self._inference_function.call(\n\u001b[0m\u001b[0;32m   1924\u001b[0m           ctx, args, cancellation_manager=cancellation_manager))\n\u001b[0;32m   1925\u001b[0m     forward_backward = self._select_forward_and_backward_functions(\n",
      "\u001b[1;32m~\\anaconda3\\envs\\learn-env\\lib\\site-packages\\tensorflow\\python\\eager\\function.py\u001b[0m in \u001b[0;36mcall\u001b[1;34m(self, ctx, args, cancellation_manager)\u001b[0m\n\u001b[0;32m    543\u001b[0m       \u001b[1;32mwith\u001b[0m \u001b[0m_InterpolateFunctionError\u001b[0m\u001b[1;33m(\u001b[0m\u001b[0mself\u001b[0m\u001b[1;33m)\u001b[0m\u001b[1;33m:\u001b[0m\u001b[1;33m\u001b[0m\u001b[1;33m\u001b[0m\u001b[0m\n\u001b[0;32m    544\u001b[0m         \u001b[1;32mif\u001b[0m \u001b[0mcancellation_manager\u001b[0m \u001b[1;32mis\u001b[0m \u001b[1;32mNone\u001b[0m\u001b[1;33m:\u001b[0m\u001b[1;33m\u001b[0m\u001b[1;33m\u001b[0m\u001b[0m\n\u001b[1;32m--> 545\u001b[1;33m           outputs = execute.execute(\n\u001b[0m\u001b[0;32m    546\u001b[0m               \u001b[0mstr\u001b[0m\u001b[1;33m(\u001b[0m\u001b[0mself\u001b[0m\u001b[1;33m.\u001b[0m\u001b[0msignature\u001b[0m\u001b[1;33m.\u001b[0m\u001b[0mname\u001b[0m\u001b[1;33m)\u001b[0m\u001b[1;33m,\u001b[0m\u001b[1;33m\u001b[0m\u001b[1;33m\u001b[0m\u001b[0m\n\u001b[0;32m    547\u001b[0m               \u001b[0mnum_outputs\u001b[0m\u001b[1;33m=\u001b[0m\u001b[0mself\u001b[0m\u001b[1;33m.\u001b[0m\u001b[0m_num_outputs\u001b[0m\u001b[1;33m,\u001b[0m\u001b[1;33m\u001b[0m\u001b[1;33m\u001b[0m\u001b[0m\n",
      "\u001b[1;32m~\\anaconda3\\envs\\learn-env\\lib\\site-packages\\tensorflow\\python\\eager\\execute.py\u001b[0m in \u001b[0;36mquick_execute\u001b[1;34m(op_name, num_outputs, inputs, attrs, ctx, name)\u001b[0m\n\u001b[0;32m     57\u001b[0m   \u001b[1;32mtry\u001b[0m\u001b[1;33m:\u001b[0m\u001b[1;33m\u001b[0m\u001b[1;33m\u001b[0m\u001b[0m\n\u001b[0;32m     58\u001b[0m     \u001b[0mctx\u001b[0m\u001b[1;33m.\u001b[0m\u001b[0mensure_initialized\u001b[0m\u001b[1;33m(\u001b[0m\u001b[1;33m)\u001b[0m\u001b[1;33m\u001b[0m\u001b[1;33m\u001b[0m\u001b[0m\n\u001b[1;32m---> 59\u001b[1;33m     tensors = pywrap_tfe.TFE_Py_Execute(ctx._handle, device_name, op_name,\n\u001b[0m\u001b[0;32m     60\u001b[0m                                         inputs, attrs, num_outputs)\n\u001b[0;32m     61\u001b[0m   \u001b[1;32mexcept\u001b[0m \u001b[0mcore\u001b[0m\u001b[1;33m.\u001b[0m\u001b[0m_NotOkStatusException\u001b[0m \u001b[1;32mas\u001b[0m \u001b[0me\u001b[0m\u001b[1;33m:\u001b[0m\u001b[1;33m\u001b[0m\u001b[1;33m\u001b[0m\u001b[0m\n",
      "\u001b[1;31mKeyboardInterrupt\u001b[0m: "
     ]
    }
   ],
   "source": [
    "n_lays = 6\n",
    "model = models.Sequential()\n",
    "model.add(layers.Dense(50, input_shape=(53,), activation='tanh'))\n",
    "for _ in range(1, n_lays):\n",
    "    model.add(layers.Dropout(0.2))\n",
    "    model.add(layers.Dense(25, activation='tanh'))\n",
    "model.add(layers.Dense(1, activation='sigmoid'))\n",
    "\n",
    "model.compile(loss='binary_crossentropy', optimizer='adam', metrics=['acc'])\n",
    "# fit model on train set\n",
    "early_stopping = [EarlyStopping(monitor='val_loss', patience=50), \n",
    "                  ModelCheckpoint(filepath='best_model.h5', monitor='val_loss', save_best_only=True)]\n",
    "history_9 = model.fit(x_train_final.drop(columns=sub_grade_columns,axis=1),\n",
    "                      y_train_final, epochs=150,batch_size=256, verbose=1,callbacks=early_stopping,validation_data=(x_val.drop(columns=sub_grade_columns,axis=1),y_val))"
   ]
  },
  {
   "cell_type": "code",
   "execution_count": null,
   "metadata": {},
   "outputs": [],
   "source": []
  },
  {
   "cell_type": "code",
   "execution_count": null,
   "metadata": {},
   "outputs": [],
   "source": [
    ".drop(columns=sub_grade_columns,axis=1)"
   ]
  },
  {
   "cell_type": "code",
   "execution_count": null,
   "metadata": {},
   "outputs": [],
   "source": []
  },
  {
   "cell_type": "code",
   "execution_count": 160,
   "metadata": {
    "ExecuteTime": {
     "end_time": "2021-04-11T04:23:52.528702Z",
     "start_time": "2021-04-11T04:22:59.168330Z"
    }
   },
   "outputs": [
    {
     "name": "stdout",
     "output_type": "stream",
     "text": [
      "42857/42857 [==============================] - 31s 726us/step - loss: 0.3658 - acc: 0.8294\n",
      "Training Loss: 0.366 \n",
      "Training Accuracy: 0.829\n",
      "----------\n",
      "16284/16284 [==============================] - 12s 725us/step - loss: 0.4907 - acc: 0.7774\n",
      "Test Loss: 0.491 \n",
      "Test Accuracy: 0.777\n",
      "[[390103  30169]\n",
      " [ 85845  14965]]\n",
      "              precision    recall  f1-score   support\n",
      "\n",
      "           0       0.82      0.93      0.87    420272\n",
      "           1       0.33      0.15      0.21    100810\n",
      "\n",
      "    accuracy                           0.78    521082\n",
      "   macro avg       0.58      0.54      0.54    521082\n",
      "weighted avg       0.73      0.78      0.74    521082\n",
      "\n"
     ]
    }
   ],
   "source": [
    "test_class_report('best_model.h5',x_test_scaled.drop(columns=sub_grade_columns,axis=1),y_test,x_train_final.drop(columns=sub_grade_columns,axis=1),y_train_final)"
   ]
  },
  {
   "cell_type": "code",
   "execution_count": 180,
   "metadata": {
    "ExecuteTime": {
     "end_time": "2021-04-11T21:45:59.585805Z",
     "start_time": "2021-04-11T21:45:59.565816Z"
    }
   },
   "outputs": [],
   "source": [
    "\n",
    "# fit model with given number of nodes, returns test set accuracy\n",
    "def evaluate_drop_model(n_layers, trainX, trainy, testX, testy,xval,yval):\n",
    "# configure the model based on the data\n",
    "    n_input, n_classes = trainX.shape[1], 1\n",
    "    # define model\n",
    "    model = models.Sequential()\n",
    "    model.add(layers.Dense(50, input_dim=n_input, activation='tanh'))\n",
    "    for _ in range(1, n_lays):\n",
    "        model.add(layers.Dropout(0.1))\n",
    "        model.add(layers.Dense(25, activation='tanh'))\n",
    "    model.add(layers.Dense(n_classes, activation='sigmoid'))\n",
    "    \n",
    "    \n",
    "    # compile model\n",
    "    model.compile(loss='binary_crossentropy', optimizer='adam', metrics=['acc'])\n",
    "    # fit model on train setzz\n",
    "    early_stopping = [EarlyStopping(monitor='val_acc', patience=15), \n",
    "                  ModelCheckpoint(filepath='best_drop_model.h5', monitor='val_acc', save_best_only=True)]\n",
    "    \n",
    "    history = model.fit(trainX, trainy, epochs=250,batch_size=256, verbose=1,callbacks=early_stopping,validation_data=(xval,yval))\n",
    "    # evaluate model on test set\n",
    "    saved= load_model('best_drop_model.h5')\n",
    "    _, test_acc = saved.evaluate(testX, testy, verbose=1)\n",
    "    return history, test_acc"
   ]
  },
  {
   "cell_type": "code",
   "execution_count": 175,
   "metadata": {
    "ExecuteTime": {
     "end_time": "2021-04-11T21:02:10.332669Z",
     "start_time": "2021-04-11T21:02:08.886639Z"
    },
    "scrolled": true
   },
   "outputs": [
    {
     "name": "stdout",
     "output_type": "stream",
     "text": [
      "Epoch 1/250\n",
      "  38/5358 [..............................] - ETA: 14s - loss: 0.6123 - acc: 0.6606"
     ]
    },
    {
     "ename": "KeyboardInterrupt",
     "evalue": "",
     "output_type": "error",
     "traceback": [
      "\u001b[1;31m---------------------------------------------------------------------------\u001b[0m",
      "\u001b[1;31mKeyboardInterrupt\u001b[0m                         Traceback (most recent call last)",
      "\u001b[1;32m<ipython-input-175-41a7655d1e77>\u001b[0m in \u001b[0;36m<module>\u001b[1;34m\u001b[0m\n\u001b[0;32m      3\u001b[0m \u001b[1;32mfor\u001b[0m \u001b[0mn_layers\u001b[0m \u001b[1;32min\u001b[0m \u001b[0mnum_layers\u001b[0m\u001b[1;33m:\u001b[0m\u001b[1;33m\u001b[0m\u001b[1;33m\u001b[0m\u001b[0m\n\u001b[0;32m      4\u001b[0m     \u001b[1;31m# evaluate model with a given number of layers\u001b[0m\u001b[1;33m\u001b[0m\u001b[1;33m\u001b[0m\u001b[1;33m\u001b[0m\u001b[0m\n\u001b[1;32m----> 5\u001b[1;33m     history, result = evaluate_drop_model(n_layers, x_train_final.drop(columns=sub_grade_columns,axis=1),\n\u001b[0m\u001b[0;32m      6\u001b[0m                                      \u001b[0my_train_final\u001b[0m\u001b[1;33m,\u001b[0m \u001b[0mx_test_scaled\u001b[0m\u001b[1;33m.\u001b[0m\u001b[0mdrop\u001b[0m\u001b[1;33m(\u001b[0m\u001b[0mcolumns\u001b[0m\u001b[1;33m=\u001b[0m\u001b[0msub_grade_columns\u001b[0m\u001b[1;33m,\u001b[0m\u001b[0maxis\u001b[0m\u001b[1;33m=\u001b[0m\u001b[1;36m1\u001b[0m\u001b[1;33m)\u001b[0m\u001b[1;33m,\u001b[0m \u001b[0my_test\u001b[0m\u001b[1;33m,\u001b[0m\u001b[1;33m\u001b[0m\u001b[1;33m\u001b[0m\u001b[0m\n\u001b[0;32m      7\u001b[0m                                      x_val.drop(columns=sub_grade_columns,axis=1),y_val)    \n",
      "\u001b[1;32m<ipython-input-174-6001927022a8>\u001b[0m in \u001b[0;36mevaluate_drop_model\u001b[1;34m(n_layers, trainX, trainy, testX, testy, xval, yval)\u001b[0m\n\u001b[0;32m     18\u001b[0m                   ModelCheckpoint(filepath='best_drop_model.h5', monitor='val_acc', save_best_only=True)]\n\u001b[0;32m     19\u001b[0m \u001b[1;33m\u001b[0m\u001b[0m\n\u001b[1;32m---> 20\u001b[1;33m     \u001b[0mhistory\u001b[0m \u001b[1;33m=\u001b[0m \u001b[0mmodel\u001b[0m\u001b[1;33m.\u001b[0m\u001b[0mfit\u001b[0m\u001b[1;33m(\u001b[0m\u001b[0mtrainX\u001b[0m\u001b[1;33m,\u001b[0m \u001b[0mtrainy\u001b[0m\u001b[1;33m,\u001b[0m \u001b[0mepochs\u001b[0m\u001b[1;33m=\u001b[0m\u001b[1;36m250\u001b[0m\u001b[1;33m,\u001b[0m\u001b[0mbatch_size\u001b[0m\u001b[1;33m=\u001b[0m\u001b[1;36m256\u001b[0m\u001b[1;33m,\u001b[0m \u001b[0mverbose\u001b[0m\u001b[1;33m=\u001b[0m\u001b[1;36m1\u001b[0m\u001b[1;33m,\u001b[0m\u001b[0mcallbacks\u001b[0m\u001b[1;33m=\u001b[0m\u001b[0mearly_stopping\u001b[0m\u001b[1;33m,\u001b[0m\u001b[0mvalidation_data\u001b[0m\u001b[1;33m=\u001b[0m\u001b[1;33m(\u001b[0m\u001b[0mxval\u001b[0m\u001b[1;33m,\u001b[0m\u001b[0myval\u001b[0m\u001b[1;33m)\u001b[0m\u001b[1;33m)\u001b[0m\u001b[1;33m\u001b[0m\u001b[1;33m\u001b[0m\u001b[0m\n\u001b[0m\u001b[0;32m     21\u001b[0m     \u001b[1;31m# evaluate model on test set\u001b[0m\u001b[1;33m\u001b[0m\u001b[1;33m\u001b[0m\u001b[1;33m\u001b[0m\u001b[0m\n\u001b[0;32m     22\u001b[0m     \u001b[0msaved\u001b[0m\u001b[1;33m=\u001b[0m \u001b[0mload_model\u001b[0m\u001b[1;33m(\u001b[0m\u001b[1;34m'best_drop_model.h5'\u001b[0m\u001b[1;33m)\u001b[0m\u001b[1;33m\u001b[0m\u001b[1;33m\u001b[0m\u001b[0m\n",
      "\u001b[1;32m~\\anaconda3\\envs\\learn-env\\lib\\site-packages\\tensorflow\\python\\keras\\engine\\training.py\u001b[0m in \u001b[0;36m_method_wrapper\u001b[1;34m(self, *args, **kwargs)\u001b[0m\n\u001b[0;32m    106\u001b[0m   \u001b[1;32mdef\u001b[0m \u001b[0m_method_wrapper\u001b[0m\u001b[1;33m(\u001b[0m\u001b[0mself\u001b[0m\u001b[1;33m,\u001b[0m \u001b[1;33m*\u001b[0m\u001b[0margs\u001b[0m\u001b[1;33m,\u001b[0m \u001b[1;33m**\u001b[0m\u001b[0mkwargs\u001b[0m\u001b[1;33m)\u001b[0m\u001b[1;33m:\u001b[0m\u001b[1;33m\u001b[0m\u001b[1;33m\u001b[0m\u001b[0m\n\u001b[0;32m    107\u001b[0m     \u001b[1;32mif\u001b[0m \u001b[1;32mnot\u001b[0m \u001b[0mself\u001b[0m\u001b[1;33m.\u001b[0m\u001b[0m_in_multi_worker_mode\u001b[0m\u001b[1;33m(\u001b[0m\u001b[1;33m)\u001b[0m\u001b[1;33m:\u001b[0m  \u001b[1;31m# pylint: disable=protected-access\u001b[0m\u001b[1;33m\u001b[0m\u001b[1;33m\u001b[0m\u001b[0m\n\u001b[1;32m--> 108\u001b[1;33m       \u001b[1;32mreturn\u001b[0m \u001b[0mmethod\u001b[0m\u001b[1;33m(\u001b[0m\u001b[0mself\u001b[0m\u001b[1;33m,\u001b[0m \u001b[1;33m*\u001b[0m\u001b[0margs\u001b[0m\u001b[1;33m,\u001b[0m \u001b[1;33m**\u001b[0m\u001b[0mkwargs\u001b[0m\u001b[1;33m)\u001b[0m\u001b[1;33m\u001b[0m\u001b[1;33m\u001b[0m\u001b[0m\n\u001b[0m\u001b[0;32m    109\u001b[0m \u001b[1;33m\u001b[0m\u001b[0m\n\u001b[0;32m    110\u001b[0m     \u001b[1;31m# Running inside `run_distribute_coordinator` already.\u001b[0m\u001b[1;33m\u001b[0m\u001b[1;33m\u001b[0m\u001b[1;33m\u001b[0m\u001b[0m\n",
      "\u001b[1;32m~\\anaconda3\\envs\\learn-env\\lib\\site-packages\\tensorflow\\python\\keras\\engine\\training.py\u001b[0m in \u001b[0;36mfit\u001b[1;34m(self, x, y, batch_size, epochs, verbose, callbacks, validation_split, validation_data, shuffle, class_weight, sample_weight, initial_epoch, steps_per_epoch, validation_steps, validation_batch_size, validation_freq, max_queue_size, workers, use_multiprocessing)\u001b[0m\n\u001b[0;32m   1096\u001b[0m                 batch_size=batch_size):\n\u001b[0;32m   1097\u001b[0m               \u001b[0mcallbacks\u001b[0m\u001b[1;33m.\u001b[0m\u001b[0mon_train_batch_begin\u001b[0m\u001b[1;33m(\u001b[0m\u001b[0mstep\u001b[0m\u001b[1;33m)\u001b[0m\u001b[1;33m\u001b[0m\u001b[1;33m\u001b[0m\u001b[0m\n\u001b[1;32m-> 1098\u001b[1;33m               \u001b[0mtmp_logs\u001b[0m \u001b[1;33m=\u001b[0m \u001b[0mtrain_function\u001b[0m\u001b[1;33m(\u001b[0m\u001b[0miterator\u001b[0m\u001b[1;33m)\u001b[0m\u001b[1;33m\u001b[0m\u001b[1;33m\u001b[0m\u001b[0m\n\u001b[0m\u001b[0;32m   1099\u001b[0m               \u001b[1;32mif\u001b[0m \u001b[0mdata_handler\u001b[0m\u001b[1;33m.\u001b[0m\u001b[0mshould_sync\u001b[0m\u001b[1;33m:\u001b[0m\u001b[1;33m\u001b[0m\u001b[1;33m\u001b[0m\u001b[0m\n\u001b[0;32m   1100\u001b[0m                 \u001b[0mcontext\u001b[0m\u001b[1;33m.\u001b[0m\u001b[0masync_wait\u001b[0m\u001b[1;33m(\u001b[0m\u001b[1;33m)\u001b[0m\u001b[1;33m\u001b[0m\u001b[1;33m\u001b[0m\u001b[0m\n",
      "\u001b[1;32m~\\anaconda3\\envs\\learn-env\\lib\\site-packages\\tensorflow\\python\\eager\\def_function.py\u001b[0m in \u001b[0;36m__call__\u001b[1;34m(self, *args, **kwds)\u001b[0m\n\u001b[0;32m    778\u001b[0m       \u001b[1;32melse\u001b[0m\u001b[1;33m:\u001b[0m\u001b[1;33m\u001b[0m\u001b[1;33m\u001b[0m\u001b[0m\n\u001b[0;32m    779\u001b[0m         \u001b[0mcompiler\u001b[0m \u001b[1;33m=\u001b[0m \u001b[1;34m\"nonXla\"\u001b[0m\u001b[1;33m\u001b[0m\u001b[1;33m\u001b[0m\u001b[0m\n\u001b[1;32m--> 780\u001b[1;33m         \u001b[0mresult\u001b[0m \u001b[1;33m=\u001b[0m \u001b[0mself\u001b[0m\u001b[1;33m.\u001b[0m\u001b[0m_call\u001b[0m\u001b[1;33m(\u001b[0m\u001b[1;33m*\u001b[0m\u001b[0margs\u001b[0m\u001b[1;33m,\u001b[0m \u001b[1;33m**\u001b[0m\u001b[0mkwds\u001b[0m\u001b[1;33m)\u001b[0m\u001b[1;33m\u001b[0m\u001b[1;33m\u001b[0m\u001b[0m\n\u001b[0m\u001b[0;32m    781\u001b[0m \u001b[1;33m\u001b[0m\u001b[0m\n\u001b[0;32m    782\u001b[0m       \u001b[0mnew_tracing_count\u001b[0m \u001b[1;33m=\u001b[0m \u001b[0mself\u001b[0m\u001b[1;33m.\u001b[0m\u001b[0m_get_tracing_count\u001b[0m\u001b[1;33m(\u001b[0m\u001b[1;33m)\u001b[0m\u001b[1;33m\u001b[0m\u001b[1;33m\u001b[0m\u001b[0m\n",
      "\u001b[1;32m~\\anaconda3\\envs\\learn-env\\lib\\site-packages\\tensorflow\\python\\eager\\def_function.py\u001b[0m in \u001b[0;36m_call\u001b[1;34m(self, *args, **kwds)\u001b[0m\n\u001b[0;32m    805\u001b[0m       \u001b[1;31m# In this case we have created variables on the first call, so we run the\u001b[0m\u001b[1;33m\u001b[0m\u001b[1;33m\u001b[0m\u001b[1;33m\u001b[0m\u001b[0m\n\u001b[0;32m    806\u001b[0m       \u001b[1;31m# defunned version which is guaranteed to never create variables.\u001b[0m\u001b[1;33m\u001b[0m\u001b[1;33m\u001b[0m\u001b[1;33m\u001b[0m\u001b[0m\n\u001b[1;32m--> 807\u001b[1;33m       \u001b[1;32mreturn\u001b[0m \u001b[0mself\u001b[0m\u001b[1;33m.\u001b[0m\u001b[0m_stateless_fn\u001b[0m\u001b[1;33m(\u001b[0m\u001b[1;33m*\u001b[0m\u001b[0margs\u001b[0m\u001b[1;33m,\u001b[0m \u001b[1;33m**\u001b[0m\u001b[0mkwds\u001b[0m\u001b[1;33m)\u001b[0m  \u001b[1;31m# pylint: disable=not-callable\u001b[0m\u001b[1;33m\u001b[0m\u001b[1;33m\u001b[0m\u001b[0m\n\u001b[0m\u001b[0;32m    808\u001b[0m     \u001b[1;32melif\u001b[0m \u001b[0mself\u001b[0m\u001b[1;33m.\u001b[0m\u001b[0m_stateful_fn\u001b[0m \u001b[1;32mis\u001b[0m \u001b[1;32mnot\u001b[0m \u001b[1;32mNone\u001b[0m\u001b[1;33m:\u001b[0m\u001b[1;33m\u001b[0m\u001b[1;33m\u001b[0m\u001b[0m\n\u001b[0;32m    809\u001b[0m       \u001b[1;31m# Release the lock early so that multiple threads can perform the call\u001b[0m\u001b[1;33m\u001b[0m\u001b[1;33m\u001b[0m\u001b[1;33m\u001b[0m\u001b[0m\n",
      "\u001b[1;32m~\\anaconda3\\envs\\learn-env\\lib\\site-packages\\tensorflow\\python\\eager\\function.py\u001b[0m in \u001b[0;36m__call__\u001b[1;34m(self, *args, **kwargs)\u001b[0m\n\u001b[0;32m   2827\u001b[0m     \u001b[1;32mwith\u001b[0m \u001b[0mself\u001b[0m\u001b[1;33m.\u001b[0m\u001b[0m_lock\u001b[0m\u001b[1;33m:\u001b[0m\u001b[1;33m\u001b[0m\u001b[1;33m\u001b[0m\u001b[0m\n\u001b[0;32m   2828\u001b[0m       \u001b[0mgraph_function\u001b[0m\u001b[1;33m,\u001b[0m \u001b[0margs\u001b[0m\u001b[1;33m,\u001b[0m \u001b[0mkwargs\u001b[0m \u001b[1;33m=\u001b[0m \u001b[0mself\u001b[0m\u001b[1;33m.\u001b[0m\u001b[0m_maybe_define_function\u001b[0m\u001b[1;33m(\u001b[0m\u001b[0margs\u001b[0m\u001b[1;33m,\u001b[0m \u001b[0mkwargs\u001b[0m\u001b[1;33m)\u001b[0m\u001b[1;33m\u001b[0m\u001b[1;33m\u001b[0m\u001b[0m\n\u001b[1;32m-> 2829\u001b[1;33m     \u001b[1;32mreturn\u001b[0m \u001b[0mgraph_function\u001b[0m\u001b[1;33m.\u001b[0m\u001b[0m_filtered_call\u001b[0m\u001b[1;33m(\u001b[0m\u001b[0margs\u001b[0m\u001b[1;33m,\u001b[0m \u001b[0mkwargs\u001b[0m\u001b[1;33m)\u001b[0m  \u001b[1;31m# pylint: disable=protected-access\u001b[0m\u001b[1;33m\u001b[0m\u001b[1;33m\u001b[0m\u001b[0m\n\u001b[0m\u001b[0;32m   2830\u001b[0m \u001b[1;33m\u001b[0m\u001b[0m\n\u001b[0;32m   2831\u001b[0m   \u001b[1;33m@\u001b[0m\u001b[0mproperty\u001b[0m\u001b[1;33m\u001b[0m\u001b[1;33m\u001b[0m\u001b[0m\n",
      "\u001b[1;32m~\\anaconda3\\envs\\learn-env\\lib\\site-packages\\tensorflow\\python\\eager\\function.py\u001b[0m in \u001b[0;36m_filtered_call\u001b[1;34m(self, args, kwargs, cancellation_manager)\u001b[0m\n\u001b[0;32m   1841\u001b[0m       \u001b[0;31m`\u001b[0m\u001b[0margs\u001b[0m\u001b[0;31m`\u001b[0m \u001b[1;32mand\u001b[0m\u001b[0;31m \u001b[0m\u001b[0;31m`\u001b[0m\u001b[0mkwargs\u001b[0m\u001b[0;31m`\u001b[0m\u001b[1;33m.\u001b[0m\u001b[1;33m\u001b[0m\u001b[1;33m\u001b[0m\u001b[0m\n\u001b[0;32m   1842\u001b[0m     \"\"\"\n\u001b[1;32m-> 1843\u001b[1;33m     return self._call_flat(\n\u001b[0m\u001b[0;32m   1844\u001b[0m         [t for t in nest.flatten((args, kwargs), expand_composites=True)\n\u001b[0;32m   1845\u001b[0m          if isinstance(t, (ops.Tensor,\n",
      "\u001b[1;32m~\\anaconda3\\envs\\learn-env\\lib\\site-packages\\tensorflow\\python\\eager\\function.py\u001b[0m in \u001b[0;36m_call_flat\u001b[1;34m(self, args, captured_inputs, cancellation_manager)\u001b[0m\n\u001b[0;32m   1921\u001b[0m         and executing_eagerly):\n\u001b[0;32m   1922\u001b[0m       \u001b[1;31m# No tape is watching; skip to running the function.\u001b[0m\u001b[1;33m\u001b[0m\u001b[1;33m\u001b[0m\u001b[1;33m\u001b[0m\u001b[0m\n\u001b[1;32m-> 1923\u001b[1;33m       return self._build_call_outputs(self._inference_function.call(\n\u001b[0m\u001b[0;32m   1924\u001b[0m           ctx, args, cancellation_manager=cancellation_manager))\n\u001b[0;32m   1925\u001b[0m     forward_backward = self._select_forward_and_backward_functions(\n",
      "\u001b[1;32m~\\anaconda3\\envs\\learn-env\\lib\\site-packages\\tensorflow\\python\\eager\\function.py\u001b[0m in \u001b[0;36mcall\u001b[1;34m(self, ctx, args, cancellation_manager)\u001b[0m\n\u001b[0;32m    543\u001b[0m       \u001b[1;32mwith\u001b[0m \u001b[0m_InterpolateFunctionError\u001b[0m\u001b[1;33m(\u001b[0m\u001b[0mself\u001b[0m\u001b[1;33m)\u001b[0m\u001b[1;33m:\u001b[0m\u001b[1;33m\u001b[0m\u001b[1;33m\u001b[0m\u001b[0m\n\u001b[0;32m    544\u001b[0m         \u001b[1;32mif\u001b[0m \u001b[0mcancellation_manager\u001b[0m \u001b[1;32mis\u001b[0m \u001b[1;32mNone\u001b[0m\u001b[1;33m:\u001b[0m\u001b[1;33m\u001b[0m\u001b[1;33m\u001b[0m\u001b[0m\n\u001b[1;32m--> 545\u001b[1;33m           outputs = execute.execute(\n\u001b[0m\u001b[0;32m    546\u001b[0m               \u001b[0mstr\u001b[0m\u001b[1;33m(\u001b[0m\u001b[0mself\u001b[0m\u001b[1;33m.\u001b[0m\u001b[0msignature\u001b[0m\u001b[1;33m.\u001b[0m\u001b[0mname\u001b[0m\u001b[1;33m)\u001b[0m\u001b[1;33m,\u001b[0m\u001b[1;33m\u001b[0m\u001b[1;33m\u001b[0m\u001b[0m\n\u001b[0;32m    547\u001b[0m               \u001b[0mnum_outputs\u001b[0m\u001b[1;33m=\u001b[0m\u001b[0mself\u001b[0m\u001b[1;33m.\u001b[0m\u001b[0m_num_outputs\u001b[0m\u001b[1;33m,\u001b[0m\u001b[1;33m\u001b[0m\u001b[1;33m\u001b[0m\u001b[0m\n",
      "\u001b[1;32m~\\anaconda3\\envs\\learn-env\\lib\\site-packages\\tensorflow\\python\\eager\\execute.py\u001b[0m in \u001b[0;36mquick_execute\u001b[1;34m(op_name, num_outputs, inputs, attrs, ctx, name)\u001b[0m\n\u001b[0;32m     57\u001b[0m   \u001b[1;32mtry\u001b[0m\u001b[1;33m:\u001b[0m\u001b[1;33m\u001b[0m\u001b[1;33m\u001b[0m\u001b[0m\n\u001b[0;32m     58\u001b[0m     \u001b[0mctx\u001b[0m\u001b[1;33m.\u001b[0m\u001b[0mensure_initialized\u001b[0m\u001b[1;33m(\u001b[0m\u001b[1;33m)\u001b[0m\u001b[1;33m\u001b[0m\u001b[1;33m\u001b[0m\u001b[0m\n\u001b[1;32m---> 59\u001b[1;33m     tensors = pywrap_tfe.TFE_Py_Execute(ctx._handle, device_name, op_name,\n\u001b[0m\u001b[0;32m     60\u001b[0m                                         inputs, attrs, num_outputs)\n\u001b[0;32m     61\u001b[0m   \u001b[1;32mexcept\u001b[0m \u001b[0mcore\u001b[0m\u001b[1;33m.\u001b[0m\u001b[0m_NotOkStatusException\u001b[0m \u001b[1;32mas\u001b[0m \u001b[0me\u001b[0m\u001b[1;33m:\u001b[0m\u001b[1;33m\u001b[0m\u001b[1;33m\u001b[0m\u001b[0m\n",
      "\u001b[1;31mKeyboardInterrupt\u001b[0m: "
     ]
    }
   ],
   "source": [
    "# evaluate model and plot learning curve of model with given number of layers\n",
    "num_layers = [5,6,7,8,12,]\n",
    "for n_layers in num_layers:\n",
    "    # evaluate model with a given number of layers\n",
    "    history, result = evaluate_drop_model(n_layers, x_train_final.drop(columns=sub_grade_columns,axis=1),\n",
    "                                     y_train_final, x_test_scaled.drop(columns=sub_grade_columns,axis=1), y_test,\n",
    "                                     x_val.drop(columns=sub_grade_columns,axis=1),y_val)    \n",
    "    print('layers=%d: %.3f' % (n_layers, result))\n",
    "    # plot learning curve\n",
    "    plt.plot(history.history['val_acc'], label=str(n_layers))\n",
    "plt.legend()\n",
    "plt.show()"
   ]
  },
  {
   "cell_type": "code",
   "execution_count": 176,
   "metadata": {
    "ExecuteTime": {
     "end_time": "2021-04-11T21:22:07.722267Z",
     "start_time": "2021-04-11T21:02:27.377057Z"
    },
    "scrolled": true
   },
   "outputs": [
    {
     "name": "stdout",
     "output_type": "stream",
     "text": [
      "Epoch 1/250\n",
      "5358/5358 [==============================] - 13s 3ms/step - loss: 0.3977 - acc: 0.8106 - val_loss: 0.3687 - val_acc: 0.8264\n",
      "Epoch 2/250\n",
      "5358/5358 [==============================] - 15s 3ms/step - loss: 0.3747 - acc: 0.8242 - val_loss: 0.3648 - val_acc: 0.8279\n",
      "Epoch 3/250\n",
      "5358/5358 [==============================] - 14s 3ms/step - loss: 0.3703 - acc: 0.8264 - val_loss: 0.3671 - val_acc: 0.8280\n",
      "Epoch 4/250\n",
      "5358/5358 [==============================] - 14s 3ms/step - loss: 0.3677 - acc: 0.8273 - val_loss: 0.3593 - val_acc: 0.8314\n",
      "Epoch 5/250\n",
      "5358/5358 [==============================] - 13s 2ms/step - loss: 0.3659 - acc: 0.8283 - val_loss: 0.3579 - val_acc: 0.8326\n",
      "Epoch 6/250\n",
      "5358/5358 [==============================] - 14s 3ms/step - loss: 0.3639 - acc: 0.8293 - val_loss: 0.3554 - val_acc: 0.8334\n",
      "Epoch 7/250\n",
      "5358/5358 [==============================] - 15s 3ms/step - loss: 0.3605 - acc: 0.8313 - val_loss: 0.3538 - val_acc: 0.8351\n",
      "Epoch 8/250\n",
      "5358/5358 [==============================] - 13s 3ms/step - loss: 0.3558 - acc: 0.8348 - val_loss: 0.3458 - val_acc: 0.8395\n",
      "Epoch 9/250\n",
      "5358/5358 [==============================] - 14s 3ms/step - loss: 0.3533 - acc: 0.8364 - val_loss: 0.3473 - val_acc: 0.8409\n",
      "Epoch 10/250\n",
      "5358/5358 [==============================] - 14s 3ms/step - loss: 0.3519 - acc: 0.8367 - val_loss: 0.3461 - val_acc: 0.8381\n",
      "Epoch 11/250\n",
      "5358/5358 [==============================] - 16s 3ms/step - loss: 0.3506 - acc: 0.8375 - val_loss: 0.3455 - val_acc: 0.8405\n",
      "Epoch 12/250\n",
      "5358/5358 [==============================] - 13s 2ms/step - loss: 0.3497 - acc: 0.8379 - val_loss: 0.3449 - val_acc: 0.8400\n",
      "Epoch 13/250\n",
      "5358/5358 [==============================] - 13s 2ms/step - loss: 0.3496 - acc: 0.8379 - val_loss: 0.3410 - val_acc: 0.8424\n",
      "Epoch 14/250\n",
      "5358/5358 [==============================] - 13s 2ms/step - loss: 0.3492 - acc: 0.8383 - val_loss: 0.3408 - val_acc: 0.8420\n",
      "Epoch 15/250\n",
      "5358/5358 [==============================] - 13s 2ms/step - loss: 0.3490 - acc: 0.8383 - val_loss: 0.3412 - val_acc: 0.8424\n",
      "Epoch 16/250\n",
      "5358/5358 [==============================] - 13s 2ms/step - loss: 0.3482 - acc: 0.8388 - val_loss: 0.3396 - val_acc: 0.8431\n",
      "Epoch 17/250\n",
      "5358/5358 [==============================] - 13s 2ms/step - loss: 0.3480 - acc: 0.8387 - val_loss: 0.3415 - val_acc: 0.8417\n",
      "Epoch 18/250\n",
      "5358/5358 [==============================] - 13s 2ms/step - loss: 0.3477 - acc: 0.8390 - val_loss: 0.3420 - val_acc: 0.8423\n",
      "Epoch 19/250\n",
      "5358/5358 [==============================] - 13s 2ms/step - loss: 0.3474 - acc: 0.8393 - val_loss: 0.3408 - val_acc: 0.8420\n",
      "Epoch 20/250\n",
      "5358/5358 [==============================] - 13s 2ms/step - loss: 0.3470 - acc: 0.8392 - val_loss: 0.3394 - val_acc: 0.8426\n",
      "Epoch 21/250\n",
      "5358/5358 [==============================] - 13s 2ms/step - loss: 0.3472 - acc: 0.8390 - val_loss: 0.3434 - val_acc: 0.8411\n",
      "Epoch 22/250\n",
      "5358/5358 [==============================] - 13s 2ms/step - loss: 0.3466 - acc: 0.8398 - val_loss: 0.3386 - val_acc: 0.8439\n",
      "Epoch 23/250\n",
      "5358/5358 [==============================] - 13s 2ms/step - loss: 0.3463 - acc: 0.8399 - val_loss: 0.3394 - val_acc: 0.8431\n",
      "Epoch 24/250\n",
      "5358/5358 [==============================] - 14s 3ms/step - loss: 0.3465 - acc: 0.8396 - val_loss: 0.3418 - val_acc: 0.8396\n",
      "Epoch 25/250\n",
      "5358/5358 [==============================] - 14s 3ms/step - loss: 0.3463 - acc: 0.8399 - val_loss: 0.3378 - val_acc: 0.8442\n",
      "Epoch 26/250\n",
      "5358/5358 [==============================] - 14s 3ms/step - loss: 0.3458 - acc: 0.8400 - val_loss: 0.3389 - val_acc: 0.8432\n",
      "Epoch 27/250\n",
      "5358/5358 [==============================] - 14s 3ms/step - loss: 0.3457 - acc: 0.8401 - val_loss: 0.3407 - val_acc: 0.8428\n",
      "Epoch 28/250\n",
      "5358/5358 [==============================] - 16s 3ms/step - loss: 0.3458 - acc: 0.8399 - val_loss: 0.3389 - val_acc: 0.8436\n",
      "Epoch 29/250\n",
      "5358/5358 [==============================] - 13s 3ms/step - loss: 0.3456 - acc: 0.8402 - val_loss: 0.3389 - val_acc: 0.8432\n",
      "Epoch 30/250\n",
      "5358/5358 [==============================] - 13s 2ms/step - loss: 0.3450 - acc: 0.8405 - val_loss: 0.3386 - val_acc: 0.8439\n",
      "Epoch 31/250\n",
      "5358/5358 [==============================] - 13s 2ms/step - loss: 0.3451 - acc: 0.8405 - val_loss: 0.3371 - val_acc: 0.8446\n",
      "Epoch 32/250\n",
      "5358/5358 [==============================] - 13s 2ms/step - loss: 0.3450 - acc: 0.8405 - val_loss: 0.3399 - val_acc: 0.8427\n",
      "Epoch 33/250\n",
      "5358/5358 [==============================] - 13s 2ms/step - loss: 0.3447 - acc: 0.8409 - val_loss: 0.3439 - val_acc: 0.8404\n",
      "Epoch 34/250\n",
      "5358/5358 [==============================] - 13s 2ms/step - loss: 0.3447 - acc: 0.8406 - val_loss: 0.3368 - val_acc: 0.8450\n",
      "Epoch 35/250\n",
      "5358/5358 [==============================] - 13s 2ms/step - loss: 0.3445 - acc: 0.8407 - val_loss: 0.3384 - val_acc: 0.8432\n",
      "Epoch 36/250\n",
      "5358/5358 [==============================] - 13s 2ms/step - loss: 0.3443 - acc: 0.8409 - val_loss: 0.3374 - val_acc: 0.8438\n",
      "Epoch 37/250\n",
      "5358/5358 [==============================] - 13s 2ms/step - loss: 0.3442 - acc: 0.8410 - val_loss: 0.3387 - val_acc: 0.8432\n",
      "Epoch 38/250\n",
      "5358/5358 [==============================] - 13s 2ms/step - loss: 0.3442 - acc: 0.8409 - val_loss: 0.3401 - val_acc: 0.8429\n",
      "Epoch 39/250\n",
      "5358/5358 [==============================] - 14s 3ms/step - loss: 0.3440 - acc: 0.8412 - val_loss: 0.3391 - val_acc: 0.8429\n",
      "Epoch 40/250\n",
      "5358/5358 [==============================] - 14s 3ms/step - loss: 0.3442 - acc: 0.8414 - val_loss: 0.3372 - val_acc: 0.8445\n",
      "Epoch 41/250\n",
      "5358/5358 [==============================] - 15s 3ms/step - loss: 0.3439 - acc: 0.8414 - val_loss: 0.3356 - val_acc: 0.8456\n",
      "Epoch 42/250\n",
      "5358/5358 [==============================] - 14s 3ms/step - loss: 0.3438 - acc: 0.8411 - val_loss: 0.3409 - val_acc: 0.8422\n",
      "Epoch 43/250\n",
      "5358/5358 [==============================] - 14s 3ms/step - loss: 0.3434 - acc: 0.8417 - val_loss: 0.3368 - val_acc: 0.8447\n",
      "Epoch 44/250\n",
      "5358/5358 [==============================] - 13s 2ms/step - loss: 0.3433 - acc: 0.8418 - val_loss: 0.3381 - val_acc: 0.8430\n",
      "Epoch 45/250\n",
      "5358/5358 [==============================] - 14s 3ms/step - loss: 0.3432 - acc: 0.8417 - val_loss: 0.3375 - val_acc: 0.8453\n",
      "Epoch 46/250\n",
      "5358/5358 [==============================] - 13s 2ms/step - loss: 0.3433 - acc: 0.8418 - val_loss: 0.3381 - val_acc: 0.8443\n",
      "Epoch 47/250\n",
      "5358/5358 [==============================] - 13s 2ms/step - loss: 0.3429 - acc: 0.8418 - val_loss: 0.3392 - val_acc: 0.8435\n",
      "Epoch 48/250\n",
      "5358/5358 [==============================] - 13s 2ms/step - loss: 0.3430 - acc: 0.8421 - val_loss: 0.3348 - val_acc: 0.8457\n",
      "Epoch 49/250\n",
      "5358/5358 [==============================] - 13s 2ms/step - loss: 0.3428 - acc: 0.8420 - val_loss: 0.3366 - val_acc: 0.8451\n",
      "Epoch 50/250\n",
      "5358/5358 [==============================] - 13s 2ms/step - loss: 0.3429 - acc: 0.8419 - val_loss: 0.3379 - val_acc: 0.8439\n",
      "Epoch 51/250\n",
      "5358/5358 [==============================] - 15s 3ms/step - loss: 0.3427 - acc: 0.8420 - val_loss: 0.3377 - val_acc: 0.8446\n",
      "Epoch 52/250\n",
      "5358/5358 [==============================] - 14s 3ms/step - loss: 0.3427 - acc: 0.8419 - val_loss: 0.3359 - val_acc: 0.8462\n",
      "Epoch 53/250\n",
      "5358/5358 [==============================] - 15s 3ms/step - loss: 0.3425 - acc: 0.8422 - val_loss: 0.3360 - val_acc: 0.8459\n",
      "Epoch 54/250\n",
      "5358/5358 [==============================] - 14s 3ms/step - loss: 0.3426 - acc: 0.8423 - val_loss: 0.3358 - val_acc: 0.8462\n",
      "Epoch 55/250\n",
      "5358/5358 [==============================] - 13s 3ms/step - loss: 0.3423 - acc: 0.8424 - val_loss: 0.3355 - val_acc: 0.8458\n",
      "Epoch 56/250\n",
      "5358/5358 [==============================] - 13s 2ms/step - loss: 0.3425 - acc: 0.8421 - val_loss: 0.3393 - val_acc: 0.8434\n",
      "Epoch 57/250\n",
      "5358/5358 [==============================] - 13s 2ms/step - loss: 0.3424 - acc: 0.8422 - val_loss: 0.3372 - val_acc: 0.8444\n",
      "Epoch 58/250\n",
      "5358/5358 [==============================] - 13s 2ms/step - loss: 0.3422 - acc: 0.8425 - val_loss: 0.3348 - val_acc: 0.8455\n",
      "Epoch 59/250\n",
      "5358/5358 [==============================] - 13s 2ms/step - loss: 0.3422 - acc: 0.8424 - val_loss: 0.3358 - val_acc: 0.8453\n",
      "Epoch 60/250\n",
      "5358/5358 [==============================] - 13s 2ms/step - loss: 0.3423 - acc: 0.8423 - val_loss: 0.3345 - val_acc: 0.8462\n"
     ]
    },
    {
     "name": "stdout",
     "output_type": "stream",
     "text": [
      "Epoch 61/250\n",
      "5358/5358 [==============================] - 13s 2ms/step - loss: 0.3424 - acc: 0.8424 - val_loss: 0.3359 - val_acc: 0.8459\n",
      "Epoch 62/250\n",
      "5358/5358 [==============================] - 13s 2ms/step - loss: 0.3419 - acc: 0.8425 - val_loss: 0.3358 - val_acc: 0.8452\n",
      "Epoch 63/250\n",
      "5358/5358 [==============================] - 13s 2ms/step - loss: 0.3419 - acc: 0.8426 - val_loss: 0.3358 - val_acc: 0.8463\n",
      "Epoch 64/250\n",
      "5358/5358 [==============================] - 13s 2ms/step - loss: 0.3421 - acc: 0.8425 - val_loss: 0.3355 - val_acc: 0.8458\n",
      "Epoch 65/250\n",
      "5358/5358 [==============================] - 13s 2ms/step - loss: 0.3423 - acc: 0.8426 - val_loss: 0.3368 - val_acc: 0.8448\n",
      "Epoch 66/250\n",
      "5358/5358 [==============================] - 13s 2ms/step - loss: 0.3419 - acc: 0.8426 - val_loss: 0.3353 - val_acc: 0.8467\n",
      "Epoch 67/250\n",
      "5358/5358 [==============================] - 13s 2ms/step - loss: 0.3420 - acc: 0.8425 - val_loss: 0.3370 - val_acc: 0.8446\n",
      "Epoch 68/250\n",
      "5358/5358 [==============================] - 13s 2ms/step - loss: 0.3419 - acc: 0.8425 - val_loss: 0.3372 - val_acc: 0.8449\n",
      "Epoch 69/250\n",
      "5358/5358 [==============================] - 13s 2ms/step - loss: 0.3421 - acc: 0.8425 - val_loss: 0.3353 - val_acc: 0.8454\n",
      "Epoch 70/250\n",
      "5358/5358 [==============================] - 13s 2ms/step - loss: 0.3419 - acc: 0.8426 - val_loss: 0.3350 - val_acc: 0.8463\n",
      "Epoch 71/250\n",
      "5358/5358 [==============================] - 13s 2ms/step - loss: 0.3414 - acc: 0.8428 - val_loss: 0.3372 - val_acc: 0.8442\n",
      "Epoch 72/250\n",
      "5358/5358 [==============================] - 13s 2ms/step - loss: 0.3420 - acc: 0.8426 - val_loss: 0.3345 - val_acc: 0.8457\n",
      "Epoch 73/250\n",
      "5358/5358 [==============================] - 13s 2ms/step - loss: 0.3416 - acc: 0.8425 - val_loss: 0.3338 - val_acc: 0.8471\n",
      "Epoch 74/250\n",
      "5358/5358 [==============================] - 13s 2ms/step - loss: 0.3414 - acc: 0.8427 - val_loss: 0.3340 - val_acc: 0.8466\n",
      "Epoch 75/250\n",
      "5358/5358 [==============================] - 13s 2ms/step - loss: 0.3416 - acc: 0.8427 - val_loss: 0.3362 - val_acc: 0.8451\n",
      "Epoch 76/250\n",
      "5358/5358 [==============================] - 13s 2ms/step - loss: 0.3414 - acc: 0.8429 - val_loss: 0.3354 - val_acc: 0.8450\n",
      "Epoch 77/250\n",
      "5358/5358 [==============================] - 13s 2ms/step - loss: 0.3416 - acc: 0.8427 - val_loss: 0.3347 - val_acc: 0.8461\n",
      "Epoch 78/250\n",
      "5358/5358 [==============================] - 13s 2ms/step - loss: 0.3417 - acc: 0.8427 - val_loss: 0.3342 - val_acc: 0.8464\n",
      "Epoch 79/250\n",
      "5358/5358 [==============================] - 13s 2ms/step - loss: 0.3416 - acc: 0.8427 - val_loss: 0.3356 - val_acc: 0.8457\n",
      "Epoch 80/250\n",
      "5358/5358 [==============================] - 13s 2ms/step - loss: 0.3413 - acc: 0.8427 - val_loss: 0.3342 - val_acc: 0.8462\n",
      "Epoch 81/250\n",
      "5358/5358 [==============================] - 13s 2ms/step - loss: 0.3415 - acc: 0.8427 - val_loss: 0.3348 - val_acc: 0.8466\n",
      "Epoch 82/250\n",
      "5358/5358 [==============================] - 13s 2ms/step - loss: 0.3413 - acc: 0.8429 - val_loss: 0.3356 - val_acc: 0.8459\n",
      "Epoch 83/250\n",
      "5358/5358 [==============================] - 13s 2ms/step - loss: 0.3415 - acc: 0.8425 - val_loss: 0.3363 - val_acc: 0.8454\n",
      "Epoch 84/250\n",
      "5358/5358 [==============================] - 13s 2ms/step - loss: 0.3418 - acc: 0.8424 - val_loss: 0.3394 - val_acc: 0.8432\n",
      "Epoch 85/250\n",
      "5358/5358 [==============================] - 13s 2ms/step - loss: 0.3412 - acc: 0.8426 - val_loss: 0.3340 - val_acc: 0.8465\n",
      "Epoch 86/250\n",
      "5358/5358 [==============================] - 13s 2ms/step - loss: 0.3416 - acc: 0.8424 - val_loss: 0.3353 - val_acc: 0.8458\n",
      "Epoch 87/250\n",
      "5358/5358 [==============================] - 13s 2ms/step - loss: 0.3414 - acc: 0.8428 - val_loss: 0.3347 - val_acc: 0.8463\n",
      "Epoch 88/250\n",
      "5358/5358 [==============================] - 13s 2ms/step - loss: 0.3413 - acc: 0.8426 - val_loss: 0.3346 - val_acc: 0.8452\n",
      "    1/16284 [..............................] - ETA: 0s - loss: 0.4925 - acc: 0.8125WARNING:tensorflow:Callbacks method `on_test_batch_end` is slow compared to the batch time (batch time: 0.0000s vs `on_test_batch_end` time: 0.0010s). Check your callbacks.\n",
      "16284/16284 [==============================] - 8s 515us/step - loss: 0.4660 - acc: 0.7948\n"
     ]
    }
   ],
   "source": [
    "history, result = evaluate_drop_model(8, x_train_final.drop(columns=sub_grade_columns,axis=1),\n",
    "                                     y_train_final, x_test_scaled.drop(columns=sub_grade_columns,axis=1), y_test,\n",
    "                                     x_val.drop(columns=sub_grade_columns,axis=1),y_val)"
   ]
  },
  {
   "cell_type": "code",
   "execution_count": 177,
   "metadata": {
    "ExecuteTime": {
     "end_time": "2021-04-11T21:22:50.483375Z",
     "start_time": "2021-04-11T21:22:13.088228Z"
    }
   },
   "outputs": [
    {
     "name": "stdout",
     "output_type": "stream",
     "text": [
      "42857/42857 [==============================] - 22s 510us/step - loss: 0.3340 - acc: 0.8468\n",
      "Training Loss: 0.334 \n",
      "Training Accuracy: 0.847\n",
      "----------\n",
      "16284/16284 [==============================] - 8s 515us/step - loss: 0.4660 - acc: 0.7948\n",
      "Test Loss: 0.466 \n",
      "Test Accuracy: 0.795\n",
      "[[402778  17494]\n",
      " [ 89432  11378]]\n",
      "              precision    recall  f1-score   support\n",
      "\n",
      "           0       0.82      0.96      0.88    420272\n",
      "           1       0.39      0.11      0.18    100810\n",
      "\n",
      "    accuracy                           0.79    521082\n",
      "   macro avg       0.61      0.54      0.53    521082\n",
      "weighted avg       0.74      0.79      0.75    521082\n",
      "\n"
     ]
    }
   ],
   "source": [
    "test_class_report('best_drop_model.h5',x_test_scaled.drop(columns=sub_grade_columns,axis=1),y_test,x_train_final.drop(columns=sub_grade_columns,axis=1),y_train_final)"
   ]
  },
  {
   "cell_type": "code",
   "execution_count": 188,
   "metadata": {
    "ExecuteTime": {
     "end_time": "2021-04-11T22:07:20.612906Z",
     "start_time": "2021-04-11T22:07:20.470744Z"
    }
   },
   "outputs": [],
   "source": [
    "early_stopping = [EarlyStopping(monitor='val_loss', patience=15), \n",
    "                  ModelCheckpoint(filepath='best_drop_model.h5', monitor='val_acc', save_best_only=True)]\n",
    "dropmodel = models.Sequential()\n",
    "dropmodel.add(layers.Dropout(.20,input_shape=(53,)))\n",
    "dropmodel.add(layers.Dense(50,activation='relu'))\n",
    "for _ in range(1, 7):\n",
    "    dropmodel.add(layers.Dropout(0.2))\n",
    "    dropmodel.add(layers.Dense(25, activation='relu'))\n",
    "dropmodel.add(layers.Dense(1,activation='sigmoid'))\n",
    "dropmodel.compile(loss='binary_crossentropy',optimizer='adam',metrics=['acc'])\n"
   ]
  },
  {
   "cell_type": "code",
   "execution_count": 189,
   "metadata": {
    "ExecuteTime": {
     "end_time": "2021-04-11T22:13:53.560449Z",
     "start_time": "2021-04-11T22:07:26.313774Z"
    }
   },
   "outputs": [
    {
     "name": "stdout",
     "output_type": "stream",
     "text": [
      "Epoch 1/200\n",
      "5358/5358 [==============================] - 18s 3ms/step - loss: 0.5254 - acc: 0.7404 - val_loss: 0.4557 - val_acc: 0.7840\n",
      "Epoch 2/200\n",
      "5358/5358 [==============================] - 16s 3ms/step - loss: 0.4934 - acc: 0.7626 - val_loss: 0.4462 - val_acc: 0.7898\n",
      "Epoch 3/200\n",
      "5358/5358 [==============================] - 16s 3ms/step - loss: 0.4818 - acc: 0.7695 - val_loss: 0.4425 - val_acc: 0.7859\n",
      "Epoch 4/200\n",
      "5358/5358 [==============================] - 16s 3ms/step - loss: 0.4762 - acc: 0.7730 - val_loss: 0.4376 - val_acc: 0.7880\n",
      "Epoch 5/200\n",
      "5358/5358 [==============================] - 17s 3ms/step - loss: 0.4724 - acc: 0.7749 - val_loss: 0.4451 - val_acc: 0.7765\n",
      "Epoch 6/200\n",
      "5358/5358 [==============================] - 16s 3ms/step - loss: 0.4682 - acc: 0.7770 - val_loss: 0.4363 - val_acc: 0.7887\n",
      "Epoch 7/200\n",
      "5358/5358 [==============================] - 16s 3ms/step - loss: 0.4628 - acc: 0.7794 - val_loss: 0.4285 - val_acc: 0.7961\n",
      "Epoch 8/200\n",
      "5358/5358 [==============================] - 16s 3ms/step - loss: 0.4573 - acc: 0.7818 - val_loss: 0.4915 - val_acc: 0.7582\n",
      "Epoch 9/200\n",
      "5358/5358 [==============================] - 16s 3ms/step - loss: 0.4532 - acc: 0.7842 - val_loss: 0.5130 - val_acc: 0.7491\n",
      "Epoch 10/200\n",
      "5358/5358 [==============================] - 18s 3ms/step - loss: 0.4504 - acc: 0.7855 - val_loss: 0.5029 - val_acc: 0.7581\n",
      "Epoch 11/200\n",
      "5358/5358 [==============================] - 18s 3ms/step - loss: 0.4482 - acc: 0.7864 - val_loss: 0.5919 - val_acc: 0.7315\n",
      "Epoch 12/200\n",
      "5358/5358 [==============================] - 18s 3ms/step - loss: 0.4469 - acc: 0.7872 - val_loss: 0.6187 - val_acc: 0.7464\n",
      "Epoch 13/200\n",
      "5358/5358 [==============================] - 18s 3ms/step - loss: 0.4455 - acc: 0.7882 - val_loss: 0.5407 - val_acc: 0.7545\n",
      "Epoch 14/200\n",
      "5358/5358 [==============================] - 18s 3ms/step - loss: 0.4441 - acc: 0.7886 - val_loss: 0.6606 - val_acc: 0.7282\n",
      "Epoch 15/200\n",
      "5358/5358 [==============================] - 18s 3ms/step - loss: 0.4428 - acc: 0.7895 - val_loss: 0.5870 - val_acc: 0.7370\n",
      "Epoch 16/200\n",
      "5358/5358 [==============================] - 18s 3ms/step - loss: 0.4419 - acc: 0.7902 - val_loss: 0.6060 - val_acc: 0.7416\n",
      "Epoch 17/200\n",
      "5358/5358 [==============================] - 18s 3ms/step - loss: 0.4417 - acc: 0.7900 - val_loss: 0.6275 - val_acc: 0.7253\n",
      "Epoch 18/200\n",
      "5358/5358 [==============================] - 18s 3ms/step - loss: 0.4414 - acc: 0.7905 - val_loss: 0.6064 - val_acc: 0.7288\n",
      "Epoch 19/200\n",
      "5358/5358 [==============================] - 18s 3ms/step - loss: 0.4396 - acc: 0.7914 - val_loss: 0.6745 - val_acc: 0.7175\n",
      "Epoch 20/200\n",
      "5358/5358 [==============================] - 18s 3ms/step - loss: 0.4394 - acc: 0.7918 - val_loss: 0.6046 - val_acc: 0.7218\n",
      "Epoch 21/200\n",
      "5358/5358 [==============================] - 18s 3ms/step - loss: 0.4397 - acc: 0.7913 - val_loss: 0.6415 - val_acc: 0.7299\n",
      "Epoch 22/200\n",
      "5358/5358 [==============================] - 18s 3ms/step - loss: 0.4387 - acc: 0.7919 - val_loss: 0.5978 - val_acc: 0.7269\n"
     ]
    }
   ],
   "source": [
    "drop_results = dropmodel.fit(x_train_final.drop(columns=sub_grade_columns,axis=1),\n",
    "                                     y_train_final,epochs=200,batch_size=256,verbose=1,callbacks=early_stopping,\n",
    "                            validation_data=(x_val.drop(columns=sub_grade_columns,axis=1),y_val))\n",
    "drop_save = load_model('best_drop_model.h5')\n"
   ]
  },
  {
   "cell_type": "code",
   "execution_count": 190,
   "metadata": {
    "ExecuteTime": {
     "end_time": "2021-04-11T22:14:36.460770Z",
     "start_time": "2021-04-11T22:13:58.619272Z"
    }
   },
   "outputs": [
    {
     "name": "stdout",
     "output_type": "stream",
     "text": [
      "42857/42857 [==============================] - 22s 521us/step - loss: 0.4292 - acc: 0.7965\n",
      "Training Loss: 0.429 \n",
      "Training Accuracy: 0.797\n",
      "----------\n",
      "16284/16284 [==============================] - 9s 529us/step - loss: 0.5852 - acc: 0.7021\n",
      "Test Loss: 0.585 \n",
      "Test Accuracy: 0.702\n",
      "[[322200  98072]\n",
      " [ 57147  43663]]\n",
      "              precision    recall  f1-score   support\n",
      "\n",
      "           0       0.85      0.77      0.81    420272\n",
      "           1       0.31      0.43      0.36    100810\n",
      "\n",
      "    accuracy                           0.70    521082\n",
      "   macro avg       0.58      0.60      0.58    521082\n",
      "weighted avg       0.74      0.70      0.72    521082\n",
      "\n"
     ]
    }
   ],
   "source": [
    "test_class_report('best_drop_model.h5',x_test_scaled.drop(columns=sub_grade_columns,axis=1),y_test,x_train_final.drop(columns=sub_grade_columns,axis=1),y_train_final)"
   ]
  },
  {
   "cell_type": "markdown",
   "metadata": {},
   "source": [
    "## L2 Regularization"
   ]
  },
  {
   "cell_type": "code",
   "execution_count": 145,
   "metadata": {
    "ExecuteTime": {
     "end_time": "2021-04-10T00:34:59.818748Z",
     "start_time": "2021-04-10T00:34:59.787710Z"
    }
   },
   "outputs": [],
   "source": [
    "\n",
    "# fit model with given number of nodes, returns test set accuracy\n",
    "def evaluate_L2_model(n_layers, trainX, trainy, testX, testy,xval,yval):\n",
    "# configure the model based on the data\n",
    "    n_input, n_classes = trainX.shape[1], 1\n",
    "    # define model\n",
    "    model = models.Sequential()\n",
    "    model.add(layers.Dense(50, input_dim=n_input, activation='tanh',kernel_regularizer=regularizers.l2(0.005)))\n",
    "    for _ in range(1, n_layers):\n",
    "        model.add(layers.Dense(25, activation='tanh',kernel_regularizer=regularizers.l2(0.005)))\n",
    "    model.add(layers.Dense(n_classes, activation='sigmoid'))\n",
    "    \n",
    "    \n",
    "    # compile model\n",
    "    model.compile(loss='binary_crossentropy', optimizer='adam', metrics=['acc'])\n",
    "    # fit model on train set\n",
    "    early_stopping = [EarlyStopping(monitor='val_loss', patience=5), \n",
    "                  ModelCheckpoint(filepath='best_l2_model.h5', monitor='val_loss', save_best_only=True)]\n",
    "    \n",
    "    history = model.fit(trainX, trainy, epochs=100,batch_size=256, verbose=1,callbacks=early_stopping,validation_data=(xval,yval))\n",
    "    # evaluate model on test set\n",
    "    saved= load_model('best_l2_model.h5')\n",
    "    _, test_acc = saved.evaluate(testX, testy, verbose=1)\n",
    "    return history, test_acc"
   ]
  },
  {
   "cell_type": "code",
   "execution_count": null,
   "metadata": {},
   "outputs": [],
   "source": [
    "x_train_final_z.drop(columns=sub_grade_columns,axis=1),y_train_final_z)\n",
    "\n",
    "y_pred_knn = knn.predict(x_test_z.drop(columns=sub_grade_columns,axis=1))"
   ]
  },
  {
   "cell_type": "code",
   "execution_count": 147,
   "metadata": {
    "ExecuteTime": {
     "end_time": "2021-04-10T06:25:16.736889Z",
     "start_time": "2021-04-10T05:58:22.559912Z"
    },
    "scrolled": true
   },
   "outputs": [
    {
     "name": "stdout",
     "output_type": "stream",
     "text": [
      "Epoch 1/100\n",
      "5358/5358 [==============================] - 6s 1ms/step - loss: 0.3874 - acc: 0.8165 - val_loss: 0.3652 - val_acc: 0.8293\n",
      "Epoch 2/100\n",
      "5358/5358 [==============================] - 6s 1ms/step - loss: 0.3631 - acc: 0.8300 - val_loss: 0.3607 - val_acc: 0.8313\n",
      "Epoch 3/100\n",
      "5358/5358 [==============================] - 6s 1ms/step - loss: 0.3569 - acc: 0.8336 - val_loss: 0.3505 - val_acc: 0.8380\n",
      "Epoch 4/100\n",
      "5358/5358 [==============================] - 6s 1ms/step - loss: 0.3487 - acc: 0.8390 - val_loss: 0.3435 - val_acc: 0.8423\n",
      "Epoch 5/100\n",
      "5358/5358 [==============================] - 6s 1ms/step - loss: 0.3423 - acc: 0.8425 - val_loss: 0.3388 - val_acc: 0.8442\n",
      "Epoch 6/100\n",
      "5358/5358 [==============================] - 6s 1ms/step - loss: 0.3390 - acc: 0.8440 - val_loss: 0.3360 - val_acc: 0.8450\n",
      "Epoch 7/100\n",
      "5358/5358 [==============================] - 6s 1ms/step - loss: 0.3371 - acc: 0.8448 - val_loss: 0.3368 - val_acc: 0.8431\n",
      "Epoch 8/100\n",
      "5358/5358 [==============================] - 6s 1ms/step - loss: 0.3357 - acc: 0.8456 - val_loss: 0.3338 - val_acc: 0.8468\n",
      "Epoch 9/100\n",
      "5358/5358 [==============================] - 6s 1ms/step - loss: 0.3346 - acc: 0.8463 - val_loss: 0.3340 - val_acc: 0.8464\n",
      "Epoch 10/100\n",
      "5358/5358 [==============================] - 6s 1ms/step - loss: 0.3336 - acc: 0.8469 - val_loss: 0.3317 - val_acc: 0.8475\n",
      "Epoch 11/100\n",
      "5358/5358 [==============================] - 6s 1ms/step - loss: 0.3329 - acc: 0.8471 - val_loss: 0.3320 - val_acc: 0.8471\n",
      "Epoch 12/100\n",
      "5358/5358 [==============================] - 6s 1ms/step - loss: 0.3321 - acc: 0.8476 - val_loss: 0.3336 - val_acc: 0.8465\n",
      "Epoch 13/100\n",
      "5358/5358 [==============================] - 6s 1ms/step - loss: 0.3317 - acc: 0.8478 - val_loss: 0.3299 - val_acc: 0.8487\n",
      "Epoch 14/100\n",
      "5358/5358 [==============================] - 8s 1ms/step - loss: 0.3310 - acc: 0.8482 - val_loss: 0.3296 - val_acc: 0.8487\n",
      "Epoch 15/100\n",
      "5358/5358 [==============================] - 8s 1ms/step - loss: 0.3305 - acc: 0.8483 - val_loss: 0.3309 - val_acc: 0.8473\n",
      "Epoch 16/100\n",
      "5358/5358 [==============================] - 8s 1ms/step - loss: 0.3302 - acc: 0.8485 - val_loss: 0.3289 - val_acc: 0.8493\n",
      "Epoch 17/100\n",
      "5358/5358 [==============================] - 8s 1ms/step - loss: 0.3297 - acc: 0.8488 - val_loss: 0.3327 - val_acc: 0.8460\n",
      "Epoch 18/100\n",
      "5358/5358 [==============================] - 8s 1ms/step - loss: 0.3294 - acc: 0.8493 - val_loss: 0.3287 - val_acc: 0.8495\n",
      "Epoch 19/100\n",
      "5358/5358 [==============================] - 8s 1ms/step - loss: 0.3291 - acc: 0.8492 - val_loss: 0.3286 - val_acc: 0.8494\n",
      "Epoch 20/100\n",
      "5358/5358 [==============================] - 8s 1ms/step - loss: 0.3286 - acc: 0.8495 - val_loss: 0.3280 - val_acc: 0.8503\n",
      "Epoch 21/100\n",
      "5358/5358 [==============================] - 8s 1ms/step - loss: 0.3282 - acc: 0.8497 - val_loss: 0.3342 - val_acc: 0.8466\n",
      "Epoch 22/100\n",
      "5358/5358 [==============================] - 8s 1ms/step - loss: 0.3281 - acc: 0.8497 - val_loss: 0.3292 - val_acc: 0.8477\n",
      "Epoch 23/100\n",
      "5358/5358 [==============================] - 8s 1ms/step - loss: 0.3278 - acc: 0.8498 - val_loss: 0.3267 - val_acc: 0.8502\n",
      "Epoch 24/100\n",
      "5358/5358 [==============================] - 8s 1ms/step - loss: 0.3274 - acc: 0.8502 - val_loss: 0.3299 - val_acc: 0.8485\n",
      "Epoch 25/100\n",
      "5358/5358 [==============================] - 8s 1ms/step - loss: 0.3271 - acc: 0.8503 - val_loss: 0.3263 - val_acc: 0.8509\n",
      "Epoch 26/100\n",
      "5358/5358 [==============================] - 8s 1ms/step - loss: 0.3270 - acc: 0.8505 - val_loss: 0.3278 - val_acc: 0.8499\n",
      "Epoch 27/100\n",
      "5358/5358 [==============================] - 8s 1ms/step - loss: 0.3265 - acc: 0.8507 - val_loss: 0.3255 - val_acc: 0.8515\n",
      "Epoch 28/100\n",
      "5358/5358 [==============================] - 8s 1ms/step - loss: 0.3261 - acc: 0.8511 - val_loss: 0.3282 - val_acc: 0.8495\n",
      "Epoch 29/100\n",
      "5358/5358 [==============================] - 8s 1ms/step - loss: 0.3256 - acc: 0.8513 - val_loss: 0.3247 - val_acc: 0.8522\n",
      "Epoch 30/100\n",
      "5358/5358 [==============================] - 8s 1ms/step - loss: 0.3243 - acc: 0.8523 - val_loss: 0.3235 - val_acc: 0.8534\n",
      "Epoch 31/100\n",
      "5358/5358 [==============================] - 8s 1ms/step - loss: 0.3208 - acc: 0.8542 - val_loss: 0.3197 - val_acc: 0.8552\n",
      "Epoch 32/100\n",
      "5358/5358 [==============================] - 8s 1ms/step - loss: 0.3184 - acc: 0.8555 - val_loss: 0.3195 - val_acc: 0.8553\n",
      "Epoch 33/100\n",
      "5358/5358 [==============================] - 8s 1ms/step - loss: 0.3175 - acc: 0.8559 - val_loss: 0.3184 - val_acc: 0.8555\n",
      "Epoch 34/100\n",
      "5358/5358 [==============================] - 8s 1ms/step - loss: 0.3167 - acc: 0.8564 - val_loss: 0.3162 - val_acc: 0.8560\n",
      "Epoch 35/100\n",
      "5358/5358 [==============================] - 8s 1ms/step - loss: 0.3164 - acc: 0.8566 - val_loss: 0.3161 - val_acc: 0.8567\n",
      "Epoch 36/100\n",
      "5358/5358 [==============================] - 8s 1ms/step - loss: 0.3160 - acc: 0.8568 - val_loss: 0.3146 - val_acc: 0.8579\n",
      "Epoch 37/100\n",
      "5358/5358 [==============================] - 8s 1ms/step - loss: 0.3155 - acc: 0.8570 - val_loss: 0.3177 - val_acc: 0.8554\n",
      "Epoch 38/100\n",
      "5358/5358 [==============================] - 8s 1ms/step - loss: 0.3152 - acc: 0.8572 - val_loss: 0.3159 - val_acc: 0.8573\n",
      "Epoch 39/100\n",
      "5358/5358 [==============================] - 8s 2ms/step - loss: 0.3147 - acc: 0.8577 - val_loss: 0.3146 - val_acc: 0.8584\n",
      "Epoch 40/100\n",
      "5358/5358 [==============================] - 8s 2ms/step - loss: 0.3145 - acc: 0.8580 - val_loss: 0.3142 - val_acc: 0.8582\n",
      "Epoch 41/100\n",
      "5358/5358 [==============================] - 8s 1ms/step - loss: 0.3140 - acc: 0.8580 - val_loss: 0.3128 - val_acc: 0.8591\n",
      "Epoch 42/100\n",
      "5358/5358 [==============================] - 8s 1ms/step - loss: 0.3137 - acc: 0.8583 - val_loss: 0.3162 - val_acc: 0.8570\n",
      "Epoch 43/100\n",
      "5358/5358 [==============================] - 8s 1ms/step - loss: 0.3130 - acc: 0.8589 - val_loss: 0.3139 - val_acc: 0.8587\n",
      "Epoch 44/100\n",
      "5358/5358 [==============================] - 8s 1ms/step - loss: 0.3123 - acc: 0.8593 - val_loss: 0.3123 - val_acc: 0.8591\n",
      "Epoch 45/100\n",
      "5358/5358 [==============================] - 8s 1ms/step - loss: 0.3118 - acc: 0.8596 - val_loss: 0.3111 - val_acc: 0.8600\n",
      "Epoch 46/100\n",
      "5358/5358 [==============================] - 8s 1ms/step - loss: 0.3114 - acc: 0.8597 - val_loss: 0.3124 - val_acc: 0.8585\n",
      "Epoch 47/100\n",
      "5358/5358 [==============================] - 8s 1ms/step - loss: 0.3110 - acc: 0.8599 - val_loss: 0.3106 - val_acc: 0.8603\n",
      "Epoch 48/100\n",
      "5358/5358 [==============================] - 8s 1ms/step - loss: 0.3108 - acc: 0.8600 - val_loss: 0.3118 - val_acc: 0.8592\n",
      "Epoch 49/100\n",
      "5358/5358 [==============================] - 8s 1ms/step - loss: 0.3106 - acc: 0.8601 - val_loss: 0.3142 - val_acc: 0.8578\n",
      "Epoch 50/100\n",
      "5358/5358 [==============================] - 8s 1ms/step - loss: 0.3102 - acc: 0.8603 - val_loss: 0.3116 - val_acc: 0.8605\n",
      "Epoch 51/100\n",
      "5358/5358 [==============================] - 8s 1ms/step - loss: 0.3100 - acc: 0.8605 - val_loss: 0.3094 - val_acc: 0.8613\n",
      "Epoch 52/100\n",
      "5358/5358 [==============================] - 8s 1ms/step - loss: 0.3099 - acc: 0.8605 - val_loss: 0.3100 - val_acc: 0.8605\n",
      "Epoch 53/100\n",
      "5358/5358 [==============================] - 8s 1ms/step - loss: 0.3095 - acc: 0.8607 - val_loss: 0.3101 - val_acc: 0.8606\n",
      "Epoch 54/100\n",
      "5358/5358 [==============================] - 8s 1ms/step - loss: 0.3096 - acc: 0.8608 - val_loss: 0.3109 - val_acc: 0.8597\n",
      "Epoch 55/100\n",
      "5358/5358 [==============================] - 8s 1ms/step - loss: 0.3094 - acc: 0.8609 - val_loss: 0.3131 - val_acc: 0.8584\n",
      "Epoch 56/100\n",
      "5358/5358 [==============================] - 8s 1ms/step - loss: 0.3092 - acc: 0.8610 - val_loss: 0.3089 - val_acc: 0.8612\n",
      "Epoch 57/100\n",
      "5358/5358 [==============================] - 8s 1ms/step - loss: 0.3091 - acc: 0.8609 - val_loss: 0.3273 - val_acc: 0.8502\n",
      "Epoch 58/100\n",
      "5358/5358 [==============================] - 8s 1ms/step - loss: 0.3089 - acc: 0.8611 - val_loss: 0.3084 - val_acc: 0.8614\n",
      "Epoch 59/100\n",
      "5358/5358 [==============================] - 8s 1ms/step - loss: 0.3087 - acc: 0.8614 - val_loss: 0.3101 - val_acc: 0.8605\n",
      "Epoch 60/100\n",
      "5358/5358 [==============================] - 8s 1ms/step - loss: 0.3087 - acc: 0.8611 - val_loss: 0.3096 - val_acc: 0.8603\n",
      "Epoch 61/100\n"
     ]
    },
    {
     "name": "stdout",
     "output_type": "stream",
     "text": [
      "5358/5358 [==============================] - 6s 1ms/step - loss: 0.3086 - acc: 0.8610 - val_loss: 0.3093 - val_acc: 0.8605\n",
      "Epoch 62/100\n",
      "5358/5358 [==============================] - 6s 1ms/step - loss: 0.3084 - acc: 0.8613 - val_loss: 0.3081 - val_acc: 0.8619\n",
      "Epoch 63/100\n",
      "5358/5358 [==============================] - 6s 1ms/step - loss: 0.3083 - acc: 0.8613 - val_loss: 0.3108 - val_acc: 0.8594\n",
      "Epoch 64/100\n",
      "5358/5358 [==============================] - 6s 1ms/step - loss: 0.3082 - acc: 0.8613 - val_loss: 0.3081 - val_acc: 0.8616\n",
      "Epoch 65/100\n",
      "5358/5358 [==============================] - 6s 1ms/step - loss: 0.3080 - acc: 0.8615 - val_loss: 0.3107 - val_acc: 0.8594\n",
      "Epoch 66/100\n",
      "5358/5358 [==============================] - 6s 1ms/step - loss: 0.3080 - acc: 0.8615 - val_loss: 0.3081 - val_acc: 0.8618\n",
      "Epoch 67/100\n",
      "5358/5358 [==============================] - 6s 1ms/step - loss: 0.3080 - acc: 0.8616 - val_loss: 0.3086 - val_acc: 0.8613\n",
      "16284/16284 [==============================] - 8s 480us/step - loss: 0.4558 - acc: 0.8011\n",
      "layers=3: 0.801\n",
      "Epoch 1/100\n",
      "5358/5358 [==============================] - 7s 1ms/step - loss: 0.3835 - acc: 0.8186 - val_loss: 0.3628 - val_acc: 0.8302\n",
      "Epoch 2/100\n",
      "5358/5358 [==============================] - 7s 1ms/step - loss: 0.3615 - acc: 0.8311 - val_loss: 0.3591 - val_acc: 0.8312\n",
      "Epoch 3/100\n",
      "5358/5358 [==============================] - 6s 1ms/step - loss: 0.3533 - acc: 0.8363 - val_loss: 0.3449 - val_acc: 0.8417\n",
      "Epoch 4/100\n",
      "5358/5358 [==============================] - 6s 1ms/step - loss: 0.3438 - acc: 0.8420 - val_loss: 0.3440 - val_acc: 0.8401\n",
      "Epoch 5/100\n",
      "5358/5358 [==============================] - 6s 1ms/step - loss: 0.3390 - acc: 0.8440 - val_loss: 0.3353 - val_acc: 0.8456\n",
      "Epoch 6/100\n",
      "5358/5358 [==============================] - 6s 1ms/step - loss: 0.3365 - acc: 0.8452 - val_loss: 0.3350 - val_acc: 0.8461\n",
      "Epoch 7/100\n",
      "5358/5358 [==============================] - 6s 1ms/step - loss: 0.3349 - acc: 0.8459 - val_loss: 0.3415 - val_acc: 0.8421\n",
      "Epoch 8/100\n",
      "5358/5358 [==============================] - 6s 1ms/step - loss: 0.3335 - acc: 0.8468 - val_loss: 0.3330 - val_acc: 0.8465\n",
      "Epoch 9/100\n",
      "5358/5358 [==============================] - 6s 1ms/step - loss: 0.3324 - acc: 0.8473 - val_loss: 0.3350 - val_acc: 0.8455\n",
      "Epoch 10/100\n",
      "5358/5358 [==============================] - 6s 1ms/step - loss: 0.3313 - acc: 0.8479 - val_loss: 0.3312 - val_acc: 0.8487\n",
      "Epoch 11/100\n",
      "5358/5358 [==============================] - 6s 1ms/step - loss: 0.3281 - acc: 0.8501 - val_loss: 0.3242 - val_acc: 0.8522\n",
      "Epoch 12/100\n",
      "5358/5358 [==============================] - 6s 1ms/step - loss: 0.3227 - acc: 0.8530 - val_loss: 0.3227 - val_acc: 0.8530\n",
      "Epoch 13/100\n",
      "5358/5358 [==============================] - 6s 1ms/step - loss: 0.3208 - acc: 0.8541 - val_loss: 0.3212 - val_acc: 0.8537\n",
      "Epoch 14/100\n",
      "5358/5358 [==============================] - 6s 1ms/step - loss: 0.3199 - acc: 0.8547 - val_loss: 0.3167 - val_acc: 0.8567\n",
      "Epoch 15/100\n",
      "5358/5358 [==============================] - 6s 1ms/step - loss: 0.3192 - acc: 0.8550 - val_loss: 0.3178 - val_acc: 0.8557\n",
      "Epoch 16/100\n",
      "5358/5358 [==============================] - 6s 1ms/step - loss: 0.3187 - acc: 0.8552 - val_loss: 0.3175 - val_acc: 0.8558\n",
      "Epoch 17/100\n",
      "5358/5358 [==============================] - 6s 1ms/step - loss: 0.3182 - acc: 0.8555 - val_loss: 0.3228 - val_acc: 0.8515\n",
      "Epoch 18/100\n",
      "5358/5358 [==============================] - 6s 1ms/step - loss: 0.3178 - acc: 0.8560 - val_loss: 0.3173 - val_acc: 0.8558\n",
      "Epoch 19/100\n",
      "5358/5358 [==============================] - 6s 1ms/step - loss: 0.3175 - acc: 0.8557 - val_loss: 0.3170 - val_acc: 0.8556\n",
      "16284/16284 [==============================] - 8s 503us/step - loss: 0.4631 - acc: 0.7970\n",
      "layers=4: 0.797\n",
      "Epoch 1/100\n",
      "5349/5358 [============================>.] - ETA: 0s - loss: 0.3796 - acc: 0.8206WARNING:tensorflow:Callbacks method `on_test_batch_begin` is slow compared to the batch time (batch time: 0.0000s vs `on_test_batch_begin` time: 0.0010s). Check your callbacks.\n",
      "5358/5358 [==============================] - 7s 1ms/step - loss: 0.3796 - acc: 0.8207 - val_loss: 0.3623 - val_acc: 0.8305\n",
      "Epoch 2/100\n",
      "5358/5358 [==============================] - 7s 1ms/step - loss: 0.3580 - acc: 0.8329 - val_loss: 0.3515 - val_acc: 0.8368\n",
      "Epoch 3/100\n",
      "5358/5358 [==============================] - 7s 1ms/step - loss: 0.3462 - acc: 0.8395 - val_loss: 0.3469 - val_acc: 0.8368\n",
      "Epoch 4/100\n",
      "5358/5358 [==============================] - 7s 1ms/step - loss: 0.3408 - acc: 0.8424 - val_loss: 0.3405 - val_acc: 0.8420\n",
      "Epoch 5/100\n",
      "5358/5358 [==============================] - 7s 1ms/step - loss: 0.3382 - acc: 0.8439 - val_loss: 0.3369 - val_acc: 0.8445\n",
      "Epoch 6/100\n",
      "5358/5358 [==============================] - 7s 1ms/step - loss: 0.3365 - acc: 0.8448 - val_loss: 0.3450 - val_acc: 0.8395\n",
      "Epoch 7/100\n",
      "5358/5358 [==============================] - 7s 1ms/step - loss: 0.3356 - acc: 0.8453 - val_loss: 0.3338 - val_acc: 0.8464\n",
      "Epoch 8/100\n",
      "5358/5358 [==============================] - 7s 1ms/step - loss: 0.3346 - acc: 0.8457 - val_loss: 0.3330 - val_acc: 0.8468\n",
      "Epoch 9/100\n",
      "5358/5358 [==============================] - 7s 1ms/step - loss: 0.3340 - acc: 0.8461 - val_loss: 0.3516 - val_acc: 0.8366\n",
      "Epoch 10/100\n",
      "5358/5358 [==============================] - 7s 1ms/step - loss: 0.3333 - acc: 0.8466 - val_loss: 0.3313 - val_acc: 0.8480\n",
      "Epoch 11/100\n",
      "5358/5358 [==============================] - 7s 1ms/step - loss: 0.3329 - acc: 0.8468 - val_loss: 0.3304 - val_acc: 0.8484\n",
      "Epoch 12/100\n",
      "5358/5358 [==============================] - 7s 1ms/step - loss: 0.3324 - acc: 0.8469 - val_loss: 0.3309 - val_acc: 0.8479\n",
      "Epoch 13/100\n",
      "5358/5358 [==============================] - 7s 1ms/step - loss: 0.3319 - acc: 0.8474 - val_loss: 0.3295 - val_acc: 0.8486\n",
      "Epoch 14/100\n",
      "5358/5358 [==============================] - 7s 1ms/step - loss: 0.3314 - acc: 0.8477 - val_loss: 0.3294 - val_acc: 0.8490\n",
      "Epoch 15/100\n",
      "5358/5358 [==============================] - 7s 1ms/step - loss: 0.3310 - acc: 0.8480 - val_loss: 0.3297 - val_acc: 0.8490\n",
      "Epoch 16/100\n",
      "5358/5358 [==============================] - 7s 1ms/step - loss: 0.3304 - acc: 0.8483 - val_loss: 0.3288 - val_acc: 0.8495\n",
      "Epoch 17/100\n",
      "5358/5358 [==============================] - 7s 1ms/step - loss: 0.3295 - acc: 0.8489 - val_loss: 0.3318 - val_acc: 0.8477\n",
      "Epoch 18/100\n",
      "5358/5358 [==============================] - 7s 1ms/step - loss: 0.3280 - acc: 0.8498 - val_loss: 0.3296 - val_acc: 0.8482\n",
      "Epoch 19/100\n",
      "5358/5358 [==============================] - 7s 1ms/step - loss: 0.3259 - acc: 0.8511 - val_loss: 0.3242 - val_acc: 0.8522\n",
      "Epoch 20/100\n",
      "5358/5358 [==============================] - 7s 1ms/step - loss: 0.3235 - acc: 0.8528 - val_loss: 0.3286 - val_acc: 0.8507\n",
      "Epoch 21/100\n",
      "5358/5358 [==============================] - 7s 1ms/step - loss: 0.3217 - acc: 0.8535 - val_loss: 0.3210 - val_acc: 0.8544\n",
      "Epoch 22/100\n",
      "5358/5358 [==============================] - 7s 1ms/step - loss: 0.3203 - acc: 0.8543 - val_loss: 0.3183 - val_acc: 0.8554\n",
      "Epoch 23/100\n",
      "5358/5358 [==============================] - 7s 1ms/step - loss: 0.3188 - acc: 0.8552 - val_loss: 0.3192 - val_acc: 0.8530\n",
      "Epoch 24/100\n",
      "5358/5358 [==============================] - 7s 1ms/step - loss: 0.3179 - acc: 0.8557 - val_loss: 0.3182 - val_acc: 0.8552\n",
      "Epoch 25/100\n",
      "5358/5358 [==============================] - 7s 1ms/step - loss: 0.3169 - acc: 0.8563 - val_loss: 0.3179 - val_acc: 0.8563\n",
      "Epoch 26/100\n",
      "5358/5358 [==============================] - 7s 1ms/step - loss: 0.3165 - acc: 0.8564 - val_loss: 0.3151 - val_acc: 0.8573\n",
      "Epoch 27/100\n",
      "5358/5358 [==============================] - 7s 1ms/step - loss: 0.3159 - acc: 0.8570 - val_loss: 0.3146 - val_acc: 0.8579\n",
      "Epoch 28/100\n",
      "5358/5358 [==============================] - 7s 1ms/step - loss: 0.3154 - acc: 0.8573 - val_loss: 0.3146 - val_acc: 0.8582\n",
      "Epoch 29/100\n",
      "5358/5358 [==============================] - 7s 1ms/step - loss: 0.3151 - acc: 0.8573 - val_loss: 0.3153 - val_acc: 0.8576\n",
      "Epoch 30/100\n",
      "5358/5358 [==============================] - 7s 1ms/step - loss: 0.3148 - acc: 0.8577 - val_loss: 0.3156 - val_acc: 0.8574\n",
      "Epoch 31/100\n",
      "5358/5358 [==============================] - 7s 1ms/step - loss: 0.3142 - acc: 0.8581 - val_loss: 0.3257 - val_acc: 0.8522\n",
      "Epoch 32/100\n"
     ]
    },
    {
     "name": "stdout",
     "output_type": "stream",
     "text": [
      "5358/5358 [==============================] - 7s 1ms/step - loss: 0.3135 - acc: 0.8584 - val_loss: 0.3137 - val_acc: 0.8585\n",
      "Epoch 33/100\n",
      "5358/5358 [==============================] - 7s 1ms/step - loss: 0.3124 - acc: 0.8590 - val_loss: 0.3116 - val_acc: 0.8600\n",
      "Epoch 34/100\n",
      "5358/5358 [==============================] - 7s 1ms/step - loss: 0.3120 - acc: 0.8593 - val_loss: 0.3115 - val_acc: 0.8597\n",
      "Epoch 35/100\n",
      "5358/5358 [==============================] - 7s 1ms/step - loss: 0.3113 - acc: 0.8596 - val_loss: 0.3103 - val_acc: 0.8608\n",
      "Epoch 36/100\n",
      "5358/5358 [==============================] - 7s 1ms/step - loss: 0.3110 - acc: 0.8598 - val_loss: 0.3097 - val_acc: 0.8608\n",
      "Epoch 37/100\n",
      "5358/5358 [==============================] - 7s 1ms/step - loss: 0.3104 - acc: 0.8602 - val_loss: 0.3099 - val_acc: 0.8605\n",
      "Epoch 38/100\n",
      "5358/5358 [==============================] - 7s 1ms/step - loss: 0.3103 - acc: 0.8605 - val_loss: 0.3164 - val_acc: 0.8578\n",
      "Epoch 39/100\n",
      "5358/5358 [==============================] - 7s 1ms/step - loss: 0.3098 - acc: 0.8607 - val_loss: 0.3108 - val_acc: 0.8602\n",
      "Epoch 40/100\n",
      "5358/5358 [==============================] - 7s 1ms/step - loss: 0.3098 - acc: 0.8606 - val_loss: 0.3091 - val_acc: 0.8612\n",
      "Epoch 41/100\n",
      "5358/5358 [==============================] - 7s 1ms/step - loss: 0.3095 - acc: 0.8608 - val_loss: 0.3117 - val_acc: 0.8598\n",
      "Epoch 42/100\n",
      "5358/5358 [==============================] - 7s 1ms/step - loss: 0.3094 - acc: 0.8609 - val_loss: 0.3102 - val_acc: 0.8607\n",
      "Epoch 43/100\n",
      "5358/5358 [==============================] - 7s 1ms/step - loss: 0.3093 - acc: 0.8609 - val_loss: 0.3087 - val_acc: 0.8620\n",
      "Epoch 44/100\n",
      "5358/5358 [==============================] - 7s 1ms/step - loss: 0.3090 - acc: 0.8611 - val_loss: 0.3093 - val_acc: 0.8613\n",
      "Epoch 45/100\n",
      "5358/5358 [==============================] - 7s 1ms/step - loss: 0.3089 - acc: 0.8610 - val_loss: 0.3096 - val_acc: 0.8607\n",
      "Epoch 46/100\n",
      "5358/5358 [==============================] - 7s 1ms/step - loss: 0.3087 - acc: 0.8615 - val_loss: 0.3081 - val_acc: 0.8619\n",
      "Epoch 47/100\n",
      "5358/5358 [==============================] - 7s 1ms/step - loss: 0.3086 - acc: 0.8615 - val_loss: 0.3094 - val_acc: 0.8617\n",
      "Epoch 48/100\n",
      "5358/5358 [==============================] - 7s 1ms/step - loss: 0.3086 - acc: 0.8615 - val_loss: 0.3082 - val_acc: 0.8620\n",
      "Epoch 49/100\n",
      "5358/5358 [==============================] - 7s 1ms/step - loss: 0.3086 - acc: 0.8615 - val_loss: 0.3079 - val_acc: 0.8623\n",
      "Epoch 50/100\n",
      "5358/5358 [==============================] - 7s 1ms/step - loss: 0.3083 - acc: 0.8615 - val_loss: 0.3089 - val_acc: 0.8618\n",
      "Epoch 51/100\n",
      "5358/5358 [==============================] - 7s 1ms/step - loss: 0.3082 - acc: 0.8618 - val_loss: 0.3094 - val_acc: 0.8616\n",
      "Epoch 52/100\n",
      "5358/5358 [==============================] - 7s 1ms/step - loss: 0.3083 - acc: 0.8617 - val_loss: 0.3080 - val_acc: 0.8618\n",
      "Epoch 53/100\n",
      "5358/5358 [==============================] - 7s 1ms/step - loss: 0.3080 - acc: 0.8619 - val_loss: 0.3082 - val_acc: 0.8621\n",
      "Epoch 54/100\n",
      "5358/5358 [==============================] - 7s 1ms/step - loss: 0.3075 - acc: 0.8622 - val_loss: 0.3095 - val_acc: 0.8612\n",
      "16284/16284 [==============================] - 8s 497us/step - loss: 0.4573 - acc: 0.8011\n",
      "layers=5: 0.801\n",
      "Epoch 1/100\n",
      "5358/5358 [==============================] - 8s 1ms/step - loss: 0.3794 - acc: 0.8205 - val_loss: 0.3629 - val_acc: 0.8295\n",
      "Epoch 2/100\n",
      "5358/5358 [==============================] - 8s 1ms/step - loss: 0.3601 - acc: 0.8314 - val_loss: 0.3561 - val_acc: 0.8347\n",
      "Epoch 3/100\n",
      "5358/5358 [==============================] - 8s 1ms/step - loss: 0.3486 - acc: 0.8381 - val_loss: 0.3406 - val_acc: 0.8427\n",
      "Epoch 4/100\n",
      "5358/5358 [==============================] - 8s 1ms/step - loss: 0.3421 - acc: 0.8419 - val_loss: 0.3403 - val_acc: 0.8433\n",
      "Epoch 5/100\n",
      "5358/5358 [==============================] - 8s 1ms/step - loss: 0.3396 - acc: 0.8432 - val_loss: 0.3443 - val_acc: 0.8398\n",
      "Epoch 6/100\n",
      "5358/5358 [==============================] - 8s 1ms/step - loss: 0.3382 - acc: 0.8440 - val_loss: 0.3373 - val_acc: 0.8444\n",
      "Epoch 7/100\n",
      "5358/5358 [==============================] - 8s 1ms/step - loss: 0.3366 - acc: 0.8450 - val_loss: 0.3346 - val_acc: 0.8453\n",
      "Epoch 8/100\n",
      "5358/5358 [==============================] - 8s 1ms/step - loss: 0.3354 - acc: 0.8458 - val_loss: 0.3360 - val_acc: 0.8451\n",
      "Epoch 9/100\n",
      "5358/5358 [==============================] - 8s 1ms/step - loss: 0.3347 - acc: 0.8461 - val_loss: 0.3353 - val_acc: 0.8452\n",
      "Epoch 10/100\n",
      "5358/5358 [==============================] - 8s 1ms/step - loss: 0.3340 - acc: 0.8463 - val_loss: 0.3308 - val_acc: 0.8480\n",
      "Epoch 11/100\n",
      "5358/5358 [==============================] - 8s 1ms/step - loss: 0.3331 - acc: 0.8470 - val_loss: 0.3327 - val_acc: 0.8472\n",
      "Epoch 12/100\n",
      "5358/5358 [==============================] - 8s 1ms/step - loss: 0.3324 - acc: 0.8472 - val_loss: 0.3347 - val_acc: 0.8452\n",
      "Epoch 13/100\n",
      "5358/5358 [==============================] - 8s 1ms/step - loss: 0.3316 - acc: 0.8477 - val_loss: 0.3332 - val_acc: 0.8461\n",
      "Epoch 14/100\n",
      "5358/5358 [==============================] - 8s 1ms/step - loss: 0.3304 - acc: 0.8484 - val_loss: 0.3348 - val_acc: 0.8462\n",
      "Epoch 15/100\n",
      "5358/5358 [==============================] - 8s 1ms/step - loss: 0.3294 - acc: 0.8491 - val_loss: 0.3297 - val_acc: 0.8484\n",
      "Epoch 16/100\n",
      "5358/5358 [==============================] - 8s 1ms/step - loss: 0.3284 - acc: 0.8498 - val_loss: 0.3349 - val_acc: 0.8458\n",
      "Epoch 17/100\n",
      "5358/5358 [==============================] - 8s 1ms/step - loss: 0.3266 - acc: 0.8508 - val_loss: 0.3236 - val_acc: 0.8524\n",
      "Epoch 18/100\n",
      "5358/5358 [==============================] - 8s 1ms/step - loss: 0.3233 - acc: 0.8528 - val_loss: 0.3218 - val_acc: 0.8513\n",
      "Epoch 19/100\n",
      "5358/5358 [==============================] - 8s 1ms/step - loss: 0.3206 - acc: 0.8542 - val_loss: 0.3205 - val_acc: 0.8536\n",
      "Epoch 20/100\n",
      "5358/5358 [==============================] - 8s 1ms/step - loss: 0.3193 - acc: 0.8551 - val_loss: 0.3159 - val_acc: 0.8571\n",
      "Epoch 21/100\n",
      "5358/5358 [==============================] - 8s 1ms/step - loss: 0.3180 - acc: 0.8557 - val_loss: 0.3163 - val_acc: 0.8568\n",
      "Epoch 22/100\n",
      "5358/5358 [==============================] - 8s 1ms/step - loss: 0.3171 - acc: 0.8562 - val_loss: 0.3167 - val_acc: 0.8571\n",
      "Epoch 23/100\n",
      "5358/5358 [==============================] - 8s 1ms/step - loss: 0.3162 - acc: 0.8568 - val_loss: 0.3161 - val_acc: 0.8571\n",
      "Epoch 24/100\n",
      "5358/5358 [==============================] - 8s 1ms/step - loss: 0.3155 - acc: 0.8572 - val_loss: 0.3134 - val_acc: 0.8587\n",
      "Epoch 25/100\n",
      "5358/5358 [==============================] - 8s 1ms/step - loss: 0.3147 - acc: 0.8577 - val_loss: 0.3161 - val_acc: 0.8568\n",
      "Epoch 26/100\n",
      "5358/5358 [==============================] - 8s 1ms/step - loss: 0.3142 - acc: 0.8581 - val_loss: 0.3123 - val_acc: 0.8591\n",
      "Epoch 27/100\n",
      "5358/5358 [==============================] - 8s 1ms/step - loss: 0.3135 - acc: 0.8583 - val_loss: 0.3126 - val_acc: 0.8595\n",
      "Epoch 28/100\n",
      "5358/5358 [==============================] - 8s 1ms/step - loss: 0.3135 - acc: 0.8583 - val_loss: 0.3129 - val_acc: 0.8591\n",
      "Epoch 29/100\n",
      "5358/5358 [==============================] - 8s 1ms/step - loss: 0.3128 - acc: 0.8586 - val_loss: 0.3113 - val_acc: 0.8599\n",
      "Epoch 30/100\n",
      "5358/5358 [==============================] - 8s 1ms/step - loss: 0.3124 - acc: 0.8591 - val_loss: 0.3118 - val_acc: 0.8595\n",
      "Epoch 31/100\n",
      "5358/5358 [==============================] - 8s 1ms/step - loss: 0.3122 - acc: 0.8592 - val_loss: 0.3129 - val_acc: 0.8584\n",
      "Epoch 32/100\n",
      "5358/5358 [==============================] - 8s 1ms/step - loss: 0.3120 - acc: 0.8594 - val_loss: 0.3142 - val_acc: 0.8587\n",
      "Epoch 33/100\n",
      "5358/5358 [==============================] - 8s 1ms/step - loss: 0.3117 - acc: 0.8595 - val_loss: 0.3116 - val_acc: 0.8601\n",
      "Epoch 34/100\n",
      "5358/5358 [==============================] - 8s 1ms/step - loss: 0.3115 - acc: 0.8595 - val_loss: 0.3147 - val_acc: 0.8574\n",
      "    1/16284 [..............................] - ETA: 0s - loss: 0.4856 - acc: 0.7500WARNING:tensorflow:Callbacks method `on_test_batch_end` is slow compared to the batch time (batch time: 0.0000s vs `on_test_batch_end` time: 0.0010s). Check your callbacks.\n",
      "16284/16284 [==============================] - 8s 515us/step - loss: 0.4579 - acc: 0.8001\n",
      "layers=6: 0.800\n"
     ]
    },
    {
     "name": "stdout",
     "output_type": "stream",
     "text": [
      "Epoch 1/100\n",
      "5358/5358 [==============================] - 10s 2ms/step - loss: 0.3791 - acc: 0.8205 - val_loss: 0.3618 - val_acc: 0.8310\n",
      "Epoch 2/100\n",
      "5358/5358 [==============================] - 8s 2ms/step - loss: 0.3575 - acc: 0.8334 - val_loss: 0.3501 - val_acc: 0.8375\n",
      "Epoch 3/100\n",
      "5358/5358 [==============================] - 8s 2ms/step - loss: 0.3462 - acc: 0.8395 - val_loss: 0.3416 - val_acc: 0.8423\n",
      "Epoch 4/100\n",
      "5358/5358 [==============================] - 11s 2ms/step - loss: 0.3422 - acc: 0.8415 - val_loss: 0.3404 - val_acc: 0.8422\n",
      "Epoch 5/100\n",
      "5358/5358 [==============================] - 9s 2ms/step - loss: 0.3397 - acc: 0.8432 - val_loss: 0.3403 - val_acc: 0.8423\n",
      "Epoch 6/100\n",
      "5358/5358 [==============================] - 9s 2ms/step - loss: 0.3377 - acc: 0.8442 - val_loss: 0.3364 - val_acc: 0.8451\n",
      "Epoch 7/100\n",
      "5358/5358 [==============================] - 9s 2ms/step - loss: 0.3368 - acc: 0.8446 - val_loss: 0.3357 - val_acc: 0.8449\n",
      "Epoch 8/100\n",
      "5358/5358 [==============================] - 9s 2ms/step - loss: 0.3355 - acc: 0.8455 - val_loss: 0.3390 - val_acc: 0.8432\n",
      "Epoch 9/100\n",
      "5358/5358 [==============================] - 9s 2ms/step - loss: 0.3348 - acc: 0.8458 - val_loss: 0.3343 - val_acc: 0.8459\n",
      "Epoch 10/100\n",
      "5358/5358 [==============================] - 9s 2ms/step - loss: 0.3344 - acc: 0.8461 - val_loss: 0.3321 - val_acc: 0.8471\n",
      "Epoch 11/100\n",
      "5358/5358 [==============================] - 9s 2ms/step - loss: 0.3334 - acc: 0.8468 - val_loss: 0.3312 - val_acc: 0.8481\n",
      "Epoch 12/100\n",
      "5358/5358 [==============================] - 9s 2ms/step - loss: 0.3317 - acc: 0.8478 - val_loss: 0.3271 - val_acc: 0.8508\n",
      "Epoch 13/100\n",
      "5358/5358 [==============================] - 9s 2ms/step - loss: 0.3259 - acc: 0.8513 - val_loss: 0.3246 - val_acc: 0.8517\n",
      "Epoch 14/100\n",
      "5358/5358 [==============================] - 9s 2ms/step - loss: 0.3233 - acc: 0.8527 - val_loss: 0.3213 - val_acc: 0.8535\n",
      "Epoch 15/100\n",
      "5358/5358 [==============================] - 9s 2ms/step - loss: 0.3223 - acc: 0.8532 - val_loss: 0.3211 - val_acc: 0.8537\n",
      "Epoch 16/100\n",
      "5358/5358 [==============================] - 9s 2ms/step - loss: 0.3215 - acc: 0.8535 - val_loss: 0.3215 - val_acc: 0.8537\n",
      "Epoch 17/100\n",
      "5358/5358 [==============================] - 9s 2ms/step - loss: 0.3203 - acc: 0.8543 - val_loss: 0.3192 - val_acc: 0.8550\n",
      "Epoch 18/100\n",
      "5358/5358 [==============================] - 9s 2ms/step - loss: 0.3194 - acc: 0.8547 - val_loss: 0.3191 - val_acc: 0.8547\n",
      "Epoch 19/100\n",
      "5358/5358 [==============================] - 9s 2ms/step - loss: 0.3187 - acc: 0.8554 - val_loss: 0.3190 - val_acc: 0.8551\n",
      "Epoch 20/100\n",
      "5358/5358 [==============================] - 9s 2ms/step - loss: 0.3183 - acc: 0.8555 - val_loss: 0.3244 - val_acc: 0.8507\n",
      "Epoch 21/100\n",
      "5358/5358 [==============================] - 9s 2ms/step - loss: 0.3178 - acc: 0.8560 - val_loss: 0.3175 - val_acc: 0.8562\n",
      "Epoch 22/100\n",
      "5358/5358 [==============================] - 9s 2ms/step - loss: 0.3169 - acc: 0.8566 - val_loss: 0.3179 - val_acc: 0.8553\n",
      "Epoch 23/100\n",
      "5358/5358 [==============================] - 9s 2ms/step - loss: 0.3162 - acc: 0.8569 - val_loss: 0.3139 - val_acc: 0.8588\n",
      "Epoch 24/100\n",
      "5358/5358 [==============================] - 9s 2ms/step - loss: 0.3154 - acc: 0.8573 - val_loss: 0.3167 - val_acc: 0.8566\n",
      "Epoch 25/100\n",
      "5358/5358 [==============================] - 9s 2ms/step - loss: 0.3151 - acc: 0.8575 - val_loss: 0.3173 - val_acc: 0.8552\n",
      "Epoch 26/100\n",
      "5358/5358 [==============================] - 9s 2ms/step - loss: 0.3146 - acc: 0.8580 - val_loss: 0.3139 - val_acc: 0.8583\n",
      "Epoch 27/100\n",
      "5358/5358 [==============================] - 9s 2ms/step - loss: 0.3143 - acc: 0.8579 - val_loss: 0.3128 - val_acc: 0.8589\n",
      "Epoch 28/100\n",
      "5358/5358 [==============================] - 9s 2ms/step - loss: 0.3137 - acc: 0.8584 - val_loss: 0.3136 - val_acc: 0.8587\n",
      "Epoch 29/100\n",
      "5358/5358 [==============================] - 11s 2ms/step - loss: 0.3136 - acc: 0.8585 - val_loss: 0.3114 - val_acc: 0.8596\n",
      "Epoch 30/100\n",
      "5358/5358 [==============================] - 9s 2ms/step - loss: 0.3133 - acc: 0.8586 - val_loss: 0.3198 - val_acc: 0.8552\n",
      "Epoch 31/100\n",
      "5358/5358 [==============================] - 9s 2ms/step - loss: 0.3129 - acc: 0.8588 - val_loss: 0.3140 - val_acc: 0.8595\n",
      "Epoch 32/100\n",
      "5358/5358 [==============================] - 9s 2ms/step - loss: 0.3124 - acc: 0.8590 - val_loss: 0.3144 - val_acc: 0.8579\n",
      "Epoch 33/100\n",
      "5358/5358 [==============================] - 9s 2ms/step - loss: 0.3122 - acc: 0.8593 - val_loss: 0.3120 - val_acc: 0.8594\n",
      "Epoch 34/100\n",
      "5358/5358 [==============================] - 9s 2ms/step - loss: 0.3120 - acc: 0.8593 - val_loss: 0.3122 - val_acc: 0.8594\n",
      "16284/16284 [==============================] - 9s 541us/step - loss: 0.4578 - acc: 0.7981\n",
      "layers=7: 0.798\n"
     ]
    },
    {
     "data": {
      "image/png": "[encoded data removed]",
      "text/plain": [
       "<Figure size 432x288 with 1 Axes>"
      ]
     },
     "metadata": {
      "needs_background": "light"
     },
     "output_type": "display_data"
    }
   ],
   "source": [
    "# evaluate model and plot learning curve of model with given number of layers\n",
    "\n",
    "num_layers = [3,4,5,6,7]\n",
    "for n_layers in num_layers:\n",
    "    # evaluate model with a given number of layers\n",
    "    history, result = evaluate_l2_model(n_layers, x_train_final_z.drop(columns=sub_grade_columns,axis=1),\n",
    "                                     y_train_final, x_test_scaled_z.drop(columns=sub_grade_columns,axis=1), y_test,\n",
    "                                     x_val.drop(columns=sub_grade_columns,axis=1),y_val)\n",
    "    print('layers=%d: %.3f' % (n_layers, result))\n",
    "    # plot learning curve\n",
    "    plt.plot(history.history['loss'], label=str(n_layers))\n",
    "plt.legend()\n",
    "plt.show()"
   ]
  },
  {
   "cell_type": "code",
   "execution_count": 45,
   "metadata": {
    "ExecuteTime": {
     "end_time": "2021-04-09T17:43:33.255324Z",
     "start_time": "2021-04-09T17:43:33.249387Z"
    }
   },
   "outputs": [],
   "source": [
    "\n",
    "kr = regularizers.l2(0.005)\n"
   ]
  },
  {
   "cell_type": "code",
   "execution_count": null,
   "metadata": {},
   "outputs": [],
   "source": []
  },
  {
   "cell_type": "code",
   "execution_count": null,
   "metadata": {},
   "outputs": [],
   "source": [
    "# evaluate model and plot learning curve of model with given number of layers\n",
    "\n",
    "num_layers = [8,10,12,14]\n",
    "for n_layers in num_layers:\n",
    "    # evaluate model with a given number of layers\n",
    "    history, result = evaluate_model(n_layers, x_train_final,y_train_final, x_test_scaled, y_test,x_val,y_val)\n",
    "    print('layers=%d: %.3f' % (n_layers, result))\n",
    "    # plot learning curve\n",
    "    plt.plot(history.history['loss'], label=str(n_layers))\n",
    "plt.legend()\n",
    "plt.show()"
   ]
  },
  {
   "cell_type": "code",
   "execution_count": null,
   "metadata": {},
   "outputs": [],
   "source": [
    "    history, result = evaluate_model(n_layers, x_train_final.drop(columns=sub_grade_columns,axis=1),\n",
    "                                     y_train_final, x_test_scaled.drop(columns=sub_grade_columns,axis=1), y_test,\n",
    "                                     x_val.drop(columns=sub_grade_columns,axis=1),y_val)"
   ]
  },
  {
   "cell_type": "code",
   "execution_count": 151,
   "metadata": {
    "ExecuteTime": {
     "end_time": "2021-04-10T07:10:22.412689Z",
     "start_time": "2021-04-10T06:48:34.667280Z"
    },
    "scrolled": true
   },
   "outputs": [
    {
     "name": "stdout",
     "output_type": "stream",
     "text": [
      "Epoch 1/150\n",
      "5358/5358 [==============================] - 9s 2ms/step - loss: 0.5110 - acc: 0.7994 - val_loss: 0.4664 - val_acc: 0.7990\n",
      "Epoch 2/150\n",
      "5358/5358 [==============================] - 9s 2ms/step - loss: 0.4632 - acc: 0.8010 - val_loss: 0.4709 - val_acc: 0.8012\n",
      "Epoch 3/150\n",
      "5358/5358 [==============================] - 9s 2ms/step - loss: 0.4577 - acc: 0.8015 - val_loss: 0.4535 - val_acc: 0.8042\n",
      "Epoch 4/150\n",
      "5358/5358 [==============================] - 9s 2ms/step - loss: 0.4542 - acc: 0.8019 - val_loss: 0.4573 - val_acc: 0.7946\n",
      "Epoch 5/150\n",
      "5358/5358 [==============================] - 9s 2ms/step - loss: 0.4520 - acc: 0.8020 - val_loss: 0.4566 - val_acc: 0.7945\n",
      "Epoch 6/150\n",
      "5358/5358 [==============================] - 9s 2ms/step - loss: 0.4505 - acc: 0.8022 - val_loss: 0.4523 - val_acc: 0.7977\n",
      "Epoch 7/150\n",
      "5358/5358 [==============================] - 10s 2ms/step - loss: 0.4481 - acc: 0.8033 - val_loss: 0.4426 - val_acc: 0.8069\n",
      "Epoch 8/150\n",
      "5358/5358 [==============================] - 11s 2ms/step - loss: 0.4439 - acc: 0.8058 - val_loss: 0.4423 - val_acc: 0.8091\n",
      "Epoch 9/150\n",
      "5358/5358 [==============================] - 10s 2ms/step - loss: 0.4406 - acc: 0.8083 - val_loss: 0.4475 - val_acc: 0.8091\n",
      "Epoch 10/150\n",
      "5358/5358 [==============================] - 10s 2ms/step - loss: 0.4381 - acc: 0.8103 - val_loss: 0.4346 - val_acc: 0.8115\n",
      "Epoch 11/150\n",
      "5358/5358 [==============================] - 10s 2ms/step - loss: 0.4368 - acc: 0.8111 - val_loss: 0.4663 - val_acc: 0.7754\n",
      "Epoch 12/150\n",
      "5358/5358 [==============================] - 10s 2ms/step - loss: 0.4362 - acc: 0.8111 - val_loss: 0.4327 - val_acc: 0.8142\n",
      "Epoch 13/150\n",
      "5358/5358 [==============================] - 10s 2ms/step - loss: 0.4355 - acc: 0.8110 - val_loss: 0.4620 - val_acc: 0.8036\n",
      "Epoch 14/150\n",
      "5358/5358 [==============================] - 9s 2ms/step - loss: 0.4346 - acc: 0.8116 - val_loss: 0.4890 - val_acc: 0.7506\n",
      "Epoch 15/150\n",
      "5358/5358 [==============================] - 9s 2ms/step - loss: 0.4342 - acc: 0.8113 - val_loss: 0.4297 - val_acc: 0.8150\n",
      "Epoch 16/150\n",
      "5358/5358 [==============================] - 9s 2ms/step - loss: 0.4337 - acc: 0.8115 - val_loss: 0.4611 - val_acc: 0.7815\n",
      "Epoch 17/150\n",
      "5358/5358 [==============================] - 9s 2ms/step - loss: 0.4332 - acc: 0.8116 - val_loss: 0.4362 - val_acc: 0.8120\n",
      "Epoch 18/150\n",
      "5358/5358 [==============================] - 10s 2ms/step - loss: 0.4328 - acc: 0.8117 - val_loss: 0.4299 - val_acc: 0.8133\n",
      "Epoch 19/150\n",
      "5358/5358 [==============================] - 10s 2ms/step - loss: 0.4325 - acc: 0.8118 - val_loss: 0.4530 - val_acc: 0.7855\n",
      "Epoch 20/150\n",
      "5358/5358 [==============================] - 10s 2ms/step - loss: 0.4323 - acc: 0.8116 - val_loss: 0.4568 - val_acc: 0.8065\n",
      "Epoch 21/150\n",
      "5358/5358 [==============================] - 10s 2ms/step - loss: 0.4319 - acc: 0.8119 - val_loss: 0.4347 - val_acc: 0.8128\n",
      "Epoch 22/150\n",
      "5358/5358 [==============================] - 10s 2ms/step - loss: 0.4315 - acc: 0.8119 - val_loss: 0.4421 - val_acc: 0.7980\n",
      "Epoch 23/150\n",
      "5358/5358 [==============================] - 10s 2ms/step - loss: 0.4313 - acc: 0.8119 - val_loss: 0.4385 - val_acc: 0.8118\n",
      "Epoch 24/150\n",
      "5358/5358 [==============================] - 10s 2ms/step - loss: 0.4309 - acc: 0.8120 - val_loss: 0.4592 - val_acc: 0.7791\n",
      "Epoch 25/150\n",
      "5358/5358 [==============================] - 10s 2ms/step - loss: 0.4304 - acc: 0.8123 - val_loss: 0.4273 - val_acc: 0.8150\n",
      "Epoch 26/150\n",
      "5358/5358 [==============================] - 10s 2ms/step - loss: 0.4306 - acc: 0.8117 - val_loss: 0.4303 - val_acc: 0.8146\n",
      "Epoch 27/150\n",
      "5358/5358 [==============================] - 10s 2ms/step - loss: 0.4304 - acc: 0.8118 - val_loss: 0.4611 - val_acc: 0.8035\n",
      "Epoch 28/150\n",
      "5358/5358 [==============================] - 10s 2ms/step - loss: 0.4303 - acc: 0.8120 - val_loss: 0.4285 - val_acc: 0.8146\n",
      "Epoch 29/150\n",
      "5358/5358 [==============================] - 10s 2ms/step - loss: 0.4295 - acc: 0.8121 - val_loss: 0.4249 - val_acc: 0.8155\n",
      "Epoch 30/150\n",
      "5358/5358 [==============================] - 10s 2ms/step - loss: 0.4301 - acc: 0.8118 - val_loss: 0.4330 - val_acc: 0.8048\n",
      "Epoch 31/150\n",
      "5358/5358 [==============================] - 10s 2ms/step - loss: 0.4295 - acc: 0.8121 - val_loss: 0.4826 - val_acc: 0.7537\n",
      "Epoch 32/150\n",
      "5358/5358 [==============================] - 10s 2ms/step - loss: 0.4293 - acc: 0.8119 - val_loss: 0.4639 - val_acc: 0.7733\n",
      "Epoch 33/150\n",
      "5358/5358 [==============================] - 10s 2ms/step - loss: 0.4294 - acc: 0.8123 - val_loss: 0.4254 - val_acc: 0.8148\n",
      "Epoch 34/150\n",
      "5358/5358 [==============================] - 10s 2ms/step - loss: 0.4291 - acc: 0.8120 - val_loss: 0.4340 - val_acc: 0.8123\n",
      "Epoch 35/150\n",
      "5358/5358 [==============================] - 10s 2ms/step - loss: 0.4290 - acc: 0.8121 - val_loss: 0.4400 - val_acc: 0.8001\n",
      "Epoch 36/150\n",
      "5358/5358 [==============================] - 10s 2ms/step - loss: 0.4289 - acc: 0.8119 - val_loss: 0.4237 - val_acc: 0.8159\n",
      "Epoch 37/150\n",
      "5358/5358 [==============================] - 10s 2ms/step - loss: 0.4289 - acc: 0.8120 - val_loss: 0.4329 - val_acc: 0.8122\n",
      "Epoch 38/150\n",
      "5358/5358 [==============================] - 10s 2ms/step - loss: 0.4286 - acc: 0.8120 - val_loss: 0.4317 - val_acc: 0.8131\n",
      "Epoch 39/150\n",
      "5358/5358 [==============================] - 10s 2ms/step - loss: 0.4287 - acc: 0.8121 - val_loss: 0.4345 - val_acc: 0.8013\n",
      "Epoch 40/150\n",
      "5358/5358 [==============================] - 10s 2ms/step - loss: 0.4284 - acc: 0.8123 - val_loss: 0.4499 - val_acc: 0.7865\n",
      "Epoch 41/150\n",
      "5358/5358 [==============================] - 10s 2ms/step - loss: 0.4282 - acc: 0.8119 - val_loss: 0.4596 - val_acc: 0.7724\n",
      "Epoch 42/150\n",
      "5358/5358 [==============================] - 10s 2ms/step - loss: 0.4282 - acc: 0.8121 - val_loss: 0.4290 - val_acc: 0.8084\n",
      "Epoch 43/150\n",
      "5358/5358 [==============================] - 10s 2ms/step - loss: 0.4280 - acc: 0.8122 - val_loss: 0.4621 - val_acc: 0.7731\n",
      "Epoch 44/150\n",
      "5358/5358 [==============================] - 10s 2ms/step - loss: 0.4280 - acc: 0.8117 - val_loss: 0.4410 - val_acc: 0.8106\n",
      "Epoch 45/150\n",
      "5358/5358 [==============================] - 10s 2ms/step - loss: 0.4280 - acc: 0.8120 - val_loss: 0.4356 - val_acc: 0.8016\n",
      "Epoch 46/150\n",
      "5358/5358 [==============================] - 10s 2ms/step - loss: 0.4282 - acc: 0.8116 - val_loss: 0.4433 - val_acc: 0.8088\n",
      "Epoch 47/150\n",
      "5358/5358 [==============================] - 10s 2ms/step - loss: 0.4278 - acc: 0.8118 - val_loss: 0.4488 - val_acc: 0.7847\n",
      "Epoch 48/150\n",
      "5358/5358 [==============================] - 10s 2ms/step - loss: 0.4276 - acc: 0.8118 - val_loss: 0.4239 - val_acc: 0.8147\n",
      "Epoch 49/150\n",
      "5358/5358 [==============================] - 10s 2ms/step - loss: 0.4274 - acc: 0.8120 - val_loss: 0.4234 - val_acc: 0.8149\n",
      "Epoch 50/150\n",
      "5358/5358 [==============================] - 10s 2ms/step - loss: 0.4277 - acc: 0.8119 - val_loss: 0.4321 - val_acc: 0.8119\n",
      "Epoch 51/150\n",
      "5358/5358 [==============================] - 10s 2ms/step - loss: 0.4275 - acc: 0.8119 - val_loss: 0.4464 - val_acc: 0.8084\n",
      "Epoch 52/150\n",
      "5358/5358 [==============================] - 10s 2ms/step - loss: 0.4273 - acc: 0.8119 - val_loss: 0.4321 - val_acc: 0.8124\n",
      "Epoch 53/150\n",
      "5358/5358 [==============================] - 9s 2ms/step - loss: 0.4276 - acc: 0.8116 - val_loss: 0.4366 - val_acc: 0.7992\n",
      "Epoch 54/150\n",
      "5358/5358 [==============================] - 9s 2ms/step - loss: 0.4272 - acc: 0.8122 - val_loss: 0.4279 - val_acc: 0.8141\n",
      "Epoch 55/150\n",
      "5358/5358 [==============================] - 9s 2ms/step - loss: 0.4272 - acc: 0.8119 - val_loss: 0.4380 - val_acc: 0.8106\n",
      "Epoch 56/150\n",
      "5358/5358 [==============================] - 9s 2ms/step - loss: 0.4271 - acc: 0.8121 - val_loss: 0.4327 - val_acc: 0.8124\n",
      "Epoch 57/150\n",
      "5358/5358 [==============================] - 9s 2ms/step - loss: 0.4269 - acc: 0.8119 - val_loss: 0.4218 - val_acc: 0.8148\n",
      "Epoch 58/150\n",
      "5358/5358 [==============================] - 9s 2ms/step - loss: 0.4267 - acc: 0.8118 - val_loss: 0.5758 - val_acc: 0.6689\n",
      "Epoch 59/150\n",
      "5358/5358 [==============================] - 9s 2ms/step - loss: 0.4270 - acc: 0.8117 - val_loss: 0.4217 - val_acc: 0.8160\n",
      "Epoch 60/150\n",
      "5358/5358 [==============================] - 9s 2ms/step - loss: 0.4265 - acc: 0.8120 - val_loss: 0.4229 - val_acc: 0.8155\n"
     ]
    },
    {
     "name": "stdout",
     "output_type": "stream",
     "text": [
      "Epoch 61/150\n",
      "5358/5358 [==============================] - 9s 2ms/step - loss: 0.4268 - acc: 0.8117 - val_loss: 0.4218 - val_acc: 0.8152\n",
      "Epoch 62/150\n",
      "5358/5358 [==============================] - 9s 2ms/step - loss: 0.4268 - acc: 0.8119 - val_loss: 0.4327 - val_acc: 0.8118\n",
      "Epoch 63/150\n",
      "5358/5358 [==============================] - 9s 2ms/step - loss: 0.4266 - acc: 0.8121 - val_loss: 0.4239 - val_acc: 0.8112\n",
      "Epoch 64/150\n",
      "5358/5358 [==============================] - 9s 2ms/step - loss: 0.4264 - acc: 0.8120 - val_loss: 0.4300 - val_acc: 0.8125\n",
      "Epoch 65/150\n",
      "5358/5358 [==============================] - 9s 2ms/step - loss: 0.4269 - acc: 0.8116 - val_loss: 0.4221 - val_acc: 0.8150\n",
      "Epoch 66/150\n",
      "5358/5358 [==============================] - 9s 2ms/step - loss: 0.4263 - acc: 0.8118 - val_loss: 0.4266 - val_acc: 0.8132\n",
      "Epoch 67/150\n",
      "5358/5358 [==============================] - 9s 2ms/step - loss: 0.4268 - acc: 0.8117 - val_loss: 0.4215 - val_acc: 0.8151\n",
      "Epoch 68/150\n",
      "5358/5358 [==============================] - 9s 2ms/step - loss: 0.4263 - acc: 0.8120 - val_loss: 0.4772 - val_acc: 0.7977\n",
      "Epoch 69/150\n",
      "5358/5358 [==============================] - 9s 2ms/step - loss: 0.4267 - acc: 0.8117 - val_loss: 0.4440 - val_acc: 0.8089\n",
      "Epoch 70/150\n",
      "5358/5358 [==============================] - 8s 1ms/step - loss: 0.4264 - acc: 0.8117 - val_loss: 0.4210 - val_acc: 0.8144\n",
      "Epoch 71/150\n",
      "5358/5358 [==============================] - 8s 1ms/step - loss: 0.4266 - acc: 0.8117 - val_loss: 0.4772 - val_acc: 0.7998\n",
      "Epoch 72/150\n",
      "5358/5358 [==============================] - 8s 1ms/step - loss: 0.4264 - acc: 0.8118 - val_loss: 0.4246 - val_acc: 0.8119\n",
      "Epoch 73/150\n",
      "5358/5358 [==============================] - 8s 1ms/step - loss: 0.4263 - acc: 0.8116 - val_loss: 0.4319 - val_acc: 0.8122\n",
      "Epoch 74/150\n",
      "5358/5358 [==============================] - 8s 1ms/step - loss: 0.4264 - acc: 0.8116 - val_loss: 0.4477 - val_acc: 0.8082\n",
      "Epoch 75/150\n",
      "5358/5358 [==============================] - 8s 1ms/step - loss: 0.4262 - acc: 0.8116 - val_loss: 0.4240 - val_acc: 0.8120\n",
      "Epoch 76/150\n",
      "5358/5358 [==============================] - 8s 1ms/step - loss: 0.4260 - acc: 0.8121 - val_loss: 0.4682 - val_acc: 0.8006\n",
      "Epoch 77/150\n",
      "5358/5358 [==============================] - 8s 1ms/step - loss: 0.4261 - acc: 0.8117 - val_loss: 0.4523 - val_acc: 0.7799\n",
      "Epoch 78/150\n",
      "5358/5358 [==============================] - 8s 1ms/step - loss: 0.4264 - acc: 0.8117 - val_loss: 0.4428 - val_acc: 0.8076\n",
      "Epoch 79/150\n",
      "5358/5358 [==============================] - 8s 1ms/step - loss: 0.4260 - acc: 0.8119 - val_loss: 0.4251 - val_acc: 0.8091\n",
      "Epoch 80/150\n",
      "5358/5358 [==============================] - 8s 1ms/step - loss: 0.4259 - acc: 0.8117 - val_loss: 0.4269 - val_acc: 0.8068\n",
      "Epoch 81/150\n",
      "5358/5358 [==============================] - 8s 1ms/step - loss: 0.4260 - acc: 0.8118 - val_loss: 0.4227 - val_acc: 0.8156\n",
      "Epoch 82/150\n",
      "5358/5358 [==============================] - 8s 1ms/step - loss: 0.4264 - acc: 0.8115 - val_loss: 0.4413 - val_acc: 0.8087\n",
      "Epoch 83/150\n",
      "5358/5358 [==============================] - 8s 1ms/step - loss: 0.4261 - acc: 0.8117 - val_loss: 0.4210 - val_acc: 0.8151\n",
      "Epoch 84/150\n",
      "5358/5358 [==============================] - 8s 1ms/step - loss: 0.4255 - acc: 0.8118 - val_loss: 0.4311 - val_acc: 0.8048\n",
      "Epoch 85/150\n",
      "5358/5358 [==============================] - 8s 1ms/step - loss: 0.4259 - acc: 0.8117 - val_loss: 0.4512 - val_acc: 0.7815\n",
      "Epoch 86/150\n",
      "5358/5358 [==============================] - 8s 1ms/step - loss: 0.4261 - acc: 0.8113 - val_loss: 0.4621 - val_acc: 0.8023\n",
      "Epoch 87/150\n",
      "5358/5358 [==============================] - 8s 1ms/step - loss: 0.4257 - acc: 0.8116 - val_loss: 0.4239 - val_acc: 0.8147\n",
      "Epoch 88/150\n",
      "5358/5358 [==============================] - 8s 1ms/step - loss: 0.4260 - acc: 0.8117 - val_loss: 0.4204 - val_acc: 0.8164\n",
      "Epoch 89/150\n",
      "5358/5358 [==============================] - 8s 1ms/step - loss: 0.4256 - acc: 0.8120 - val_loss: 0.4218 - val_acc: 0.8151\n",
      "Epoch 90/150\n",
      "5358/5358 [==============================] - 8s 1ms/step - loss: 0.4258 - acc: 0.8117 - val_loss: 0.4698 - val_acc: 0.7634\n",
      "Epoch 91/150\n",
      "5358/5358 [==============================] - 8s 1ms/step - loss: 0.4259 - acc: 0.8115 - val_loss: 0.4245 - val_acc: 0.8093\n",
      "Epoch 92/150\n",
      "5358/5358 [==============================] - 8s 1ms/step - loss: 0.4255 - acc: 0.8117 - val_loss: 0.5043 - val_acc: 0.7900\n",
      "Epoch 93/150\n",
      "5358/5358 [==============================] - 8s 1ms/step - loss: 0.4258 - acc: 0.8115 - val_loss: 0.4489 - val_acc: 0.8068\n",
      "Epoch 94/150\n",
      "5358/5358 [==============================] - 8s 1ms/step - loss: 0.4256 - acc: 0.8119 - val_loss: 0.4222 - val_acc: 0.8131\n",
      "Epoch 95/150\n",
      "5358/5358 [==============================] - 8s 1ms/step - loss: 0.4259 - acc: 0.8114 - val_loss: 0.4247 - val_acc: 0.8095\n",
      "Epoch 96/150\n",
      "5358/5358 [==============================] - 8s 1ms/step - loss: 0.4257 - acc: 0.8115 - val_loss: 0.4290 - val_acc: 0.8048\n",
      "Epoch 97/150\n",
      "5358/5358 [==============================] - 8s 1ms/step - loss: 0.4254 - acc: 0.8117 - val_loss: 0.4273 - val_acc: 0.8083\n",
      "Epoch 98/150\n",
      "5358/5358 [==============================] - 8s 1ms/step - loss: 0.4254 - acc: 0.8120 - val_loss: 0.4241 - val_acc: 0.8140\n",
      "Epoch 99/150\n",
      "5358/5358 [==============================] - 8s 1ms/step - loss: 0.4252 - acc: 0.8120 - val_loss: 0.4379 - val_acc: 0.7948\n",
      "Epoch 100/150\n",
      "5358/5358 [==============================] - 8s 1ms/step - loss: 0.4255 - acc: 0.8118 - val_loss: 0.4449 - val_acc: 0.8079\n",
      "Epoch 101/150\n",
      "5358/5358 [==============================] - 8s 1ms/step - loss: 0.4256 - acc: 0.8118 - val_loss: 0.4464 - val_acc: 0.7869\n",
      "Epoch 102/150\n",
      "5358/5358 [==============================] - 8s 1ms/step - loss: 0.4254 - acc: 0.8117 - val_loss: 0.4198 - val_acc: 0.8153\n",
      "Epoch 103/150\n",
      "5358/5358 [==============================] - 8s 1ms/step - loss: 0.4252 - acc: 0.8119 - val_loss: 0.4251 - val_acc: 0.8092\n",
      "Epoch 104/150\n",
      "5358/5358 [==============================] - 8s 1ms/step - loss: 0.4254 - acc: 0.8118 - val_loss: 0.4219 - val_acc: 0.8153\n",
      "Epoch 105/150\n",
      "5358/5358 [==============================] - 8s 1ms/step - loss: 0.4254 - acc: 0.8118 - val_loss: 0.4240 - val_acc: 0.8098\n",
      "Epoch 106/150\n",
      "5358/5358 [==============================] - 8s 1ms/step - loss: 0.4250 - acc: 0.8120 - val_loss: 0.4379 - val_acc: 0.7938\n",
      "Epoch 107/150\n",
      "5358/5358 [==============================] - 8s 1ms/step - loss: 0.4254 - acc: 0.8117 - val_loss: 0.4225 - val_acc: 0.8151\n",
      "Epoch 108/150\n",
      "5358/5358 [==============================] - 8s 1ms/step - loss: 0.4250 - acc: 0.8119 - val_loss: 0.4606 - val_acc: 0.8036\n",
      "Epoch 109/150\n",
      "5358/5358 [==============================] - 8s 1ms/step - loss: 0.4254 - acc: 0.8118 - val_loss: 0.4198 - val_acc: 0.8158\n",
      "Epoch 110/150\n",
      "5358/5358 [==============================] - 8s 1ms/step - loss: 0.4254 - acc: 0.8114 - val_loss: 0.6334 - val_acc: 0.6286\n",
      "Epoch 111/150\n",
      "5358/5358 [==============================] - 8s 1ms/step - loss: 0.4253 - acc: 0.8115 - val_loss: 0.4239 - val_acc: 0.8145\n",
      "Epoch 112/150\n",
      "5358/5358 [==============================] - 8s 1ms/step - loss: 0.4255 - acc: 0.8114 - val_loss: 0.4416 - val_acc: 0.7927\n",
      "Epoch 113/150\n",
      "5358/5358 [==============================] - 8s 1ms/step - loss: 0.4254 - acc: 0.8114 - val_loss: 0.4263 - val_acc: 0.8123\n",
      "Epoch 114/150\n",
      "5358/5358 [==============================] - 8s 1ms/step - loss: 0.4252 - acc: 0.8116 - val_loss: 0.4195 - val_acc: 0.8159\n",
      "Epoch 115/150\n",
      "5358/5358 [==============================] - 8s 1ms/step - loss: 0.4251 - acc: 0.8116 - val_loss: 0.4251 - val_acc: 0.8144\n",
      "Epoch 116/150\n",
      "5358/5358 [==============================] - 8s 1ms/step - loss: 0.4250 - acc: 0.8118 - val_loss: 0.4193 - val_acc: 0.8158\n",
      "Epoch 117/150\n",
      "5358/5358 [==============================] - 8s 1ms/step - loss: 0.4254 - acc: 0.8114 - val_loss: 0.4278 - val_acc: 0.8139\n",
      "Epoch 118/150\n",
      "5358/5358 [==============================] - 8s 1ms/step - loss: 0.4254 - acc: 0.8116 - val_loss: 0.4444 - val_acc: 0.7875\n",
      "Epoch 119/150\n",
      "5358/5358 [==============================] - 8s 1ms/step - loss: 0.4248 - acc: 0.8118 - val_loss: 0.4326 - val_acc: 0.7997\n",
      "Epoch 120/150\n",
      "5358/5358 [==============================] - 8s 1ms/step - loss: 0.4250 - acc: 0.8116 - val_loss: 0.4519 - val_acc: 0.7811\n",
      "Epoch 121/150\n"
     ]
    },
    {
     "name": "stdout",
     "output_type": "stream",
     "text": [
      "5358/5358 [==============================] - 8s 2ms/step - loss: 0.4251 - acc: 0.8116 - val_loss: 0.4343 - val_acc: 0.7977\n",
      "Epoch 122/150\n",
      "5358/5358 [==============================] - 8s 2ms/step - loss: 0.4255 - acc: 0.8113 - val_loss: 0.4212 - val_acc: 0.8152\n",
      "Epoch 123/150\n",
      "5358/5358 [==============================] - 9s 2ms/step - loss: 0.4252 - acc: 0.8117 - val_loss: 0.4663 - val_acc: 0.7657\n",
      "Epoch 124/150\n",
      "5358/5358 [==============================] - 8s 1ms/step - loss: 0.4252 - acc: 0.8116 - val_loss: 0.4229 - val_acc: 0.8112\n",
      "Epoch 125/150\n",
      "5358/5358 [==============================] - 8s 1ms/step - loss: 0.4249 - acc: 0.8117 - val_loss: 0.4219 - val_acc: 0.8149\n",
      "Epoch 126/150\n",
      "5358/5358 [==============================] - 8s 1ms/step - loss: 0.4252 - acc: 0.8115 - val_loss: 0.4326 - val_acc: 0.8116\n",
      "Epoch 127/150\n",
      "5358/5358 [==============================] - 8s 1ms/step - loss: 0.4250 - acc: 0.8116 - val_loss: 0.4365 - val_acc: 0.8094\n",
      "Epoch 128/150\n",
      "5358/5358 [==============================] - 8s 1ms/step - loss: 0.4249 - acc: 0.8118 - val_loss: 0.5086 - val_acc: 0.7903\n",
      "Epoch 129/150\n",
      "5358/5358 [==============================] - 8s 1ms/step - loss: 0.4251 - acc: 0.8115 - val_loss: 0.4425 - val_acc: 0.8085\n",
      "Epoch 130/150\n",
      "5358/5358 [==============================] - 8s 1ms/step - loss: 0.4250 - acc: 0.8115 - val_loss: 0.4365 - val_acc: 0.8098\n",
      "Epoch 131/150\n",
      "5358/5358 [==============================] - 8s 1ms/step - loss: 0.4249 - acc: 0.8118 - val_loss: 0.4447 - val_acc: 0.8081\n",
      "Epoch 132/150\n",
      "5358/5358 [==============================] - 8s 1ms/step - loss: 0.4249 - acc: 0.8115 - val_loss: 0.4204 - val_acc: 0.8134\n",
      "Epoch 133/150\n",
      "5358/5358 [==============================] - 8s 1ms/step - loss: 0.4251 - acc: 0.8116 - val_loss: 0.4431 - val_acc: 0.8076\n",
      "Epoch 134/150\n",
      "5358/5358 [==============================] - 8s 1ms/step - loss: 0.4246 - acc: 0.8118 - val_loss: 0.4244 - val_acc: 0.8090\n",
      "Epoch 135/150\n",
      "5358/5358 [==============================] - 8s 1ms/step - loss: 0.4248 - acc: 0.8115 - val_loss: 0.4214 - val_acc: 0.8131\n",
      "Epoch 136/150\n",
      "5358/5358 [==============================] - 8s 1ms/step - loss: 0.4249 - acc: 0.8115 - val_loss: 0.4202 - val_acc: 0.8156\n",
      "Epoch 137/150\n",
      "5358/5358 [==============================] - 8s 1ms/step - loss: 0.4245 - acc: 0.8119 - val_loss: 0.4417 - val_acc: 0.8095\n",
      "Epoch 138/150\n",
      "5358/5358 [==============================] - 8s 1ms/step - loss: 0.4249 - acc: 0.8114 - val_loss: 0.4421 - val_acc: 0.8091\n",
      "Epoch 139/150\n",
      "5358/5358 [==============================] - 8s 1ms/step - loss: 0.4248 - acc: 0.8115 - val_loss: 0.4418 - val_acc: 0.8067\n",
      "Epoch 140/150\n",
      "5358/5358 [==============================] - 8s 1ms/step - loss: 0.4253 - acc: 0.8115 - val_loss: 0.4635 - val_acc: 0.8019\n",
      "Epoch 141/150\n",
      "5358/5358 [==============================] - 8s 1ms/step - loss: 0.4250 - acc: 0.8117 - val_loss: 0.4403 - val_acc: 0.7909\n",
      "Epoch 142/150\n",
      "5358/5358 [==============================] - 8s 1ms/step - loss: 0.4246 - acc: 0.8116 - val_loss: 0.4343 - val_acc: 0.7978\n",
      "Epoch 143/150\n",
      "5358/5358 [==============================] - 8s 1ms/step - loss: 0.4252 - acc: 0.8112 - val_loss: 0.4210 - val_acc: 0.8154\n",
      "Epoch 144/150\n",
      "5358/5358 [==============================] - 8s 1ms/step - loss: 0.4249 - acc: 0.8115 - val_loss: 0.4564 - val_acc: 0.7771\n",
      "Epoch 145/150\n",
      "5358/5358 [==============================] - 8s 1ms/step - loss: 0.4244 - acc: 0.8118 - val_loss: 0.4356 - val_acc: 0.8102\n",
      "Epoch 146/150\n",
      "5358/5358 [==============================] - 8s 1ms/step - loss: 0.4244 - acc: 0.8116 - val_loss: 0.4351 - val_acc: 0.7988\n",
      "Epoch 147/150\n",
      "5358/5358 [==============================] - 8s 1ms/step - loss: 0.4247 - acc: 0.8116 - val_loss: 0.4191 - val_acc: 0.8147\n",
      "Epoch 148/150\n",
      "5358/5358 [==============================] - 8s 1ms/step - loss: 0.4247 - acc: 0.8118 - val_loss: 0.4704 - val_acc: 0.7627\n",
      "Epoch 149/150\n",
      "5358/5358 [==============================] - 8s 1ms/step - loss: 0.4250 - acc: 0.8112 - val_loss: 0.4194 - val_acc: 0.8145\n",
      "Epoch 150/150\n",
      "5358/5358 [==============================] - 8s 1ms/step - loss: 0.4247 - acc: 0.8115 - val_loss: 0.4218 - val_acc: 0.8150\n"
     ]
    }
   ],
   "source": [
    "kr = regularizers.l2(0.005)\n",
    "opt = Adam(learning_rate=.001)\n",
    "L2_model = models.Sequential()\n",
    "L2_model.add(layers.Dense(50, activation='tanh', kernel_regularizer=kr, input_shape=(53,)))\n",
    "# Add another hidden layer\n",
    "L2_model.add(layers.Dense(25, kernel_regularizer=kr, activation='tanh'))\n",
    "L2_model.add(layers.Dense(25, kernel_regularizer=kr, activation='tanh'))\n",
    "L2_model.add(layers.Dense(25, kernel_regularizer=kr, activation='tanh'))\n",
    "L2_model.add(layers.Dense(25, kernel_regularizer=kr, activation='tanh'))\n",
    "L2_model.add(layers.Dense(25, kernel_regularizer=kr, activation='tanh'))\n",
    "# Add an output layer\n",
    "L2_model.add(layers.Dense(1, activation='sigmoid'))\n",
    "\n",
    "# Compile the model\n",
    "L2_model.compile(optimizer=opt, \n",
    "                 loss='binary_crossentropy', \n",
    "                 metrics=['acc'])\n",
    "\n",
    "# Train the model \n",
    "L2_model_val = L2_model.fit(x_train_final.drop(columns=sub_grade_columns,axis=1), \n",
    "                            y_train_final, \n",
    "                            epochs=150, \n",
    "                            batch_size=256, \n",
    "                            validation_data=(x_val.drop(columns=sub_grade_columns,axis=1), y_val))"
   ]
  },
  {
   "cell_type": "code",
   "execution_count": null,
   "metadata": {},
   "outputs": [],
   "source": []
  }
 ],
 "metadata": {
  "kernelspec": {
   "display_name": "Python 3",
   "language": "python",
   "name": "python3"
  },
  "language_info": {
   "codemirror_mode": {
    "name": "ipython",
    "version": 3
   },
   "file_extension": ".py",
   "mimetype": "text/x-python",
   "name": "python",
   "nbconvert_exporter": "python",
   "pygments_lexer": "ipython3",
   "version": "3.8.5"
  },
  "latex_envs": {
   "LaTeX_envs_menu_present": true,
   "autoclose": false,
   "autocomplete": true,
   "bibliofile": "biblio.bib",
   "cite_by": "apalike",
   "current_citInitial": 1,
   "eqLabelWithNumbers": true,
   "eqNumInitial": 1,
   "hotkeys": {
    "equation": "Ctrl-E",
    "itemize": "Ctrl-I"
   },
   "labels_anchors": false,
   "latex_user_defs": false,
   "report_style_numbering": false,
   "user_envs_cfg": false
  },
  "toc": {
   "base_numbering": 1,
   "nav_menu": {},
   "number_sections": true,
   "sideBar": true,
   "skip_h1_title": false,
   "title_cell": "Table of Contents",
   "title_sidebar": "Contents",
   "toc_cell": false,
   "toc_position": {},
   "toc_section_display": true,
   "toc_window_display": false
  },
  "varInspector": {
   "cols": {
    "lenName": 16,
    "lenType": 16,
    "lenVar": 40
   },
   "kernels_config": {
    "python": {
     "delete_cmd_postfix": "",
     "delete_cmd_prefix": "del ",
     "library": "var_list.py",
     "varRefreshCmd": "print(var_dic_list())"
    },
    "r": {
     "delete_cmd_postfix": ") ",
     "delete_cmd_prefix": "rm(",
     "library": "var_list.r",
     "varRefreshCmd": "cat(var_dic_list()) "
    }
   },
   "position": {
    "height": "742px",
    "left": "1224px",
    "right": "20px",
    "top": "120px",
    "width": "350px"
   },
   "types_to_exclude": [
    "module",
    "function",
    "builtin_function_or_method",
    "instance",
    "_Feature"
   ],
   "window_display": false
  }
 },
 "nbformat": 4,
 "nbformat_minor": 4
}
