{
 "cells": [
  {
   "cell_type": "code",
   "execution_count": 1,
   "metadata": {
    "ExecuteTime": {
     "end_time": "2021-04-02T01:55:39.026789Z",
     "start_time": "2021-04-02T01:55:35.953229Z"
    }
   },
   "outputs": [],
   "source": [
    "import pandas as pd\n",
    "import numpy as np\n",
    "import pandas as pd\n",
    "import os\n",
    "\n",
    "import matplotlib.pyplot as plt\n",
    "import seaborn as sns\n",
    "\n",
    "from sklearn.preprocessing import MinMaxScaler\n",
    "from sklearn.linear_model import LogisticRegression\n",
    "from sklearn.model_selection import train_test_split\n",
    "from sklearn.metrics import plot_confusion_matrix\n",
    "from sklearn.metrics import confusion_matrix, classification_report\n",
    "from sklearn.metrics import roc_curve, auc\n",
    "from sklearn.metrics import precision_score, recall_score, accuracy_score, f1_score\n",
    "from sklearn.preprocessing import StandardScaler\n",
    "from sklearn.neighbors import KNeighborsClassifier\n",
    "from sklearn.tree import DecisionTreeClassifier\n",
    "from sklearn.tree import plot_tree\n",
    "from sklearn.utils import resample\n",
    "from imblearn.over_sampling import SMOTE\n",
    "\n",
    "from sklearn.ensemble import BaggingClassifier, RandomForestClassifier\n",
    "from sklearn.model_selection import GridSearchCV, cross_val_score\n",
    "from sklearn.ensemble import AdaBoostClassifier, GradientBoostingClassifier\n",
    "from xgboost import XGBClassifier\n",
    "\n",
    "from sklearn import tree\n",
    "import xgboost as xgb\n",
    "from numpy import loadtxt\n",
    "from xgboost import XGBClassifier\n",
    "from xgboost import plot_tree\n",
    "\n",
    "import gc\n",
    "from tqdm import tqdm"
   ]
  },
  {
   "cell_type": "code",
   "execution_count": 2,
   "metadata": {
    "ExecuteTime": {
     "end_time": "2021-04-02T01:55:40.516497Z",
     "start_time": "2021-04-02T01:55:40.464494Z"
    }
   },
   "outputs": [
    {
     "data": {
      "text/plain": [
       "Index(['Description'], dtype='object')"
      ]
     },
     "execution_count": 2,
     "metadata": {},
     "output_type": "execute_result"
    }
   ],
   "source": [
    "column_defs = pd.read_excel('data\\LCDataDictionary.xlsx',index_col='LoanStatNew')\n",
    "column_defs.columns"
   ]
  },
  {
   "cell_type": "code",
   "execution_count": 3,
   "metadata": {
    "ExecuteTime": {
     "end_time": "2021-04-02T01:55:41.053339Z",
     "start_time": "2021-04-02T01:55:41.049338Z"
    }
   },
   "outputs": [],
   "source": [
    "pd.options.display.max_rows = 15"
   ]
  },
  {
   "cell_type": "code",
   "execution_count": 4,
   "metadata": {
    "ExecuteTime": {
     "end_time": "2021-04-02T01:55:41.774808Z",
     "start_time": "2021-04-02T01:55:41.752778Z"
    },
    "scrolled": false
   },
   "outputs": [
    {
     "data": {
      "text/html": [
       "<div>\n",
       "<style scoped>\n",
       "    .dataframe tbody tr th:only-of-type {\n",
       "        vertical-align: middle;\n",
       "    }\n",
       "\n",
       "    .dataframe tbody tr th {\n",
       "        vertical-align: top;\n",
       "    }\n",
       "\n",
       "    .dataframe thead th {\n",
       "        text-align: right;\n",
       "    }\n",
       "</style>\n",
       "<table border=\"1\" class=\"dataframe\">\n",
       "  <thead>\n",
       "    <tr style=\"text-align: right;\">\n",
       "      <th></th>\n",
       "      <th>Description</th>\n",
       "    </tr>\n",
       "    <tr>\n",
       "      <th>LoanStatNew</th>\n",
       "      <th></th>\n",
       "    </tr>\n",
       "  </thead>\n",
       "  <tbody>\n",
       "    <tr>\n",
       "      <th>acc_now_delinq</th>\n",
       "      <td>The number of accounts on which the borrower i...</td>\n",
       "    </tr>\n",
       "    <tr>\n",
       "      <th>acc_open_past_24mths</th>\n",
       "      <td>Number of trades opened in past 24 months.</td>\n",
       "    </tr>\n",
       "    <tr>\n",
       "      <th>addr_state</th>\n",
       "      <td>The state provided by the borrower in the loan...</td>\n",
       "    </tr>\n",
       "    <tr>\n",
       "      <th>all_util</th>\n",
       "      <td>Balance to credit limit on all trades</td>\n",
       "    </tr>\n",
       "    <tr>\n",
       "      <th>annual_inc</th>\n",
       "      <td>The self-reported annual income provided by th...</td>\n",
       "    </tr>\n",
       "    <tr>\n",
       "      <th>...</th>\n",
       "      <td>...</td>\n",
       "    </tr>\n",
       "    <tr>\n",
       "      <th>settlement_amount</th>\n",
       "      <td>The loan amount that the borrower has agreed t...</td>\n",
       "    </tr>\n",
       "    <tr>\n",
       "      <th>settlement_percentage</th>\n",
       "      <td>The settlement amount as a percentage of the p...</td>\n",
       "    </tr>\n",
       "    <tr>\n",
       "      <th>settlement_term</th>\n",
       "      <td>The number of months that the borrower will be...</td>\n",
       "    </tr>\n",
       "    <tr>\n",
       "      <th>NaN</th>\n",
       "      <td>NaN</td>\n",
       "    </tr>\n",
       "    <tr>\n",
       "      <th>NaN</th>\n",
       "      <td>* Employer Title replaces Employer Name for al...</td>\n",
       "    </tr>\n",
       "  </tbody>\n",
       "</table>\n",
       "<p>153 rows × 1 columns</p>\n",
       "</div>"
      ],
      "text/plain": [
       "                                                             Description\n",
       "LoanStatNew                                                             \n",
       "acc_now_delinq         The number of accounts on which the borrower i...\n",
       "acc_open_past_24mths          Number of trades opened in past 24 months.\n",
       "addr_state             The state provided by the borrower in the loan...\n",
       "all_util                           Balance to credit limit on all trades\n",
       "annual_inc             The self-reported annual income provided by th...\n",
       "...                                                                  ...\n",
       "settlement_amount      The loan amount that the borrower has agreed t...\n",
       "settlement_percentage  The settlement amount as a percentage of the p...\n",
       "settlement_term        The number of months that the borrower will be...\n",
       "NaN                                                                  NaN\n",
       "NaN                    * Employer Title replaces Employer Name for al...\n",
       "\n",
       "[153 rows x 1 columns]"
      ]
     },
     "execution_count": 4,
     "metadata": {},
     "output_type": "execute_result"
    }
   ],
   "source": [
    "column_defs"
   ]
  },
  {
   "cell_type": "code",
   "execution_count": 5,
   "metadata": {
    "ExecuteTime": {
     "end_time": "2021-04-02T01:55:42.824780Z",
     "start_time": "2021-04-02T01:55:42.810744Z"
    }
   },
   "outputs": [
    {
     "name": "stdout",
     "output_type": "stream",
     "text": [
      "C:\\Users\\sergi\\Documents\\Flatiron\\Course Materials\\Capstone\\Capstone-Placeholder\\Capstone Project Proposal.docx\n",
      "C:\\Users\\sergi\\Documents\\Flatiron\\Course Materials\\Capstone\\Capstone-Placeholder\\Prelim Workbook.ipynb\n",
      "C:\\Users\\sergi\\Documents\\Flatiron\\Course Materials\\Capstone\\Capstone-Placeholder\\~$pstone Project Proposal.docx\n",
      "C:\\Users\\sergi\\Documents\\Flatiron\\Course Materials\\Capstone\\Capstone-Placeholder\\.git\\config\n",
      "C:\\Users\\sergi\\Documents\\Flatiron\\Course Materials\\Capstone\\Capstone-Placeholder\\.git\\description\n",
      "C:\\Users\\sergi\\Documents\\Flatiron\\Course Materials\\Capstone\\Capstone-Placeholder\\.git\\HEAD\n",
      "C:\\Users\\sergi\\Documents\\Flatiron\\Course Materials\\Capstone\\Capstone-Placeholder\\.git\\hooks\\applypatch-msg.sample\n",
      "C:\\Users\\sergi\\Documents\\Flatiron\\Course Materials\\Capstone\\Capstone-Placeholder\\.git\\hooks\\commit-msg.sample\n",
      "C:\\Users\\sergi\\Documents\\Flatiron\\Course Materials\\Capstone\\Capstone-Placeholder\\.git\\hooks\\fsmonitor-watchman.sample\n",
      "C:\\Users\\sergi\\Documents\\Flatiron\\Course Materials\\Capstone\\Capstone-Placeholder\\.git\\hooks\\post-update.sample\n",
      "C:\\Users\\sergi\\Documents\\Flatiron\\Course Materials\\Capstone\\Capstone-Placeholder\\.git\\hooks\\pre-applypatch.sample\n",
      "C:\\Users\\sergi\\Documents\\Flatiron\\Course Materials\\Capstone\\Capstone-Placeholder\\.git\\hooks\\pre-commit.sample\n",
      "C:\\Users\\sergi\\Documents\\Flatiron\\Course Materials\\Capstone\\Capstone-Placeholder\\.git\\hooks\\pre-merge-commit.sample\n",
      "C:\\Users\\sergi\\Documents\\Flatiron\\Course Materials\\Capstone\\Capstone-Placeholder\\.git\\hooks\\pre-push.sample\n",
      "C:\\Users\\sergi\\Documents\\Flatiron\\Course Materials\\Capstone\\Capstone-Placeholder\\.git\\hooks\\pre-rebase.sample\n",
      "C:\\Users\\sergi\\Documents\\Flatiron\\Course Materials\\Capstone\\Capstone-Placeholder\\.git\\hooks\\pre-receive.sample\n",
      "C:\\Users\\sergi\\Documents\\Flatiron\\Course Materials\\Capstone\\Capstone-Placeholder\\.git\\hooks\\prepare-commit-msg.sample\n",
      "C:\\Users\\sergi\\Documents\\Flatiron\\Course Materials\\Capstone\\Capstone-Placeholder\\.git\\hooks\\update.sample\n",
      "C:\\Users\\sergi\\Documents\\Flatiron\\Course Materials\\Capstone\\Capstone-Placeholder\\.git\\info\\exclude\n",
      "C:\\Users\\sergi\\Documents\\Flatiron\\Course Materials\\Capstone\\Capstone-Placeholder\\.ipynb_checkpoints\\Prelim Workbook-checkpoint.ipynb\n",
      "C:\\Users\\sergi\\Documents\\Flatiron\\Course Materials\\Capstone\\Capstone-Placeholder\\data\\LCDataDictionary.xlsx\n",
      "C:\\Users\\sergi\\Documents\\Flatiron\\Course Materials\\Capstone\\Capstone-Placeholder\\data\\Loan_status_2007-2020Q3.gzip\n"
     ]
    }
   ],
   "source": [
    "import os\n",
    "for dirname, _, filenames in os.walk('C:\\\\Users\\\\sergi\\\\Documents\\\\Flatiron\\\\Course Materials\\\\Capstone\\\\Capstone-Placeholder'):\n",
    "    for filename in filenames:\n",
    "        print(os.path.join(dirname, filename))"
   ]
  },
  {
   "cell_type": "code",
   "execution_count": 6,
   "metadata": {
    "ExecuteTime": {
     "end_time": "2021-04-02T01:55:43.825802Z",
     "start_time": "2021-04-02T01:55:43.810777Z"
    }
   },
   "outputs": [],
   "source": [
    "def column_info(col_name):\n",
    "    return column_defs.loc[col_name]['Description']"
   ]
  },
  {
   "cell_type": "code",
   "execution_count": 7,
   "metadata": {
    "ExecuteTime": {
     "end_time": "2021-04-02T01:55:44.841833Z",
     "start_time": "2021-04-02T01:55:44.831839Z"
    }
   },
   "outputs": [],
   "source": [
    "columns_to_drop = ['mths_since_last_delinq',\n",
    " 'mths_since_last_record',\n",
    " 'next_pymnt_d',\n",
    " 'mths_since_last_major_derog',\n",
    " 'annual_inc_joint',\n",
    " 'dti_joint',\n",
    " 'verification_status_joint',\n",
    " 'mths_since_rcnt_il',\n",
    " 'il_util',\n",
    " 'mths_since_recent_bc_dlq',\n",
    " 'mths_since_recent_revol_delinq',\n",
    " 'revol_bal_joint',\n",
    " 'sec_app_fico_range_low',\n",
    " 'sec_app_fico_range_high',\n",
    " 'sec_app_earliest_cr_line',\n",
    " 'sec_app_inq_last_6mths',\n",
    " 'sec_app_mort_acc',\n",
    " 'sec_app_open_acc',\n",
    " 'sec_app_revol_util',\n",
    " 'sec_app_open_act_il',\n",
    " 'sec_app_num_rev_accts',\n",
    " 'sec_app_chargeoff_within_12_mths',\n",
    " 'sec_app_collections_12_mths_ex_med',\n",
    " 'hardship_type',\n",
    " 'hardship_reason',\n",
    " 'hardship_status',\n",
    " 'deferral_term',\n",
    " 'hardship_amount',\n",
    " 'hardship_start_date',\n",
    " 'hardship_end_date',\n",
    " 'payment_plan_start_date',\n",
    " 'hardship_length',\n",
    " 'hardship_dpd',\n",
    " 'hardship_loan_status',\n",
    " 'orig_projected_additional_accrued_interest',\n",
    " 'hardship_payoff_balance_amount',\n",
    " 'hardship_last_payment_amount','policy_code','url','Unnamed: 0','out_prncp_inv','total_pymnt_inv','funded_amnt_inv','funded_amnt',\n",
    "              'num_sats','tot_hi_cred_lim','num_rev_tl_bal_gt_0','collection_recovery_fee'\n",
    "             ,'bc_open_to_buy','percent_bc_gt_75','open_acc','num_actv_bc_tl','num_actv_rev_tl','num_rev_accts'\n",
    "             ,'total_rev_hi_lim','all_util', 'inq_last_12m', 'total_cu_tl', 'open_acc_6m',\n",
    "       'open_rv_12m', 'open_act_il', 'open_il_24m', 'total_bal_il',\n",
    "       'open_il_12m', 'open_rv_24m', 'max_bal_bc', 'inq_fi']"
   ]
  },
  {
   "cell_type": "code",
   "execution_count": 9,
   "metadata": {
    "ExecuteTime": {
     "end_time": "2021-04-01T23:53:30.650630Z",
     "start_time": "2021-04-01T23:53:30.638636Z"
    }
   },
   "outputs": [],
   "source": [
    "corr_drops = ['out_prncp_inv','total_pymnt_inv','funded_amnt_inv','funded_amnt',\n",
    "              'num_sats','tot_hi_cred_lim','num_rev_tl_bal_gt_0','collection_recovery_fee'\n",
    "             ,'bc_open_to_buy','percent_bc_gt_75','open_acc','num_actv_bc_tl','num_actv_rev_tl','num_rev_accts'\n",
    "             ,'total_rev_hi_lim']"
   ]
  },
  {
   "cell_type": "code",
   "execution_count": 8,
   "metadata": {
    "ExecuteTime": {
     "end_time": "2021-04-02T01:57:08.277772Z",
     "start_time": "2021-04-02T01:56:06.018708Z"
    }
   },
   "outputs": [],
   "source": [
    "df = pd.read_csv('data\\Loan_status_2007-2020Q3.gzip',low_memory=False)"
   ]
  },
  {
   "cell_type": "code",
   "execution_count": 9,
   "metadata": {
    "ExecuteTime": {
     "end_time": "2021-03-31T19:19:01.581657Z",
     "start_time": "2021-03-31T19:19:01.543658Z"
    }
   },
   "outputs": [
    {
     "data": {
      "text/html": [
       "<div>\n",
       "<style scoped>\n",
       "    .dataframe tbody tr th:only-of-type {\n",
       "        vertical-align: middle;\n",
       "    }\n",
       "\n",
       "    .dataframe tbody tr th {\n",
       "        vertical-align: top;\n",
       "    }\n",
       "\n",
       "    .dataframe thead th {\n",
       "        text-align: right;\n",
       "    }\n",
       "</style>\n",
       "<table border=\"1\" class=\"dataframe\">\n",
       "  <thead>\n",
       "    <tr style=\"text-align: right;\">\n",
       "      <th></th>\n",
       "      <th>Unnamed: 0</th>\n",
       "      <th>id</th>\n",
       "      <th>loan_amnt</th>\n",
       "      <th>funded_amnt</th>\n",
       "      <th>funded_amnt_inv</th>\n",
       "      <th>term</th>\n",
       "      <th>int_rate</th>\n",
       "      <th>installment</th>\n",
       "      <th>grade</th>\n",
       "      <th>sub_grade</th>\n",
       "      <th>...</th>\n",
       "      <th>hardship_start_date</th>\n",
       "      <th>hardship_end_date</th>\n",
       "      <th>payment_plan_start_date</th>\n",
       "      <th>hardship_length</th>\n",
       "      <th>hardship_dpd</th>\n",
       "      <th>hardship_loan_status</th>\n",
       "      <th>orig_projected_additional_accrued_interest</th>\n",
       "      <th>hardship_payoff_balance_amount</th>\n",
       "      <th>hardship_last_payment_amount</th>\n",
       "      <th>debt_settlement_flag</th>\n",
       "    </tr>\n",
       "  </thead>\n",
       "  <tbody>\n",
       "    <tr>\n",
       "      <th>0</th>\n",
       "      <td>0</td>\n",
       "      <td>1077501</td>\n",
       "      <td>5000.0</td>\n",
       "      <td>5000.0</td>\n",
       "      <td>4975.0</td>\n",
       "      <td>36 months</td>\n",
       "      <td>10.65%</td>\n",
       "      <td>162.87</td>\n",
       "      <td>B</td>\n",
       "      <td>B2</td>\n",
       "      <td>...</td>\n",
       "      <td>NaN</td>\n",
       "      <td>NaN</td>\n",
       "      <td>NaN</td>\n",
       "      <td>NaN</td>\n",
       "      <td>NaN</td>\n",
       "      <td>NaN</td>\n",
       "      <td>NaN</td>\n",
       "      <td>NaN</td>\n",
       "      <td>NaN</td>\n",
       "      <td>N</td>\n",
       "    </tr>\n",
       "    <tr>\n",
       "      <th>1</th>\n",
       "      <td>1</td>\n",
       "      <td>1077430</td>\n",
       "      <td>2500.0</td>\n",
       "      <td>2500.0</td>\n",
       "      <td>2500.0</td>\n",
       "      <td>60 months</td>\n",
       "      <td>15.27%</td>\n",
       "      <td>59.83</td>\n",
       "      <td>C</td>\n",
       "      <td>C4</td>\n",
       "      <td>...</td>\n",
       "      <td>NaN</td>\n",
       "      <td>NaN</td>\n",
       "      <td>NaN</td>\n",
       "      <td>NaN</td>\n",
       "      <td>NaN</td>\n",
       "      <td>NaN</td>\n",
       "      <td>NaN</td>\n",
       "      <td>NaN</td>\n",
       "      <td>NaN</td>\n",
       "      <td>N</td>\n",
       "    </tr>\n",
       "    <tr>\n",
       "      <th>2</th>\n",
       "      <td>2</td>\n",
       "      <td>1077175</td>\n",
       "      <td>2400.0</td>\n",
       "      <td>2400.0</td>\n",
       "      <td>2400.0</td>\n",
       "      <td>36 months</td>\n",
       "      <td>15.96%</td>\n",
       "      <td>84.33</td>\n",
       "      <td>C</td>\n",
       "      <td>C5</td>\n",
       "      <td>...</td>\n",
       "      <td>NaN</td>\n",
       "      <td>NaN</td>\n",
       "      <td>NaN</td>\n",
       "      <td>NaN</td>\n",
       "      <td>NaN</td>\n",
       "      <td>NaN</td>\n",
       "      <td>NaN</td>\n",
       "      <td>NaN</td>\n",
       "      <td>NaN</td>\n",
       "      <td>N</td>\n",
       "    </tr>\n",
       "    <tr>\n",
       "      <th>3</th>\n",
       "      <td>3</td>\n",
       "      <td>1076863</td>\n",
       "      <td>10000.0</td>\n",
       "      <td>10000.0</td>\n",
       "      <td>10000.0</td>\n",
       "      <td>36 months</td>\n",
       "      <td>13.49%</td>\n",
       "      <td>339.31</td>\n",
       "      <td>C</td>\n",
       "      <td>C1</td>\n",
       "      <td>...</td>\n",
       "      <td>NaN</td>\n",
       "      <td>NaN</td>\n",
       "      <td>NaN</td>\n",
       "      <td>NaN</td>\n",
       "      <td>NaN</td>\n",
       "      <td>NaN</td>\n",
       "      <td>NaN</td>\n",
       "      <td>NaN</td>\n",
       "      <td>NaN</td>\n",
       "      <td>N</td>\n",
       "    </tr>\n",
       "    <tr>\n",
       "      <th>4</th>\n",
       "      <td>4</td>\n",
       "      <td>1075358</td>\n",
       "      <td>3000.0</td>\n",
       "      <td>3000.0</td>\n",
       "      <td>3000.0</td>\n",
       "      <td>60 months</td>\n",
       "      <td>12.69%</td>\n",
       "      <td>67.79</td>\n",
       "      <td>B</td>\n",
       "      <td>B5</td>\n",
       "      <td>...</td>\n",
       "      <td>NaN</td>\n",
       "      <td>NaN</td>\n",
       "      <td>NaN</td>\n",
       "      <td>NaN</td>\n",
       "      <td>NaN</td>\n",
       "      <td>NaN</td>\n",
       "      <td>NaN</td>\n",
       "      <td>NaN</td>\n",
       "      <td>NaN</td>\n",
       "      <td>N</td>\n",
       "    </tr>\n",
       "  </tbody>\n",
       "</table>\n",
       "<p>5 rows × 142 columns</p>\n",
       "</div>"
      ],
      "text/plain": [
       "   Unnamed: 0       id  loan_amnt  funded_amnt  funded_amnt_inv        term  \\\n",
       "0           0  1077501     5000.0       5000.0           4975.0   36 months   \n",
       "1           1  1077430     2500.0       2500.0           2500.0   60 months   \n",
       "2           2  1077175     2400.0       2400.0           2400.0   36 months   \n",
       "3           3  1076863    10000.0      10000.0          10000.0   36 months   \n",
       "4           4  1075358     3000.0       3000.0           3000.0   60 months   \n",
       "\n",
       "  int_rate  installment grade sub_grade  ... hardship_start_date  \\\n",
       "0   10.65%       162.87     B        B2  ...                 NaN   \n",
       "1   15.27%        59.83     C        C4  ...                 NaN   \n",
       "2   15.96%        84.33     C        C5  ...                 NaN   \n",
       "3   13.49%       339.31     C        C1  ...                 NaN   \n",
       "4   12.69%        67.79     B        B5  ...                 NaN   \n",
       "\n",
       "  hardship_end_date payment_plan_start_date  hardship_length hardship_dpd  \\\n",
       "0               NaN                     NaN              NaN          NaN   \n",
       "1               NaN                     NaN              NaN          NaN   \n",
       "2               NaN                     NaN              NaN          NaN   \n",
       "3               NaN                     NaN              NaN          NaN   \n",
       "4               NaN                     NaN              NaN          NaN   \n",
       "\n",
       "  hardship_loan_status orig_projected_additional_accrued_interest  \\\n",
       "0                  NaN                                        NaN   \n",
       "1                  NaN                                        NaN   \n",
       "2                  NaN                                        NaN   \n",
       "3                  NaN                                        NaN   \n",
       "4                  NaN                                        NaN   \n",
       "\n",
       "  hardship_payoff_balance_amount hardship_last_payment_amount  \\\n",
       "0                            NaN                          NaN   \n",
       "1                            NaN                          NaN   \n",
       "2                            NaN                          NaN   \n",
       "3                            NaN                          NaN   \n",
       "4                            NaN                          NaN   \n",
       "\n",
       "  debt_settlement_flag  \n",
       "0                    N  \n",
       "1                    N  \n",
       "2                    N  \n",
       "3                    N  \n",
       "4                    N  \n",
       "\n",
       "[5 rows x 142 columns]"
      ]
     },
     "execution_count": 9,
     "metadata": {},
     "output_type": "execute_result"
    }
   ],
   "source": [
    "df.head()"
   ]
  },
  {
   "cell_type": "code",
   "execution_count": 9,
   "metadata": {
    "ExecuteTime": {
     "end_time": "2021-04-02T01:57:23.310946Z",
     "start_time": "2021-04-02T01:57:23.273914Z"
    }
   },
   "outputs": [],
   "source": [
    "def reduce_mem_usage(df, int_cast=True, obj_to_category=False, subset=None):\n",
    "    \"\"\"\n",
    "    Iterate through all the columns of a dataframe and modify the data type to reduce memory usage.\n",
    "    :param df: dataframe to reduce (pd.DataFrame)\n",
    "    :param int_cast: indicate if columns should be tried to be casted to int (bool)\n",
    "    :param obj_to_category: convert non-datetime related objects to category dtype (bool)\n",
    "    :param subset: subset of columns to analyse (list)\n",
    "    :return: dataset with the column dtypes adjusted (pd.DataFrame)\n",
    "    \"\"\"\n",
    "    start_mem = df.memory_usage().sum() / 1024 ** 2;\n",
    "    gc.collect()\n",
    "    print('Memory usage of dataframe is {:.2f} MB'.format(start_mem))\n",
    "\n",
    "    cols = subset if subset is not None else df.columns.tolist()\n",
    "\n",
    "    for col in tqdm(cols):\n",
    "        col_type = df[col].dtype\n",
    "\n",
    "        if col_type != object and col_type.name != 'category' and 'datetime' not in col_type.name:\n",
    "            c_min = df[col].min()\n",
    "            c_max = df[col].max()\n",
    "\n",
    "            # test if column can be converted to an integer\n",
    "            treat_as_int = str(col_type)[:3] == 'int'\n",
    "            if int_cast and not treat_as_int:\n",
    "                treat_as_int = check_if_integer(df[col])\n",
    "\n",
    "            if treat_as_int:\n",
    "                if c_min > np.iinfo(np.int8).min and c_max < np.iinfo(np.int8).max:\n",
    "                    df[col] = df[col].astype(np.int8)\n",
    "                elif c_min > np.iinfo(np.uint8).min and c_max < np.iinfo(np.uint8).max:\n",
    "                    df[col] = df[col].astype(np.uint8)\n",
    "                elif c_min > np.iinfo(np.int16).min and c_max < np.iinfo(np.int16).max:\n",
    "                    df[col] = df[col].astype(np.int16)\n",
    "                elif c_min > np.iinfo(np.uint16).min and c_max < np.iinfo(np.uint16).max:\n",
    "                    df[col] = df[col].astype(np.uint16)\n",
    "                elif c_min > np.iinfo(np.int32).min and c_max < np.iinfo(np.int32).max:\n",
    "                    df[col] = df[col].astype(np.int32)\n",
    "                elif c_min > np.iinfo(np.uint32).min and c_max < np.iinfo(np.uint32).max:\n",
    "                    df[col] = df[col].astype(np.uint32)\n",
    "                elif c_min > np.iinfo(np.int64).min and c_max < np.iinfo(np.int64).max:\n",
    "                    df[col] = df[col].astype(np.int64)\n",
    "                elif c_min > np.iinfo(np.uint64).min and c_max < np.iinfo(np.uint64).max:\n",
    "                    df[col] = df[col].astype(np.uint64)\n",
    "            else:\n",
    "                if c_min > np.finfo(np.float16).min and c_max < np.finfo(np.float16).max:\n",
    "                    df[col] = df[col].astype(np.float16)\n",
    "                elif c_min > np.finfo(np.float32).min and c_max < np.finfo(np.float32).max:\n",
    "                    df[col] = df[col].astype(np.float32)\n",
    "                else:\n",
    "                    df[col] = df[col].astype(np.float64)\n",
    "        elif 'datetime' not in col_type.name and obj_to_category:\n",
    "            df[col] = df[col].astype('category')\n",
    "    gc.collect()\n",
    "    end_mem = df.memory_usage().sum() / 1024 ** 2\n",
    "    print('Memory usage after optimization is: {:.3f} MB'.format(end_mem))\n",
    "    print('Decreased by {:.1f}%'.format(100 * (start_mem - end_mem) / start_mem))\n",
    "\n",
    "    return df"
   ]
  },
  {
   "cell_type": "code",
   "execution_count": 10,
   "metadata": {
    "ExecuteTime": {
     "end_time": "2021-04-02T01:57:29.877982Z",
     "start_time": "2021-04-02T01:57:28.633651Z"
    }
   },
   "outputs": [],
   "source": [
    "df.drop(columns=columns_to_drop,axis=1,inplace=True)"
   ]
  },
  {
   "cell_type": "code",
   "execution_count": 11,
   "metadata": {
    "ExecuteTime": {
     "end_time": "2021-04-02T01:57:49.140383Z",
     "start_time": "2021-04-02T01:57:35.223900Z"
    }
   },
   "outputs": [
    {
     "name": "stdout",
     "output_type": "stream",
     "text": [
      "Memory usage of dataframe is 1673.98 MB\n"
     ]
    },
    {
     "name": "stderr",
     "output_type": "stream",
     "text": [
      "100%|██████████| 75/75 [00:12<00:00,  6.17it/s]\n"
     ]
    },
    {
     "name": "stdout",
     "output_type": "stream",
     "text": [
      "Memory usage after optimization is: 876.050 MB\n",
      "Decreased by 47.7%\n"
     ]
    },
    {
     "data": {
      "text/html": [
       "<div>\n",
       "<style scoped>\n",
       "    .dataframe tbody tr th:only-of-type {\n",
       "        vertical-align: middle;\n",
       "    }\n",
       "\n",
       "    .dataframe tbody tr th {\n",
       "        vertical-align: top;\n",
       "    }\n",
       "\n",
       "    .dataframe thead th {\n",
       "        text-align: right;\n",
       "    }\n",
       "</style>\n",
       "<table border=\"1\" class=\"dataframe\">\n",
       "  <thead>\n",
       "    <tr style=\"text-align: right;\">\n",
       "      <th></th>\n",
       "      <th>id</th>\n",
       "      <th>loan_amnt</th>\n",
       "      <th>term</th>\n",
       "      <th>int_rate</th>\n",
       "      <th>installment</th>\n",
       "      <th>grade</th>\n",
       "      <th>sub_grade</th>\n",
       "      <th>emp_title</th>\n",
       "      <th>emp_length</th>\n",
       "      <th>home_ownership</th>\n",
       "      <th>...</th>\n",
       "      <th>num_tl_90g_dpd_24m</th>\n",
       "      <th>num_tl_op_past_12m</th>\n",
       "      <th>pct_tl_nvr_dlq</th>\n",
       "      <th>pub_rec_bankruptcies</th>\n",
       "      <th>tax_liens</th>\n",
       "      <th>total_bal_ex_mort</th>\n",
       "      <th>total_bc_limit</th>\n",
       "      <th>total_il_high_credit_limit</th>\n",
       "      <th>hardship_flag</th>\n",
       "      <th>debt_settlement_flag</th>\n",
       "    </tr>\n",
       "  </thead>\n",
       "  <tbody>\n",
       "    <tr>\n",
       "      <th>0</th>\n",
       "      <td>1077501</td>\n",
       "      <td>5000.0</td>\n",
       "      <td>36 months</td>\n",
       "      <td>10.65%</td>\n",
       "      <td>162.87500</td>\n",
       "      <td>B</td>\n",
       "      <td>B2</td>\n",
       "      <td>NaN</td>\n",
       "      <td>10+ years</td>\n",
       "      <td>RENT</td>\n",
       "      <td>...</td>\n",
       "      <td>NaN</td>\n",
       "      <td>NaN</td>\n",
       "      <td>NaN</td>\n",
       "      <td>0.0</td>\n",
       "      <td>0.0</td>\n",
       "      <td>NaN</td>\n",
       "      <td>NaN</td>\n",
       "      <td>NaN</td>\n",
       "      <td>N</td>\n",
       "      <td>N</td>\n",
       "    </tr>\n",
       "    <tr>\n",
       "      <th>1</th>\n",
       "      <td>1077430</td>\n",
       "      <td>2500.0</td>\n",
       "      <td>60 months</td>\n",
       "      <td>15.27%</td>\n",
       "      <td>59.84375</td>\n",
       "      <td>C</td>\n",
       "      <td>C4</td>\n",
       "      <td>Ryder</td>\n",
       "      <td>&lt; 1 year</td>\n",
       "      <td>RENT</td>\n",
       "      <td>...</td>\n",
       "      <td>NaN</td>\n",
       "      <td>NaN</td>\n",
       "      <td>NaN</td>\n",
       "      <td>0.0</td>\n",
       "      <td>0.0</td>\n",
       "      <td>NaN</td>\n",
       "      <td>NaN</td>\n",
       "      <td>NaN</td>\n",
       "      <td>N</td>\n",
       "      <td>N</td>\n",
       "    </tr>\n",
       "    <tr>\n",
       "      <th>2</th>\n",
       "      <td>1077175</td>\n",
       "      <td>2400.0</td>\n",
       "      <td>36 months</td>\n",
       "      <td>15.96%</td>\n",
       "      <td>84.31250</td>\n",
       "      <td>C</td>\n",
       "      <td>C5</td>\n",
       "      <td>NaN</td>\n",
       "      <td>10+ years</td>\n",
       "      <td>RENT</td>\n",
       "      <td>...</td>\n",
       "      <td>NaN</td>\n",
       "      <td>NaN</td>\n",
       "      <td>NaN</td>\n",
       "      <td>0.0</td>\n",
       "      <td>0.0</td>\n",
       "      <td>NaN</td>\n",
       "      <td>NaN</td>\n",
       "      <td>NaN</td>\n",
       "      <td>N</td>\n",
       "      <td>N</td>\n",
       "    </tr>\n",
       "    <tr>\n",
       "      <th>3</th>\n",
       "      <td>1076863</td>\n",
       "      <td>10000.0</td>\n",
       "      <td>36 months</td>\n",
       "      <td>13.49%</td>\n",
       "      <td>339.25000</td>\n",
       "      <td>C</td>\n",
       "      <td>C1</td>\n",
       "      <td>AIR RESOURCES BOARD</td>\n",
       "      <td>10+ years</td>\n",
       "      <td>RENT</td>\n",
       "      <td>...</td>\n",
       "      <td>NaN</td>\n",
       "      <td>NaN</td>\n",
       "      <td>NaN</td>\n",
       "      <td>0.0</td>\n",
       "      <td>0.0</td>\n",
       "      <td>NaN</td>\n",
       "      <td>NaN</td>\n",
       "      <td>NaN</td>\n",
       "      <td>N</td>\n",
       "      <td>N</td>\n",
       "    </tr>\n",
       "    <tr>\n",
       "      <th>4</th>\n",
       "      <td>1075358</td>\n",
       "      <td>3000.0</td>\n",
       "      <td>60 months</td>\n",
       "      <td>12.69%</td>\n",
       "      <td>67.81250</td>\n",
       "      <td>B</td>\n",
       "      <td>B5</td>\n",
       "      <td>University Medical Group</td>\n",
       "      <td>1 year</td>\n",
       "      <td>RENT</td>\n",
       "      <td>...</td>\n",
       "      <td>NaN</td>\n",
       "      <td>NaN</td>\n",
       "      <td>NaN</td>\n",
       "      <td>0.0</td>\n",
       "      <td>0.0</td>\n",
       "      <td>NaN</td>\n",
       "      <td>NaN</td>\n",
       "      <td>NaN</td>\n",
       "      <td>N</td>\n",
       "      <td>N</td>\n",
       "    </tr>\n",
       "    <tr>\n",
       "      <th>...</th>\n",
       "      <td>...</td>\n",
       "      <td>...</td>\n",
       "      <td>...</td>\n",
       "      <td>...</td>\n",
       "      <td>...</td>\n",
       "      <td>...</td>\n",
       "      <td>...</td>\n",
       "      <td>...</td>\n",
       "      <td>...</td>\n",
       "      <td>...</td>\n",
       "      <td>...</td>\n",
       "      <td>...</td>\n",
       "      <td>...</td>\n",
       "      <td>...</td>\n",
       "      <td>...</td>\n",
       "      <td>...</td>\n",
       "      <td>...</td>\n",
       "      <td>...</td>\n",
       "      <td>...</td>\n",
       "      <td>...</td>\n",
       "      <td>...</td>\n",
       "    </tr>\n",
       "    <tr>\n",
       "      <th>2925488</th>\n",
       "      <td>102556443</td>\n",
       "      <td>24000.0</td>\n",
       "      <td>60 months</td>\n",
       "      <td>23.99%</td>\n",
       "      <td>690.50000</td>\n",
       "      <td>E</td>\n",
       "      <td>E2</td>\n",
       "      <td>Senior Escrow Officer</td>\n",
       "      <td>&lt; 1 year</td>\n",
       "      <td>RENT</td>\n",
       "      <td>...</td>\n",
       "      <td>1.0</td>\n",
       "      <td>2.0</td>\n",
       "      <td>87.5000</td>\n",
       "      <td>1.0</td>\n",
       "      <td>1.0</td>\n",
       "      <td>60812.0</td>\n",
       "      <td>28200.0</td>\n",
       "      <td>64422.0</td>\n",
       "      <td>N</td>\n",
       "      <td>N</td>\n",
       "    </tr>\n",
       "    <tr>\n",
       "      <th>2925489</th>\n",
       "      <td>102653304</td>\n",
       "      <td>10000.0</td>\n",
       "      <td>36 months</td>\n",
       "      <td>7.99%</td>\n",
       "      <td>313.25000</td>\n",
       "      <td>A</td>\n",
       "      <td>A5</td>\n",
       "      <td>Rn</td>\n",
       "      <td>10+ years</td>\n",
       "      <td>MORTGAGE</td>\n",
       "      <td>...</td>\n",
       "      <td>0.0</td>\n",
       "      <td>2.0</td>\n",
       "      <td>92.6250</td>\n",
       "      <td>0.0</td>\n",
       "      <td>0.0</td>\n",
       "      <td>55863.0</td>\n",
       "      <td>34800.0</td>\n",
       "      <td>70203.0</td>\n",
       "      <td>N</td>\n",
       "      <td>N</td>\n",
       "    </tr>\n",
       "    <tr>\n",
       "      <th>2925490</th>\n",
       "      <td>102628603</td>\n",
       "      <td>10048.0</td>\n",
       "      <td>36 months</td>\n",
       "      <td>16.99%</td>\n",
       "      <td>358.25000</td>\n",
       "      <td>D</td>\n",
       "      <td>D1</td>\n",
       "      <td>Sales Associate</td>\n",
       "      <td>8 years</td>\n",
       "      <td>RENT</td>\n",
       "      <td>...</td>\n",
       "      <td>0.0</td>\n",
       "      <td>5.0</td>\n",
       "      <td>95.1875</td>\n",
       "      <td>0.0</td>\n",
       "      <td>0.0</td>\n",
       "      <td>14300.0</td>\n",
       "      <td>9000.0</td>\n",
       "      <td>0.0</td>\n",
       "      <td>N</td>\n",
       "      <td>N</td>\n",
       "    </tr>\n",
       "    <tr>\n",
       "      <th>2925491</th>\n",
       "      <td>102196576</td>\n",
       "      <td>6000.0</td>\n",
       "      <td>36 months</td>\n",
       "      <td>11.44%</td>\n",
       "      <td>197.75000</td>\n",
       "      <td>B</td>\n",
       "      <td>B4</td>\n",
       "      <td>Contact input</td>\n",
       "      <td>5 years</td>\n",
       "      <td>RENT</td>\n",
       "      <td>...</td>\n",
       "      <td>0.0</td>\n",
       "      <td>1.0</td>\n",
       "      <td>94.3750</td>\n",
       "      <td>0.0</td>\n",
       "      <td>0.0</td>\n",
       "      <td>26201.0</td>\n",
       "      <td>8100.0</td>\n",
       "      <td>34076.0</td>\n",
       "      <td>N</td>\n",
       "      <td>N</td>\n",
       "    </tr>\n",
       "    <tr>\n",
       "      <th>2925492</th>\n",
       "      <td>99799684</td>\n",
       "      <td>30000.0</td>\n",
       "      <td>60 months</td>\n",
       "      <td>25.49%</td>\n",
       "      <td>889.00000</td>\n",
       "      <td>E</td>\n",
       "      <td>E4</td>\n",
       "      <td>Assistant Manager</td>\n",
       "      <td>4 years</td>\n",
       "      <td>MORTGAGE</td>\n",
       "      <td>...</td>\n",
       "      <td>0.0</td>\n",
       "      <td>1.0</td>\n",
       "      <td>91.3125</td>\n",
       "      <td>0.0</td>\n",
       "      <td>0.0</td>\n",
       "      <td>75819.0</td>\n",
       "      <td>16000.0</td>\n",
       "      <td>89732.0</td>\n",
       "      <td>N</td>\n",
       "      <td>N</td>\n",
       "    </tr>\n",
       "  </tbody>\n",
       "</table>\n",
       "<p>2925493 rows × 75 columns</p>\n",
       "</div>"
      ],
      "text/plain": [
       "                id  loan_amnt        term int_rate  installment grade  \\\n",
       "0          1077501     5000.0   36 months   10.65%    162.87500     B   \n",
       "1          1077430     2500.0   60 months   15.27%     59.84375     C   \n",
       "2          1077175     2400.0   36 months   15.96%     84.31250     C   \n",
       "3          1076863    10000.0   36 months   13.49%    339.25000     C   \n",
       "4          1075358     3000.0   60 months   12.69%     67.81250     B   \n",
       "...            ...        ...         ...      ...          ...   ...   \n",
       "2925488  102556443    24000.0   60 months   23.99%    690.50000     E   \n",
       "2925489  102653304    10000.0   36 months    7.99%    313.25000     A   \n",
       "2925490  102628603    10048.0   36 months   16.99%    358.25000     D   \n",
       "2925491  102196576     6000.0   36 months   11.44%    197.75000     B   \n",
       "2925492   99799684    30000.0   60 months   25.49%    889.00000     E   \n",
       "\n",
       "        sub_grade                 emp_title emp_length home_ownership  ...  \\\n",
       "0              B2                       NaN  10+ years           RENT  ...   \n",
       "1              C4                     Ryder   < 1 year           RENT  ...   \n",
       "2              C5                       NaN  10+ years           RENT  ...   \n",
       "3              C1       AIR RESOURCES BOARD  10+ years           RENT  ...   \n",
       "4              B5  University Medical Group     1 year           RENT  ...   \n",
       "...           ...                       ...        ...            ...  ...   \n",
       "2925488        E2     Senior Escrow Officer   < 1 year           RENT  ...   \n",
       "2925489        A5                        Rn  10+ years       MORTGAGE  ...   \n",
       "2925490        D1           Sales Associate    8 years           RENT  ...   \n",
       "2925491        B4             Contact input    5 years           RENT  ...   \n",
       "2925492        E4         Assistant Manager    4 years       MORTGAGE  ...   \n",
       "\n",
       "         num_tl_90g_dpd_24m num_tl_op_past_12m pct_tl_nvr_dlq  \\\n",
       "0                       NaN                NaN            NaN   \n",
       "1                       NaN                NaN            NaN   \n",
       "2                       NaN                NaN            NaN   \n",
       "3                       NaN                NaN            NaN   \n",
       "4                       NaN                NaN            NaN   \n",
       "...                     ...                ...            ...   \n",
       "2925488                 1.0                2.0        87.5000   \n",
       "2925489                 0.0                2.0        92.6250   \n",
       "2925490                 0.0                5.0        95.1875   \n",
       "2925491                 0.0                1.0        94.3750   \n",
       "2925492                 0.0                1.0        91.3125   \n",
       "\n",
       "        pub_rec_bankruptcies tax_liens total_bal_ex_mort total_bc_limit  \\\n",
       "0                        0.0       0.0               NaN            NaN   \n",
       "1                        0.0       0.0               NaN            NaN   \n",
       "2                        0.0       0.0               NaN            NaN   \n",
       "3                        0.0       0.0               NaN            NaN   \n",
       "4                        0.0       0.0               NaN            NaN   \n",
       "...                      ...       ...               ...            ...   \n",
       "2925488                  1.0       1.0           60812.0        28200.0   \n",
       "2925489                  0.0       0.0           55863.0        34800.0   \n",
       "2925490                  0.0       0.0           14300.0         9000.0   \n",
       "2925491                  0.0       0.0           26201.0         8100.0   \n",
       "2925492                  0.0       0.0           75819.0        16000.0   \n",
       "\n",
       "        total_il_high_credit_limit hardship_flag  debt_settlement_flag  \n",
       "0                              NaN             N                     N  \n",
       "1                              NaN             N                     N  \n",
       "2                              NaN             N                     N  \n",
       "3                              NaN             N                     N  \n",
       "4                              NaN             N                     N  \n",
       "...                            ...           ...                   ...  \n",
       "2925488                    64422.0             N                     N  \n",
       "2925489                    70203.0             N                     N  \n",
       "2925490                        0.0             N                     N  \n",
       "2925491                    34076.0             N                     N  \n",
       "2925492                    89732.0             N                     N  \n",
       "\n",
       "[2925493 rows x 75 columns]"
      ]
     },
     "execution_count": 11,
     "metadata": {},
     "output_type": "execute_result"
    }
   ],
   "source": [
    "reduce_mem_usage(df,int_cast=False)"
   ]
  },
  {
   "cell_type": "code",
   "execution_count": 17,
   "metadata": {
    "ExecuteTime": {
     "end_time": "2021-04-02T00:01:07.047166Z",
     "start_time": "2021-04-02T00:01:07.025182Z"
    }
   },
   "outputs": [
    {
     "name": "stdout",
     "output_type": "stream",
     "text": [
      "<class 'pandas.core.frame.DataFrame'>\n",
      "RangeIndex: 2925493 entries, 0 to 2925492\n",
      "Data columns (total 87 columns):\n",
      " #   Column                      Dtype  \n",
      "---  ------                      -----  \n",
      " 0   id                          object \n",
      " 1   loan_amnt                   float16\n",
      " 2   term                        object \n",
      " 3   int_rate                    object \n",
      " 4   installment                 float16\n",
      " 5   grade                       object \n",
      " 6   sub_grade                   object \n",
      " 7   emp_title                   object \n",
      " 8   emp_length                  object \n",
      " 9   home_ownership              object \n",
      " 10  annual_inc                  float32\n",
      " 11  verification_status         object \n",
      " 12  issue_d                     object \n",
      " 13  loan_status                 object \n",
      " 14  pymnt_plan                  object \n",
      " 15  purpose                     object \n",
      " 16  title                       object \n",
      " 17  zip_code                    object \n",
      " 18  addr_state                  object \n",
      " 19  dti                         float16\n",
      " 20  delinq_2yrs                 float16\n",
      " 21  earliest_cr_line            object \n",
      " 22  fico_range_low              float16\n",
      " 23  fico_range_high             float16\n",
      " 24  inq_last_6mths              float16\n",
      " 25  pub_rec                     float16\n",
      " 26  revol_bal                   float32\n",
      " 27  revol_util                  object \n",
      " 28  total_acc                   float16\n",
      " 29  initial_list_status         object \n",
      " 30  out_prncp                   float16\n",
      " 31  total_pymnt                 float32\n",
      " 32  total_rec_prncp             float16\n",
      " 33  total_rec_int               float16\n",
      " 34  total_rec_late_fee          float16\n",
      " 35  recoveries                  float16\n",
      " 36  last_pymnt_d                object \n",
      " 37  last_pymnt_amnt             float16\n",
      " 38  last_credit_pull_d          object \n",
      " 39  last_fico_range_high        float16\n",
      " 40  last_fico_range_low         float16\n",
      " 41  collections_12_mths_ex_med  float16\n",
      " 42  application_type            object \n",
      " 43  acc_now_delinq              float16\n",
      " 44  tot_coll_amt                float32\n",
      " 45  tot_cur_bal                 float32\n",
      " 46  open_acc_6m                 float16\n",
      " 47  open_act_il                 float16\n",
      " 48  open_il_12m                 float16\n",
      " 49  open_il_24m                 float16\n",
      " 50  total_bal_il                float32\n",
      " 51  open_rv_12m                 float16\n",
      " 52  open_rv_24m                 float16\n",
      " 53  max_bal_bc                  float32\n",
      " 54  all_util                    float16\n",
      " 55  inq_fi                      float16\n",
      " 56  total_cu_tl                 float16\n",
      " 57  inq_last_12m                float16\n",
      " 58  acc_open_past_24mths        float16\n",
      " 59  avg_cur_bal                 float32\n",
      " 60  bc_util                     float16\n",
      " 61  chargeoff_within_12_mths    float16\n",
      " 62  delinq_amnt                 float32\n",
      " 63  mo_sin_old_il_acct          float16\n",
      " 64  mo_sin_old_rev_tl_op        float16\n",
      " 65  mo_sin_rcnt_rev_tl_op       float16\n",
      " 66  mo_sin_rcnt_tl              float16\n",
      " 67  mort_acc                    float16\n",
      " 68  mths_since_recent_bc        float16\n",
      " 69  mths_since_recent_inq       float16\n",
      " 70  num_accts_ever_120_pd       float16\n",
      " 71  num_bc_sats                 float16\n",
      " 72  num_bc_tl                   float16\n",
      " 73  num_il_tl                   float16\n",
      " 74  num_op_rev_tl               float16\n",
      " 75  num_tl_120dpd_2m            float16\n",
      " 76  num_tl_30dpd                float16\n",
      " 77  num_tl_90g_dpd_24m          float16\n",
      " 78  num_tl_op_past_12m          float16\n",
      " 79  pct_tl_nvr_dlq              float16\n",
      " 80  pub_rec_bankruptcies        float16\n",
      " 81  tax_liens                   float16\n",
      " 82  total_bal_ex_mort           float32\n",
      " 83  total_bc_limit              float32\n",
      " 84  total_il_high_credit_limit  float32\n",
      " 85  hardship_flag               object \n",
      " 86  debt_settlement_flag        object \n",
      "dtypes: float16(51), float32(12), object(24)\n",
      "memory usage: 954.2+ MB\n"
     ]
    }
   ],
   "source": [
    "df.info(verbose=True)"
   ]
  },
  {
   "cell_type": "code",
   "execution_count": 23,
   "metadata": {
    "ExecuteTime": {
     "end_time": "2021-03-31T19:28:57.188902Z",
     "start_time": "2021-03-31T19:28:53.447939Z"
    }
   },
   "outputs": [
    {
     "data": {
      "text/plain": [
       "([<matplotlib.axis.YTick at 0x2c15a8c53d0>,\n",
       "  <matplotlib.axis.YTick at 0x2c15a8c50a0>,\n",
       "  <matplotlib.axis.YTick at 0x2c1685a8c10>,\n",
       "  <matplotlib.axis.YTick at 0x2c1685ac130>,\n",
       "  <matplotlib.axis.YTick at 0x2c1685ac640>,\n",
       "  <matplotlib.axis.YTick at 0x2c1685acb50>,\n",
       "  <matplotlib.axis.YTick at 0x2c15aa14370>,\n",
       "  <matplotlib.axis.YTick at 0x2c1685ac2b0>,\n",
       "  <matplotlib.axis.YTick at 0x2c1685b4190>,\n",
       "  <matplotlib.axis.YTick at 0x2c1685b4ee0>,\n",
       "  <matplotlib.axis.YTick at 0x2c1685b7430>,\n",
       "  <matplotlib.axis.YTick at 0x2c1685b7940>,\n",
       "  <matplotlib.axis.YTick at 0x2c1685b7e50>,\n",
       "  <matplotlib.axis.YTick at 0x2c1685ba3a0>,\n",
       "  <matplotlib.axis.YTick at 0x2c1685ba8b0>,\n",
       "  <matplotlib.axis.YTick at 0x2c1685b7550>,\n",
       "  <matplotlib.axis.YTick at 0x2c138cfbc10>,\n",
       "  <matplotlib.axis.YTick at 0x2c1685ba5b0>,\n",
       "  <matplotlib.axis.YTick at 0x2c1685bae50>,\n",
       "  <matplotlib.axis.YTick at 0x2c1685bc3a0>,\n",
       "  <matplotlib.axis.YTick at 0x2c1685bc8b0>],\n",
       " [Text(0, 0, ''),\n",
       "  Text(0, 0, ''),\n",
       "  Text(0, 0, ''),\n",
       "  Text(0, 0, ''),\n",
       "  Text(0, 0, ''),\n",
       "  Text(0, 0, ''),\n",
       "  Text(0, 0, ''),\n",
       "  Text(0, 0, ''),\n",
       "  Text(0, 0, ''),\n",
       "  Text(0, 0, ''),\n",
       "  Text(0, 0, ''),\n",
       "  Text(0, 0, ''),\n",
       "  Text(0, 0, ''),\n",
       "  Text(0, 0, ''),\n",
       "  Text(0, 0, ''),\n",
       "  Text(0, 0, ''),\n",
       "  Text(0, 0, ''),\n",
       "  Text(0, 0, ''),\n",
       "  Text(0, 0, ''),\n",
       "  Text(0, 0, ''),\n",
       "  Text(0, 0, '')])"
      ]
     },
     "execution_count": 23,
     "metadata": {},
     "output_type": "execute_result"
    },
    {
     "data": {
      "image/png": "[encoded data removed]",
      "text/plain": [
       "<Figure size 864x576 with 1 Axes>"
      ]
     },
     "metadata": {
      "needs_background": "light"
     },
     "output_type": "display_data"
    }
   ],
   "source": [
    "fig,ax = plt.subplots(figsize=(12,8))\n",
    "sns.histplot(data=df.isna().mean(),bins=20)\n",
    "plt.xticks(np.linspace(0,1,21))\n",
    "plt.title(\"Histogram of Nan Values as % of Column\")\n",
    "plt.xlabel('% of Rows with NaN Values')\n",
    "plt.yticks(np.linspace(0,100,21))"
   ]
  },
  {
   "cell_type": "markdown",
   "metadata": {},
   "source": [
    "Roughly 50 columns missing 25% of values in the columns will drop these"
   ]
  },
  {
   "cell_type": "code",
   "execution_count": null,
   "metadata": {},
   "outputs": [],
   "source": [
    "df.isna().mean().sort_values(ascending=False)"
   ]
  },
  {
   "cell_type": "code",
   "execution_count": null,
   "metadata": {},
   "outputs": [],
   "source": [
    "cols_to_drop = df.isna().mean()"
   ]
  },
  {
   "cell_type": "code",
   "execution_count": 25,
   "metadata": {
    "ExecuteTime": {
     "end_time": "2021-03-31T19:33:25.135444Z",
     "start_time": "2021-03-31T19:33:21.685415Z"
    }
   },
   "outputs": [
    {
     "data": {
      "text/html": [
       "<div>\n",
       "<style scoped>\n",
       "    .dataframe tbody tr th:only-of-type {\n",
       "        vertical-align: middle;\n",
       "    }\n",
       "\n",
       "    .dataframe tbody tr th {\n",
       "        vertical-align: top;\n",
       "    }\n",
       "\n",
       "    .dataframe thead th {\n",
       "        text-align: right;\n",
       "    }\n",
       "</style>\n",
       "<table border=\"1\" class=\"dataframe\">\n",
       "  <thead>\n",
       "    <tr style=\"text-align: right;\">\n",
       "      <th></th>\n",
       "      <th>index</th>\n",
       "      <th>0</th>\n",
       "    </tr>\n",
       "  </thead>\n",
       "  <tbody>\n",
       "    <tr>\n",
       "      <th>0</th>\n",
       "      <td>id</td>\n",
       "      <td>0.000000e+00</td>\n",
       "    </tr>\n",
       "    <tr>\n",
       "      <th>1</th>\n",
       "      <td>loan_amnt</td>\n",
       "      <td>3.418227e-07</td>\n",
       "    </tr>\n",
       "    <tr>\n",
       "      <th>2</th>\n",
       "      <td>funded_amnt</td>\n",
       "      <td>3.418227e-07</td>\n",
       "    </tr>\n",
       "    <tr>\n",
       "      <th>3</th>\n",
       "      <td>funded_amnt_inv</td>\n",
       "      <td>3.418227e-07</td>\n",
       "    </tr>\n",
       "    <tr>\n",
       "      <th>4</th>\n",
       "      <td>term</td>\n",
       "      <td>3.418227e-07</td>\n",
       "    </tr>\n",
       "    <tr>\n",
       "      <th>...</th>\n",
       "      <td>...</td>\n",
       "      <td>...</td>\n",
       "    </tr>\n",
       "    <tr>\n",
       "      <th>136</th>\n",
       "      <td>hardship_loan_status</td>\n",
       "      <td>9.509789e-01</td>\n",
       "    </tr>\n",
       "    <tr>\n",
       "      <th>137</th>\n",
       "      <td>orig_projected_additional_accrued_interest</td>\n",
       "      <td>9.387317e-01</td>\n",
       "    </tr>\n",
       "    <tr>\n",
       "      <th>138</th>\n",
       "      <td>hardship_payoff_balance_amount</td>\n",
       "      <td>9.377623e-01</td>\n",
       "    </tr>\n",
       "    <tr>\n",
       "      <th>139</th>\n",
       "      <td>hardship_last_payment_amount</td>\n",
       "      <td>9.377623e-01</td>\n",
       "    </tr>\n",
       "    <tr>\n",
       "      <th>140</th>\n",
       "      <td>debt_settlement_flag</td>\n",
       "      <td>3.418227e-07</td>\n",
       "    </tr>\n",
       "  </tbody>\n",
       "</table>\n",
       "<p>141 rows × 2 columns</p>\n",
       "</div>"
      ],
      "text/plain": [
       "                                          index             0\n",
       "0                                            id  0.000000e+00\n",
       "1                                     loan_amnt  3.418227e-07\n",
       "2                                   funded_amnt  3.418227e-07\n",
       "3                               funded_amnt_inv  3.418227e-07\n",
       "4                                          term  3.418227e-07\n",
       "..                                          ...           ...\n",
       "136                        hardship_loan_status  9.509789e-01\n",
       "137  orig_projected_additional_accrued_interest  9.387317e-01\n",
       "138              hardship_payoff_balance_amount  9.377623e-01\n",
       "139                hardship_last_payment_amount  9.377623e-01\n",
       "140                        debt_settlement_flag  3.418227e-07\n",
       "\n",
       "[141 rows x 2 columns]"
      ]
     },
     "execution_count": 25,
     "metadata": {},
     "output_type": "execute_result"
    }
   ],
   "source": [
    "df.isna().mean().reset_index()"
   ]
  },
  {
   "cell_type": "code",
   "execution_count": 12,
   "metadata": {
    "ExecuteTime": {
     "end_time": "2021-04-02T01:58:13.216526Z",
     "start_time": "2021-04-02T01:58:11.018367Z"
    }
   },
   "outputs": [],
   "source": [
    "nan_pct = df.isna().mean().reset_index().sort_values(by=0,ascending=False)"
   ]
  },
  {
   "cell_type": "code",
   "execution_count": 13,
   "metadata": {
    "ExecuteTime": {
     "end_time": "2021-04-02T01:58:18.958979Z",
     "start_time": "2021-04-02T01:58:18.411225Z"
    }
   },
   "outputs": [
    {
     "ename": "NameError",
     "evalue": "name 'cols_to_drop' is not defined",
     "output_type": "error",
     "traceback": [
      "\u001b[1;31m---------------------------------------------------------------------------\u001b[0m",
      "\u001b[1;31mNameError\u001b[0m                                 Traceback (most recent call last)",
      "\u001b[1;32m<ipython-input-13-add6576e83af>\u001b[0m in \u001b[0;36m<module>\u001b[1;34m\u001b[0m\n\u001b[1;32m----> 1\u001b[1;33m \u001b[0mcols_to_drop\u001b[0m\u001b[1;33m.\u001b[0m\u001b[0mvalues\u001b[0m\u001b[1;33m\u001b[0m\u001b[1;33m\u001b[0m\u001b[0m\n\u001b[0m",
      "\u001b[1;31mNameError\u001b[0m: name 'cols_to_drop' is not defined"
     ]
    }
   ],
   "source": [
    "cols_to_drop.values"
   ]
  },
  {
   "cell_type": "code",
   "execution_count": 14,
   "metadata": {
    "ExecuteTime": {
     "end_time": "2021-04-02T01:58:23.402344Z",
     "start_time": "2021-04-02T01:58:23.377352Z"
    }
   },
   "outputs": [
    {
     "data": {
      "text/plain": [
       "Series([], Name: index, dtype: object)"
      ]
     },
     "execution_count": 14,
     "metadata": {},
     "output_type": "execute_result"
    }
   ],
   "source": [
    "cols_to_drop = nan_pct[nan_pct[0] >=.25]['index']\n",
    "cols_to_drop"
   ]
  },
  {
   "cell_type": "code",
   "execution_count": 35,
   "metadata": {
    "ExecuteTime": {
     "end_time": "2021-04-02T00:13:58.737198Z",
     "start_time": "2021-04-02T00:13:57.934161Z"
    }
   },
   "outputs": [],
   "source": [
    "df.drop(columns=cols_to_drop,axis=1,inplace=True)"
   ]
  },
  {
   "cell_type": "code",
   "execution_count": 44,
   "metadata": {
    "ExecuteTime": {
     "end_time": "2021-03-31T19:52:11.957416Z",
     "start_time": "2021-03-31T19:51:42.533415Z"
    }
   },
   "outputs": [],
   "source": [
    "#checking predictors for multicollinearity\n",
    "test = df.corr().abs().stack().reset_index().sort_values(0,ascending=False)\n",
    "test['pairs'] = list(zip(test.level_0,test.level_1))\n",
    "test.set_index(['pairs'], inplace=True)\n",
    "test.drop(columns=['level_1','level_0'], inplace=True)\n",
    "test.columns = ['cc']\n",
    "test.drop_duplicates(inplace=True)\n",
    "test.sort_values('cc',ascending=False, inplace=True)\n",
    "multicollinear_predictors = test[test.cc >.75]\n",
    "multicollinear_predictors.reset_index(inplace=True)"
   ]
  },
  {
   "cell_type": "code",
   "execution_count": 46,
   "metadata": {
    "ExecuteTime": {
     "end_time": "2021-03-31T20:05:58.119032Z",
     "start_time": "2021-03-31T20:05:58.099043Z"
    }
   },
   "outputs": [
    {
     "name": "stderr",
     "output_type": "stream",
     "text": [
      "<ipython-input-46-a30768636eb9>:1: SettingWithCopyWarning: \n",
      "A value is trying to be set on a copy of a slice from a DataFrame.\n",
      "Try using .loc[row_indexer,col_indexer] = value instead\n",
      "\n",
      "See the caveats in the documentation: https://pandas.pydata.org/pandas-docs/stable/user_guide/indexing.html#returning-a-view-versus-a-copy\n",
      "  multicollinear_predictors['column_1'] = multicollinear_predictors.pairs.map(lambda x : x[0])\n",
      "<ipython-input-46-a30768636eb9>:2: SettingWithCopyWarning: \n",
      "A value is trying to be set on a copy of a slice from a DataFrame.\n",
      "Try using .loc[row_indexer,col_indexer] = value instead\n",
      "\n",
      "See the caveats in the documentation: https://pandas.pydata.org/pandas-docs/stable/user_guide/indexing.html#returning-a-view-versus-a-copy\n",
      "  multicollinear_predictors['column_2'] = multicollinear_predictors.pairs.map(lambda x : x[1])\n"
     ]
    }
   ],
   "source": [
    "multicollinear_predictors['column_1'] = multicollinear_predictors.pairs.map(lambda x : x[0])\n",
    "multicollinear_predictors['column_2'] = multicollinear_predictors.pairs.map(lambda x : x[1])"
   ]
  },
  {
   "cell_type": "code",
   "execution_count": 50,
   "metadata": {
    "ExecuteTime": {
     "end_time": "2021-03-31T20:06:31.036936Z",
     "start_time": "2021-03-31T20:06:31.021934Z"
    }
   },
   "outputs": [],
   "source": [
    "pd.options.display.max_rows = 40"
   ]
  },
  {
   "cell_type": "code",
   "execution_count": 51,
   "metadata": {
    "ExecuteTime": {
     "end_time": "2021-03-31T20:06:34.373932Z",
     "start_time": "2021-03-31T20:06:34.354947Z"
    }
   },
   "outputs": [
    {
     "data": {
      "text/html": [
       "<div>\n",
       "<style scoped>\n",
       "    .dataframe tbody tr th:only-of-type {\n",
       "        vertical-align: middle;\n",
       "    }\n",
       "\n",
       "    .dataframe tbody tr th {\n",
       "        vertical-align: top;\n",
       "    }\n",
       "\n",
       "    .dataframe thead th {\n",
       "        text-align: right;\n",
       "    }\n",
       "</style>\n",
       "<table border=\"1\" class=\"dataframe\">\n",
       "  <thead>\n",
       "    <tr style=\"text-align: right;\">\n",
       "      <th></th>\n",
       "      <th>pairs</th>\n",
       "      <th>cc</th>\n",
       "      <th>column_1</th>\n",
       "      <th>column_2</th>\n",
       "    </tr>\n",
       "  </thead>\n",
       "  <tbody>\n",
       "    <tr>\n",
       "      <th>0</th>\n",
       "      <td>(loan_amnt, loan_amnt)</td>\n",
       "      <td>1.000000</td>\n",
       "      <td>loan_amnt</td>\n",
       "      <td>loan_amnt</td>\n",
       "    </tr>\n",
       "    <tr>\n",
       "      <th>1</th>\n",
       "      <td>(fico_range_low, fico_range_high)</td>\n",
       "      <td>1.000000</td>\n",
       "      <td>fico_range_low</td>\n",
       "      <td>fico_range_high</td>\n",
       "    </tr>\n",
       "    <tr>\n",
       "      <th>2</th>\n",
       "      <td>(out_prncp, out_prncp_inv)</td>\n",
       "      <td>0.999998</td>\n",
       "      <td>out_prncp</td>\n",
       "      <td>out_prncp_inv</td>\n",
       "    </tr>\n",
       "    <tr>\n",
       "      <th>3</th>\n",
       "      <td>(funded_amnt, loan_amnt)</td>\n",
       "      <td>0.999822</td>\n",
       "      <td>funded_amnt</td>\n",
       "      <td>loan_amnt</td>\n",
       "    </tr>\n",
       "    <tr>\n",
       "      <th>4</th>\n",
       "      <td>(total_pymnt_inv, total_pymnt)</td>\n",
       "      <td>0.999569</td>\n",
       "      <td>total_pymnt_inv</td>\n",
       "      <td>total_pymnt</td>\n",
       "    </tr>\n",
       "    <tr>\n",
       "      <th>5</th>\n",
       "      <td>(funded_amnt, funded_amnt_inv)</td>\n",
       "      <td>0.999520</td>\n",
       "      <td>funded_amnt</td>\n",
       "      <td>funded_amnt_inv</td>\n",
       "    </tr>\n",
       "    <tr>\n",
       "      <th>6</th>\n",
       "      <td>(loan_amnt, funded_amnt_inv)</td>\n",
       "      <td>0.999299</td>\n",
       "      <td>loan_amnt</td>\n",
       "      <td>funded_amnt_inv</td>\n",
       "    </tr>\n",
       "    <tr>\n",
       "      <th>7</th>\n",
       "      <td>(num_sats, open_acc)</td>\n",
       "      <td>0.999149</td>\n",
       "      <td>num_sats</td>\n",
       "      <td>open_acc</td>\n",
       "    </tr>\n",
       "    <tr>\n",
       "      <th>8</th>\n",
       "      <td>(num_actv_rev_tl, num_rev_tl_bal_gt_0)</td>\n",
       "      <td>0.986211</td>\n",
       "      <td>num_actv_rev_tl</td>\n",
       "      <td>num_rev_tl_bal_gt_0</td>\n",
       "    </tr>\n",
       "    <tr>\n",
       "      <th>9</th>\n",
       "      <td>(collection_recovery_fee, recoveries)</td>\n",
       "      <td>0.979642</td>\n",
       "      <td>collection_recovery_fee</td>\n",
       "      <td>recoveries</td>\n",
       "    </tr>\n",
       "    <tr>\n",
       "      <th>10</th>\n",
       "      <td>(tot_cur_bal, tot_hi_cred_lim)</td>\n",
       "      <td>0.976404</td>\n",
       "      <td>tot_cur_bal</td>\n",
       "      <td>tot_hi_cred_lim</td>\n",
       "    </tr>\n",
       "    <tr>\n",
       "      <th>11</th>\n",
       "      <td>(total_rec_prncp, total_pymnt)</td>\n",
       "      <td>0.966415</td>\n",
       "      <td>total_rec_prncp</td>\n",
       "      <td>total_pymnt</td>\n",
       "    </tr>\n",
       "    <tr>\n",
       "      <th>12</th>\n",
       "      <td>(total_pymnt_inv, total_rec_prncp)</td>\n",
       "      <td>0.965965</td>\n",
       "      <td>total_pymnt_inv</td>\n",
       "      <td>total_rec_prncp</td>\n",
       "    </tr>\n",
       "    <tr>\n",
       "      <th>13</th>\n",
       "      <td>(installment, funded_amnt)</td>\n",
       "      <td>0.943827</td>\n",
       "      <td>installment</td>\n",
       "      <td>funded_amnt</td>\n",
       "    </tr>\n",
       "    <tr>\n",
       "      <th>14</th>\n",
       "      <td>(installment, loan_amnt)</td>\n",
       "      <td>0.943581</td>\n",
       "      <td>installment</td>\n",
       "      <td>loan_amnt</td>\n",
       "    </tr>\n",
       "    <tr>\n",
       "      <th>15</th>\n",
       "      <td>(funded_amnt_inv, installment)</td>\n",
       "      <td>0.943187</td>\n",
       "      <td>funded_amnt_inv</td>\n",
       "      <td>installment</td>\n",
       "    </tr>\n",
       "    <tr>\n",
       "      <th>16</th>\n",
       "      <td>(total_bal_ex_mort, total_il_high_credit_limit)</td>\n",
       "      <td>0.882000</td>\n",
       "      <td>total_bal_ex_mort</td>\n",
       "      <td>total_il_high_credit_limit</td>\n",
       "    </tr>\n",
       "    <tr>\n",
       "      <th>17</th>\n",
       "      <td>(bc_open_to_buy, total_bc_limit)</td>\n",
       "      <td>0.852275</td>\n",
       "      <td>bc_open_to_buy</td>\n",
       "      <td>total_bc_limit</td>\n",
       "    </tr>\n",
       "    <tr>\n",
       "      <th>18</th>\n",
       "      <td>(bc_util, percent_bc_gt_75)</td>\n",
       "      <td>0.847521</td>\n",
       "      <td>bc_util</td>\n",
       "      <td>percent_bc_gt_75</td>\n",
       "    </tr>\n",
       "    <tr>\n",
       "      <th>19</th>\n",
       "      <td>(last_fico_range_high, last_fico_range_low)</td>\n",
       "      <td>0.847111</td>\n",
       "      <td>last_fico_range_high</td>\n",
       "      <td>last_fico_range_low</td>\n",
       "    </tr>\n",
       "    <tr>\n",
       "      <th>20</th>\n",
       "      <td>(num_op_rev_tl, open_acc)</td>\n",
       "      <td>0.842363</td>\n",
       "      <td>num_op_rev_tl</td>\n",
       "      <td>open_acc</td>\n",
       "    </tr>\n",
       "    <tr>\n",
       "      <th>21</th>\n",
       "      <td>(num_sats, num_op_rev_tl)</td>\n",
       "      <td>0.841691</td>\n",
       "      <td>num_sats</td>\n",
       "      <td>num_op_rev_tl</td>\n",
       "    </tr>\n",
       "    <tr>\n",
       "      <th>22</th>\n",
       "      <td>(num_bc_tl, num_rev_accts)</td>\n",
       "      <td>0.841267</td>\n",
       "      <td>num_bc_tl</td>\n",
       "      <td>num_rev_accts</td>\n",
       "    </tr>\n",
       "    <tr>\n",
       "      <th>23</th>\n",
       "      <td>(num_bc_sats, num_actv_bc_tl)</td>\n",
       "      <td>0.836619</td>\n",
       "      <td>num_bc_sats</td>\n",
       "      <td>num_actv_bc_tl</td>\n",
       "    </tr>\n",
       "    <tr>\n",
       "      <th>24</th>\n",
       "      <td>(num_actv_rev_tl, num_actv_bc_tl)</td>\n",
       "      <td>0.830364</td>\n",
       "      <td>num_actv_rev_tl</td>\n",
       "      <td>num_actv_bc_tl</td>\n",
       "    </tr>\n",
       "    <tr>\n",
       "      <th>25</th>\n",
       "      <td>(num_rev_tl_bal_gt_0, num_actv_bc_tl)</td>\n",
       "      <td>0.825230</td>\n",
       "      <td>num_rev_tl_bal_gt_0</td>\n",
       "      <td>num_actv_bc_tl</td>\n",
       "    </tr>\n",
       "    <tr>\n",
       "      <th>26</th>\n",
       "      <td>(avg_cur_bal, tot_cur_bal)</td>\n",
       "      <td>0.823918</td>\n",
       "      <td>avg_cur_bal</td>\n",
       "      <td>tot_cur_bal</td>\n",
       "    </tr>\n",
       "    <tr>\n",
       "      <th>27</th>\n",
       "      <td>(num_rev_tl_bal_gt_0, num_op_rev_tl)</td>\n",
       "      <td>0.803469</td>\n",
       "      <td>num_rev_tl_bal_gt_0</td>\n",
       "      <td>num_op_rev_tl</td>\n",
       "    </tr>\n",
       "    <tr>\n",
       "      <th>28</th>\n",
       "      <td>(acc_now_delinq, num_tl_30dpd)</td>\n",
       "      <td>0.801519</td>\n",
       "      <td>acc_now_delinq</td>\n",
       "      <td>num_tl_30dpd</td>\n",
       "    </tr>\n",
       "    <tr>\n",
       "      <th>29</th>\n",
       "      <td>(num_rev_accts, num_op_rev_tl)</td>\n",
       "      <td>0.800397</td>\n",
       "      <td>num_rev_accts</td>\n",
       "      <td>num_op_rev_tl</td>\n",
       "    </tr>\n",
       "    <tr>\n",
       "      <th>30</th>\n",
       "      <td>(num_op_rev_tl, num_actv_rev_tl)</td>\n",
       "      <td>0.800002</td>\n",
       "      <td>num_op_rev_tl</td>\n",
       "      <td>num_actv_rev_tl</td>\n",
       "    </tr>\n",
       "    <tr>\n",
       "      <th>31</th>\n",
       "      <td>(revol_bal, total_rev_hi_lim)</td>\n",
       "      <td>0.791658</td>\n",
       "      <td>revol_bal</td>\n",
       "      <td>total_rev_hi_lim</td>\n",
       "    </tr>\n",
       "    <tr>\n",
       "      <th>32</th>\n",
       "      <td>(tot_hi_cred_lim, avg_cur_bal)</td>\n",
       "      <td>0.782711</td>\n",
       "      <td>tot_hi_cred_lim</td>\n",
       "      <td>avg_cur_bal</td>\n",
       "    </tr>\n",
       "    <tr>\n",
       "      <th>33</th>\n",
       "      <td>(num_bc_sats, num_op_rev_tl)</td>\n",
       "      <td>0.780491</td>\n",
       "      <td>num_bc_sats</td>\n",
       "      <td>num_op_rev_tl</td>\n",
       "    </tr>\n",
       "    <tr>\n",
       "      <th>34</th>\n",
       "      <td>(total_rev_hi_lim, total_bc_limit)</td>\n",
       "      <td>0.779951</td>\n",
       "      <td>total_rev_hi_lim</td>\n",
       "      <td>total_bc_limit</td>\n",
       "    </tr>\n",
       "    <tr>\n",
       "      <th>35</th>\n",
       "      <td>(acc_open_past_24mths, num_tl_op_past_12m)</td>\n",
       "      <td>0.771788</td>\n",
       "      <td>acc_open_past_24mths</td>\n",
       "      <td>num_tl_op_past_12m</td>\n",
       "    </tr>\n",
       "    <tr>\n",
       "      <th>36</th>\n",
       "      <td>(total_acc, num_rev_accts)</td>\n",
       "      <td>0.764571</td>\n",
       "      <td>total_acc</td>\n",
       "      <td>num_rev_accts</td>\n",
       "    </tr>\n",
       "    <tr>\n",
       "      <th>37</th>\n",
       "      <td>(num_bc_sats, num_bc_tl)</td>\n",
       "      <td>0.763108</td>\n",
       "      <td>num_bc_sats</td>\n",
       "      <td>num_bc_tl</td>\n",
       "    </tr>\n",
       "  </tbody>\n",
       "</table>\n",
       "</div>"
      ],
      "text/plain": [
       "                                              pairs        cc  \\\n",
       "0                            (loan_amnt, loan_amnt)  1.000000   \n",
       "1                 (fico_range_low, fico_range_high)  1.000000   \n",
       "2                        (out_prncp, out_prncp_inv)  0.999998   \n",
       "3                          (funded_amnt, loan_amnt)  0.999822   \n",
       "4                    (total_pymnt_inv, total_pymnt)  0.999569   \n",
       "5                    (funded_amnt, funded_amnt_inv)  0.999520   \n",
       "6                      (loan_amnt, funded_amnt_inv)  0.999299   \n",
       "7                              (num_sats, open_acc)  0.999149   \n",
       "8            (num_actv_rev_tl, num_rev_tl_bal_gt_0)  0.986211   \n",
       "9             (collection_recovery_fee, recoveries)  0.979642   \n",
       "10                   (tot_cur_bal, tot_hi_cred_lim)  0.976404   \n",
       "11                   (total_rec_prncp, total_pymnt)  0.966415   \n",
       "12               (total_pymnt_inv, total_rec_prncp)  0.965965   \n",
       "13                       (installment, funded_amnt)  0.943827   \n",
       "14                         (installment, loan_amnt)  0.943581   \n",
       "15                   (funded_amnt_inv, installment)  0.943187   \n",
       "16  (total_bal_ex_mort, total_il_high_credit_limit)  0.882000   \n",
       "17                 (bc_open_to_buy, total_bc_limit)  0.852275   \n",
       "18                      (bc_util, percent_bc_gt_75)  0.847521   \n",
       "19      (last_fico_range_high, last_fico_range_low)  0.847111   \n",
       "20                        (num_op_rev_tl, open_acc)  0.842363   \n",
       "21                        (num_sats, num_op_rev_tl)  0.841691   \n",
       "22                       (num_bc_tl, num_rev_accts)  0.841267   \n",
       "23                    (num_bc_sats, num_actv_bc_tl)  0.836619   \n",
       "24                (num_actv_rev_tl, num_actv_bc_tl)  0.830364   \n",
       "25            (num_rev_tl_bal_gt_0, num_actv_bc_tl)  0.825230   \n",
       "26                       (avg_cur_bal, tot_cur_bal)  0.823918   \n",
       "27             (num_rev_tl_bal_gt_0, num_op_rev_tl)  0.803469   \n",
       "28                   (acc_now_delinq, num_tl_30dpd)  0.801519   \n",
       "29                   (num_rev_accts, num_op_rev_tl)  0.800397   \n",
       "30                 (num_op_rev_tl, num_actv_rev_tl)  0.800002   \n",
       "31                    (revol_bal, total_rev_hi_lim)  0.791658   \n",
       "32                   (tot_hi_cred_lim, avg_cur_bal)  0.782711   \n",
       "33                     (num_bc_sats, num_op_rev_tl)  0.780491   \n",
       "34               (total_rev_hi_lim, total_bc_limit)  0.779951   \n",
       "35       (acc_open_past_24mths, num_tl_op_past_12m)  0.771788   \n",
       "36                       (total_acc, num_rev_accts)  0.764571   \n",
       "37                         (num_bc_sats, num_bc_tl)  0.763108   \n",
       "\n",
       "                   column_1                    column_2  \n",
       "0                 loan_amnt                   loan_amnt  \n",
       "1            fico_range_low             fico_range_high  \n",
       "2                 out_prncp               out_prncp_inv  \n",
       "3               funded_amnt                   loan_amnt  \n",
       "4           total_pymnt_inv                 total_pymnt  \n",
       "5               funded_amnt             funded_amnt_inv  \n",
       "6                 loan_amnt             funded_amnt_inv  \n",
       "7                  num_sats                    open_acc  \n",
       "8           num_actv_rev_tl         num_rev_tl_bal_gt_0  \n",
       "9   collection_recovery_fee                  recoveries  \n",
       "10              tot_cur_bal             tot_hi_cred_lim  \n",
       "11          total_rec_prncp                 total_pymnt  \n",
       "12          total_pymnt_inv             total_rec_prncp  \n",
       "13              installment                 funded_amnt  \n",
       "14              installment                   loan_amnt  \n",
       "15          funded_amnt_inv                 installment  \n",
       "16        total_bal_ex_mort  total_il_high_credit_limit  \n",
       "17           bc_open_to_buy              total_bc_limit  \n",
       "18                  bc_util            percent_bc_gt_75  \n",
       "19     last_fico_range_high         last_fico_range_low  \n",
       "20            num_op_rev_tl                    open_acc  \n",
       "21                 num_sats               num_op_rev_tl  \n",
       "22                num_bc_tl               num_rev_accts  \n",
       "23              num_bc_sats              num_actv_bc_tl  \n",
       "24          num_actv_rev_tl              num_actv_bc_tl  \n",
       "25      num_rev_tl_bal_gt_0              num_actv_bc_tl  \n",
       "26              avg_cur_bal                 tot_cur_bal  \n",
       "27      num_rev_tl_bal_gt_0               num_op_rev_tl  \n",
       "28           acc_now_delinq                num_tl_30dpd  \n",
       "29            num_rev_accts               num_op_rev_tl  \n",
       "30            num_op_rev_tl             num_actv_rev_tl  \n",
       "31                revol_bal            total_rev_hi_lim  \n",
       "32          tot_hi_cred_lim                 avg_cur_bal  \n",
       "33              num_bc_sats               num_op_rev_tl  \n",
       "34         total_rev_hi_lim              total_bc_limit  \n",
       "35     acc_open_past_24mths          num_tl_op_past_12m  \n",
       "36                total_acc               num_rev_accts  \n",
       "37              num_bc_sats                   num_bc_tl  "
      ]
     },
     "execution_count": 51,
     "metadata": {},
     "output_type": "execute_result"
    }
   ],
   "source": [
    "multicollinear_predictors"
   ]
  },
  {
   "cell_type": "code",
   "execution_count": 130,
   "metadata": {
    "ExecuteTime": {
     "end_time": "2021-04-01T21:37:56.387585Z",
     "start_time": "2021-04-01T21:37:55.682541Z"
    }
   },
   "outputs": [],
   "source": [
    "df.drop(columns=corr_drops,axis=1,inplace=True)"
   ]
  },
  {
   "cell_type": "code",
   "execution_count": 129,
   "metadata": {
    "ExecuteTime": {
     "end_time": "2021-04-01T21:37:51.564837Z",
     "start_time": "2021-04-01T21:37:51.555806Z"
    }
   },
   "outputs": [],
   "source": [
    "corr_drops = ['out_prncp_inv','total_pymnt_inv','funded_amnt_inv','funded_amnt',\n",
    "              'num_sats','tot_hi_cred_lim','num_rev_tl_bal_gt_0','collection_recovery_fee'\n",
    "             ,'bc_open_to_buy','percent_bc_gt_75','open_acc','num_actv_bc_tl','num_actv_rev_tl','num_rev_accts'\n",
    "             ,'total_rev_hi_lim']"
   ]
  },
  {
   "cell_type": "markdown",
   "metadata": {},
   "source": [
    "Modify:\n",
    "1. fico_low high take average\n",
    "2. last_fico_range_high low average\n",
    "\n",
    "\n",
    "Drop:\n",
    " - out_prncp_inv\n",
    " - total_pymnt_inv\n",
    " - funded_amnt_inv\n",
    " - funded_amnt these\n",
    " - num_sats\n",
    " - member_id\n",
    " - num_rev_tl_bal_gt_0\n",
    " - collection_recovery_fee\n",
    " - bc_open_to_buy\n",
    " - percent_bc_gt_75\n",
    " - open_acc\n",
    " - num_actv_bc_tl\n",
    " - num_actv_rev_tl\n",
    " - num_rev_accts\n",
    " - tot_hi_cred_lim\n",
    " - total_rev_hi_lim\n",
    " "
   ]
  },
  {
   "cell_type": "code",
   "execution_count": 141,
   "metadata": {
    "ExecuteTime": {
     "end_time": "2021-04-01T21:44:45.084389Z",
     "start_time": "2021-04-01T21:44:42.831061Z"
    },
    "scrolled": false
   },
   "outputs": [
    {
     "data": {
      "text/plain": [
       "([<matplotlib.axis.YTick at 0x2c141421370>,\n",
       "  <matplotlib.axis.YTick at 0x2c1413f6f70>,\n",
       "  <matplotlib.axis.YTick at 0x2c161181280>,\n",
       "  <matplotlib.axis.YTick at 0x2c161181760>,\n",
       "  <matplotlib.axis.YTick at 0x2c161160370>,\n",
       "  <matplotlib.axis.YTick at 0x2c161188400>,\n",
       "  <matplotlib.axis.YTick at 0x2c1413f6760>,\n",
       "  <matplotlib.axis.YTick at 0x2c16117e820>],\n",
       " [Text(0, 0, ''),\n",
       "  Text(0, 0, ''),\n",
       "  Text(0, 0, ''),\n",
       "  Text(0, 0, ''),\n",
       "  Text(0, 0, ''),\n",
       "  Text(0, 0, ''),\n",
       "  Text(0, 0, ''),\n",
       "  Text(0, 0, '')])"
      ]
     },
     "execution_count": 141,
     "metadata": {},
     "output_type": "execute_result"
    },
    {
     "data": {
      "image/png": "[encoded data removed]",
      "text/plain": [
       "<Figure size 864x576 with 1 Axes>"
      ]
     },
     "metadata": {
      "needs_background": "light"
     },
     "output_type": "display_data"
    }
   ],
   "source": [
    "fig,ax = plt.subplots(figsize=(12,8))\n",
    "sns.histplot(data=df.isna().mean(),bins=16)\n",
    "plt.xticks(np.linspace(0,.15,16))\n",
    "plt.title(\"Histogram of Nan Values as % of Column\")\n",
    "plt.xlabel('% of Rows with NaN Values')\n",
    "plt.yticks(np.linspace(0,70,8))"
   ]
  },
  {
   "cell_type": "code",
   "execution_count": 168,
   "metadata": {
    "ExecuteTime": {
     "end_time": "2021-04-01T22:12:13.691092Z",
     "start_time": "2021-04-01T22:12:13.677093Z"
    }
   },
   "outputs": [],
   "source": [
    "rem_nans = None\n"
   ]
  },
  {
   "cell_type": "code",
   "execution_count": 17,
   "metadata": {
    "ExecuteTime": {
     "end_time": "2021-04-02T01:58:56.959471Z",
     "start_time": "2021-04-02T01:58:56.954472Z"
    }
   },
   "outputs": [],
   "source": [
    "def na_check(data):\n",
    "    check = np.round(data.isna().mean().sort_values(ascending=False),2)\n",
    "    return check"
   ]
  },
  {
   "cell_type": "markdown",
   "metadata": {},
   "source": [
    "1860331 of loans fully paid or charged off i.e. target variable"
   ]
  },
  {
   "cell_type": "code",
   "execution_count": 15,
   "metadata": {
    "ExecuteTime": {
     "end_time": "2021-04-02T01:58:46.346274Z",
     "start_time": "2021-04-02T01:58:45.489900Z"
    }
   },
   "outputs": [
    {
     "data": {
      "text/plain": [
       "1860331"
      ]
     },
     "execution_count": 15,
     "metadata": {},
     "output_type": "execute_result"
    }
   ],
   "source": [
    "clean = df.loc[df['loan_status'].isin(['Fully Paid','Charged Off'])]\n",
    "len(clean)"
   ]
  },
  {
   "cell_type": "code",
   "execution_count": 18,
   "metadata": {
    "ExecuteTime": {
     "end_time": "2021-04-02T01:59:06.129469Z",
     "start_time": "2021-04-02T01:59:04.690468Z"
    }
   },
   "outputs": [
    {
     "data": {
      "text/plain": [
       "mths_since_recent_inq    0.12\n",
       "num_tl_120dpd_2m         0.07\n",
       "emp_title                0.07\n",
       "mo_sin_old_il_acct       0.07\n",
       "emp_length               0.06\n",
       "                         ... \n",
       "num_tl_op_past_12m       0.04\n",
       "mo_sin_rcnt_tl           0.04\n",
       "num_bc_tl                0.04\n",
       "num_il_tl                0.04\n",
       "num_op_rev_tl            0.04\n",
       "Length: 20, dtype: float64"
      ]
     },
     "execution_count": 18,
     "metadata": {},
     "output_type": "execute_result"
    }
   ],
   "source": [
    "na_check(clean).head(20)"
   ]
  },
  {
   "cell_type": "code",
   "execution_count": 19,
   "metadata": {
    "ExecuteTime": {
     "end_time": "2021-04-02T01:59:16.277290Z",
     "start_time": "2021-04-02T01:59:13.924002Z"
    }
   },
   "outputs": [
    {
     "name": "stderr",
     "output_type": "stream",
     "text": [
      "<ipython-input-19-52187b9c0e41>:4: SettingWithCopyWarning: \n",
      "A value is trying to be set on a copy of a slice from a DataFrame\n",
      "\n",
      "See the caveats in the documentation: https://pandas.pydata.org/pandas-docs/stable/user_guide/indexing.html#returning-a-view-versus-a-copy\n",
      "  clean.dropna(subset=five_pc_nan,inplace=True)\n"
     ]
    }
   ],
   "source": [
    "rem_nans = np.round(clean.isna().mean().sort_values(ascending=False),2)\n",
    "five_pc_nan = list(rem_nans[(rem_nans>0) & (rem_nans <.05)].index)\n",
    "\n",
    "clean.dropna(subset=five_pc_nan,inplace=True)"
   ]
  },
  {
   "cell_type": "markdown",
   "metadata": {},
   "source": [
    "0.07% of rows dropped for nan values or 119,268 rows"
   ]
  },
  {
   "cell_type": "code",
   "execution_count": null,
   "metadata": {},
   "outputs": [],
   "source": [
    "rem = ['mths_since_recent_inq', 'emp_title', 'emp_length', 'num_tl_120dpd_2m',\n",
    "       'mo_sin_old_il_acct']"
   ]
  },
  {
   "cell_type": "code",
   "execution_count": 20,
   "metadata": {
    "ExecuteTime": {
     "end_time": "2021-04-02T01:59:25.075232Z",
     "start_time": "2021-04-02T01:59:23.770934Z"
    }
   },
   "outputs": [
    {
     "data": {
      "text/plain": [
       "mths_since_recent_inq    0.10\n",
       "emp_title                0.07\n",
       "emp_length               0.06\n",
       "num_tl_120dpd_2m         0.04\n",
       "mo_sin_old_il_acct       0.03\n",
       "last_pymnt_d             0.00\n",
       "dti                      0.00\n",
       "last_credit_pull_d       0.00\n",
       "zip_code                 0.00\n",
       "inq_last_6mths           0.00\n",
       "dtype: float64"
      ]
     },
     "execution_count": 20,
     "metadata": {},
     "output_type": "execute_result"
    }
   ],
   "source": [
    "(na_check(clean)).head(10)"
   ]
  },
  {
   "cell_type": "code",
   "execution_count": 24,
   "metadata": {
    "ExecuteTime": {
     "end_time": "2021-04-02T02:00:48.947201Z",
     "start_time": "2021-04-02T02:00:48.937167Z"
    }
   },
   "outputs": [
    {
     "data": {
      "text/plain": [
       "42536      Dec-2013\n",
       "42537      Dec-2013\n",
       "42538      Dec-2013\n",
       "42539      Dec-2013\n",
       "42540      Dec-2013\n",
       "             ...   \n",
       "2925488    Apr-2017\n",
       "2925489    Apr-2017\n",
       "2925490    Apr-2017\n",
       "2925491    Apr-2017\n",
       "2925492    Apr-2017\n",
       "Name: issue_d, Length: 1741063, dtype: object"
      ]
     },
     "execution_count": 24,
     "metadata": {},
     "output_type": "execute_result"
    }
   ],
   "source": [
    "clean.issue_d"
   ]
  },
  {
   "cell_type": "code",
   "execution_count": 25,
   "metadata": {
    "ExecuteTime": {
     "end_time": "2021-04-02T02:01:21.438151Z",
     "start_time": "2021-04-02T02:01:21.129857Z"
    }
   },
   "outputs": [
    {
     "name": "stderr",
     "output_type": "stream",
     "text": [
      "C:\\Users\\sergi\\anaconda3\\envs\\learn-env\\lib\\site-packages\\pandas\\core\\generic.py:5168: SettingWithCopyWarning: \n",
      "A value is trying to be set on a copy of a slice from a DataFrame.\n",
      "Try using .loc[row_indexer,col_indexer] = value instead\n",
      "\n",
      "See the caveats in the documentation: https://pandas.pydata.org/pandas-docs/stable/user_guide/indexing.html#returning-a-view-versus-a-copy\n",
      "  self[name] = value\n"
     ]
    }
   ],
   "source": [
    "clean.issue_d = pd.to_datetime(clean.issue_d)"
   ]
  },
  {
   "cell_type": "markdown",
   "metadata": {},
   "source": [
    "Relevant path to save csv file:\n",
    "C:\\Users\\sergi\\Documents\\Flatiron\\Course Materials\\Capstone\\Capstone-Placeholder\\data\\Loan_status_2007-2020Q3.gzip"
   ]
  },
  {
   "cell_type": "code",
   "execution_count": 27,
   "metadata": {
    "ExecuteTime": {
     "end_time": "2021-04-02T02:08:59.773957Z",
     "start_time": "2021-04-02T02:07:36.784651Z"
    }
   },
   "outputs": [],
   "source": [
    "clean.to_csv('data\\cleaned_data')"
   ]
  },
  {
   "cell_type": "code",
   "execution_count": null,
   "metadata": {},
   "outputs": [],
   "source": []
  },
  {
   "cell_type": "code",
   "execution_count": 108,
   "metadata": {
    "ExecuteTime": {
     "end_time": "2021-04-02T00:53:39.852707Z",
     "start_time": "2021-04-02T00:53:39.326932Z"
    }
   },
   "outputs": [],
   "source": [
    "pre_covid = clean[clean.issue_d < '2020-03']"
   ]
  },
  {
   "cell_type": "code",
   "execution_count": 145,
   "metadata": {
    "ExecuteTime": {
     "end_time": "2021-04-02T01:39:37.071402Z",
     "start_time": "2021-04-02T01:39:37.056366Z"
    }
   },
   "outputs": [],
   "source": [
    "pd.options.display.max_columns = 10\n",
    "pd.options.display.max_rows = 10"
   ]
  },
  {
   "cell_type": "code",
   "execution_count": 129,
   "metadata": {
    "ExecuteTime": {
     "end_time": "2021-04-02T01:25:25.280219Z",
     "start_time": "2021-04-02T01:25:24.350656Z"
    }
   },
   "outputs": [
    {
     "name": "stderr",
     "output_type": "stream",
     "text": [
      "<ipython-input-129-62bdc0e83941>:1: SettingWithCopyWarning: \n",
      "A value is trying to be set on a copy of a slice from a DataFrame.\n",
      "Try using .loc[row_indexer,col_indexer] = value instead\n",
      "\n",
      "See the caveats in the documentation: https://pandas.pydata.org/pandas-docs/stable/user_guide/indexing.html#returning-a-view-versus-a-copy\n",
      "  pre_covid['term'] = pre_covid['term'].map(lambda x: int(x.replace(' months','')))\n"
     ]
    }
   ],
   "source": [
    "pre_covid['term'] = pre_covid['term'].map(lambda x: int(x.replace(' months','')))"
   ]
  },
  {
   "cell_type": "code",
   "execution_count": 138,
   "metadata": {
    "ExecuteTime": {
     "end_time": "2021-04-02T01:33:52.507149Z",
     "start_time": "2021-04-02T01:33:52.494118Z"
    }
   },
   "outputs": [
    {
     "data": {
      "text/plain": [
       "id                            10129454\n",
       "loan_amnt                        12000\n",
       "term                                36\n",
       "int_rate                        10.99%\n",
       "installment                     392.75\n",
       "                                ...   \n",
       "total_bal_ex_mort                 7137\n",
       "total_bc_limit                   18100\n",
       "total_il_high_credit_limit           0\n",
       "hardship_flag                        N\n",
       "debt_settlement_flag                 N\n",
       "Name: 42536, Length: 75, dtype: object"
      ]
     },
     "execution_count": 138,
     "metadata": {},
     "output_type": "execute_result"
    }
   ],
   "source": [
    "pre_covid.iloc[0]"
   ]
  },
  {
   "cell_type": "code",
   "execution_count": null,
   "metadata": {},
   "outputs": [],
   "source": [
    "for row in range(0,len(pre_covid)):\n",
    "    "
   ]
  },
  {
   "cell_type": "code",
   "execution_count": 130,
   "metadata": {
    "ExecuteTime": {
     "end_time": "2021-04-02T01:26:33.099980Z",
     "start_time": "2021-04-02T01:26:33.079981Z"
    }
   },
   "outputs": [
    {
     "ename": "TypeError",
     "evalue": "Addition/subtraction of integers and integer-arrays with DatetimeArray is no longer supported.  Instead of adding/subtracting `n`, use `n * obj.freq`",
     "output_type": "error",
     "traceback": [
      "\u001b[1;31m---------------------------------------------------------------------------\u001b[0m",
      "\u001b[1;31mTypeError\u001b[0m                                 Traceback (most recent call last)",
      "\u001b[1;32m<ipython-input-130-beb06010853a>\u001b[0m in \u001b[0;36m<module>\u001b[1;34m\u001b[0m\n\u001b[1;32m----> 1\u001b[1;33m \u001b[0mpre_covid\u001b[0m\u001b[1;33m[\u001b[0m\u001b[1;34m'issue_d'\u001b[0m\u001b[1;33m]\u001b[0m \u001b[1;33m+\u001b[0m\u001b[1;36m1\u001b[0m\u001b[1;33m\u001b[0m\u001b[1;33m\u001b[0m\u001b[0m\n\u001b[0m",
      "\u001b[1;32m~\\anaconda3\\envs\\learn-env\\lib\\site-packages\\pandas\\core\\ops\\common.py\u001b[0m in \u001b[0;36mnew_method\u001b[1;34m(self, other)\u001b[0m\n\u001b[0;32m     63\u001b[0m         \u001b[0mother\u001b[0m \u001b[1;33m=\u001b[0m \u001b[0mitem_from_zerodim\u001b[0m\u001b[1;33m(\u001b[0m\u001b[0mother\u001b[0m\u001b[1;33m)\u001b[0m\u001b[1;33m\u001b[0m\u001b[1;33m\u001b[0m\u001b[0m\n\u001b[0;32m     64\u001b[0m \u001b[1;33m\u001b[0m\u001b[0m\n\u001b[1;32m---> 65\u001b[1;33m         \u001b[1;32mreturn\u001b[0m \u001b[0mmethod\u001b[0m\u001b[1;33m(\u001b[0m\u001b[0mself\u001b[0m\u001b[1;33m,\u001b[0m \u001b[0mother\u001b[0m\u001b[1;33m)\u001b[0m\u001b[1;33m\u001b[0m\u001b[1;33m\u001b[0m\u001b[0m\n\u001b[0m\u001b[0;32m     66\u001b[0m \u001b[1;33m\u001b[0m\u001b[0m\n\u001b[0;32m     67\u001b[0m     \u001b[1;32mreturn\u001b[0m \u001b[0mnew_method\u001b[0m\u001b[1;33m\u001b[0m\u001b[1;33m\u001b[0m\u001b[0m\n",
      "\u001b[1;32m~\\anaconda3\\envs\\learn-env\\lib\\site-packages\\pandas\\core\\ops\\__init__.py\u001b[0m in \u001b[0;36mwrapper\u001b[1;34m(left, right)\u001b[0m\n\u001b[0;32m    341\u001b[0m         \u001b[0mlvalues\u001b[0m \u001b[1;33m=\u001b[0m \u001b[0mextract_array\u001b[0m\u001b[1;33m(\u001b[0m\u001b[0mleft\u001b[0m\u001b[1;33m,\u001b[0m \u001b[0mextract_numpy\u001b[0m\u001b[1;33m=\u001b[0m\u001b[1;32mTrue\u001b[0m\u001b[1;33m)\u001b[0m\u001b[1;33m\u001b[0m\u001b[1;33m\u001b[0m\u001b[0m\n\u001b[0;32m    342\u001b[0m         \u001b[0mrvalues\u001b[0m \u001b[1;33m=\u001b[0m \u001b[0mextract_array\u001b[0m\u001b[1;33m(\u001b[0m\u001b[0mright\u001b[0m\u001b[1;33m,\u001b[0m \u001b[0mextract_numpy\u001b[0m\u001b[1;33m=\u001b[0m\u001b[1;32mTrue\u001b[0m\u001b[1;33m)\u001b[0m\u001b[1;33m\u001b[0m\u001b[1;33m\u001b[0m\u001b[0m\n\u001b[1;32m--> 343\u001b[1;33m         \u001b[0mresult\u001b[0m \u001b[1;33m=\u001b[0m \u001b[0marithmetic_op\u001b[0m\u001b[1;33m(\u001b[0m\u001b[0mlvalues\u001b[0m\u001b[1;33m,\u001b[0m \u001b[0mrvalues\u001b[0m\u001b[1;33m,\u001b[0m \u001b[0mop\u001b[0m\u001b[1;33m)\u001b[0m\u001b[1;33m\u001b[0m\u001b[1;33m\u001b[0m\u001b[0m\n\u001b[0m\u001b[0;32m    344\u001b[0m \u001b[1;33m\u001b[0m\u001b[0m\n\u001b[0;32m    345\u001b[0m         \u001b[1;32mreturn\u001b[0m \u001b[0mleft\u001b[0m\u001b[1;33m.\u001b[0m\u001b[0m_construct_result\u001b[0m\u001b[1;33m(\u001b[0m\u001b[0mresult\u001b[0m\u001b[1;33m,\u001b[0m \u001b[0mname\u001b[0m\u001b[1;33m=\u001b[0m\u001b[0mres_name\u001b[0m\u001b[1;33m)\u001b[0m\u001b[1;33m\u001b[0m\u001b[1;33m\u001b[0m\u001b[0m\n",
      "\u001b[1;32m~\\anaconda3\\envs\\learn-env\\lib\\site-packages\\pandas\\core\\ops\\array_ops.py\u001b[0m in \u001b[0;36marithmetic_op\u001b[1;34m(left, right, op)\u001b[0m\n\u001b[0;32m    184\u001b[0m     \u001b[1;32mif\u001b[0m \u001b[0mshould_extension_dispatch\u001b[0m\u001b[1;33m(\u001b[0m\u001b[0mlvalues\u001b[0m\u001b[1;33m,\u001b[0m \u001b[0mrvalues\u001b[0m\u001b[1;33m)\u001b[0m \u001b[1;32mor\u001b[0m \u001b[0misinstance\u001b[0m\u001b[1;33m(\u001b[0m\u001b[0mrvalues\u001b[0m\u001b[1;33m,\u001b[0m \u001b[0mTimedelta\u001b[0m\u001b[1;33m)\u001b[0m\u001b[1;33m:\u001b[0m\u001b[1;33m\u001b[0m\u001b[1;33m\u001b[0m\u001b[0m\n\u001b[0;32m    185\u001b[0m         \u001b[1;31m# Timedelta is included because numexpr will fail on it, see GH#31457\u001b[0m\u001b[1;33m\u001b[0m\u001b[1;33m\u001b[0m\u001b[1;33m\u001b[0m\u001b[0m\n\u001b[1;32m--> 186\u001b[1;33m         \u001b[0mres_values\u001b[0m \u001b[1;33m=\u001b[0m \u001b[0mop\u001b[0m\u001b[1;33m(\u001b[0m\u001b[0mlvalues\u001b[0m\u001b[1;33m,\u001b[0m \u001b[0mrvalues\u001b[0m\u001b[1;33m)\u001b[0m\u001b[1;33m\u001b[0m\u001b[1;33m\u001b[0m\u001b[0m\n\u001b[0m\u001b[0;32m    187\u001b[0m \u001b[1;33m\u001b[0m\u001b[0m\n\u001b[0;32m    188\u001b[0m     \u001b[1;32melse\u001b[0m\u001b[1;33m:\u001b[0m\u001b[1;33m\u001b[0m\u001b[1;33m\u001b[0m\u001b[0m\n",
      "\u001b[1;32m~\\anaconda3\\envs\\learn-env\\lib\\site-packages\\pandas\\core\\ops\\common.py\u001b[0m in \u001b[0;36mnew_method\u001b[1;34m(self, other)\u001b[0m\n\u001b[0;32m     63\u001b[0m         \u001b[0mother\u001b[0m \u001b[1;33m=\u001b[0m \u001b[0mitem_from_zerodim\u001b[0m\u001b[1;33m(\u001b[0m\u001b[0mother\u001b[0m\u001b[1;33m)\u001b[0m\u001b[1;33m\u001b[0m\u001b[1;33m\u001b[0m\u001b[0m\n\u001b[0;32m     64\u001b[0m \u001b[1;33m\u001b[0m\u001b[0m\n\u001b[1;32m---> 65\u001b[1;33m         \u001b[1;32mreturn\u001b[0m \u001b[0mmethod\u001b[0m\u001b[1;33m(\u001b[0m\u001b[0mself\u001b[0m\u001b[1;33m,\u001b[0m \u001b[0mother\u001b[0m\u001b[1;33m)\u001b[0m\u001b[1;33m\u001b[0m\u001b[1;33m\u001b[0m\u001b[0m\n\u001b[0m\u001b[0;32m     66\u001b[0m \u001b[1;33m\u001b[0m\u001b[0m\n\u001b[0;32m     67\u001b[0m     \u001b[1;32mreturn\u001b[0m \u001b[0mnew_method\u001b[0m\u001b[1;33m\u001b[0m\u001b[1;33m\u001b[0m\u001b[0m\n",
      "\u001b[1;32m~\\anaconda3\\envs\\learn-env\\lib\\site-packages\\pandas\\core\\arrays\\datetimelike.py\u001b[0m in \u001b[0;36m__add__\u001b[1;34m(self, other)\u001b[0m\n\u001b[0;32m   1411\u001b[0m             \u001b[1;31m# as is_integer returns True for these\u001b[0m\u001b[1;33m\u001b[0m\u001b[1;33m\u001b[0m\u001b[1;33m\u001b[0m\u001b[0m\n\u001b[0;32m   1412\u001b[0m             \u001b[1;32mif\u001b[0m \u001b[1;32mnot\u001b[0m \u001b[0mis_period_dtype\u001b[0m\u001b[1;33m(\u001b[0m\u001b[0mself\u001b[0m\u001b[1;33m.\u001b[0m\u001b[0mdtype\u001b[0m\u001b[1;33m)\u001b[0m\u001b[1;33m:\u001b[0m\u001b[1;33m\u001b[0m\u001b[1;33m\u001b[0m\u001b[0m\n\u001b[1;32m-> 1413\u001b[1;33m                 \u001b[1;32mraise\u001b[0m \u001b[0minteger_op_not_supported\u001b[0m\u001b[1;33m(\u001b[0m\u001b[0mself\u001b[0m\u001b[1;33m)\u001b[0m\u001b[1;33m\u001b[0m\u001b[1;33m\u001b[0m\u001b[0m\n\u001b[0m\u001b[0;32m   1414\u001b[0m             \u001b[0mresult\u001b[0m \u001b[1;33m=\u001b[0m \u001b[0mself\u001b[0m\u001b[1;33m.\u001b[0m\u001b[0m_time_shift\u001b[0m\u001b[1;33m(\u001b[0m\u001b[0mother\u001b[0m\u001b[1;33m)\u001b[0m\u001b[1;33m\u001b[0m\u001b[1;33m\u001b[0m\u001b[0m\n\u001b[0;32m   1415\u001b[0m \u001b[1;33m\u001b[0m\u001b[0m\n",
      "\u001b[1;31mTypeError\u001b[0m: Addition/subtraction of integers and integer-arrays with DatetimeArray is no longer supported.  Instead of adding/subtracting `n`, use `n * obj.freq`"
     ]
    }
   ],
   "source": [
    "pre_covid['issue_d'] + pd.offsets.MonthOffset(pre_covid['term'])"
   ]
  },
  {
   "cell_type": "code",
   "execution_count": null,
   "metadata": {},
   "outputs": [],
   "source": [
    "pre_covid['issue_d'] + pre_covid['term']"
   ]
  },
  {
   "cell_type": "code",
   "execution_count": 121,
   "metadata": {
    "ExecuteTime": {
     "end_time": "2021-04-02T01:18:36.140112Z",
     "start_time": "2021-04-02T01:18:36.121105Z"
    }
   },
   "outputs": [
    {
     "data": {
      "text/plain": [
       "42536      Apr-2016\n",
       "42537      Sep-2014\n",
       "42538      Jul-2016\n",
       "42539      Jun-2016\n",
       "42540      Jan-2017\n",
       "             ...   \n",
       "2925488    Mar-2018\n",
       "2925489    Oct-2019\n",
       "2925490    May-2019\n",
       "2925491    Jan-2019\n",
       "2925492    Oct-2017\n",
       "Name: last_pymnt_d, Length: 1739518, dtype: object"
      ]
     },
     "execution_count": 121,
     "metadata": {},
     "output_type": "execute_result"
    }
   ],
   "source": [
    "pre_covid['last_pymnt_d']"
   ]
  },
  {
   "cell_type": "code",
   "execution_count": 122,
   "metadata": {
    "ExecuteTime": {
     "end_time": "2021-04-02T01:21:34.901934Z",
     "start_time": "2021-04-02T01:21:34.784902Z"
    }
   },
   "outputs": [
    {
     "data": {
      "text/plain": [
       "42540      Jan-2017\n",
       "42568      Apr-2016\n",
       "42569      Dec-2016\n",
       "42575      Jul-2016\n",
       "42592      Feb-2014\n",
       "             ...   \n",
       "2925341    Apr-2020\n",
       "2925435    Aug-2017\n",
       "2925457    Aug-2018\n",
       "2925462    Aug-2017\n",
       "2925478    Jan-2018\n",
       "Name: last_pymnt_d, Length: 175487, dtype: object"
      ]
     },
     "execution_count": 122,
     "metadata": {},
     "output_type": "execute_result"
    }
   ],
   "source": [
    "pre_covid[pre_covid['mths_since_recent_inq'].isna() == True]['last_pymnt_d']"
   ]
  },
  {
   "cell_type": "code",
   "execution_count": 101,
   "metadata": {
    "ExecuteTime": {
     "end_time": "2021-04-02T00:49:03.913734Z",
     "start_time": "2021-04-02T00:49:03.902737Z"
    }
   },
   "outputs": [],
   "source": [
    "covid_start = pd.to_datetime('2020-03')"
   ]
  },
  {
   "cell_type": "code",
   "execution_count": 51,
   "metadata": {
    "ExecuteTime": {
     "end_time": "2021-04-02T00:25:22.280134Z",
     "start_time": "2021-04-02T00:25:22.139306Z"
    }
   },
   "outputs": [
    {
     "data": {
      "text/plain": [
       "count      1741002\n",
       "unique          99\n",
       "top       May-2020\n",
       "freq        524887\n",
       "Name: last_credit_pull_d, dtype: object"
      ]
     },
     "execution_count": 51,
     "metadata": {},
     "output_type": "execute_result"
    }
   ],
   "source": [
    "clean.last_credit_pull_d"
   ]
  },
  {
   "cell_type": "code",
   "execution_count": 53,
   "metadata": {
    "ExecuteTime": {
     "end_time": "2021-04-02T00:26:19.580608Z",
     "start_time": "2021-04-02T00:26:19.419313Z"
    }
   },
   "outputs": [
    {
     "data": {
      "text/plain": [
       "2020-05-01    524887\n",
       "2020-03-01    101294\n",
       "2019-11-01     71323\n",
       "2020-01-01     71028\n",
       "2020-04-01     58979\n",
       "               ...  \n",
       "2012-11-01        27\n",
       "2012-10-01        14\n",
       "2013-01-01        12\n",
       "2012-09-01         2\n",
       "2012-08-01         1\n",
       "Name: last_credit_pull_d, Length: 99, dtype: int64"
      ]
     },
     "execution_count": 53,
     "metadata": {},
     "output_type": "execute_result"
    }
   ],
   "source": [
    "pd.to_datetime(clean.last_credit_pull_d).value_counts()"
   ]
  },
  {
   "cell_type": "code",
   "execution_count": 49,
   "metadata": {
    "ExecuteTime": {
     "end_time": "2021-04-02T00:24:04.041681Z",
     "start_time": "2021-04-02T00:24:03.939683Z"
    }
   },
   "outputs": [
    {
     "data": {
      "text/plain": [
       "May-2020    524887\n",
       "Mar-2020    101294\n",
       "Nov-2019     71323\n",
       "Jan-2020     71028\n",
       "Apr-2020     58979\n",
       "             ...  \n",
       "Nov-2012        27\n",
       "Oct-2012        14\n",
       "Jan-2013        12\n",
       "Sep-2012         2\n",
       "Aug-2012         1\n",
       "Name: last_credit_pull_d, Length: 99, dtype: int64"
      ]
     },
     "execution_count": 49,
     "metadata": {},
     "output_type": "execute_result"
    }
   ],
   "source": [
    "clean.last_credit_pull_d = pd.to_datetime(clean.last_credit_pull_d)"
   ]
  },
  {
   "cell_type": "code",
   "execution_count": 48,
   "metadata": {
    "ExecuteTime": {
     "end_time": "2021-04-02T00:23:25.411517Z",
     "start_time": "2021-04-02T00:23:21.540691Z"
    }
   },
   "outputs": [
    {
     "data": {
      "image/png": "[encoded data removed]",
      "text/plain": [
       "<Figure size 864x576 with 2 Axes>"
      ]
     },
     "metadata": {
      "needs_background": "light"
     },
     "output_type": "display_data"
    }
   ],
   "source": [
    "fig,axes = plt.subplots(1,2,figsize=(12,8))\n",
    "charge_off_rates = clean.groupby('mths_since_recent_inq')['loan_status'].value_counts(normalize=True).loc[:,'Charged Off']\n",
    "\n",
    "sns.barplot(x=charge_off_rates.index, y=charge_off_rates.values, color='royalblue', saturation=1,ax=axes[0])\n",
    "axes[0].set(xlabel='Months Since Recent Inquiry',ylabel='Charged Off %')\n",
    "\n",
    "charge_off_rates = clean.groupby('last_credit_pull_d')['loan_status'].value_counts(normalize=True).loc[:,'Charged Off']\n",
    "sns.barplot(x=charge_off_rates.index, y=charge_off_rates.values, color='royalblue', saturation=1,ax=axes[1])\n",
    "axes[1].set(xlabel='Last Credit Pull Date',ylabel='Charged Off %')\n",
    "\n",
    "\n",
    "plt.tight_layout()"
   ]
  },
  {
   "cell_type": "code",
   "execution_count": 44,
   "metadata": {
    "ExecuteTime": {
     "end_time": "2021-04-02T00:18:19.097697Z",
     "start_time": "2021-04-02T00:18:18.443321Z"
    }
   },
   "outputs": [
    {
     "data": {
      "image/png": "[encoded data removed]",
      "text/plain": [
       "<Figure size 864x576 with 1 Axes>"
      ]
     },
     "metadata": {
      "needs_background": "light"
     },
     "output_type": "display_data"
    }
   ],
   "source": [
    "fig,ax = plt.subplots(figsize=(12,8))\n",
    "charge_off_rates = clean.groupby('mths_since_recent_inq')['loan_status'].value_counts(normalize=True).loc[:,'Charged Off']\n",
    "sns.barplot(x=charge_off_rates.index, y=charge_off_rates.values, color='royalblue', saturation=1,)\n",
    "plt.xlabel('Months Since Recent Inquiry')\n",
    "plt.ylabel('Charged Off %')\n",
    "\n",
    "plt.tight_layout()"
   ]
  },
  {
   "cell_type": "code",
   "execution_count": null,
   "metadata": {},
   "outputs": [],
   "source": [
    "sns.lineplot(x='issue_d',y='mths_since_recent_inq',hue='loan_status',data = clean)"
   ]
  },
  {
   "cell_type": "code",
   "execution_count": null,
   "metadata": {},
   "outputs": [],
   "source": [
    "clean['issue_d'] = pd.to_datetime(clean['issue_d'])\n",
    "clean['issue_d']"
   ]
  },
  {
   "cell_type": "code",
   "execution_count": 221,
   "metadata": {
    "ExecuteTime": {
     "end_time": "2021-04-01T23:37:00.857361Z",
     "start_time": "2021-04-01T23:37:00.827362Z"
    }
   },
   "outputs": [
    {
     "ename": "TypeError",
     "evalue": "cannot astype a datetimelike from [datetime64[ns]] to [float64]",
     "output_type": "error",
     "traceback": [
      "\u001b[1;31m---------------------------------------------------------------------------\u001b[0m",
      "\u001b[1;31mTypeError\u001b[0m                                 Traceback (most recent call last)",
      "\u001b[1;32m<ipython-input-221-e057dc6c9ad0>\u001b[0m in \u001b[0;36m<module>\u001b[1;34m\u001b[0m\n\u001b[1;32m----> 1\u001b[1;33m \u001b[0mclean\u001b[0m\u001b[1;33m[\u001b[0m\u001b[1;34m'issue_d'\u001b[0m\u001b[1;33m]\u001b[0m\u001b[1;33m.\u001b[0m\u001b[0mastype\u001b[0m\u001b[1;33m(\u001b[0m\u001b[0mnp\u001b[0m\u001b[1;33m.\u001b[0m\u001b[0mfloat64\u001b[0m\u001b[1;33m)\u001b[0m\u001b[1;33m\u001b[0m\u001b[1;33m\u001b[0m\u001b[0m\n\u001b[0m",
      "\u001b[1;32m~\\anaconda3\\envs\\learn-env\\lib\\site-packages\\pandas\\core\\generic.py\u001b[0m in \u001b[0;36mastype\u001b[1;34m(self, dtype, copy, errors)\u001b[0m\n\u001b[0;32m   5544\u001b[0m         \u001b[1;32melse\u001b[0m\u001b[1;33m:\u001b[0m\u001b[1;33m\u001b[0m\u001b[1;33m\u001b[0m\u001b[0m\n\u001b[0;32m   5545\u001b[0m             \u001b[1;31m# else, only a single dtype is given\u001b[0m\u001b[1;33m\u001b[0m\u001b[1;33m\u001b[0m\u001b[1;33m\u001b[0m\u001b[0m\n\u001b[1;32m-> 5546\u001b[1;33m             \u001b[0mnew_data\u001b[0m \u001b[1;33m=\u001b[0m \u001b[0mself\u001b[0m\u001b[1;33m.\u001b[0m\u001b[0m_mgr\u001b[0m\u001b[1;33m.\u001b[0m\u001b[0mastype\u001b[0m\u001b[1;33m(\u001b[0m\u001b[0mdtype\u001b[0m\u001b[1;33m=\u001b[0m\u001b[0mdtype\u001b[0m\u001b[1;33m,\u001b[0m \u001b[0mcopy\u001b[0m\u001b[1;33m=\u001b[0m\u001b[0mcopy\u001b[0m\u001b[1;33m,\u001b[0m \u001b[0merrors\u001b[0m\u001b[1;33m=\u001b[0m\u001b[0merrors\u001b[0m\u001b[1;33m,\u001b[0m\u001b[1;33m)\u001b[0m\u001b[1;33m\u001b[0m\u001b[1;33m\u001b[0m\u001b[0m\n\u001b[0m\u001b[0;32m   5547\u001b[0m             \u001b[1;32mreturn\u001b[0m \u001b[0mself\u001b[0m\u001b[1;33m.\u001b[0m\u001b[0m_constructor\u001b[0m\u001b[1;33m(\u001b[0m\u001b[0mnew_data\u001b[0m\u001b[1;33m)\u001b[0m\u001b[1;33m.\u001b[0m\u001b[0m__finalize__\u001b[0m\u001b[1;33m(\u001b[0m\u001b[0mself\u001b[0m\u001b[1;33m,\u001b[0m \u001b[0mmethod\u001b[0m\u001b[1;33m=\u001b[0m\u001b[1;34m\"astype\"\u001b[0m\u001b[1;33m)\u001b[0m\u001b[1;33m\u001b[0m\u001b[1;33m\u001b[0m\u001b[0m\n\u001b[0;32m   5548\u001b[0m \u001b[1;33m\u001b[0m\u001b[0m\n",
      "\u001b[1;32m~\\anaconda3\\envs\\learn-env\\lib\\site-packages\\pandas\\core\\internals\\managers.py\u001b[0m in \u001b[0;36mastype\u001b[1;34m(self, dtype, copy, errors)\u001b[0m\n\u001b[0;32m    593\u001b[0m         \u001b[0mself\u001b[0m\u001b[1;33m,\u001b[0m \u001b[0mdtype\u001b[0m\u001b[1;33m,\u001b[0m \u001b[0mcopy\u001b[0m\u001b[1;33m:\u001b[0m \u001b[0mbool\u001b[0m \u001b[1;33m=\u001b[0m \u001b[1;32mFalse\u001b[0m\u001b[1;33m,\u001b[0m \u001b[0merrors\u001b[0m\u001b[1;33m:\u001b[0m \u001b[0mstr\u001b[0m \u001b[1;33m=\u001b[0m \u001b[1;34m\"raise\"\u001b[0m\u001b[1;33m\u001b[0m\u001b[1;33m\u001b[0m\u001b[0m\n\u001b[0;32m    594\u001b[0m     ) -> \"BlockManager\":\n\u001b[1;32m--> 595\u001b[1;33m         \u001b[1;32mreturn\u001b[0m \u001b[0mself\u001b[0m\u001b[1;33m.\u001b[0m\u001b[0mapply\u001b[0m\u001b[1;33m(\u001b[0m\u001b[1;34m\"astype\"\u001b[0m\u001b[1;33m,\u001b[0m \u001b[0mdtype\u001b[0m\u001b[1;33m=\u001b[0m\u001b[0mdtype\u001b[0m\u001b[1;33m,\u001b[0m \u001b[0mcopy\u001b[0m\u001b[1;33m=\u001b[0m\u001b[0mcopy\u001b[0m\u001b[1;33m,\u001b[0m \u001b[0merrors\u001b[0m\u001b[1;33m=\u001b[0m\u001b[0merrors\u001b[0m\u001b[1;33m)\u001b[0m\u001b[1;33m\u001b[0m\u001b[1;33m\u001b[0m\u001b[0m\n\u001b[0m\u001b[0;32m    596\u001b[0m \u001b[1;33m\u001b[0m\u001b[0m\n\u001b[0;32m    597\u001b[0m     def convert(\n",
      "\u001b[1;32m~\\anaconda3\\envs\\learn-env\\lib\\site-packages\\pandas\\core\\internals\\managers.py\u001b[0m in \u001b[0;36mapply\u001b[1;34m(self, f, align_keys, **kwargs)\u001b[0m\n\u001b[0;32m    404\u001b[0m                 \u001b[0mapplied\u001b[0m \u001b[1;33m=\u001b[0m \u001b[0mb\u001b[0m\u001b[1;33m.\u001b[0m\u001b[0mapply\u001b[0m\u001b[1;33m(\u001b[0m\u001b[0mf\u001b[0m\u001b[1;33m,\u001b[0m \u001b[1;33m**\u001b[0m\u001b[0mkwargs\u001b[0m\u001b[1;33m)\u001b[0m\u001b[1;33m\u001b[0m\u001b[1;33m\u001b[0m\u001b[0m\n\u001b[0;32m    405\u001b[0m             \u001b[1;32melse\u001b[0m\u001b[1;33m:\u001b[0m\u001b[1;33m\u001b[0m\u001b[1;33m\u001b[0m\u001b[0m\n\u001b[1;32m--> 406\u001b[1;33m                 \u001b[0mapplied\u001b[0m \u001b[1;33m=\u001b[0m \u001b[0mgetattr\u001b[0m\u001b[1;33m(\u001b[0m\u001b[0mb\u001b[0m\u001b[1;33m,\u001b[0m \u001b[0mf\u001b[0m\u001b[1;33m)\u001b[0m\u001b[1;33m(\u001b[0m\u001b[1;33m**\u001b[0m\u001b[0mkwargs\u001b[0m\u001b[1;33m)\u001b[0m\u001b[1;33m\u001b[0m\u001b[1;33m\u001b[0m\u001b[0m\n\u001b[0m\u001b[0;32m    407\u001b[0m             \u001b[0mresult_blocks\u001b[0m \u001b[1;33m=\u001b[0m \u001b[0m_extend_blocks\u001b[0m\u001b[1;33m(\u001b[0m\u001b[0mapplied\u001b[0m\u001b[1;33m,\u001b[0m \u001b[0mresult_blocks\u001b[0m\u001b[1;33m)\u001b[0m\u001b[1;33m\u001b[0m\u001b[1;33m\u001b[0m\u001b[0m\n\u001b[0;32m    408\u001b[0m \u001b[1;33m\u001b[0m\u001b[0m\n",
      "\u001b[1;32m~\\anaconda3\\envs\\learn-env\\lib\\site-packages\\pandas\\core\\internals\\blocks.py\u001b[0m in \u001b[0;36mastype\u001b[1;34m(self, dtype, copy, errors)\u001b[0m\n\u001b[0;32m   2098\u001b[0m \u001b[1;33m\u001b[0m\u001b[0m\n\u001b[0;32m   2099\u001b[0m         \u001b[1;31m# delegate\u001b[0m\u001b[1;33m\u001b[0m\u001b[1;33m\u001b[0m\u001b[1;33m\u001b[0m\u001b[0m\n\u001b[1;32m-> 2100\u001b[1;33m         \u001b[1;32mreturn\u001b[0m \u001b[0msuper\u001b[0m\u001b[1;33m(\u001b[0m\u001b[1;33m)\u001b[0m\u001b[1;33m.\u001b[0m\u001b[0mastype\u001b[0m\u001b[1;33m(\u001b[0m\u001b[0mdtype\u001b[0m\u001b[1;33m=\u001b[0m\u001b[0mdtype\u001b[0m\u001b[1;33m,\u001b[0m \u001b[0mcopy\u001b[0m\u001b[1;33m=\u001b[0m\u001b[0mcopy\u001b[0m\u001b[1;33m,\u001b[0m \u001b[0merrors\u001b[0m\u001b[1;33m=\u001b[0m\u001b[0merrors\u001b[0m\u001b[1;33m)\u001b[0m\u001b[1;33m\u001b[0m\u001b[1;33m\u001b[0m\u001b[0m\n\u001b[0m\u001b[0;32m   2101\u001b[0m \u001b[1;33m\u001b[0m\u001b[0m\n\u001b[0;32m   2102\u001b[0m     \u001b[1;32mdef\u001b[0m \u001b[0m_can_hold_element\u001b[0m\u001b[1;33m(\u001b[0m\u001b[0mself\u001b[0m\u001b[1;33m,\u001b[0m \u001b[0melement\u001b[0m\u001b[1;33m:\u001b[0m \u001b[0mAny\u001b[0m\u001b[1;33m)\u001b[0m \u001b[1;33m->\u001b[0m \u001b[0mbool\u001b[0m\u001b[1;33m:\u001b[0m\u001b[1;33m\u001b[0m\u001b[1;33m\u001b[0m\u001b[0m\n",
      "\u001b[1;32m~\\anaconda3\\envs\\learn-env\\lib\\site-packages\\pandas\\core\\internals\\blocks.py\u001b[0m in \u001b[0;36mastype\u001b[1;34m(self, dtype, copy, errors)\u001b[0m\n\u001b[0;32m    593\u001b[0m             \u001b[0mvals1d\u001b[0m \u001b[1;33m=\u001b[0m \u001b[0mvalues\u001b[0m\u001b[1;33m.\u001b[0m\u001b[0mravel\u001b[0m\u001b[1;33m(\u001b[0m\u001b[1;33m)\u001b[0m\u001b[1;33m\u001b[0m\u001b[1;33m\u001b[0m\u001b[0m\n\u001b[0;32m    594\u001b[0m             \u001b[1;32mtry\u001b[0m\u001b[1;33m:\u001b[0m\u001b[1;33m\u001b[0m\u001b[1;33m\u001b[0m\u001b[0m\n\u001b[1;32m--> 595\u001b[1;33m                 \u001b[0mvalues\u001b[0m \u001b[1;33m=\u001b[0m \u001b[0mastype_nansafe\u001b[0m\u001b[1;33m(\u001b[0m\u001b[0mvals1d\u001b[0m\u001b[1;33m,\u001b[0m \u001b[0mdtype\u001b[0m\u001b[1;33m,\u001b[0m \u001b[0mcopy\u001b[0m\u001b[1;33m=\u001b[0m\u001b[1;32mTrue\u001b[0m\u001b[1;33m)\u001b[0m\u001b[1;33m\u001b[0m\u001b[1;33m\u001b[0m\u001b[0m\n\u001b[0m\u001b[0;32m    596\u001b[0m             \u001b[1;32mexcept\u001b[0m \u001b[1;33m(\u001b[0m\u001b[0mValueError\u001b[0m\u001b[1;33m,\u001b[0m \u001b[0mTypeError\u001b[0m\u001b[1;33m)\u001b[0m\u001b[1;33m:\u001b[0m\u001b[1;33m\u001b[0m\u001b[1;33m\u001b[0m\u001b[0m\n\u001b[0;32m    597\u001b[0m                 \u001b[1;31m# e.g. astype_nansafe can fail on object-dtype of strings\u001b[0m\u001b[1;33m\u001b[0m\u001b[1;33m\u001b[0m\u001b[1;33m\u001b[0m\u001b[0m\n",
      "\u001b[1;32m~\\anaconda3\\envs\\learn-env\\lib\\site-packages\\pandas\\core\\dtypes\\cast.py\u001b[0m in \u001b[0;36mastype_nansafe\u001b[1;34m(arr, dtype, copy, skipna)\u001b[0m\n\u001b[0;32m    937\u001b[0m             \u001b[1;32mreturn\u001b[0m \u001b[0marr\u001b[0m\u001b[1;33m.\u001b[0m\u001b[0mastype\u001b[0m\u001b[1;33m(\u001b[0m\u001b[0mdtype\u001b[0m\u001b[1;33m)\u001b[0m\u001b[1;33m\u001b[0m\u001b[1;33m\u001b[0m\u001b[0m\n\u001b[0;32m    938\u001b[0m \u001b[1;33m\u001b[0m\u001b[0m\n\u001b[1;32m--> 939\u001b[1;33m         \u001b[1;32mraise\u001b[0m \u001b[0mTypeError\u001b[0m\u001b[1;33m(\u001b[0m\u001b[1;34mf\"cannot astype a datetimelike from [{arr.dtype}] to [{dtype}]\"\u001b[0m\u001b[1;33m)\u001b[0m\u001b[1;33m\u001b[0m\u001b[1;33m\u001b[0m\u001b[0m\n\u001b[0m\u001b[0;32m    940\u001b[0m \u001b[1;33m\u001b[0m\u001b[0m\n\u001b[0;32m    941\u001b[0m     \u001b[1;32melif\u001b[0m \u001b[0mis_timedelta64_dtype\u001b[0m\u001b[1;33m(\u001b[0m\u001b[0marr\u001b[0m\u001b[1;33m)\u001b[0m\u001b[1;33m:\u001b[0m\u001b[1;33m\u001b[0m\u001b[1;33m\u001b[0m\u001b[0m\n",
      "\u001b[1;31mTypeError\u001b[0m: cannot astype a datetimelike from [datetime64[ns]] to [float64]"
     ]
    }
   ],
   "source": [
    "clean['issue_d'].astype(np.float64)"
   ]
  },
  {
   "cell_type": "code",
   "execution_count": 224,
   "metadata": {
    "ExecuteTime": {
     "end_time": "2021-04-01T23:38:14.189546Z",
     "start_time": "2021-04-01T23:38:14.180542Z"
    }
   },
   "outputs": [
    {
     "data": {
      "text/plain": [
       "1741063"
      ]
     },
     "execution_count": 224,
     "metadata": {},
     "output_type": "execute_result"
    }
   ],
   "source": [
    "len(clean)"
   ]
  },
  {
   "cell_type": "code",
   "execution_count": 239,
   "metadata": {
    "ExecuteTime": {
     "end_time": "2021-04-01T23:44:50.841964Z",
     "start_time": "2021-04-01T23:44:50.830947Z"
    }
   },
   "outputs": [
    {
     "data": {
      "text/plain": [
       "Timestamp('2020-03-01 00:00:00')"
      ]
     },
     "execution_count": 239,
     "metadata": {},
     "output_type": "execute_result"
    }
   ],
   "source": [
    "covid_start = pd.to_datetime('2020-3',format='%Y/%m')\n",
    "covid_start"
   ]
  },
  {
   "cell_type": "code",
   "execution_count": 229,
   "metadata": {
    "ExecuteTime": {
     "end_time": "2021-04-01T23:41:55.054356Z",
     "start_time": "2021-04-01T23:41:55.043358Z"
    }
   },
   "outputs": [
    {
     "data": {
      "text/plain": [
       "42536      True\n",
       "42537      True\n",
       "42538      True\n",
       "42539      True\n",
       "42540      True\n",
       "           ... \n",
       "2925488    True\n",
       "2925489    True\n",
       "2925490    True\n",
       "2925491    True\n",
       "2925492    True\n",
       "Name: issue_d, Length: 1741063, dtype: bool"
      ]
     },
     "execution_count": 229,
     "metadata": {},
     "output_type": "execute_result"
    }
   ],
   "source": [
    "clean['issue_d'] > covid_start"
   ]
  },
  {
   "cell_type": "code",
   "execution_count": null,
   "metadata": {},
   "outputs": [],
   "source": [
    "mask = (clean['issue_d'] > covid_start)"
   ]
  },
  {
   "cell_type": "code",
   "execution_count": 245,
   "metadata": {
    "ExecuteTime": {
     "end_time": "2021-04-01T23:46:58.910248Z",
     "start_time": "2021-04-01T23:46:50.466551Z"
    }
   },
   "outputs": [
    {
     "data": {
      "text/plain": [
       "42536      2013-12-01 00:00:00\n",
       "42537      2013-12-01 00:00:00\n",
       "42538      2013-12-01 00:00:00\n",
       "42539      2013-12-01 00:00:00\n",
       "42540      2013-12-01 00:00:00\n",
       "                  ...         \n",
       "2925488    2017-04-01 00:00:00\n",
       "2925489    2017-04-01 00:00:00\n",
       "2925490    2017-04-01 00:00:00\n",
       "2925491    2017-04-01 00:00:00\n",
       "2925492    2017-04-01 00:00:00\n",
       "Name: issue_d, Length: 1741063, dtype: object"
      ]
     },
     "execution_count": 245,
     "metadata": {},
     "output_type": "execute_result"
    }
   ],
   "source": [
    "clean['issue_d'].map(lambda x: str(x))"
   ]
  },
  {
   "cell_type": "code",
   "execution_count": 244,
   "metadata": {
    "ExecuteTime": {
     "end_time": "2021-04-01T23:46:22.783622Z",
     "start_time": "2021-04-01T23:46:22.771593Z"
    }
   },
   "outputs": [
    {
     "data": {
      "text/plain": [
       "42536   2013-12-01\n",
       "42537   2013-12-01\n",
       "42538   2013-12-01\n",
       "42539   2013-12-01\n",
       "42540   2013-12-01\n",
       "           ...    \n",
       "44564   2013-12-01\n",
       "44566   2013-12-01\n",
       "44567   2013-12-01\n",
       "44568   2013-12-01\n",
       "44569   2013-12-01\n",
       "Name: issue_d, Length: 2020, dtype: datetime64[ns]"
      ]
     },
     "execution_count": 244,
     "metadata": {},
     "output_type": "execute_result"
    }
   ],
   "source": [
    "clean['issue_d'][:2020]"
   ]
  },
  {
   "cell_type": "code",
   "execution_count": 223,
   "metadata": {
    "ExecuteTime": {
     "end_time": "2021-04-01T23:37:41.006849Z",
     "start_time": "2021-04-01T23:37:40.988857Z"
    }
   },
   "outputs": [
    {
     "data": {
      "text/plain": [
       "1737029"
      ]
     },
     "execution_count": 223,
     "metadata": {},
     "output_type": "execute_result"
    }
   ],
   "source": [
    "len(clean['issue_d'][3-2020:]) - len(clean['issue_d'][:2020-3])"
   ]
  },
  {
   "cell_type": "code",
   "execution_count": 209,
   "metadata": {
    "ExecuteTime": {
     "end_time": "2021-04-01T23:30:10.831892Z",
     "start_time": "2021-04-01T23:29:53.253263Z"
    }
   },
   "outputs": [
    {
     "data": {
      "text/plain": [
       "<AxesSubplot:xlabel='issue_d', ylabel='mths_since_recent_inq'>"
      ]
     },
     "execution_count": 209,
     "metadata": {},
     "output_type": "execute_result"
    },
    {
     "data": {
      "image/png": "[encoded data removed]",
      "text/plain": [
       "<Figure size 432x288 with 1 Axes>"
      ]
     },
     "metadata": {
      "needs_background": "light"
     },
     "output_type": "display_data"
    }
   ],
   "source": [
    "sns.lineplot(x='issue_d',y='mths_since_recent_inq',hue='loan_status',data = clean)"
   ]
  },
  {
   "cell_type": "code",
   "execution_count": 204,
   "metadata": {
    "ExecuteTime": {
     "end_time": "2021-04-01T23:25:19.366131Z",
     "start_time": "2021-04-01T23:25:19.326116Z"
    }
   },
   "outputs": [
    {
     "data": {
      "text/plain": [
       "3.0      86428\n",
       "2.0      84867\n",
       "4.0      82540\n",
       "5.0      77442\n",
       "6.0      72279\n",
       "         ...  \n",
       "494.0        1\n",
       "616.0        1\n",
       "615.0        1\n",
       "612.0        1\n",
       "510.0        1\n",
       "Name: mths_since_recent_bc, Length: 509, dtype: int64"
      ]
     },
     "execution_count": 204,
     "metadata": {},
     "output_type": "execute_result"
    }
   ],
   "source": [
    "clean['mths_since_recent_bc'].value_counts()"
   ]
  },
  {
   "cell_type": "code",
   "execution_count": 207,
   "metadata": {
    "ExecuteTime": {
     "end_time": "2021-04-01T23:26:32.035530Z",
     "start_time": "2021-04-01T23:26:32.005529Z"
    }
   },
   "outputs": [
    {
     "name": "stdout",
     "output_type": "stream",
     "text": [
      "id:A unique LC assigned ID for the loan listing.\n",
      "loan_amnt:The listed amount of the loan applied for by the borrower. If at some point in time, the credit department reduces the loan amount, then it will be reflected in this value.\n",
      "term:The number of payments on the loan. Values are in months and can be either 36 or 60.\n",
      "int_rate:Interest Rate on the loan\n",
      "installment:The monthly payment owed by the borrower if the loan originates.\n",
      "grade:LC assigned loan grade\n",
      "sub_grade:LC assigned loan subgrade\n",
      "emp_title:The job title supplied by the Borrower when applying for the loan.*\n",
      "emp_length:Employment length in years. Possible values are between 0 and 10 where 0 means less than one year and 10 means ten or more years. \n",
      "home_ownership:The home ownership status provided by the borrower during registration or obtained from the credit report. Our values are: RENT, OWN, MORTGAGE, OTHER\n",
      "annual_inc:The self-reported annual income provided by the borrower during registration.\n",
      "verification_status:Indicates if income was verified by LC, not verified, or if the income source was verified\n",
      "issue_d:The month which the loan was funded\n",
      "loan_status:Current status of the loan\n",
      "pymnt_plan:Indicates if a payment plan has been put in place for the loan\n",
      "purpose:A category provided by the borrower for the loan request. \n",
      "title:The loan title provided by the borrower\n",
      "zip_code:The first 3 numbers of the zip code provided by the borrower in the loan application.\n",
      "addr_state:The state provided by the borrower in the loan application\n",
      "dti:A ratio calculated using the borrower’s total monthly debt payments on the total debt obligations, excluding mortgage and the requested LC loan, divided by the borrower’s self-reported monthly income.\n",
      "delinq_2yrs:The number of 30+ days past-due incidences of delinquency in the borrower's credit file for the past 2 years\n",
      "earliest_cr_line:The month the borrower's earliest reported credit line was opened\n",
      "fico_range_low:The lower boundary range the borrower’s FICO at loan origination belongs to.\n",
      "fico_range_high:The upper boundary range the borrower’s FICO at loan origination belongs to.\n",
      "inq_last_6mths:The number of inquiries in past 6 months (excluding auto and mortgage inquiries)\n",
      "pub_rec:Number of derogatory public records\n",
      "revol_bal:Total credit revolving balance\n",
      "revol_util:Revolving line utilization rate, or the amount of credit the borrower is using relative to all available revolving credit.\n",
      "total_acc:The total number of credit lines currently in the borrower's credit file\n",
      "initial_list_status:The initial listing status of the loan. Possible values are – W, F\n",
      "out_prncp:Remaining outstanding principal for total amount funded\n",
      "total_pymnt:Payments received to date for total amount funded\n",
      "total_rec_prncp:Principal received to date\n",
      "total_rec_int:Interest received to date\n",
      "total_rec_late_fee:Late fees received to date\n",
      "recoveries:post charge off gross recovery\n",
      "last_pymnt_d:Last month payment was received\n",
      "last_pymnt_amnt:Last total payment amount received\n",
      "last_credit_pull_d:The most recent month LC pulled credit for this loan\n",
      "last_fico_range_high:The upper boundary range the borrower’s last FICO pulled belongs to.\n",
      "last_fico_range_low:The lower boundary range the borrower’s last FICO pulled belongs to.\n",
      "collections_12_mths_ex_med:Number of collections in 12 months excluding medical collections\n",
      "application_type:Indicates whether the loan is an individual application or a joint application with two co-borrowers\n",
      "acc_now_delinq:The number of accounts on which the borrower is now delinquent.\n",
      "tot_coll_amt:Total collection amounts ever owed\n",
      "tot_cur_bal:Total current balance of all accounts\n",
      "acc_open_past_24mths:Number of trades opened in past 24 months.\n",
      "avg_cur_bal:Average current balance of all accounts\n",
      "bc_util:Ratio of total current balance to high credit/credit limit for all bankcard accounts.\n",
      "chargeoff_within_12_mths:Number of charge-offs within 12 months\n",
      "delinq_amnt:The past-due amount owed for the accounts on which the borrower is now delinquent.\n",
      "mo_sin_old_il_acct:Months since oldest bank installment account opened\n",
      "mo_sin_old_rev_tl_op:Months since oldest revolving account opened\n",
      "mo_sin_rcnt_rev_tl_op:Months since most recent revolving account opened\n",
      "mo_sin_rcnt_tl:Months since most recent account opened\n",
      "mort_acc:Number of mortgage accounts.\n",
      "mths_since_recent_bc:Months since most recent bankcard account opened.\n",
      "mths_since_recent_inq:Months since most recent inquiry.\n",
      "num_accts_ever_120_pd:Number of accounts ever 120 or more days past due\n",
      "num_bc_sats:Number of satisfactory bankcard accounts\n",
      "num_bc_tl:Number of bankcard accounts\n",
      "num_il_tl:Number of installment accounts\n",
      "num_op_rev_tl:Number of open revolving accounts\n",
      "num_tl_120dpd_2m:Number of accounts currently 120 days past due (updated in past 2 months)\n",
      "num_tl_30dpd:Number of accounts currently 30 days past due (updated in past 2 months)\n",
      "num_tl_90g_dpd_24m:Number of accounts 90 or more days past due in last 24 months\n",
      "num_tl_op_past_12m:Number of accounts opened in past 12 months\n",
      "pct_tl_nvr_dlq:Percent of trades never delinquent\n",
      "pub_rec_bankruptcies:Number of public record bankruptcies\n",
      "tax_liens:Number of tax liens\n",
      "total_bal_ex_mort:Total credit balance excluding mortgage\n",
      "total_bc_limit:Total bankcard high credit/credit limit\n",
      "total_il_high_credit_limit:Total installment high credit/credit limit\n",
      "hardship_flag:Flags whether or not the borrower is on a hardship plan\n",
      "debt_settlement_flag:Flags whether or not the borrower, who has charged-off, is working with a debt-settlement company.\n"
     ]
    }
   ],
   "source": [
    "for col in clean.columns:\n",
    "    print('{}:{}'.format(col,column_info(col)))"
   ]
  },
  {
   "cell_type": "code",
   "execution_count": 202,
   "metadata": {
    "ExecuteTime": {
     "end_time": "2021-04-01T23:24:49.107786Z",
     "start_time": "2021-04-01T23:24:49.053188Z"
    }
   },
   "outputs": [
    {
     "data": {
      "text/plain": [
       "1.0     175362\n",
       "2.0     141979\n",
       "0.0     138840\n",
       "3.0     128557\n",
       "4.0     116646\n",
       "5.0     103285\n",
       "6.0      92447\n",
       "7.0      87528\n",
       "8.0      76644\n",
       "9.0      66982\n",
       "10.0     58944\n",
       "11.0     52694\n",
       "12.0     47308\n",
       "13.0     42272\n",
       "14.0     37289\n",
       "15.0     32325\n",
       "16.0     28383\n",
       "17.0     25278\n",
       "18.0     22475\n",
       "19.0     20221\n",
       "20.0     18134\n",
       "21.0     16421\n",
       "22.0     14884\n",
       "23.0     13811\n",
       "24.0      6773\n",
       "25.0        25\n",
       "Name: mths_since_recent_inq, dtype: int64"
      ]
     },
     "execution_count": 202,
     "metadata": {},
     "output_type": "execute_result"
    }
   ],
   "source": [
    "clean['mths_since_recent_inq'].value_counts()"
   ]
  },
  {
   "cell_type": "code",
   "execution_count": 159,
   "metadata": {
    "ExecuteTime": {
     "end_time": "2021-04-01T22:05:33.474503Z",
     "start_time": "2021-04-01T22:05:32.628277Z"
    }
   },
   "outputs": [
    {
     "data": {
      "image/png": "[encoded data removed]",
      "text/plain": [
       "<Figure size 864x576 with 1 Axes>"
      ]
     },
     "metadata": {
      "needs_background": "light"
     },
     "output_type": "display_data"
    }
   ],
   "source": [
    "fig,ax = plt.subplots(figsize=(12,8))\n",
    "charge_off_rates = df.groupby('mths_since_recent_inq')['loan_status'].value_counts(normalize=True).loc[:,'Charged Off']\n",
    "sns.barplot(x=charge_off_rates.index, y=charge_off_rates.values, color='royalblue', saturation=1,)\n",
    "plt.xlabel('Months Since Recent Inquiry')\n",
    "plt.ylabel('Charged Off %')\n",
    "\n",
    "plt.tight_layout()"
   ]
  },
  {
   "cell_type": "code",
   "execution_count": 96,
   "metadata": {
    "ExecuteTime": {
     "end_time": "2021-03-31T21:18:44.623223Z",
     "start_time": "2021-03-31T21:18:42.397357Z"
    }
   },
   "outputs": [],
   "source": [
    "df['int_rate'] =  df['int_rate'].map(lambda x: str(x).replace('%','')).astype(np.float16)"
   ]
  },
  {
   "cell_type": "code",
   "execution_count": 68,
   "metadata": {
    "ExecuteTime": {
     "end_time": "2021-03-31T21:05:57.917302Z",
     "start_time": "2021-03-31T21:05:57.266724Z"
    }
   },
   "outputs": [
    {
     "data": {
      "text/plain": [
       "0         2011-12-01\n",
       "1         2011-12-01\n",
       "2         2011-12-01\n",
       "3         2011-12-01\n",
       "4         2011-12-01\n",
       "             ...    \n",
       "2925488   2017-04-01\n",
       "2925489   2017-04-01\n",
       "2925490   2017-04-01\n",
       "2925491   2017-04-01\n",
       "2925492   2017-04-01\n",
       "Name: issue_d, Length: 2925493, dtype: datetime64[ns]"
      ]
     },
     "execution_count": 68,
     "metadata": {},
     "output_type": "execute_result"
    }
   ],
   "source": [
    "df['issue_d'] = pd.to_datetime(df['issue_d'])\n",
    "df['issue_d']"
   ]
  },
  {
   "cell_type": "code",
   "execution_count": 99,
   "metadata": {
    "ExecuteTime": {
     "end_time": "2021-03-31T21:20:44.455926Z",
     "start_time": "2021-03-31T21:20:09.203110Z"
    }
   },
   "outputs": [
    {
     "data": {
      "text/plain": [
       "<AxesSubplot:xlabel='issue_d', ylabel='int_rate'>"
      ]
     },
     "execution_count": 99,
     "metadata": {},
     "output_type": "execute_result"
    },
    {
     "data": {
      "image/png": "[encoded data removed]",
      "text/plain": [
       "<Figure size 1080x720 with 1 Axes>"
      ]
     },
     "metadata": {
      "needs_background": "light"
     },
     "output_type": "display_data"
    }
   ],
   "source": [
    "fig, ax = plt.subplots(figsize=(15,10))\n",
    "sns.lineplot(x='issue_d',y='int_rate',hue='loan_status' ,data=df,ax=ax)"
   ]
  },
  {
   "cell_type": "code",
   "execution_count": 67,
   "metadata": {
    "ExecuteTime": {
     "end_time": "2021-03-31T20:54:51.026972Z",
     "start_time": "2021-03-31T20:54:50.878735Z"
    }
   },
   "outputs": [
    {
     "data": {
      "text/plain": [
       "Fully Paid                                             1497783\n",
       "Current                                                1031016\n",
       "Charged Off                                             362548\n",
       "Late (31-120 days)                                       16154\n",
       "In Grace Period                                          10028\n",
       "Late (16-30 days)                                         2719\n",
       "Issued                                                    2062\n",
       "Does not meet the credit policy. Status:Fully Paid        1988\n",
       "Does not meet the credit policy. Status:Charged Off        761\n",
       "Default                                                    433\n",
       "Name: loan_status, dtype: int64"
      ]
     },
     "execution_count": 67,
     "metadata": {},
     "output_type": "execute_result"
    }
   ],
   "source": [
    "df['loan_status'].value_counts()"
   ]
  },
  {
   "cell_type": "code",
   "execution_count": 65,
   "metadata": {
    "ExecuteTime": {
     "end_time": "2021-03-31T20:53:03.039167Z",
     "start_time": "2021-03-31T20:53:02.878306Z"
    }
   },
   "outputs": [],
   "source": [
    "loan_statuses = list(df['loan_status'].value_counts().index)"
   ]
  },
  {
   "cell_type": "code",
   "execution_count": 66,
   "metadata": {
    "ExecuteTime": {
     "end_time": "2021-03-31T20:53:11.157717Z",
     "start_time": "2021-03-31T20:53:11.149749Z"
    }
   },
   "outputs": [
    {
     "data": {
      "text/plain": [
       "['Fully Paid',\n",
       " 'Current',\n",
       " 'Charged Off',\n",
       " 'Late (31-120 days)',\n",
       " 'In Grace Period',\n",
       " 'Late (16-30 days)',\n",
       " 'Issued',\n",
       " 'Does not meet the credit policy. Status:Fully Paid',\n",
       " 'Does not meet the credit policy. Status:Charged Off',\n",
       " 'Default']"
      ]
     },
     "execution_count": 66,
     "metadata": {},
     "output_type": "execute_result"
    }
   ],
   "source": [
    "loan_statuses"
   ]
  },
  {
   "cell_type": "code",
   "execution_count": null,
   "metadata": {},
   "outputs": [],
   "source": [
    "df.loc[df['loan_status'].isin(['Fully Paid','Charged Off'])]"
   ]
  },
  {
   "cell_type": "code",
   "execution_count": null,
   "metadata": {},
   "outputs": [],
   "source": [
    "df['loan_status']"
   ]
  },
  {
   "cell_type": "code",
   "execution_count": 46,
   "metadata": {
    "ExecuteTime": {
     "end_time": "2021-03-31T17:16:24.590234Z",
     "start_time": "2021-03-31T17:16:19.641237Z"
    }
   },
   "outputs": [],
   "source": [
    "d10 = dict((k,v) for k,v in normalized_nans(df).items() if v >=.10)"
   ]
  },
  {
   "cell_type": "code",
   "execution_count": 47,
   "metadata": {
    "ExecuteTime": {
     "end_time": "2021-03-31T17:16:28.680264Z",
     "start_time": "2021-03-31T17:16:28.657269Z"
    }
   },
   "outputs": [],
   "source": [
    "nansdf10 = pd.DataFrame(data=d10.values(),columns=['%_rows_with_NaN'],index=d10.keys()).sort_values('%_rows_with_NaN',ascending=True)"
   ]
  },
  {
   "cell_type": "code",
   "execution_count": 48,
   "metadata": {
    "ExecuteTime": {
     "end_time": "2021-03-31T17:16:30.140262Z",
     "start_time": "2021-03-31T17:16:29.906268Z"
    }
   },
   "outputs": [
    {
     "data": {
      "text/plain": [
       "(array([ 0,  1,  2,  3,  4,  5,  6,  7,  8,  9, 10, 11, 12]),\n",
       " [Text(0, 0, 'mths_since_recent_inq'),\n",
       "  Text(0, 1, 'open_acc_6m'),\n",
       "  Text(0, 2, 'open_act_il'),\n",
       "  Text(0, 3, 'open_il_12m'),\n",
       "  Text(0, 4, 'open_il_24m'),\n",
       "  Text(0, 5, 'total_bal_il'),\n",
       "  Text(0, 6, 'open_rv_12m'),\n",
       "  Text(0, 7, 'open_rv_24m'),\n",
       "  Text(0, 8, 'max_bal_bc'),\n",
       "  Text(0, 9, 'inq_fi'),\n",
       "  Text(0, 10, 'total_cu_tl'),\n",
       "  Text(0, 11, 'inq_last_12m'),\n",
       "  Text(0, 12, 'all_util')])"
      ]
     },
     "execution_count": 48,
     "metadata": {},
     "output_type": "execute_result"
    },
    {
     "data": {
      "image/png": "[encoded data removed]",
      "text/plain": [
       "<Figure size 1080x1008 with 1 Axes>"
      ]
     },
     "metadata": {
      "needs_background": "light"
     },
     "output_type": "display_data"
    }
   ],
   "source": [
    "fig,ax = plt.subplots(figsize=(15,14))\n",
    "sns.barplot(y=nansdf10.index,x='%_rows_with_NaN',data=nansdf10,color='dodgerblue')\n",
    "plt.xlim(0,1)\n",
    "plt.xticks(np.linspace(0,1,11))\n",
    "plt.title('Features with Missing Values over 10 < 30%')\n",
    "plt.yticks(fontsize=15)"
   ]
  },
  {
   "cell_type": "code",
   "execution_count": 49,
   "metadata": {
    "ExecuteTime": {
     "end_time": "2021-03-31T17:16:39.202441Z",
     "start_time": "2021-03-31T17:16:39.185474Z"
    },
    "scrolled": false
   },
   "outputs": [
    {
     "name": "stdout",
     "output_type": "stream",
     "text": [
      "0: open_acc_6m, Number of open trades in last 6 months\n",
      "1: open_act_il, Number of currently active installment trades\n",
      "2: open_il_12m, Number of installment accounts opened in past 12 months\n",
      "3: open_il_24m, Number of installment accounts opened in past 24 months\n",
      "4: total_bal_il, Total current balance of all installment accounts\n",
      "5: open_rv_12m, Number of revolving trades opened in past 12 months\n",
      "6: open_rv_24m, Number of revolving trades opened in past 24 months\n",
      "7: max_bal_bc, Maximum current balance owed on all revolving accounts\n",
      "8: all_util, Balance to credit limit on all trades\n",
      "9: inq_fi, Number of personal finance inquiries\n",
      "10: total_cu_tl, Number of finance trades\n",
      "11: inq_last_12m, Number of credit inquiries in past 12 months\n",
      "12: mths_since_recent_inq, Months since most recent inquiry.\n"
     ]
    }
   ],
   "source": [
    "for idx,key in enumerate(d10.keys()):\n",
    "    print('{}: {}, {}'.format(idx, key, column_info(key)))\n"
   ]
  },
  {
   "cell_type": "code",
   "execution_count": 134,
   "metadata": {
    "ExecuteTime": {
     "end_time": "2021-04-01T21:40:58.343137Z",
     "start_time": "2021-04-01T21:40:58.338173Z"
    }
   },
   "outputs": [],
   "source": [
    "pd.options.display.max_rows = 75"
   ]
  },
  {
   "cell_type": "markdown",
   "metadata": {},
   "source": [
    "## Freddie columns and df"
   ]
  },
  {
   "cell_type": "code",
   "execution_count": 16,
   "metadata": {
    "ExecuteTime": {
     "end_time": "2021-03-25T16:20:42.301241Z",
     "start_time": "2021-03-25T16:20:42.293213Z"
    }
   },
   "outputs": [],
   "source": [
    "columns = ['credit_score','first_payment_date','first_time_homebuyer_flag','maturity_date','metro_area','MI%','#_of_units','occupancy_status',\n",
    "          'original_combined_LTV','original_DTI','original_UPB','original_LTV','og_ir','channel','PPM_flag','product_type','property_state'\n",
    "           ,'property_type','postal_code','loan_sequence_number','loan_purpose','original_loan_term','#_of_borrowers','seller_name',\n",
    "           'servicer_name','super_conforming_flag','pre_harp_loan_sequence#','program_indicator','harp_indicator','property_valuation_method']"
   ]
  },
  {
   "cell_type": "code",
   "execution_count": 18,
   "metadata": {
    "ExecuteTime": {
     "end_time": "2021-03-25T16:21:16.639230Z",
     "start_time": "2021-03-25T16:21:16.630227Z"
    }
   },
   "outputs": [],
   "source": [
    "df.columns=columns"
   ]
  },
  {
   "cell_type": "code",
   "execution_count": 19,
   "metadata": {
    "ExecuteTime": {
     "end_time": "2021-03-25T16:21:19.012552Z",
     "start_time": "2021-03-25T16:21:18.830517Z"
    }
   },
   "outputs": [
    {
     "data": {
      "text/html": [
       "<div>\n",
       "<style scoped>\n",
       "    .dataframe tbody tr th:only-of-type {\n",
       "        vertical-align: middle;\n",
       "    }\n",
       "\n",
       "    .dataframe tbody tr th {\n",
       "        vertical-align: top;\n",
       "    }\n",
       "\n",
       "    .dataframe thead th {\n",
       "        text-align: right;\n",
       "    }\n",
       "</style>\n",
       "<table border=\"1\" class=\"dataframe\">\n",
       "  <thead>\n",
       "    <tr style=\"text-align: right;\">\n",
       "      <th></th>\n",
       "      <th>credit_score</th>\n",
       "      <th>first_payment_date</th>\n",
       "      <th>first_time_homebuyer_flag</th>\n",
       "      <th>maturity_date</th>\n",
       "      <th>metro_area</th>\n",
       "      <th>MI%</th>\n",
       "      <th>#_of_units</th>\n",
       "      <th>occupancy_status</th>\n",
       "      <th>original_combined_LTV</th>\n",
       "      <th>original_DTI</th>\n",
       "      <th>...</th>\n",
       "      <th>loan_purpose</th>\n",
       "      <th>original_loan_term</th>\n",
       "      <th>#_of_borrowers</th>\n",
       "      <th>seller_name</th>\n",
       "      <th>servicer_name</th>\n",
       "      <th>super_conforming_flag</th>\n",
       "      <th>pre_harp_loan_sequence#</th>\n",
       "      <th>program_indicator</th>\n",
       "      <th>harp_indicator</th>\n",
       "      <th>property_valuation_method</th>\n",
       "    </tr>\n",
       "  </thead>\n",
       "  <tbody>\n",
       "    <tr>\n",
       "      <th>0</th>\n",
       "      <td>768</td>\n",
       "      <td>201905</td>\n",
       "      <td>N</td>\n",
       "      <td>204904</td>\n",
       "      <td>22020.0</td>\n",
       "      <td>0</td>\n",
       "      <td>1</td>\n",
       "      <td>P</td>\n",
       "      <td>52</td>\n",
       "      <td>36</td>\n",
       "      <td>...</td>\n",
       "      <td>P</td>\n",
       "      <td>360</td>\n",
       "      <td>2</td>\n",
       "      <td>Other sellers</td>\n",
       "      <td>Other servicers</td>\n",
       "      <td>NaN</td>\n",
       "      <td>NaN</td>\n",
       "      <td>9</td>\n",
       "      <td>NaN</td>\n",
       "      <td>2</td>\n",
       "    </tr>\n",
       "    <tr>\n",
       "      <th>1</th>\n",
       "      <td>798</td>\n",
       "      <td>201903</td>\n",
       "      <td>Y</td>\n",
       "      <td>204902</td>\n",
       "      <td>31084.0</td>\n",
       "      <td>0</td>\n",
       "      <td>1</td>\n",
       "      <td>P</td>\n",
       "      <td>80</td>\n",
       "      <td>49</td>\n",
       "      <td>...</td>\n",
       "      <td>P</td>\n",
       "      <td>360</td>\n",
       "      <td>1</td>\n",
       "      <td>Other sellers</td>\n",
       "      <td>Other servicers</td>\n",
       "      <td>NaN</td>\n",
       "      <td>NaN</td>\n",
       "      <td>9</td>\n",
       "      <td>NaN</td>\n",
       "      <td>2</td>\n",
       "    </tr>\n",
       "    <tr>\n",
       "      <th>2</th>\n",
       "      <td>789</td>\n",
       "      <td>201904</td>\n",
       "      <td>9</td>\n",
       "      <td>202903</td>\n",
       "      <td>45780.0</td>\n",
       "      <td>0</td>\n",
       "      <td>1</td>\n",
       "      <td>P</td>\n",
       "      <td>39</td>\n",
       "      <td>43</td>\n",
       "      <td>...</td>\n",
       "      <td>C</td>\n",
       "      <td>120</td>\n",
       "      <td>1</td>\n",
       "      <td>Other sellers</td>\n",
       "      <td>PNC BANK, NA</td>\n",
       "      <td>NaN</td>\n",
       "      <td>NaN</td>\n",
       "      <td>9</td>\n",
       "      <td>NaN</td>\n",
       "      <td>2</td>\n",
       "    </tr>\n",
       "    <tr>\n",
       "      <th>3</th>\n",
       "      <td>782</td>\n",
       "      <td>201903</td>\n",
       "      <td>N</td>\n",
       "      <td>204902</td>\n",
       "      <td>24260.0</td>\n",
       "      <td>0</td>\n",
       "      <td>1</td>\n",
       "      <td>P</td>\n",
       "      <td>80</td>\n",
       "      <td>26</td>\n",
       "      <td>...</td>\n",
       "      <td>P</td>\n",
       "      <td>360</td>\n",
       "      <td>2</td>\n",
       "      <td>Other sellers</td>\n",
       "      <td>Other servicers</td>\n",
       "      <td>NaN</td>\n",
       "      <td>NaN</td>\n",
       "      <td>9</td>\n",
       "      <td>NaN</td>\n",
       "      <td>2</td>\n",
       "    </tr>\n",
       "    <tr>\n",
       "      <th>4</th>\n",
       "      <td>773</td>\n",
       "      <td>201905</td>\n",
       "      <td>9</td>\n",
       "      <td>204904</td>\n",
       "      <td>NaN</td>\n",
       "      <td>0</td>\n",
       "      <td>1</td>\n",
       "      <td>P</td>\n",
       "      <td>80</td>\n",
       "      <td>27</td>\n",
       "      <td>...</td>\n",
       "      <td>C</td>\n",
       "      <td>360</td>\n",
       "      <td>1</td>\n",
       "      <td>Other sellers</td>\n",
       "      <td>Other servicers</td>\n",
       "      <td>NaN</td>\n",
       "      <td>NaN</td>\n",
       "      <td>9</td>\n",
       "      <td>NaN</td>\n",
       "      <td>2</td>\n",
       "    </tr>\n",
       "    <tr>\n",
       "      <th>...</th>\n",
       "      <td>...</td>\n",
       "      <td>...</td>\n",
       "      <td>...</td>\n",
       "      <td>...</td>\n",
       "      <td>...</td>\n",
       "      <td>...</td>\n",
       "      <td>...</td>\n",
       "      <td>...</td>\n",
       "      <td>...</td>\n",
       "      <td>...</td>\n",
       "      <td>...</td>\n",
       "      <td>...</td>\n",
       "      <td>...</td>\n",
       "      <td>...</td>\n",
       "      <td>...</td>\n",
       "      <td>...</td>\n",
       "      <td>...</td>\n",
       "      <td>...</td>\n",
       "      <td>...</td>\n",
       "      <td>...</td>\n",
       "      <td>...</td>\n",
       "    </tr>\n",
       "    <tr>\n",
       "      <th>265508</th>\n",
       "      <td>770</td>\n",
       "      <td>202009</td>\n",
       "      <td>9</td>\n",
       "      <td>205008</td>\n",
       "      <td>12260.0</td>\n",
       "      <td>25</td>\n",
       "      <td>1</td>\n",
       "      <td>P</td>\n",
       "      <td>86</td>\n",
       "      <td>21</td>\n",
       "      <td>...</td>\n",
       "      <td>N</td>\n",
       "      <td>360</td>\n",
       "      <td>2</td>\n",
       "      <td>Other sellers</td>\n",
       "      <td>Other servicers</td>\n",
       "      <td>NaN</td>\n",
       "      <td>NaN</td>\n",
       "      <td>9</td>\n",
       "      <td>NaN</td>\n",
       "      <td>2</td>\n",
       "    </tr>\n",
       "    <tr>\n",
       "      <th>265509</th>\n",
       "      <td>741</td>\n",
       "      <td>202008</td>\n",
       "      <td>9</td>\n",
       "      <td>205007</td>\n",
       "      <td>49420.0</td>\n",
       "      <td>0</td>\n",
       "      <td>1</td>\n",
       "      <td>P</td>\n",
       "      <td>59</td>\n",
       "      <td>43</td>\n",
       "      <td>...</td>\n",
       "      <td>N</td>\n",
       "      <td>360</td>\n",
       "      <td>2</td>\n",
       "      <td>Other sellers</td>\n",
       "      <td>Other servicers</td>\n",
       "      <td>NaN</td>\n",
       "      <td>NaN</td>\n",
       "      <td>9</td>\n",
       "      <td>NaN</td>\n",
       "      <td>2</td>\n",
       "    </tr>\n",
       "    <tr>\n",
       "      <th>265510</th>\n",
       "      <td>711</td>\n",
       "      <td>202010</td>\n",
       "      <td>9</td>\n",
       "      <td>205009</td>\n",
       "      <td>24860.0</td>\n",
       "      <td>25</td>\n",
       "      <td>1</td>\n",
       "      <td>P</td>\n",
       "      <td>90</td>\n",
       "      <td>32</td>\n",
       "      <td>...</td>\n",
       "      <td>N</td>\n",
       "      <td>360</td>\n",
       "      <td>2</td>\n",
       "      <td>Other sellers</td>\n",
       "      <td>Other servicers</td>\n",
       "      <td>NaN</td>\n",
       "      <td>NaN</td>\n",
       "      <td>9</td>\n",
       "      <td>NaN</td>\n",
       "      <td>2</td>\n",
       "    </tr>\n",
       "    <tr>\n",
       "      <th>265511</th>\n",
       "      <td>793</td>\n",
       "      <td>202008</td>\n",
       "      <td>9</td>\n",
       "      <td>205007</td>\n",
       "      <td>NaN</td>\n",
       "      <td>30</td>\n",
       "      <td>1</td>\n",
       "      <td>P</td>\n",
       "      <td>94</td>\n",
       "      <td>50</td>\n",
       "      <td>...</td>\n",
       "      <td>N</td>\n",
       "      <td>360</td>\n",
       "      <td>1</td>\n",
       "      <td>Other sellers</td>\n",
       "      <td>Other servicers</td>\n",
       "      <td>NaN</td>\n",
       "      <td>NaN</td>\n",
       "      <td>9</td>\n",
       "      <td>NaN</td>\n",
       "      <td>2</td>\n",
       "    </tr>\n",
       "    <tr>\n",
       "      <th>265512</th>\n",
       "      <td>691</td>\n",
       "      <td>202008</td>\n",
       "      <td>9</td>\n",
       "      <td>205007</td>\n",
       "      <td>NaN</td>\n",
       "      <td>0</td>\n",
       "      <td>1</td>\n",
       "      <td>P</td>\n",
       "      <td>75</td>\n",
       "      <td>30</td>\n",
       "      <td>...</td>\n",
       "      <td>N</td>\n",
       "      <td>360</td>\n",
       "      <td>2</td>\n",
       "      <td>Other sellers</td>\n",
       "      <td>Other servicers</td>\n",
       "      <td>NaN</td>\n",
       "      <td>NaN</td>\n",
       "      <td>9</td>\n",
       "      <td>NaN</td>\n",
       "      <td>2</td>\n",
       "    </tr>\n",
       "  </tbody>\n",
       "</table>\n",
       "<p>265513 rows × 30 columns</p>\n",
       "</div>"
      ],
      "text/plain": [
       "        credit_score  first_payment_date first_time_homebuyer_flag  \\\n",
       "0                768              201905                         N   \n",
       "1                798              201903                         Y   \n",
       "2                789              201904                         9   \n",
       "3                782              201903                         N   \n",
       "4                773              201905                         9   \n",
       "...              ...                 ...                       ...   \n",
       "265508           770              202009                         9   \n",
       "265509           741              202008                         9   \n",
       "265510           711              202010                         9   \n",
       "265511           793              202008                         9   \n",
       "265512           691              202008                         9   \n",
       "\n",
       "        maturity_date  metro_area  MI%  #_of_units occupancy_status  \\\n",
       "0              204904     22020.0    0           1                P   \n",
       "1              204902     31084.0    0           1                P   \n",
       "2              202903     45780.0    0           1                P   \n",
       "3              204902     24260.0    0           1                P   \n",
       "4              204904         NaN    0           1                P   \n",
       "...               ...         ...  ...         ...              ...   \n",
       "265508         205008     12260.0   25           1                P   \n",
       "265509         205007     49420.0    0           1                P   \n",
       "265510         205009     24860.0   25           1                P   \n",
       "265511         205007         NaN   30           1                P   \n",
       "265512         205007         NaN    0           1                P   \n",
       "\n",
       "        original_combined_LTV  original_DTI  ...  loan_purpose  \\\n",
       "0                          52            36  ...             P   \n",
       "1                          80            49  ...             P   \n",
       "2                          39            43  ...             C   \n",
       "3                          80            26  ...             P   \n",
       "4                          80            27  ...             C   \n",
       "...                       ...           ...  ...           ...   \n",
       "265508                     86            21  ...             N   \n",
       "265509                     59            43  ...             N   \n",
       "265510                     90            32  ...             N   \n",
       "265511                     94            50  ...             N   \n",
       "265512                     75            30  ...             N   \n",
       "\n",
       "        original_loan_term  #_of_borrowers    seller_name    servicer_name  \\\n",
       "0                      360               2  Other sellers  Other servicers   \n",
       "1                      360               1  Other sellers  Other servicers   \n",
       "2                      120               1  Other sellers     PNC BANK, NA   \n",
       "3                      360               2  Other sellers  Other servicers   \n",
       "4                      360               1  Other sellers  Other servicers   \n",
       "...                    ...             ...            ...              ...   \n",
       "265508                 360               2  Other sellers  Other servicers   \n",
       "265509                 360               2  Other sellers  Other servicers   \n",
       "265510                 360               2  Other sellers  Other servicers   \n",
       "265511                 360               1  Other sellers  Other servicers   \n",
       "265512                 360               2  Other sellers  Other servicers   \n",
       "\n",
       "       super_conforming_flag pre_harp_loan_sequence# program_indicator  \\\n",
       "0                        NaN                     NaN                 9   \n",
       "1                        NaN                     NaN                 9   \n",
       "2                        NaN                     NaN                 9   \n",
       "3                        NaN                     NaN                 9   \n",
       "4                        NaN                     NaN                 9   \n",
       "...                      ...                     ...               ...   \n",
       "265508                   NaN                     NaN                 9   \n",
       "265509                   NaN                     NaN                 9   \n",
       "265510                   NaN                     NaN                 9   \n",
       "265511                   NaN                     NaN                 9   \n",
       "265512                   NaN                     NaN                 9   \n",
       "\n",
       "        harp_indicator property_valuation_method  \n",
       "0                  NaN                         2  \n",
       "1                  NaN                         2  \n",
       "2                  NaN                         2  \n",
       "3                  NaN                         2  \n",
       "4                  NaN                         2  \n",
       "...                ...                       ...  \n",
       "265508             NaN                         2  \n",
       "265509             NaN                         2  \n",
       "265510             NaN                         2  \n",
       "265511             NaN                         2  \n",
       "265512             NaN                         2  \n",
       "\n",
       "[265513 rows x 30 columns]"
      ]
     },
     "execution_count": 19,
     "metadata": {},
     "output_type": "execute_result"
    }
   ],
   "source": [
    "df\n"
   ]
  },
  {
   "cell_type": "code",
   "execution_count": null,
   "metadata": {},
   "outputs": [],
   "source": []
  }
 ],
 "metadata": {
  "kernelspec": {
   "display_name": "Python 3",
   "language": "python",
   "name": "python3"
  },
  "language_info": {
   "codemirror_mode": {
    "name": "ipython",
    "version": 3
   },
   "file_extension": ".py",
   "mimetype": "text/x-python",
   "name": "python",
   "nbconvert_exporter": "python",
   "pygments_lexer": "ipython3",
   "version": "3.8.5"
  },
  "latex_envs": {
   "LaTeX_envs_menu_present": true,
   "autoclose": false,
   "autocomplete": true,
   "bibliofile": "biblio.bib",
   "cite_by": "apalike",
   "current_citInitial": 1,
   "eqLabelWithNumbers": true,
   "eqNumInitial": 1,
   "hotkeys": {
    "equation": "Ctrl-E",
    "itemize": "Ctrl-I"
   },
   "labels_anchors": false,
   "latex_user_defs": false,
   "report_style_numbering": false,
   "user_envs_cfg": false
  },
  "toc": {
   "base_numbering": 1,
   "nav_menu": {},
   "number_sections": true,
   "sideBar": true,
   "skip_h1_title": false,
   "title_cell": "Table of Contents",
   "title_sidebar": "Contents",
   "toc_cell": false,
   "toc_position": {},
   "toc_section_display": true,
   "toc_window_display": false
  },
  "varInspector": {
   "cols": {
    "lenName": 16,
    "lenType": 16,
    "lenVar": 40
   },
   "kernels_config": {
    "python": {
     "delete_cmd_postfix": "",
     "delete_cmd_prefix": "del ",
     "library": "var_list.py",
     "varRefreshCmd": "print(var_dic_list())"
    },
    "r": {
     "delete_cmd_postfix": ") ",
     "delete_cmd_prefix": "rm(",
     "library": "var_list.r",
     "varRefreshCmd": "cat(var_dic_list()) "
    }
   },
   "position": {
    "height": "1197.2px",
    "left": "1466.11px",
    "right": "20px",
    "top": "120px",
    "width": "472.778px"
   },
   "types_to_exclude": [
    "module",
    "function",
    "builtin_function_or_method",
    "instance",
    "_Feature"
   ],
   "window_display": false
  }
 },
 "nbformat": 4,
 "nbformat_minor": 4
}
